{
 "cells": [
  {
   "cell_type": "markdown",
   "metadata": {},
   "source": [
    "# Importing and cleaning data\n",
    "This notebook will clean data from the California Department of Education for the analysis. Our goal is to merge all the data into a single cohesive geodataframe, which will happen in a subsequent notebook.  \n",
    "\n",
    " - lcff data\n",
    " - grades\n",
    " - demographics/shapefiles"
   ]
  },
  {
   "cell_type": "code",
   "execution_count": 1,
   "metadata": {},
   "outputs": [],
   "source": [
    "import pandas as pd"
   ]
  },
  {
   "cell_type": "markdown",
   "metadata": {},
   "source": [
    "## LCFF data\n",
    "importing from [California Department of Education](https://ias.cde.ca.gov/lcffsnapshot/lcff.aspx) and cleaning."
   ]
  },
  {
   "cell_type": "code",
   "execution_count": 2,
   "metadata": {},
   "outputs": [],
   "source": [
    "lcff = pd.read_csv('raw_data/lcffsnapshot18an.csv')\n",
    "# import lcff data from source"
   ]
  },
  {
   "cell_type": "code",
   "execution_count": 3,
   "metadata": {},
   "outputs": [],
   "source": [
    "lcff.columns = lcff.columns.str.strip()\n",
    "# strip leading/trailing spaces"
   ]
  },
  {
   "cell_type": "code",
   "execution_count": 4,
   "metadata": {},
   "outputs": [],
   "source": [
    "lcff.drop(lcff.tail(1).index,inplace=True)\n",
    "# extracting state totals, removing from df"
   ]
  },
  {
   "cell_type": "code",
   "execution_count": 5,
   "metadata": {},
   "outputs": [],
   "source": [
    "lcff['County Code'] = lcff['County Code'].astype(str)\n",
    "lcff['District Code'] = lcff['District Code'].astype(int)\n",
    "lcff['District Code'] = lcff['District Code'].astype(str)\n",
    "lcff['School Code'] = lcff['School Code'].astype(int)\n",
    "lcff['School Code'] = lcff['School Code'].astype(str)\n",
    "# changing to strings\n",
    "# slicing by district level cds code"
   ]
  },
  {
   "cell_type": "code",
   "execution_count": 6,
   "metadata": {},
   "outputs": [],
   "source": [
    "lcff['School Code'] = lcff['School Code'].apply(lambda x: '{0:0>7}'.format(x))\n",
    "# front fill school codes to == 7"
   ]
  },
  {
   "cell_type": "code",
   "execution_count": 7,
   "metadata": {},
   "outputs": [],
   "source": [
    "lcff = lcff.loc[lcff['School Code'] == '0000000']\n",
    "# select districts, district entries do not have a school level cds code"
   ]
  },
  {
   "cell_type": "code",
   "execution_count": 8,
   "metadata": {},
   "outputs": [],
   "source": [
    "lcff['cds'] = lcff['County Code'] + lcff['District Code'] + lcff['School Code']\n",
    "# combining into full cds code\n",
    "col_name='cds'\n",
    "first_col = lcff.pop(col_name)\n",
    "lcff.insert(0, col_name, first_col)\n",
    "# moving to front\n",
    "lcff.drop('County Code', axis=1, inplace=True)\n",
    "lcff.drop('School Code', axis=1, inplace=True)\n",
    "# dropping excess"
   ]
  },
  {
   "cell_type": "code",
   "execution_count": 9,
   "metadata": {},
   "outputs": [],
   "source": [
    "lcff = lcff.rename(columns={'Charter Number': 'charter_number',\n",
    "                     'Unduplicated Pupil Percentage\\nTarget, D-1': 'unduplicated_pupil_percentage',\n",
    "                     'Base Grant Funding\\nTarget, C-5': 'base_grant',\n",
    "                     'Supplemental Grant Funding\\nTarget, D-7': 'supplemental_grant',\n",
    "                     'Concentration Grant Funding\\nTarget, E-8': 'concentration_grant',\n",
    "                     'Total LCFF Target Entitlement\\nTarget, G-1/F-1': 'total_grants',\n",
    "                     'Unduplicated Pupil Percentage\\nTarget, D-1': 'unduplicated_pupil_count',\n",
    "                     'Necessary Small Schools Allowance\\nTarget, F-1': 'nec_small_schools',\n",
    "                     'Local Educational Agency' : 'districtname'      \n",
    "                           })\n",
    "# renaming for readability\n",
    "lcff = lcff[[  'districtname',\n",
    "               'unduplicated_pupil_count', \n",
    "               'base_grant', \n",
    "               'supplemental_grant', \n",
    "               'concentration_grant', \n",
    "               'total_grants', \n",
    "               'cds' ]].copy()\n",
    "# copying relevant columns into a new dataframe"
   ]
  },
  {
   "cell_type": "code",
   "execution_count": 10,
   "metadata": {},
   "outputs": [],
   "source": [
    "lcff.to_csv(\"clean_data/lcff.csv\")\n",
    "# save to disk"
   ]
  },
  {
   "cell_type": "markdown",
   "metadata": {},
   "source": [
    "## Grade data \n",
    "importing from [California Department of Education](https://www.cde.ca.gov/ta/ac/cm/datafilesfall18.asp) and cleaning"
   ]
  },
  {
   "cell_type": "markdown",
   "metadata": {},
   "source": [
    "Math first"
   ]
  },
  {
   "cell_type": "code",
   "execution_count": 11,
   "metadata": {},
   "outputs": [
    {
     "name": "stderr",
     "output_type": "stream",
     "text": [
      "C:\\Users\\fiend\\Anaconda2\\envs\\capstone\\lib\\site-packages\\IPython\\core\\interactiveshell.py:3063: DtypeWarning: Columns (6,23) have mixed types.Specify dtype option on import or set low_memory=False.\n",
      "  interactivity=interactivity, compiler=compiler, result=result)\n"
     ]
    }
   ],
   "source": [
    "math = pd.read_csv('raw_data/mathdownload2018.csv')"
   ]
  },
  {
   "cell_type": "code",
   "execution_count": 12,
   "metadata": {},
   "outputs": [],
   "source": [
    "replacements = dict(\n",
    "    studentgroup = {'ALL':'all_students',\n",
    "                        'AA':'african_american',\n",
    "                        'AI':'american_indian',\n",
    "                        'AS':'asian',\n",
    "                        'FI':'filipino',\n",
    "                        'HI':'hispanic',\n",
    "                        'PI':'pacific_islander',\n",
    "                        'WH':'white',\n",
    "                        'MR':'multiple_races',\n",
    "                        'EL':'english_learners',\n",
    "                        'ELO':'english_learners_only',\n",
    "                        'RFP':'rfep_only',\n",
    "                        'EO':'english_only',\n",
    "                        'SED':'ses_disad',\n",
    "                        'SWD':'disabilities',\n",
    "                        'FOS':'foster_youth',\n",
    "                        'HOM':'homeless_youth',\n",
    "                })\n",
    "# dictionary for replacing student group codes"
   ]
  },
  {
   "cell_type": "code",
   "execution_count": 13,
   "metadata": {},
   "outputs": [],
   "source": [
    "math['studentgroup'].astype(str)\n",
    "math = math.replace(replacements)\n",
    "# replace student group codes"
   ]
  },
  {
   "cell_type": "markdown",
   "metadata": {},
   "source": [
    "fixing cds codes to match to enable merges"
   ]
  },
  {
   "cell_type": "code",
   "execution_count": 14,
   "metadata": {},
   "outputs": [],
   "source": [
    "math['cds'].astype(str)\n",
    "# changing to string\n",
    "math = math[math.coe_flag !='Y']\n",
    "# removing county offices of education\n",
    "math = math.loc[math['rtype'] == 'D']\n",
    "# select district-level performance\n",
    "math['cds'] = math['cds'].apply(lambda x: '{0:0>14}'.format(x))\n",
    "# adding leading zero to 13 digit int\n",
    "math['District Code'] = [x[2:7] for x in math['cds']]\n",
    "# adding district only code"
   ]
  },
  {
   "cell_type": "code",
   "execution_count": 15,
   "metadata": {},
   "outputs": [],
   "source": [
    "math = pd.concat([math.pop(x) for x in ['District Code',\n",
    "                                          'districtname',                                          \n",
    "                                          'studentgroup', \n",
    "                                          'currstatus', \n",
    "                                          'priorstatus', \n",
    "                                          'change',\n",
    "                                          'countyname']],\n",
    "                    1)\n",
    "# slice out columns"
   ]
  },
  {
   "cell_type": "code",
   "execution_count": 16,
   "metadata": {},
   "outputs": [],
   "source": [
    "math.to_csv(\"clean_data/math.csv\")\n",
    "# save to disk"
   ]
  },
  {
   "cell_type": "markdown",
   "metadata": {},
   "source": [
    "English grades now"
   ]
  },
  {
   "cell_type": "code",
   "execution_count": 17,
   "metadata": {},
   "outputs": [],
   "source": [
    "ela = pd.read_csv('raw_data/eladownload2018.csv')"
   ]
  },
  {
   "cell_type": "code",
   "execution_count": 18,
   "metadata": {},
   "outputs": [],
   "source": [
    "ela['studentgroup'].astype(str)\n",
    "ela = ela.replace(replacements)\n",
    "# replace student group codes"
   ]
  },
  {
   "cell_type": "markdown",
   "metadata": {},
   "source": [
    "fixing cds codes to match to enable merges"
   ]
  },
  {
   "cell_type": "code",
   "execution_count": 19,
   "metadata": {},
   "outputs": [],
   "source": [
    "ela['cds'].astype(str)\n",
    "# changing cds code to string\n",
    "ela = ela[ela.coe_flag !='Y']\n",
    "# removing county offices of education\n",
    "ela = ela.loc[ela['rtype'] == 'D']\n",
    "# select district level entries\n",
    "ela['cds'] = ela['cds'].apply(lambda x: '{0:0>14}'.format(x))\n",
    "# adding leading zero to 13 digit int\n",
    "ela['District Code'] = [x[2:7] for x in ela['cds']]"
   ]
  },
  {
   "cell_type": "code",
   "execution_count": 20,
   "metadata": {},
   "outputs": [],
   "source": [
    "#creating district-level ela performance variable (dictionary)\n",
    "ela = pd.concat([ela.pop(x) for x in ['District Code',\n",
    "                                          'districtname',                                          \n",
    "                                          'studentgroup', \n",
    "                                          'currstatus', \n",
    "                                          'priorstatus', \n",
    "                                          'change',\n",
    "                                          'countyname']],\n",
    "                    1)\n",
    "# slice out columns"
   ]
  },
  {
   "cell_type": "code",
   "execution_count": 21,
   "metadata": {},
   "outputs": [],
   "source": [
    "ela.to_csv(\"clean_data/ela.csv\")\n",
    "# save to disk"
   ]
  },
  {
   "cell_type": "markdown",
   "metadata": {},
   "source": [
    "## Student attribute and shapefile data"
   ]
  },
  {
   "cell_type": "markdown",
   "metadata": {},
   "source": [
    "This requires geopandas."
   ]
  },
  {
   "cell_type": "code",
   "execution_count": 22,
   "metadata": {},
   "outputs": [],
   "source": [
    "import geopandas as gpd"
   ]
  },
  {
   "cell_type": "code",
   "execution_count": 23,
   "metadata": {},
   "outputs": [],
   "source": [
    "t = gpd.read_file(\"raw_data/DistrictAreas1819.shp\")"
   ]
  },
  {
   "cell_type": "code",
   "execution_count": 24,
   "metadata": {},
   "outputs": [],
   "source": [
    "t.to_file(\"clean_data/attributes.shp\")\n",
    "# save to disk"
   ]
  }
 ],
 "metadata": {
  "kernelspec": {
   "display_name": "Python 3",
   "language": "python",
   "name": "python3"
  },
  "language_info": {
   "codemirror_mode": {
    "name": "ipython",
    "version": 3
   },
   "file_extension": ".py",
   "mimetype": "text/x-python",
   "name": "python",
   "nbconvert_exporter": "python",
   "pygments_lexer": "ipython3",
   "version": "3.7.6"
  }
 },
 "nbformat": 4,
 "nbformat_minor": 4
}
