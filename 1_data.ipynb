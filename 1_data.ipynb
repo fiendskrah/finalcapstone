{
 "cells": [
  {
   "cell_type": "code",
   "execution_count": 1,
   "metadata": {},
   "outputs": [],
   "source": [
    "import pandas as pd"
   ]
  },
  {
   "cell_type": "markdown",
   "metadata": {},
   "source": [
    "This notebook will clean data from the California Department of Education for the analysis. Our goal is to merge all the data into a single cohesive geodataframe, which will happen in a subsequent notebook.  \n",
    "\n",
    " - lcff data\n",
    " - grades\n",
    " - demographics/shapefiles"
   ]
  },
  {
   "cell_type": "markdown",
   "metadata": {},
   "source": [
    "# LCFF data\n",
    "importing from [California Department of Education](https://ias.cde.ca.gov/lcffsnapshot/lcff.aspx) and cleaning."
   ]
  },
  {
   "cell_type": "code",
   "execution_count": 2,
   "metadata": {},
   "outputs": [],
   "source": [
    "lcff = pd.read_csv('lcff_data/lcffsnapshot18an.csv')\n",
    "# import lcff data from source"
   ]
  },
  {
   "cell_type": "code",
   "execution_count": 3,
   "metadata": {},
   "outputs": [],
   "source": [
    "lcff.columns = lcff.columns.str.strip()\n",
    "# strip leading/trailing spaces"
   ]
  },
  {
   "cell_type": "code",
   "execution_count": 4,
   "metadata": {},
   "outputs": [],
   "source": [
    "lcff.drop(lcff.tail(1).index,inplace=True)\n",
    "# extracting state totals, removing from df"
   ]
  },
  {
   "cell_type": "code",
   "execution_count": 5,
   "metadata": {},
   "outputs": [],
   "source": [
    "lcff['County Code'] = lcff['County Code'].astype(str)\n",
    "lcff['District Code'] = lcff['District Code'].astype(int)\n",
    "lcff['District Code'] = lcff['District Code'].astype(str)\n",
    "lcff['School Code'] = lcff['School Code'].astype(int)\n",
    "lcff['School Code'] = lcff['School Code'].astype(str)\n",
    "# changing to strings\n",
    "# slicing by district level cds code"
   ]
  },
  {
   "cell_type": "code",
   "execution_count": 6,
   "metadata": {},
   "outputs": [],
   "source": [
    "lcff['School Code'] = lcff['School Code'].apply(lambda x: '{0:0>7}'.format(x))\n",
    "# front fill school codes to == 7"
   ]
  },
  {
   "cell_type": "code",
   "execution_count": 7,
   "metadata": {},
   "outputs": [],
   "source": [
    "lcff = lcff.loc[lcff['School Code'] == '0000000']\n",
    "# select districts, district entries do not have a school level cds code"
   ]
  },
  {
   "cell_type": "code",
   "execution_count": 8,
   "metadata": {},
   "outputs": [],
   "source": [
    "lcff['cds'] = lcff['County Code'] + lcff['District Code'] + lcff['School Code']\n",
    "# combining into full cds code\n",
    "col_name='cds'\n",
    "first_col = lcff.pop(col_name)\n",
    "lcff.insert(0, col_name, first_col)\n",
    "# moving to front\n",
    "lcff.drop('County Code', axis=1, inplace=True)\n",
    "lcff.drop('School Code', axis=1, inplace=True)\n",
    "# dropping excess"
   ]
  },
  {
   "cell_type": "code",
   "execution_count": 9,
   "metadata": {},
   "outputs": [],
   "source": [
    "lcff = lcff.rename(columns={'Charter Number': 'charter_number',\n",
    "                     'Unduplicated Pupil Percentage\\nTarget, D-1': 'unduplicated_pupil_percentage',\n",
    "                     'Base Grant Funding\\nTarget, C-5': 'base_grant',\n",
    "                     'Supplemental Grant Funding\\nTarget, D-7': 'supplemental_grant',\n",
    "                     'Concentration Grant Funding\\nTarget, E-8': 'concentration_grant',\n",
    "                     'Total LCFF Target Entitlement\\nTarget, G-1/F-1': 'total_grants',\n",
    "                     'Unduplicated Pupil Percentage\\nTarget, D-1': 'unduplicated_pupil_count',\n",
    "                     'Necessary Small Schools Allowance\\nTarget, F-1': 'nec_small_schools',\n",
    "                     'Local Educational Agency' : 'districtname'      \n",
    "                           })\n",
    "# renaming for readability\n",
    "lcff = lcff[[  'districtname',\n",
    "               'unduplicated_pupil_count', \n",
    "               'base_grant', \n",
    "               'supplemental_grant', \n",
    "               'concentration_grant', \n",
    "               'total_grants', \n",
    "               'cds' ]].copy()\n",
    "# copying relevant columns into a new dataframe"
   ]
  },
  {
   "cell_type": "markdown",
   "metadata": {},
   "source": [
    "# Grade data \n",
    "importing from [California Department of Education](https://www.cde.ca.gov/ta/ac/cm/datafilesfall18.asp) and cleaning"
   ]
  },
  {
   "cell_type": "markdown",
   "metadata": {},
   "source": [
    "Math first"
   ]
  },
  {
   "cell_type": "code",
   "execution_count": 10,
   "metadata": {},
   "outputs": [
    {
     "name": "stderr",
     "output_type": "stream",
     "text": [
      "C:\\Users\\fiend\\Anaconda2\\envs\\capstone\\lib\\site-packages\\IPython\\core\\interactiveshell.py:3063: DtypeWarning: Columns (6,23) have mixed types.Specify dtype option on import or set low_memory=False.\n",
      "  interactivity=interactivity, compiler=compiler, result=result)\n"
     ]
    }
   ],
   "source": [
    "math = pd.read_csv('lcff_data/mathdownload2018.csv')"
   ]
  },
  {
   "cell_type": "code",
   "execution_count": 11,
   "metadata": {},
   "outputs": [],
   "source": [
    "replacements = dict(\n",
    "    studentgroup = {'ALL':'all_students',\n",
    "                        'AA':'african_american',\n",
    "                        'AI':'american_indian',\n",
    "                        'AS':'asian',\n",
    "                        'FI':'filipino',\n",
    "                        'HI':'hispanic',\n",
    "                        'PI':'pacific_islander',\n",
    "                        'WH':'white',\n",
    "                        'MR':'multiple_races',\n",
    "                        'EL':'english_learners',\n",
    "                        'ELO':'english_learners_only',\n",
    "                        'RFP':'rfep_only',\n",
    "                        'EO':'english_only',\n",
    "                        'SED':'ses_disad',\n",
    "                        'SWD':'disabilities',\n",
    "                        'FOS':'foster_youth',\n",
    "                        'HOM':'homeless_youth',\n",
    "                })\n",
    "# dictionary for replacing student group codes"
   ]
  },
  {
   "cell_type": "code",
   "execution_count": 12,
   "metadata": {},
   "outputs": [],
   "source": [
    "math['studentgroup'].astype(str)\n",
    "math = math.replace(replacements)\n",
    "# replace student group codes"
   ]
  },
  {
   "cell_type": "markdown",
   "metadata": {},
   "source": [
    "fixing cds codes to match to enable merges"
   ]
  },
  {
   "cell_type": "code",
   "execution_count": 13,
   "metadata": {},
   "outputs": [],
   "source": [
    "math['cds'].astype(str)\n",
    "# changing to string\n",
    "math = math[math.coe_flag !='Y']\n",
    "# removing county offices of education\n",
    "math = math.loc[math['rtype'] == 'D']\n",
    "# select district-level performance\n",
    "math['cds'] = math['cds'].apply(lambda x: '{0:0>14}'.format(x))\n",
    "# adding leading zero to 13 digit int\n",
    "math['District Code'] = [x[2:7] for x in math['cds']]\n",
    "# adding district only code"
   ]
  },
  {
   "cell_type": "code",
   "execution_count": 14,
   "metadata": {},
   "outputs": [],
   "source": [
    "math = pd.concat([math.pop(x) for x in ['District Code',\n",
    "                                          'districtname',                                          \n",
    "                                          'studentgroup', \n",
    "                                          'currstatus', \n",
    "                                          'priorstatus', \n",
    "                                          'change',\n",
    "                                          'countyname']],\n",
    "                    1)\n",
    "# slice out columns"
   ]
  },
  {
   "cell_type": "code",
   "execution_count": 15,
   "metadata": {},
   "outputs": [],
   "source": [
    "math.to_csv(\"math.csv\")\n",
    "# save to disk"
   ]
  },
  {
   "cell_type": "markdown",
   "metadata": {},
   "source": [
    "English grades now"
   ]
  },
  {
   "cell_type": "code",
   "execution_count": 16,
   "metadata": {},
   "outputs": [],
   "source": [
    "ela = pd.read_csv('lcff_data/eladownload2018.csv')"
   ]
  },
  {
   "cell_type": "code",
   "execution_count": 17,
   "metadata": {},
   "outputs": [],
   "source": [
    "ela['studentgroup'].astype(str)\n",
    "ela = ela.replace(replacements)\n",
    "# replace student group codes"
   ]
  },
  {
   "cell_type": "markdown",
   "metadata": {},
   "source": [
    "fixing cds codes to match to enable merges"
   ]
  },
  {
   "cell_type": "code",
   "execution_count": 18,
   "metadata": {},
   "outputs": [],
   "source": [
    "ela['cds'].astype(str)\n",
    "# changing cds code to string\n",
    "ela = ela[ela.coe_flag !='Y']\n",
    "# removing county offices of education\n",
    "ela = ela.loc[ela['rtype'] == 'D']\n",
    "# select district level entries\n",
    "ela['cds'] = ela['cds'].apply(lambda x: '{0:0>14}'.format(x))\n",
    "# adding leading zero to 13 digit int\n",
    "ela['District Code'] = [x[2:7] for x in ela['cds']]"
   ]
  },
  {
   "cell_type": "code",
   "execution_count": 20,
   "metadata": {},
   "outputs": [],
   "source": [
    "#creating district-level ela performance variable (dictionary)\n",
    "ela = pd.concat([ela.pop(x) for x in ['District Code',\n",
    "                                          'districtname',                                          \n",
    "                                          'studentgroup', \n",
    "                                          'currstatus', \n",
    "                                          'priorstatus', \n",
    "                                          'change',\n",
    "                                          'countyname']],\n",
    "                    1)\n",
    "# slice out columns"
   ]
  },
  {
   "cell_type": "code",
   "execution_count": 21,
   "metadata": {},
   "outputs": [],
   "source": [
    "ela.to_csv(\"ela.csv\")\n",
    "# save to disk"
   ]
  },
  {
   "cell_type": "markdown",
   "metadata": {},
   "source": [
    "# Student attribute and shapefile data"
   ]
  },
  {
   "cell_type": "markdown",
   "metadata": {},
   "source": [
    "this requires geopandas"
   ]
  },
  {
   "cell_type": "code",
   "execution_count": 23,
   "metadata": {},
   "outputs": [],
   "source": [
    "import geopandas as gpd"
   ]
  },
  {
   "cell_type": "code",
   "execution_count": 24,
   "metadata": {},
   "outputs": [],
   "source": [
    "t = gpd.read_file(\"California_School_District_Areas_2018-19-shp/DistrictAreas1819.shp\")"
   ]
  },
  {
   "cell_type": "code",
   "execution_count": 25,
   "metadata": {},
   "outputs": [
    {
     "data": {
      "text/html": [
       "<div>\n",
       "<style scoped>\n",
       "    .dataframe tbody tr th:only-of-type {\n",
       "        vertical-align: middle;\n",
       "    }\n",
       "\n",
       "    .dataframe tbody tr th {\n",
       "        vertical-align: top;\n",
       "    }\n",
       "\n",
       "    .dataframe thead th {\n",
       "        text-align: right;\n",
       "    }\n",
       "</style>\n",
       "<table border=\"1\" class=\"dataframe\">\n",
       "  <thead>\n",
       "    <tr style=\"text-align: right;\">\n",
       "      <th></th>\n",
       "      <th>OBJECTID</th>\n",
       "      <th>Year</th>\n",
       "      <th>FedID</th>\n",
       "      <th>CDCode</th>\n",
       "      <th>CDSCode</th>\n",
       "      <th>CountyName</th>\n",
       "      <th>DistrictNa</th>\n",
       "      <th>DistrictTy</th>\n",
       "      <th>GradeLow</th>\n",
       "      <th>GradeHigh</th>\n",
       "      <th>...</th>\n",
       "      <th>AbsentPct</th>\n",
       "      <th>GradCohort</th>\n",
       "      <th>GradPct</th>\n",
       "      <th>UCCSUReqMe</th>\n",
       "      <th>DropOutPct</th>\n",
       "      <th>EnrollCumu</th>\n",
       "      <th>SuspPct</th>\n",
       "      <th>SHAPE_Leng</th>\n",
       "      <th>SHAPE_Area</th>\n",
       "      <th>geometry</th>\n",
       "    </tr>\n",
       "  </thead>\n",
       "  <tbody>\n",
       "    <tr>\n",
       "      <th>0</th>\n",
       "      <td>1</td>\n",
       "      <td>2018-19</td>\n",
       "      <td>0601770</td>\n",
       "      <td>0161119</td>\n",
       "      <td>01611190000000</td>\n",
       "      <td>Alameda</td>\n",
       "      <td>Alameda Unified</td>\n",
       "      <td>Unified</td>\n",
       "      <td>KG</td>\n",
       "      <td>12</td>\n",
       "      <td>...</td>\n",
       "      <td>9.4</td>\n",
       "      <td>882.0</td>\n",
       "      <td>88.900002</td>\n",
       "      <td>58.900002</td>\n",
       "      <td>5.2</td>\n",
       "      <td>11600.0</td>\n",
       "      <td>2.6</td>\n",
       "      <td>57196.403944</td>\n",
       "      <td>4.733304e+07</td>\n",
       "      <td>MULTIPOLYGON (((-13606221.352 4540862.002, -13...</td>\n",
       "    </tr>\n",
       "    <tr>\n",
       "      <th>1</th>\n",
       "      <td>2</td>\n",
       "      <td>2018-19</td>\n",
       "      <td>0601860</td>\n",
       "      <td>0161127</td>\n",
       "      <td>01611270000000</td>\n",
       "      <td>Alameda</td>\n",
       "      <td>Albany City Unified</td>\n",
       "      <td>Unified</td>\n",
       "      <td>KG</td>\n",
       "      <td>12</td>\n",
       "      <td>...</td>\n",
       "      <td>6.4</td>\n",
       "      <td>301.0</td>\n",
       "      <td>94.699997</td>\n",
       "      <td>63.900002</td>\n",
       "      <td>1.7</td>\n",
       "      <td>3830.0</td>\n",
       "      <td>1.9</td>\n",
       "      <td>12870.772156</td>\n",
       "      <td>7.161276e+06</td>\n",
       "      <td>POLYGON ((-13612889.056 4565138.930, -13612894...</td>\n",
       "    </tr>\n",
       "    <tr>\n",
       "      <th>2</th>\n",
       "      <td>3</td>\n",
       "      <td>2018-19</td>\n",
       "      <td>0604740</td>\n",
       "      <td>0161143</td>\n",
       "      <td>01611430000000</td>\n",
       "      <td>Alameda</td>\n",
       "      <td>Berkeley Unified</td>\n",
       "      <td>Unified</td>\n",
       "      <td>KG</td>\n",
       "      <td>12</td>\n",
       "      <td>...</td>\n",
       "      <td>9.7</td>\n",
       "      <td>856.0</td>\n",
       "      <td>87.400002</td>\n",
       "      <td>83.300003</td>\n",
       "      <td>10.7</td>\n",
       "      <td>10534.0</td>\n",
       "      <td>1.4</td>\n",
       "      <td>44426.287405</td>\n",
       "      <td>4.376389e+07</td>\n",
       "      <td>POLYGON ((-13609481.010 4565073.896, -13609481...</td>\n",
       "    </tr>\n",
       "    <tr>\n",
       "      <th>3</th>\n",
       "      <td>4</td>\n",
       "      <td>2018-19</td>\n",
       "      <td>0607800</td>\n",
       "      <td>0161150</td>\n",
       "      <td>01611500000000</td>\n",
       "      <td>Alameda</td>\n",
       "      <td>Castro Valley Unified</td>\n",
       "      <td>Unified</td>\n",
       "      <td>KG</td>\n",
       "      <td>12</td>\n",
       "      <td>...</td>\n",
       "      <td>7.4</td>\n",
       "      <td>742.0</td>\n",
       "      <td>92.599998</td>\n",
       "      <td>55.900002</td>\n",
       "      <td>3.0</td>\n",
       "      <td>9532.0</td>\n",
       "      <td>2.2</td>\n",
       "      <td>142338.494091</td>\n",
       "      <td>2.833205e+08</td>\n",
       "      <td>MULTIPOLYGON (((-13581537.591 4528171.452, -13...</td>\n",
       "    </tr>\n",
       "    <tr>\n",
       "      <th>4</th>\n",
       "      <td>5</td>\n",
       "      <td>2018-19</td>\n",
       "      <td>0612630</td>\n",
       "      <td>0161168</td>\n",
       "      <td>01611680000000</td>\n",
       "      <td>Alameda</td>\n",
       "      <td>Emery Unified</td>\n",
       "      <td>Unified</td>\n",
       "      <td>KG</td>\n",
       "      <td>12</td>\n",
       "      <td>...</td>\n",
       "      <td>20.5</td>\n",
       "      <td>40.0</td>\n",
       "      <td>100.000000</td>\n",
       "      <td>40.000000</td>\n",
       "      <td>0.0</td>\n",
       "      <td>780.0</td>\n",
       "      <td>3.6</td>\n",
       "      <td>13762.869292</td>\n",
       "      <td>5.368212e+06</td>\n",
       "      <td>POLYGON ((-13614035.309 4555653.898, -13614035...</td>\n",
       "    </tr>\n",
       "  </tbody>\n",
       "</table>\n",
       "<p>5 rows × 70 columns</p>\n",
       "</div>"
      ],
      "text/plain": [
       "   OBJECTID     Year    FedID   CDCode         CDSCode CountyName  \\\n",
       "0         1  2018-19  0601770  0161119  01611190000000    Alameda   \n",
       "1         2  2018-19  0601860  0161127  01611270000000    Alameda   \n",
       "2         3  2018-19  0604740  0161143  01611430000000    Alameda   \n",
       "3         4  2018-19  0607800  0161150  01611500000000    Alameda   \n",
       "4         5  2018-19  0612630  0161168  01611680000000    Alameda   \n",
       "\n",
       "              DistrictNa DistrictTy GradeLow GradeHigh  ... AbsentPct  \\\n",
       "0        Alameda Unified    Unified       KG        12  ...       9.4   \n",
       "1    Albany City Unified    Unified       KG        12  ...       6.4   \n",
       "2       Berkeley Unified    Unified       KG        12  ...       9.7   \n",
       "3  Castro Valley Unified    Unified       KG        12  ...       7.4   \n",
       "4          Emery Unified    Unified       KG        12  ...      20.5   \n",
       "\n",
       "  GradCohort     GradPct UCCSUReqMe DropOutPct EnrollCumu SuspPct  \\\n",
       "0      882.0   88.900002  58.900002        5.2    11600.0     2.6   \n",
       "1      301.0   94.699997  63.900002        1.7     3830.0     1.9   \n",
       "2      856.0   87.400002  83.300003       10.7    10534.0     1.4   \n",
       "3      742.0   92.599998  55.900002        3.0     9532.0     2.2   \n",
       "4       40.0  100.000000  40.000000        0.0      780.0     3.6   \n",
       "\n",
       "      SHAPE_Leng    SHAPE_Area  \\\n",
       "0   57196.403944  4.733304e+07   \n",
       "1   12870.772156  7.161276e+06   \n",
       "2   44426.287405  4.376389e+07   \n",
       "3  142338.494091  2.833205e+08   \n",
       "4   13762.869292  5.368212e+06   \n",
       "\n",
       "                                            geometry  \n",
       "0  MULTIPOLYGON (((-13606221.352 4540862.002, -13...  \n",
       "1  POLYGON ((-13612889.056 4565138.930, -13612894...  \n",
       "2  POLYGON ((-13609481.010 4565073.896, -13609481...  \n",
       "3  MULTIPOLYGON (((-13581537.591 4528171.452, -13...  \n",
       "4  POLYGON ((-13614035.309 4555653.898, -13614035...  \n",
       "\n",
       "[5 rows x 70 columns]"
      ]
     },
     "execution_count": 25,
     "metadata": {},
     "output_type": "execute_result"
    }
   ],
   "source": [
    "t.head()"
   ]
  },
  {
   "cell_type": "code",
   "execution_count": 26,
   "metadata": {},
   "outputs": [],
   "source": [
    "t.to_file(\"attributes.shp\")\n",
    "# save to disk"
   ]
  }
 ],
 "metadata": {
  "kernelspec": {
   "display_name": "Python 3",
   "language": "python",
   "name": "python3"
  },
  "language_info": {
   "codemirror_mode": {
    "name": "ipython",
    "version": 3
   },
   "file_extension": ".py",
   "mimetype": "text/x-python",
   "name": "python",
   "nbconvert_exporter": "python",
   "pygments_lexer": "ipython3",
   "version": "3.7.6"
  }
 },
 "nbformat": 4,
 "nbformat_minor": 4
}
