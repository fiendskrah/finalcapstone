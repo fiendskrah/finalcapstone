{
 "cells": [
  {
   "cell_type": "code",
   "execution_count": 1,
   "metadata": {
    "scrolled": false
   },
   "outputs": [
    {
     "name": "stderr",
     "output_type": "stream",
     "text": [
      "C:\\Users\\fiend\\Anaconda2\\envs\\capstone\\lib\\site-packages\\geosnap\\_data.py:123: UserWarning: Unable to locate local census data. Streaming instead.\n",
      "If you plan to use census data repeatedly you can store it locally with the io.store_census function for better performance\n",
      "  \"Unable to locate local census data. Streaming instead.\\n\"\n",
      "Loading manifest: 100%|██████████| 5/5 [00:00<00:00, 5006.33entries/s]\n",
      "Loading manifest: 100%|██████████| 5/5 [00:00<00:00, 5014.71entries/s]\n",
      "C:\\Users\\fiend\\Anaconda2\\envs\\capstone\\lib\\site-packages\\sklearn\\utils\\deprecation.py:144: FutureWarning: The sklearn.cluster.spectral module is  deprecated in version 0.22 and will be removed in version 0.24. The corresponding classes / functions should instead be imported from sklearn.cluster. Anything that cannot be imported from sklearn.cluster is now part of the private API.\n",
      "  warnings.warn(message, FutureWarning)\n"
     ]
    }
   ],
   "source": [
    "import pandas\n",
    "from geosnap import Community\n",
    "from geosnap import datasets\n",
    "import fiona\n",
    "import geopandas\n",
    "from mpl_toolkits.axes_grid1 import make_axes_locatable\n",
    "%matplotlib inline\n",
    "import matplotlib.pyplot as plt\n",
    "import segregation\n",
    "import numpy as np\n",
    "import seaborn as sns\n",
    "import statsmodels.formula.api as smf"
   ]
  },
  {
   "cell_type": "code",
   "execution_count": 2,
   "metadata": {},
   "outputs": [],
   "source": [
    "pandas.set_option('display.max_rows', 500)\n",
    "pandas.set_option('display.max_column', 500)"
   ]
  },
  {
   "cell_type": "code",
   "execution_count": 3,
   "metadata": {},
   "outputs": [],
   "source": [
    "ele = geopandas.read_file(\"districts_tiger/tl_2015_us_sde.shp\")\n",
    "# Reading in shapefiles from census/tiger"
   ]
  },
  {
   "cell_type": "code",
   "execution_count": 4,
   "metadata": {},
   "outputs": [],
   "source": [
    "seco = geopandas.read_file(\"districts_tiger/tl_2015_us_sds.shp\")"
   ]
  },
  {
   "cell_type": "code",
   "execution_count": 5,
   "metadata": {},
   "outputs": [],
   "source": [
    "uni = geopandas.read_file(\"districts_tiger/tl_2015_us_sdu.shp\")"
   ]
  },
  {
   "cell_type": "code",
   "execution_count": 6,
   "metadata": {
    "scrolled": true
   },
   "outputs": [],
   "source": [
    "ele = ele.loc[ele['STATEFP'] == '06']\n",
    "# slicing out California\n",
    "# elementary school districts in California"
   ]
  },
  {
   "cell_type": "code",
   "execution_count": 7,
   "metadata": {
    "scrolled": true
   },
   "outputs": [],
   "source": [
    "seco = seco.loc[seco['STATEFP'] == '06']\n",
    "# secondary school districts in California"
   ]
  },
  {
   "cell_type": "code",
   "execution_count": 8,
   "metadata": {
    "scrolled": false
   },
   "outputs": [],
   "source": [
    "uni = uni.loc[uni['STATEFP'] == '06']\n",
    "# unified school districts in California"
   ]
  },
  {
   "cell_type": "code",
   "execution_count": 9,
   "metadata": {},
   "outputs": [
    {
     "data": {
      "text/plain": [
       "986"
      ]
     },
     "execution_count": 9,
     "metadata": {},
     "output_type": "execute_result"
    }
   ],
   "source": [
    "len(ele)+len(seco)+len(uni)"
   ]
  },
  {
   "cell_type": "markdown",
   "metadata": {},
   "source": [
    "## Combining shapefiles into single geodataframe"
   ]
  },
  {
   "cell_type": "code",
   "execution_count": 10,
   "metadata": {},
   "outputs": [],
   "source": [
    "ele['origin'] = 'elementary'"
   ]
  },
  {
   "cell_type": "code",
   "execution_count": 11,
   "metadata": {},
   "outputs": [],
   "source": [
    "seco['origin'] = 'secondary'"
   ]
  },
  {
   "cell_type": "code",
   "execution_count": 12,
   "metadata": {},
   "outputs": [],
   "source": [
    "uni['origin'] = 'unified'"
   ]
  },
  {
   "cell_type": "code",
   "execution_count": 13,
   "metadata": {},
   "outputs": [],
   "source": [
    "adistricts = uni.append([ele, seco])\n",
    "#all districts"
   ]
  },
  {
   "cell_type": "code",
   "execution_count": 14,
   "metadata": {
    "scrolled": false
   },
   "outputs": [],
   "source": [
    "adistricts = adistricts.sort_values('NAME', ascending=True)"
   ]
  },
  {
   "cell_type": "code",
   "execution_count": 15,
   "metadata": {},
   "outputs": [],
   "source": [
    "adistricts['NAME'] = adistricts['NAME'].str.replace('School District', '')\n",
    "adistricts['NAME'] = adistricts['NAME'].str.strip()"
   ]
  },
  {
   "cell_type": "code",
   "execution_count": 16,
   "metadata": {
    "scrolled": true
   },
   "outputs": [
    {
     "name": "stdout",
     "output_type": "stream",
     "text": [
      "[]\n"
     ]
    }
   ],
   "source": [
    "check = adistricts['NAME'].str.contains('County Office')\n",
    "res = [i for i, val in enumerate(check) if val]\n",
    "print(res)"
   ]
  },
  {
   "cell_type": "code",
   "execution_count": 17,
   "metadata": {
    "scrolled": true
   },
   "outputs": [
    {
     "data": {
      "text/plain": [
       "(986, 18)"
      ]
     },
     "execution_count": 17,
     "metadata": {},
     "output_type": "execute_result"
    }
   ],
   "source": [
    "adistricts.shape"
   ]
  },
  {
   "cell_type": "code",
   "execution_count": 18,
   "metadata": {},
   "outputs": [],
   "source": [
    "adsgeo = adistricts['NAME']\n",
    "# all districs name list"
   ]
  },
  {
   "cell_type": "code",
   "execution_count": 19,
   "metadata": {
    "scrolled": true
   },
   "outputs": [
    {
     "data": {
      "text/plain": [
       "(970,)"
      ]
     },
     "execution_count": 19,
     "metadata": {},
     "output_type": "execute_result"
    }
   ],
   "source": [
    "adsgeo.unique().shape\n",
    "# todo: some districts listed twice"
   ]
  },
  {
   "cell_type": "code",
   "execution_count": 20,
   "metadata": {},
   "outputs": [
    {
     "name": "stdout",
     "output_type": "stream",
     "text": [
      "['Jefferson Elementary' 'Lakeside Union Elementary'\n",
      " 'Pioneer Union Elementary']\n"
     ]
    },
    {
     "name": "stderr",
     "output_type": "stream",
     "text": [
      "C:\\Users\\fiend\\Anaconda2\\envs\\capstone\\lib\\site-packages\\ipykernel_launcher.py:2: SettingWithCopyWarning: \n",
      "A value is trying to be set on a copy of a slice from a DataFrame.\n",
      "Try using .loc[row_indexer,col_indexer] = value instead\n",
      "\n",
      "See the caveats in the documentation: https://pandas.pydata.org/pandas-docs/stable/user_guide/indexing.html#returning-a-view-versus-a-copy\n",
      "  \n"
     ]
    }
   ],
   "source": [
    "dupes = adistricts[adistricts['NAME'].isin(adistricts['NAME'].value_counts()[adistricts['NAME'].value_counts()>2].index)]\n",
    "dupes['NAME'] = dupes['NAME'].str.strip()\n",
    "print(dupes['NAME'].unique())\n",
    "# 3 Jefferson\n",
    "# 3 Lakeside\n",
    "# 3 Pioneer\n",
    "\n",
    "# create new column indicating countyID"
   ]
  },
  {
   "cell_type": "markdown",
   "metadata": {},
   "source": [
    "### Harmonizing data\n",
    "\n",
    "ela + math `currstatus` Average distance from Standard of students who took the Smarter Balanced summative assessment in ela/math\n",
    "\n",
    "\n",
    "options<br>\n",
    "* questions of differences across groups? (no geography)\n",
    "* differences across districts (group by district)\n",
    "* differences across groups in districts (interaction effects > more pronounced differences in certain districts)\n",
    "\n",
    "visualization\n",
    "\n",
    "* what is the best indicator to use for choropleth ()\n",
    "\n",
    "* or - use state level values as benchmark for each group (how is it reflected in each district, heterogeniety in space?)"
   ]
  },
  {
   "cell_type": "markdown",
   "metadata": {},
   "source": [
    "## ELA acheivement indicator data\n",
    "Find the codebook [here](https://www.cde.ca.gov/ta/ac/cm/ela18.asp)"
   ]
  },
  {
   "cell_type": "code",
   "execution_count": 21,
   "metadata": {
    "scrolled": false
   },
   "outputs": [
    {
     "name": "stderr",
     "output_type": "stream",
     "text": [
      "C:\\Users\\fiend\\Anaconda2\\envs\\capstone\\lib\\site-packages\\IPython\\core\\interactiveshell.py:3063: DtypeWarning: Columns (6,23) have mixed types.Specify dtype option on import or set low_memory=False.\n",
      "  interactivity=interactivity, compiler=compiler, result=result)\n"
     ]
    },
    {
     "data": {
      "text/plain": [
       "(148838, 32)"
      ]
     },
     "execution_count": 21,
     "metadata": {},
     "output_type": "execute_result"
    }
   ],
   "source": [
    "ela = pandas.read_csv('lcff_data/eladownload2018.csv')\n",
    "ela.shape"
   ]
  },
  {
   "cell_type": "code",
   "execution_count": 22,
   "metadata": {
    "scrolled": true
   },
   "outputs": [
    {
     "data": {
      "text/html": [
       "<div>\n",
       "<style scoped>\n",
       "    .dataframe tbody tr th:only-of-type {\n",
       "        vertical-align: middle;\n",
       "    }\n",
       "\n",
       "    .dataframe tbody tr th {\n",
       "        vertical-align: top;\n",
       "    }\n",
       "\n",
       "    .dataframe thead th {\n",
       "        text-align: right;\n",
       "    }\n",
       "</style>\n",
       "<table border=\"1\" class=\"dataframe\">\n",
       "  <thead>\n",
       "    <tr style=\"text-align: right;\">\n",
       "      <th></th>\n",
       "      <th>cds</th>\n",
       "      <th>rtype</th>\n",
       "      <th>schoolname</th>\n",
       "      <th>districtname</th>\n",
       "      <th>countyname</th>\n",
       "      <th>charter_flag</th>\n",
       "      <th>coe_flag</th>\n",
       "      <th>dass_flag</th>\n",
       "      <th>studentgroup</th>\n",
       "      <th>currdenom</th>\n",
       "      <th>currdenom_swd</th>\n",
       "      <th>currstatus</th>\n",
       "      <th>priordenom</th>\n",
       "      <th>priordenom_swd</th>\n",
       "      <th>priorstatus</th>\n",
       "      <th>change</th>\n",
       "      <th>statuslevel</th>\n",
       "      <th>changelevel</th>\n",
       "      <th>color</th>\n",
       "      <th>box</th>\n",
       "      <th>hscutpoints</th>\n",
       "      <th>curradjustment</th>\n",
       "      <th>prioradjustment</th>\n",
       "      <th>pairshare_method</th>\n",
       "      <th>caa_denom</th>\n",
       "      <th>caa_level1_num</th>\n",
       "      <th>caa_level1_pct</th>\n",
       "      <th>caa_level2_num</th>\n",
       "      <th>caa_level2_pct</th>\n",
       "      <th>caa_level3_num</th>\n",
       "      <th>caa_level3_pct</th>\n",
       "      <th>ReportingYear</th>\n",
       "    </tr>\n",
       "  </thead>\n",
       "  <tbody>\n",
       "    <tr>\n",
       "      <th>0</th>\n",
       "      <td>0</td>\n",
       "      <td>X</td>\n",
       "      <td>NaN</td>\n",
       "      <td>NaN</td>\n",
       "      <td>NaN</td>\n",
       "      <td>NaN</td>\n",
       "      <td>NaN</td>\n",
       "      <td>NaN</td>\n",
       "      <td>AA</td>\n",
       "      <td>172224</td>\n",
       "      <td>NaN</td>\n",
       "      <td>-51.8</td>\n",
       "      <td>177009.0</td>\n",
       "      <td>NaN</td>\n",
       "      <td>-52.7</td>\n",
       "      <td>0.9</td>\n",
       "      <td>2</td>\n",
       "      <td>3</td>\n",
       "      <td>2</td>\n",
       "      <td>180</td>\n",
       "      <td>NaN</td>\n",
       "      <td>NaN</td>\n",
       "      <td>NaN</td>\n",
       "      <td>NaN</td>\n",
       "      <td>NaN</td>\n",
       "      <td>NaN</td>\n",
       "      <td>NaN</td>\n",
       "      <td>NaN</td>\n",
       "      <td>NaN</td>\n",
       "      <td>NaN</td>\n",
       "      <td>NaN</td>\n",
       "      <td>2018</td>\n",
       "    </tr>\n",
       "    <tr>\n",
       "      <th>1</th>\n",
       "      <td>0</td>\n",
       "      <td>X</td>\n",
       "      <td>NaN</td>\n",
       "      <td>NaN</td>\n",
       "      <td>NaN</td>\n",
       "      <td>NaN</td>\n",
       "      <td>NaN</td>\n",
       "      <td>NaN</td>\n",
       "      <td>AI</td>\n",
       "      <td>16662</td>\n",
       "      <td>NaN</td>\n",
       "      <td>-36.8</td>\n",
       "      <td>17234.0</td>\n",
       "      <td>NaN</td>\n",
       "      <td>-39.1</td>\n",
       "      <td>2.3</td>\n",
       "      <td>2</td>\n",
       "      <td>3</td>\n",
       "      <td>2</td>\n",
       "      <td>180</td>\n",
       "      <td>NaN</td>\n",
       "      <td>NaN</td>\n",
       "      <td>NaN</td>\n",
       "      <td>NaN</td>\n",
       "      <td>NaN</td>\n",
       "      <td>NaN</td>\n",
       "      <td>NaN</td>\n",
       "      <td>NaN</td>\n",
       "      <td>NaN</td>\n",
       "      <td>NaN</td>\n",
       "      <td>NaN</td>\n",
       "      <td>2018</td>\n",
       "    </tr>\n",
       "    <tr>\n",
       "      <th>2</th>\n",
       "      <td>0</td>\n",
       "      <td>X</td>\n",
       "      <td>NaN</td>\n",
       "      <td>NaN</td>\n",
       "      <td>NaN</td>\n",
       "      <td>NaN</td>\n",
       "      <td>NaN</td>\n",
       "      <td>NaN</td>\n",
       "      <td>ALL</td>\n",
       "      <td>3171704</td>\n",
       "      <td>NaN</td>\n",
       "      <td>-6.0</td>\n",
       "      <td>3200441.0</td>\n",
       "      <td>NaN</td>\n",
       "      <td>-8.2</td>\n",
       "      <td>2.2</td>\n",
       "      <td>2</td>\n",
       "      <td>3</td>\n",
       "      <td>2</td>\n",
       "      <td>180</td>\n",
       "      <td>NaN</td>\n",
       "      <td>NaN</td>\n",
       "      <td>NaN</td>\n",
       "      <td>NaN</td>\n",
       "      <td>36140.0</td>\n",
       "      <td>18581.0</td>\n",
       "      <td>51.4</td>\n",
       "      <td>11330.0</td>\n",
       "      <td>31.4</td>\n",
       "      <td>6229.0</td>\n",
       "      <td>17.2</td>\n",
       "      <td>2018</td>\n",
       "    </tr>\n",
       "    <tr>\n",
       "      <th>3</th>\n",
       "      <td>0</td>\n",
       "      <td>X</td>\n",
       "      <td>NaN</td>\n",
       "      <td>NaN</td>\n",
       "      <td>NaN</td>\n",
       "      <td>NaN</td>\n",
       "      <td>NaN</td>\n",
       "      <td>NaN</td>\n",
       "      <td>AS</td>\n",
       "      <td>293002</td>\n",
       "      <td>NaN</td>\n",
       "      <td>62.4</td>\n",
       "      <td>295040.0</td>\n",
       "      <td>NaN</td>\n",
       "      <td>60.5</td>\n",
       "      <td>2.0</td>\n",
       "      <td>5</td>\n",
       "      <td>3</td>\n",
       "      <td>5</td>\n",
       "      <td>30</td>\n",
       "      <td>NaN</td>\n",
       "      <td>NaN</td>\n",
       "      <td>NaN</td>\n",
       "      <td>NaN</td>\n",
       "      <td>NaN</td>\n",
       "      <td>NaN</td>\n",
       "      <td>NaN</td>\n",
       "      <td>NaN</td>\n",
       "      <td>NaN</td>\n",
       "      <td>NaN</td>\n",
       "      <td>NaN</td>\n",
       "      <td>2018</td>\n",
       "    </tr>\n",
       "    <tr>\n",
       "      <th>4</th>\n",
       "      <td>0</td>\n",
       "      <td>X</td>\n",
       "      <td>NaN</td>\n",
       "      <td>NaN</td>\n",
       "      <td>NaN</td>\n",
       "      <td>NaN</td>\n",
       "      <td>NaN</td>\n",
       "      <td>NaN</td>\n",
       "      <td>EL</td>\n",
       "      <td>1000703</td>\n",
       "      <td>NaN</td>\n",
       "      <td>-47.1</td>\n",
       "      <td>1021418.0</td>\n",
       "      <td>NaN</td>\n",
       "      <td>-50.4</td>\n",
       "      <td>3.3</td>\n",
       "      <td>2</td>\n",
       "      <td>4</td>\n",
       "      <td>3</td>\n",
       "      <td>190</td>\n",
       "      <td>NaN</td>\n",
       "      <td>NaN</td>\n",
       "      <td>NaN</td>\n",
       "      <td>NaN</td>\n",
       "      <td>NaN</td>\n",
       "      <td>NaN</td>\n",
       "      <td>NaN</td>\n",
       "      <td>NaN</td>\n",
       "      <td>NaN</td>\n",
       "      <td>NaN</td>\n",
       "      <td>NaN</td>\n",
       "      <td>2018</td>\n",
       "    </tr>\n",
       "  </tbody>\n",
       "</table>\n",
       "</div>"
      ],
      "text/plain": [
       "   cds rtype schoolname districtname countyname charter_flag coe_flag  \\\n",
       "0    0     X        NaN          NaN        NaN          NaN      NaN   \n",
       "1    0     X        NaN          NaN        NaN          NaN      NaN   \n",
       "2    0     X        NaN          NaN        NaN          NaN      NaN   \n",
       "3    0     X        NaN          NaN        NaN          NaN      NaN   \n",
       "4    0     X        NaN          NaN        NaN          NaN      NaN   \n",
       "\n",
       "  dass_flag studentgroup  currdenom  currdenom_swd  currstatus  priordenom  \\\n",
       "0       NaN           AA     172224            NaN       -51.8    177009.0   \n",
       "1       NaN           AI      16662            NaN       -36.8     17234.0   \n",
       "2       NaN          ALL    3171704            NaN        -6.0   3200441.0   \n",
       "3       NaN           AS     293002            NaN        62.4    295040.0   \n",
       "4       NaN           EL    1000703            NaN       -47.1   1021418.0   \n",
       "\n",
       "   priordenom_swd  priorstatus  change  statuslevel  changelevel  color  box  \\\n",
       "0             NaN        -52.7     0.9            2            3      2  180   \n",
       "1             NaN        -39.1     2.3            2            3      2  180   \n",
       "2             NaN         -8.2     2.2            2            3      2  180   \n",
       "3             NaN         60.5     2.0            5            3      5   30   \n",
       "4             NaN        -50.4     3.3            2            4      3  190   \n",
       "\n",
       "  hscutpoints  curradjustment  prioradjustment pairshare_method  caa_denom  \\\n",
       "0         NaN             NaN              NaN              NaN        NaN   \n",
       "1         NaN             NaN              NaN              NaN        NaN   \n",
       "2         NaN             NaN              NaN              NaN    36140.0   \n",
       "3         NaN             NaN              NaN              NaN        NaN   \n",
       "4         NaN             NaN              NaN              NaN        NaN   \n",
       "\n",
       "   caa_level1_num  caa_level1_pct  caa_level2_num  caa_level2_pct  \\\n",
       "0             NaN             NaN             NaN             NaN   \n",
       "1             NaN             NaN             NaN             NaN   \n",
       "2         18581.0            51.4         11330.0            31.4   \n",
       "3             NaN             NaN             NaN             NaN   \n",
       "4             NaN             NaN             NaN             NaN   \n",
       "\n",
       "   caa_level3_num  caa_level3_pct  ReportingYear  \n",
       "0             NaN             NaN           2018  \n",
       "1             NaN             NaN           2018  \n",
       "2          6229.0            17.2           2018  \n",
       "3             NaN             NaN           2018  \n",
       "4             NaN             NaN           2018  "
      ]
     },
     "execution_count": 22,
     "metadata": {},
     "output_type": "execute_result"
    }
   ],
   "source": [
    "ela.head()"
   ]
  },
  {
   "cell_type": "markdown",
   "metadata": {},
   "source": [
    "## Creating state-level variable"
   ]
  },
  {
   "cell_type": "code",
   "execution_count": 23,
   "metadata": {},
   "outputs": [],
   "source": [
    "replacements = dict(\n",
    "    studentgroup = {'ALL':'all_students',\n",
    "                        'AA':'african_american',\n",
    "                        'AI':'american_indian',\n",
    "                        'AS':'asian',\n",
    "                        'FI':'filipino',\n",
    "                        'HI':'hispanic',\n",
    "                        'PI':'pacific_islander',\n",
    "                        'WH':'white',\n",
    "                        'MR':'multiple_races',\n",
    "                        'EL':'english_learners',\n",
    "                        'ELO':'english_learners_only',\n",
    "                        'RFP':'rfep_only',\n",
    "                        'EO':'english_only',\n",
    "                        'SED':'ses_disad',\n",
    "                        'SWD':'disabilities',\n",
    "                        'FOS':'foster_youth',\n",
    "                        'HOM':'homeless_youth',\n",
    "                })\n",
    "# dictionary for replacing acronyms, reuse later\n",
    "\n",
    "ela['studentgroup'].astype(str)\n",
    "ela = ela.replace(replacements)\n",
    "# replace acronyms\n",
    "\n",
    "j = ela\n",
    "j = j.loc[j['rtype'] == 'X']\n",
    "# select by no-type (state)\n",
    "k = pandas.concat([j.pop(x) for x in ['studentgroup', \n",
    "                                      'currstatus', \n",
    "                                      'priorstatus', \n",
    "                                      'change',\n",
    "                                      'currdenom']],\n",
    "                  1)\n",
    "# slice out columns\n",
    "ela_state = k.sort_values(by='currstatus', ascending=False)\n",
    "# state-level ela performance variable"
   ]
  },
  {
   "cell_type": "markdown",
   "metadata": {},
   "source": [
    "## Aggregation "
   ]
  },
  {
   "cell_type": "code",
   "execution_count": 24,
   "metadata": {
    "scrolled": true
   },
   "outputs": [
    {
     "data": {
      "text/html": [
       "<div>\n",
       "<style scoped>\n",
       "    .dataframe tbody tr th:only-of-type {\n",
       "        vertical-align: middle;\n",
       "    }\n",
       "\n",
       "    .dataframe tbody tr th {\n",
       "        vertical-align: top;\n",
       "    }\n",
       "\n",
       "    .dataframe thead th {\n",
       "        text-align: right;\n",
       "    }\n",
       "</style>\n",
       "<table border=\"1\" class=\"dataframe\">\n",
       "  <thead>\n",
       "    <tr style=\"text-align: right;\">\n",
       "      <th></th>\n",
       "      <th>cds</th>\n",
       "      <th>rtype</th>\n",
       "      <th>schoolname</th>\n",
       "      <th>districtname</th>\n",
       "      <th>countyname</th>\n",
       "      <th>charter_flag</th>\n",
       "      <th>coe_flag</th>\n",
       "      <th>dass_flag</th>\n",
       "      <th>studentgroup</th>\n",
       "      <th>currdenom</th>\n",
       "      <th>currdenom_swd</th>\n",
       "      <th>currstatus</th>\n",
       "      <th>priordenom</th>\n",
       "      <th>priordenom_swd</th>\n",
       "      <th>priorstatus</th>\n",
       "      <th>change</th>\n",
       "      <th>statuslevel</th>\n",
       "      <th>changelevel</th>\n",
       "      <th>color</th>\n",
       "      <th>box</th>\n",
       "      <th>hscutpoints</th>\n",
       "      <th>curradjustment</th>\n",
       "      <th>prioradjustment</th>\n",
       "      <th>pairshare_method</th>\n",
       "      <th>caa_denom</th>\n",
       "      <th>caa_level1_num</th>\n",
       "      <th>caa_level1_pct</th>\n",
       "      <th>caa_level2_num</th>\n",
       "      <th>caa_level2_pct</th>\n",
       "      <th>caa_level3_num</th>\n",
       "      <th>caa_level3_pct</th>\n",
       "      <th>ReportingYear</th>\n",
       "      <th>District Code</th>\n",
       "    </tr>\n",
       "  </thead>\n",
       "  <tbody>\n",
       "    <tr>\n",
       "      <th>164</th>\n",
       "      <td>01611190000000</td>\n",
       "      <td>D</td>\n",
       "      <td>NaN</td>\n",
       "      <td>Alameda Unified</td>\n",
       "      <td>Alameda</td>\n",
       "      <td>NaN</td>\n",
       "      <td>NaN</td>\n",
       "      <td>NaN</td>\n",
       "      <td>african_american</td>\n",
       "      <td>298</td>\n",
       "      <td>NaN</td>\n",
       "      <td>-43.0</td>\n",
       "      <td>332.0</td>\n",
       "      <td>NaN</td>\n",
       "      <td>-48.7</td>\n",
       "      <td>5.7</td>\n",
       "      <td>2</td>\n",
       "      <td>4</td>\n",
       "      <td>3</td>\n",
       "      <td>190</td>\n",
       "      <td>NaN</td>\n",
       "      <td>NaN</td>\n",
       "      <td>NaN</td>\n",
       "      <td>NaN</td>\n",
       "      <td>NaN</td>\n",
       "      <td>NaN</td>\n",
       "      <td>NaN</td>\n",
       "      <td>NaN</td>\n",
       "      <td>NaN</td>\n",
       "      <td>NaN</td>\n",
       "      <td>NaN</td>\n",
       "      <td>2018</td>\n",
       "      <td>61119</td>\n",
       "    </tr>\n",
       "    <tr>\n",
       "      <th>165</th>\n",
       "      <td>01611190000000</td>\n",
       "      <td>D</td>\n",
       "      <td>NaN</td>\n",
       "      <td>Alameda Unified</td>\n",
       "      <td>Alameda</td>\n",
       "      <td>NaN</td>\n",
       "      <td>NaN</td>\n",
       "      <td>NaN</td>\n",
       "      <td>american_indian</td>\n",
       "      <td>13</td>\n",
       "      <td>NaN</td>\n",
       "      <td>-14.8</td>\n",
       "      <td>14.0</td>\n",
       "      <td>NaN</td>\n",
       "      <td>14.3</td>\n",
       "      <td>-29.1</td>\n",
       "      <td>2</td>\n",
       "      <td>1</td>\n",
       "      <td>0</td>\n",
       "      <td>0</td>\n",
       "      <td>NaN</td>\n",
       "      <td>NaN</td>\n",
       "      <td>-0.25</td>\n",
       "      <td>NaN</td>\n",
       "      <td>NaN</td>\n",
       "      <td>NaN</td>\n",
       "      <td>NaN</td>\n",
       "      <td>NaN</td>\n",
       "      <td>NaN</td>\n",
       "      <td>NaN</td>\n",
       "      <td>NaN</td>\n",
       "      <td>2018</td>\n",
       "      <td>61119</td>\n",
       "    </tr>\n",
       "    <tr>\n",
       "      <th>166</th>\n",
       "      <td>01611190000000</td>\n",
       "      <td>D</td>\n",
       "      <td>NaN</td>\n",
       "      <td>Alameda Unified</td>\n",
       "      <td>Alameda</td>\n",
       "      <td>NaN</td>\n",
       "      <td>NaN</td>\n",
       "      <td>NaN</td>\n",
       "      <td>all_students</td>\n",
       "      <td>4550</td>\n",
       "      <td>NaN</td>\n",
       "      <td>36.8</td>\n",
       "      <td>4541.0</td>\n",
       "      <td>NaN</td>\n",
       "      <td>32.8</td>\n",
       "      <td>4.0</td>\n",
       "      <td>4</td>\n",
       "      <td>4</td>\n",
       "      <td>4</td>\n",
       "      <td>90</td>\n",
       "      <td>NaN</td>\n",
       "      <td>NaN</td>\n",
       "      <td>NaN</td>\n",
       "      <td>NaN</td>\n",
       "      <td>38.0</td>\n",
       "      <td>26.0</td>\n",
       "      <td>68.4</td>\n",
       "      <td>6.0</td>\n",
       "      <td>15.8</td>\n",
       "      <td>6.0</td>\n",
       "      <td>15.8</td>\n",
       "      <td>2018</td>\n",
       "      <td>61119</td>\n",
       "    </tr>\n",
       "    <tr>\n",
       "      <th>167</th>\n",
       "      <td>01611190000000</td>\n",
       "      <td>D</td>\n",
       "      <td>NaN</td>\n",
       "      <td>Alameda Unified</td>\n",
       "      <td>Alameda</td>\n",
       "      <td>NaN</td>\n",
       "      <td>NaN</td>\n",
       "      <td>NaN</td>\n",
       "      <td>asian</td>\n",
       "      <td>1288</td>\n",
       "      <td>NaN</td>\n",
       "      <td>48.6</td>\n",
       "      <td>1334.0</td>\n",
       "      <td>NaN</td>\n",
       "      <td>54.0</td>\n",
       "      <td>-5.3</td>\n",
       "      <td>5</td>\n",
       "      <td>2</td>\n",
       "      <td>4</td>\n",
       "      <td>20</td>\n",
       "      <td>NaN</td>\n",
       "      <td>NaN</td>\n",
       "      <td>NaN</td>\n",
       "      <td>NaN</td>\n",
       "      <td>NaN</td>\n",
       "      <td>NaN</td>\n",
       "      <td>NaN</td>\n",
       "      <td>NaN</td>\n",
       "      <td>NaN</td>\n",
       "      <td>NaN</td>\n",
       "      <td>NaN</td>\n",
       "      <td>2018</td>\n",
       "      <td>61119</td>\n",
       "    </tr>\n",
       "    <tr>\n",
       "      <th>168</th>\n",
       "      <td>01611190000000</td>\n",
       "      <td>D</td>\n",
       "      <td>NaN</td>\n",
       "      <td>Alameda Unified</td>\n",
       "      <td>Alameda</td>\n",
       "      <td>NaN</td>\n",
       "      <td>NaN</td>\n",
       "      <td>NaN</td>\n",
       "      <td>english_learners</td>\n",
       "      <td>1084</td>\n",
       "      <td>NaN</td>\n",
       "      <td>-2.5</td>\n",
       "      <td>1176.0</td>\n",
       "      <td>NaN</td>\n",
       "      <td>-1.4</td>\n",
       "      <td>-1.1</td>\n",
       "      <td>3</td>\n",
       "      <td>3</td>\n",
       "      <td>3</td>\n",
       "      <td>130</td>\n",
       "      <td>NaN</td>\n",
       "      <td>NaN</td>\n",
       "      <td>NaN</td>\n",
       "      <td>NaN</td>\n",
       "      <td>NaN</td>\n",
       "      <td>NaN</td>\n",
       "      <td>NaN</td>\n",
       "      <td>NaN</td>\n",
       "      <td>NaN</td>\n",
       "      <td>NaN</td>\n",
       "      <td>NaN</td>\n",
       "      <td>2018</td>\n",
       "      <td>61119</td>\n",
       "    </tr>\n",
       "  </tbody>\n",
       "</table>\n",
       "</div>"
      ],
      "text/plain": [
       "                cds rtype schoolname     districtname countyname charter_flag  \\\n",
       "164  01611190000000     D        NaN  Alameda Unified    Alameda          NaN   \n",
       "165  01611190000000     D        NaN  Alameda Unified    Alameda          NaN   \n",
       "166  01611190000000     D        NaN  Alameda Unified    Alameda          NaN   \n",
       "167  01611190000000     D        NaN  Alameda Unified    Alameda          NaN   \n",
       "168  01611190000000     D        NaN  Alameda Unified    Alameda          NaN   \n",
       "\n",
       "    coe_flag dass_flag      studentgroup  currdenom  currdenom_swd  \\\n",
       "164      NaN       NaN  african_american        298            NaN   \n",
       "165      NaN       NaN   american_indian         13            NaN   \n",
       "166      NaN       NaN      all_students       4550            NaN   \n",
       "167      NaN       NaN             asian       1288            NaN   \n",
       "168      NaN       NaN  english_learners       1084            NaN   \n",
       "\n",
       "     currstatus  priordenom  priordenom_swd  priorstatus  change  statuslevel  \\\n",
       "164       -43.0       332.0             NaN        -48.7     5.7            2   \n",
       "165       -14.8        14.0             NaN         14.3   -29.1            2   \n",
       "166        36.8      4541.0             NaN         32.8     4.0            4   \n",
       "167        48.6      1334.0             NaN         54.0    -5.3            5   \n",
       "168        -2.5      1176.0             NaN         -1.4    -1.1            3   \n",
       "\n",
       "     changelevel  color  box hscutpoints  curradjustment  prioradjustment  \\\n",
       "164            4      3  190         NaN             NaN              NaN   \n",
       "165            1      0    0         NaN             NaN            -0.25   \n",
       "166            4      4   90         NaN             NaN              NaN   \n",
       "167            2      4   20         NaN             NaN              NaN   \n",
       "168            3      3  130         NaN             NaN              NaN   \n",
       "\n",
       "    pairshare_method  caa_denom  caa_level1_num  caa_level1_pct  \\\n",
       "164              NaN        NaN             NaN             NaN   \n",
       "165              NaN        NaN             NaN             NaN   \n",
       "166              NaN       38.0            26.0            68.4   \n",
       "167              NaN        NaN             NaN             NaN   \n",
       "168              NaN        NaN             NaN             NaN   \n",
       "\n",
       "     caa_level2_num  caa_level2_pct  caa_level3_num  caa_level3_pct  \\\n",
       "164             NaN             NaN             NaN             NaN   \n",
       "165             NaN             NaN             NaN             NaN   \n",
       "166             6.0            15.8             6.0            15.8   \n",
       "167             NaN             NaN             NaN             NaN   \n",
       "168             NaN             NaN             NaN             NaN   \n",
       "\n",
       "     ReportingYear District Code  \n",
       "164           2018         61119  \n",
       "165           2018         61119  \n",
       "166           2018         61119  \n",
       "167           2018         61119  \n",
       "168           2018         61119  "
      ]
     },
     "execution_count": 24,
     "metadata": {},
     "output_type": "execute_result"
    }
   ],
   "source": [
    "# fixing cds codes to match with other datasets\n",
    "ela['cds'].astype(str)\n",
    "# changing cds code to string\n",
    "ela = ela[ela.coe_flag !='Y']\n",
    "# removing county offices of education\n",
    "ela = ela.loc[ela['rtype'] == 'D']\n",
    "# select district level entries\n",
    "ela['cds'] = ela['cds'].apply(lambda x: '{0:0>14}'.format(x))\n",
    "# adding leading zero to 13 digit int\n",
    "ela['District Code'] = [x[2:7] for x in ela['cds']]\n",
    "# adding district only code\n",
    "elat = set(ela['cds'])\n",
    "# creating test set variable\n",
    "ela.head()"
   ]
  },
  {
   "cell_type": "code",
   "execution_count": 25,
   "metadata": {},
   "outputs": [],
   "source": [
    "#creating district-level ela performance variable (dictionary)\n",
    "dfe = ela\n",
    "dfe = pandas.concat([dfe.pop(x) for x in ['District Code',\n",
    "                                          'districtname',                                          \n",
    "                                          'studentgroup', \n",
    "                                          'currstatus', \n",
    "                                          'priorstatus', \n",
    "                                          'change',\n",
    "                                          'countyname']],\n",
    "                    1)\n",
    "# slice out columns"
   ]
  },
  {
   "cell_type": "code",
   "execution_count": 26,
   "metadata": {},
   "outputs": [
    {
     "data": {
      "text/plain": [
       "921"
      ]
     },
     "execution_count": 26,
     "metadata": {},
     "output_type": "execute_result"
    }
   ],
   "source": [
    "len(dfe['districtname'].unique())"
   ]
  },
  {
   "cell_type": "markdown",
   "metadata": {},
   "source": [
    "## Math achievement indicator data\n",
    "find the codebook [here](https://www.cde.ca.gov/ta/ac/cm/math18.asp)"
   ]
  },
  {
   "cell_type": "code",
   "execution_count": 27,
   "metadata": {
    "scrolled": true
   },
   "outputs": [
    {
     "name": "stderr",
     "output_type": "stream",
     "text": [
      "C:\\Users\\fiend\\Anaconda2\\envs\\capstone\\lib\\site-packages\\IPython\\core\\interactiveshell.py:3063: DtypeWarning: Columns (6,23) have mixed types.Specify dtype option on import or set low_memory=False.\n",
      "  interactivity=interactivity, compiler=compiler, result=result)\n"
     ]
    },
    {
     "data": {
      "text/plain": [
       "(148705, 32)"
      ]
     },
     "execution_count": 27,
     "metadata": {},
     "output_type": "execute_result"
    }
   ],
   "source": [
    "math = pandas.read_csv('lcff_data/mathdownload2018.csv')\n",
    "math.shape"
   ]
  },
  {
   "cell_type": "code",
   "execution_count": 28,
   "metadata": {},
   "outputs": [
    {
     "data": {
      "text/html": [
       "<div>\n",
       "<style scoped>\n",
       "    .dataframe tbody tr th:only-of-type {\n",
       "        vertical-align: middle;\n",
       "    }\n",
       "\n",
       "    .dataframe tbody tr th {\n",
       "        vertical-align: top;\n",
       "    }\n",
       "\n",
       "    .dataframe thead th {\n",
       "        text-align: right;\n",
       "    }\n",
       "</style>\n",
       "<table border=\"1\" class=\"dataframe\">\n",
       "  <thead>\n",
       "    <tr style=\"text-align: right;\">\n",
       "      <th></th>\n",
       "      <th>cds</th>\n",
       "      <th>rtype</th>\n",
       "      <th>schoolname</th>\n",
       "      <th>districtname</th>\n",
       "      <th>countyname</th>\n",
       "      <th>charter_flag</th>\n",
       "      <th>coe_flag</th>\n",
       "      <th>dass_flag</th>\n",
       "      <th>studentgroup</th>\n",
       "      <th>currdenom</th>\n",
       "      <th>currdenom_swd</th>\n",
       "      <th>currstatus</th>\n",
       "      <th>priordenom</th>\n",
       "      <th>priordenom_swd</th>\n",
       "      <th>priorstatus</th>\n",
       "      <th>change</th>\n",
       "      <th>statuslevel</th>\n",
       "      <th>changelevel</th>\n",
       "      <th>color</th>\n",
       "      <th>box</th>\n",
       "      <th>hscutpoints</th>\n",
       "      <th>curradjustment</th>\n",
       "      <th>prioradjustment</th>\n",
       "      <th>pairshare_method</th>\n",
       "      <th>caa_denom</th>\n",
       "      <th>caa_level1_num</th>\n",
       "      <th>caa_level1_pct</th>\n",
       "      <th>caa_level2_num</th>\n",
       "      <th>caa_level2_pct</th>\n",
       "      <th>caa_level3_num</th>\n",
       "      <th>caa_level3_pct</th>\n",
       "      <th>ReportingYear</th>\n",
       "    </tr>\n",
       "  </thead>\n",
       "  <tbody>\n",
       "    <tr>\n",
       "      <th>0</th>\n",
       "      <td>0</td>\n",
       "      <td>X</td>\n",
       "      <td>NaN</td>\n",
       "      <td>NaN</td>\n",
       "      <td>NaN</td>\n",
       "      <td>NaN</td>\n",
       "      <td>NaN</td>\n",
       "      <td>NaN</td>\n",
       "      <td>AA</td>\n",
       "      <td>171493</td>\n",
       "      <td>NaN</td>\n",
       "      <td>-91.5</td>\n",
       "      <td>176285.0</td>\n",
       "      <td>NaN</td>\n",
       "      <td>-91.6</td>\n",
       "      <td>0.2</td>\n",
       "      <td>2</td>\n",
       "      <td>3</td>\n",
       "      <td>2</td>\n",
       "      <td>180</td>\n",
       "      <td>NaN</td>\n",
       "      <td>NaN</td>\n",
       "      <td>NaN</td>\n",
       "      <td>NaN</td>\n",
       "      <td>NaN</td>\n",
       "      <td>NaN</td>\n",
       "      <td>NaN</td>\n",
       "      <td>NaN</td>\n",
       "      <td>NaN</td>\n",
       "      <td>NaN</td>\n",
       "      <td>NaN</td>\n",
       "      <td>2018</td>\n",
       "    </tr>\n",
       "    <tr>\n",
       "      <th>1</th>\n",
       "      <td>0</td>\n",
       "      <td>X</td>\n",
       "      <td>NaN</td>\n",
       "      <td>NaN</td>\n",
       "      <td>NaN</td>\n",
       "      <td>NaN</td>\n",
       "      <td>NaN</td>\n",
       "      <td>NaN</td>\n",
       "      <td>AI</td>\n",
       "      <td>16622</td>\n",
       "      <td>NaN</td>\n",
       "      <td>-73.0</td>\n",
       "      <td>17167.0</td>\n",
       "      <td>NaN</td>\n",
       "      <td>-72.3</td>\n",
       "      <td>-0.7</td>\n",
       "      <td>2</td>\n",
       "      <td>3</td>\n",
       "      <td>2</td>\n",
       "      <td>180</td>\n",
       "      <td>NaN</td>\n",
       "      <td>NaN</td>\n",
       "      <td>NaN</td>\n",
       "      <td>NaN</td>\n",
       "      <td>NaN</td>\n",
       "      <td>NaN</td>\n",
       "      <td>NaN</td>\n",
       "      <td>NaN</td>\n",
       "      <td>NaN</td>\n",
       "      <td>NaN</td>\n",
       "      <td>NaN</td>\n",
       "      <td>2018</td>\n",
       "    </tr>\n",
       "    <tr>\n",
       "      <th>2</th>\n",
       "      <td>0</td>\n",
       "      <td>X</td>\n",
       "      <td>NaN</td>\n",
       "      <td>NaN</td>\n",
       "      <td>NaN</td>\n",
       "      <td>NaN</td>\n",
       "      <td>NaN</td>\n",
       "      <td>NaN</td>\n",
       "      <td>ALL</td>\n",
       "      <td>3166345</td>\n",
       "      <td>NaN</td>\n",
       "      <td>-36.4</td>\n",
       "      <td>3195814.0</td>\n",
       "      <td>NaN</td>\n",
       "      <td>-37.7</td>\n",
       "      <td>1.3</td>\n",
       "      <td>2</td>\n",
       "      <td>3</td>\n",
       "      <td>2</td>\n",
       "      <td>180</td>\n",
       "      <td>NaN</td>\n",
       "      <td>NaN</td>\n",
       "      <td>NaN</td>\n",
       "      <td>NaN</td>\n",
       "      <td>36002.0</td>\n",
       "      <td>23217.0</td>\n",
       "      <td>64.5</td>\n",
       "      <td>9948.0</td>\n",
       "      <td>27.6</td>\n",
       "      <td>2837.0</td>\n",
       "      <td>7.9</td>\n",
       "      <td>2018</td>\n",
       "    </tr>\n",
       "    <tr>\n",
       "      <th>3</th>\n",
       "      <td>0</td>\n",
       "      <td>X</td>\n",
       "      <td>NaN</td>\n",
       "      <td>NaN</td>\n",
       "      <td>NaN</td>\n",
       "      <td>NaN</td>\n",
       "      <td>NaN</td>\n",
       "      <td>NaN</td>\n",
       "      <td>AS</td>\n",
       "      <td>293068</td>\n",
       "      <td>NaN</td>\n",
       "      <td>56.7</td>\n",
       "      <td>295229.0</td>\n",
       "      <td>NaN</td>\n",
       "      <td>54.3</td>\n",
       "      <td>2.4</td>\n",
       "      <td>5</td>\n",
       "      <td>3</td>\n",
       "      <td>5</td>\n",
       "      <td>30</td>\n",
       "      <td>NaN</td>\n",
       "      <td>NaN</td>\n",
       "      <td>NaN</td>\n",
       "      <td>NaN</td>\n",
       "      <td>NaN</td>\n",
       "      <td>NaN</td>\n",
       "      <td>NaN</td>\n",
       "      <td>NaN</td>\n",
       "      <td>NaN</td>\n",
       "      <td>NaN</td>\n",
       "      <td>NaN</td>\n",
       "      <td>2018</td>\n",
       "    </tr>\n",
       "    <tr>\n",
       "      <th>4</th>\n",
       "      <td>0</td>\n",
       "      <td>X</td>\n",
       "      <td>NaN</td>\n",
       "      <td>NaN</td>\n",
       "      <td>NaN</td>\n",
       "      <td>NaN</td>\n",
       "      <td>NaN</td>\n",
       "      <td>NaN</td>\n",
       "      <td>EL</td>\n",
       "      <td>999887</td>\n",
       "      <td>NaN</td>\n",
       "      <td>-69.9</td>\n",
       "      <td>1020711.0</td>\n",
       "      <td>NaN</td>\n",
       "      <td>-71.4</td>\n",
       "      <td>1.5</td>\n",
       "      <td>2</td>\n",
       "      <td>3</td>\n",
       "      <td>2</td>\n",
       "      <td>180</td>\n",
       "      <td>NaN</td>\n",
       "      <td>NaN</td>\n",
       "      <td>NaN</td>\n",
       "      <td>NaN</td>\n",
       "      <td>NaN</td>\n",
       "      <td>NaN</td>\n",
       "      <td>NaN</td>\n",
       "      <td>NaN</td>\n",
       "      <td>NaN</td>\n",
       "      <td>NaN</td>\n",
       "      <td>NaN</td>\n",
       "      <td>2018</td>\n",
       "    </tr>\n",
       "    <tr>\n",
       "      <th>...</th>\n",
       "      <td>...</td>\n",
       "      <td>...</td>\n",
       "      <td>...</td>\n",
       "      <td>...</td>\n",
       "      <td>...</td>\n",
       "      <td>...</td>\n",
       "      <td>...</td>\n",
       "      <td>...</td>\n",
       "      <td>...</td>\n",
       "      <td>...</td>\n",
       "      <td>...</td>\n",
       "      <td>...</td>\n",
       "      <td>...</td>\n",
       "      <td>...</td>\n",
       "      <td>...</td>\n",
       "      <td>...</td>\n",
       "      <td>...</td>\n",
       "      <td>...</td>\n",
       "      <td>...</td>\n",
       "      <td>...</td>\n",
       "      <td>...</td>\n",
       "      <td>...</td>\n",
       "      <td>...</td>\n",
       "      <td>...</td>\n",
       "      <td>...</td>\n",
       "      <td>...</td>\n",
       "      <td>...</td>\n",
       "      <td>...</td>\n",
       "      <td>...</td>\n",
       "      <td>...</td>\n",
       "      <td>...</td>\n",
       "      <td>...</td>\n",
       "    </tr>\n",
       "    <tr>\n",
       "      <th>148700</th>\n",
       "      <td>58727695838305</td>\n",
       "      <td>S</td>\n",
       "      <td>Wheatland Union High</td>\n",
       "      <td>Wheatland Union High</td>\n",
       "      <td>Yuba</td>\n",
       "      <td>NaN</td>\n",
       "      <td>NaN</td>\n",
       "      <td>NaN</td>\n",
       "      <td>PI</td>\n",
       "      <td>1</td>\n",
       "      <td>NaN</td>\n",
       "      <td>NaN</td>\n",
       "      <td>0.0</td>\n",
       "      <td>NaN</td>\n",
       "      <td>NaN</td>\n",
       "      <td>NaN</td>\n",
       "      <td>0</td>\n",
       "      <td>0</td>\n",
       "      <td>0</td>\n",
       "      <td>0</td>\n",
       "      <td>Y</td>\n",
       "      <td>NaN</td>\n",
       "      <td>NaN</td>\n",
       "      <td>NaN</td>\n",
       "      <td>NaN</td>\n",
       "      <td>NaN</td>\n",
       "      <td>NaN</td>\n",
       "      <td>NaN</td>\n",
       "      <td>NaN</td>\n",
       "      <td>NaN</td>\n",
       "      <td>NaN</td>\n",
       "      <td>2018</td>\n",
       "    </tr>\n",
       "    <tr>\n",
       "      <th>148701</th>\n",
       "      <td>58727695838305</td>\n",
       "      <td>S</td>\n",
       "      <td>Wheatland Union High</td>\n",
       "      <td>Wheatland Union High</td>\n",
       "      <td>Yuba</td>\n",
       "      <td>NaN</td>\n",
       "      <td>NaN</td>\n",
       "      <td>NaN</td>\n",
       "      <td>RFP</td>\n",
       "      <td>2</td>\n",
       "      <td>NaN</td>\n",
       "      <td>NaN</td>\n",
       "      <td>3.0</td>\n",
       "      <td>NaN</td>\n",
       "      <td>NaN</td>\n",
       "      <td>NaN</td>\n",
       "      <td>0</td>\n",
       "      <td>0</td>\n",
       "      <td>0</td>\n",
       "      <td>0</td>\n",
       "      <td>Y</td>\n",
       "      <td>NaN</td>\n",
       "      <td>NaN</td>\n",
       "      <td>NaN</td>\n",
       "      <td>NaN</td>\n",
       "      <td>NaN</td>\n",
       "      <td>NaN</td>\n",
       "      <td>NaN</td>\n",
       "      <td>NaN</td>\n",
       "      <td>NaN</td>\n",
       "      <td>NaN</td>\n",
       "      <td>2018</td>\n",
       "    </tr>\n",
       "    <tr>\n",
       "      <th>148702</th>\n",
       "      <td>58727695838305</td>\n",
       "      <td>S</td>\n",
       "      <td>Wheatland Union High</td>\n",
       "      <td>Wheatland Union High</td>\n",
       "      <td>Yuba</td>\n",
       "      <td>NaN</td>\n",
       "      <td>NaN</td>\n",
       "      <td>NaN</td>\n",
       "      <td>SED</td>\n",
       "      <td>67</td>\n",
       "      <td>NaN</td>\n",
       "      <td>-90.0</td>\n",
       "      <td>54.0</td>\n",
       "      <td>NaN</td>\n",
       "      <td>-72.8</td>\n",
       "      <td>-17.2</td>\n",
       "      <td>2</td>\n",
       "      <td>1</td>\n",
       "      <td>2</td>\n",
       "      <td>160</td>\n",
       "      <td>Y</td>\n",
       "      <td>NaN</td>\n",
       "      <td>NaN</td>\n",
       "      <td>NaN</td>\n",
       "      <td>NaN</td>\n",
       "      <td>NaN</td>\n",
       "      <td>NaN</td>\n",
       "      <td>NaN</td>\n",
       "      <td>NaN</td>\n",
       "      <td>NaN</td>\n",
       "      <td>NaN</td>\n",
       "      <td>2018</td>\n",
       "    </tr>\n",
       "    <tr>\n",
       "      <th>148703</th>\n",
       "      <td>58727695838305</td>\n",
       "      <td>S</td>\n",
       "      <td>Wheatland Union High</td>\n",
       "      <td>Wheatland Union High</td>\n",
       "      <td>Yuba</td>\n",
       "      <td>NaN</td>\n",
       "      <td>NaN</td>\n",
       "      <td>NaN</td>\n",
       "      <td>SWD</td>\n",
       "      <td>17</td>\n",
       "      <td>17.0</td>\n",
       "      <td>-225.9</td>\n",
       "      <td>9.0</td>\n",
       "      <td>9.0</td>\n",
       "      <td>NaN</td>\n",
       "      <td>NaN</td>\n",
       "      <td>1</td>\n",
       "      <td>0</td>\n",
       "      <td>0</td>\n",
       "      <td>0</td>\n",
       "      <td>Y</td>\n",
       "      <td>NaN</td>\n",
       "      <td>NaN</td>\n",
       "      <td>NaN</td>\n",
       "      <td>NaN</td>\n",
       "      <td>NaN</td>\n",
       "      <td>NaN</td>\n",
       "      <td>NaN</td>\n",
       "      <td>NaN</td>\n",
       "      <td>NaN</td>\n",
       "      <td>NaN</td>\n",
       "      <td>2018</td>\n",
       "    </tr>\n",
       "    <tr>\n",
       "      <th>148704</th>\n",
       "      <td>58727695838305</td>\n",
       "      <td>S</td>\n",
       "      <td>Wheatland Union High</td>\n",
       "      <td>Wheatland Union High</td>\n",
       "      <td>Yuba</td>\n",
       "      <td>NaN</td>\n",
       "      <td>NaN</td>\n",
       "      <td>NaN</td>\n",
       "      <td>WH</td>\n",
       "      <td>73</td>\n",
       "      <td>NaN</td>\n",
       "      <td>-42.3</td>\n",
       "      <td>78.0</td>\n",
       "      <td>NaN</td>\n",
       "      <td>-55.2</td>\n",
       "      <td>12.9</td>\n",
       "      <td>3</td>\n",
       "      <td>4</td>\n",
       "      <td>4</td>\n",
       "      <td>140</td>\n",
       "      <td>Y</td>\n",
       "      <td>NaN</td>\n",
       "      <td>NaN</td>\n",
       "      <td>NaN</td>\n",
       "      <td>NaN</td>\n",
       "      <td>NaN</td>\n",
       "      <td>NaN</td>\n",
       "      <td>NaN</td>\n",
       "      <td>NaN</td>\n",
       "      <td>NaN</td>\n",
       "      <td>NaN</td>\n",
       "      <td>2018</td>\n",
       "    </tr>\n",
       "  </tbody>\n",
       "</table>\n",
       "<p>148705 rows × 32 columns</p>\n",
       "</div>"
      ],
      "text/plain": [
       "                   cds rtype            schoolname          districtname  \\\n",
       "0                    0     X                   NaN                   NaN   \n",
       "1                    0     X                   NaN                   NaN   \n",
       "2                    0     X                   NaN                   NaN   \n",
       "3                    0     X                   NaN                   NaN   \n",
       "4                    0     X                   NaN                   NaN   \n",
       "...                ...   ...                   ...                   ...   \n",
       "148700  58727695838305     S  Wheatland Union High  Wheatland Union High   \n",
       "148701  58727695838305     S  Wheatland Union High  Wheatland Union High   \n",
       "148702  58727695838305     S  Wheatland Union High  Wheatland Union High   \n",
       "148703  58727695838305     S  Wheatland Union High  Wheatland Union High   \n",
       "148704  58727695838305     S  Wheatland Union High  Wheatland Union High   \n",
       "\n",
       "       countyname charter_flag coe_flag dass_flag studentgroup  currdenom  \\\n",
       "0             NaN          NaN      NaN       NaN           AA     171493   \n",
       "1             NaN          NaN      NaN       NaN           AI      16622   \n",
       "2             NaN          NaN      NaN       NaN          ALL    3166345   \n",
       "3             NaN          NaN      NaN       NaN           AS     293068   \n",
       "4             NaN          NaN      NaN       NaN           EL     999887   \n",
       "...           ...          ...      ...       ...          ...        ...   \n",
       "148700       Yuba          NaN      NaN       NaN           PI          1   \n",
       "148701       Yuba          NaN      NaN       NaN          RFP          2   \n",
       "148702       Yuba          NaN      NaN       NaN          SED         67   \n",
       "148703       Yuba          NaN      NaN       NaN          SWD         17   \n",
       "148704       Yuba          NaN      NaN       NaN           WH         73   \n",
       "\n",
       "        currdenom_swd  currstatus  priordenom  priordenom_swd  priorstatus  \\\n",
       "0                 NaN       -91.5    176285.0             NaN        -91.6   \n",
       "1                 NaN       -73.0     17167.0             NaN        -72.3   \n",
       "2                 NaN       -36.4   3195814.0             NaN        -37.7   \n",
       "3                 NaN        56.7    295229.0             NaN         54.3   \n",
       "4                 NaN       -69.9   1020711.0             NaN        -71.4   \n",
       "...               ...         ...         ...             ...          ...   \n",
       "148700            NaN         NaN         0.0             NaN          NaN   \n",
       "148701            NaN         NaN         3.0             NaN          NaN   \n",
       "148702            NaN       -90.0        54.0             NaN        -72.8   \n",
       "148703           17.0      -225.9         9.0             9.0          NaN   \n",
       "148704            NaN       -42.3        78.0             NaN        -55.2   \n",
       "\n",
       "        change  statuslevel  changelevel  color  box hscutpoints  \\\n",
       "0          0.2            2            3      2  180         NaN   \n",
       "1         -0.7            2            3      2  180         NaN   \n",
       "2          1.3            2            3      2  180         NaN   \n",
       "3          2.4            5            3      5   30         NaN   \n",
       "4          1.5            2            3      2  180         NaN   \n",
       "...        ...          ...          ...    ...  ...         ...   \n",
       "148700     NaN            0            0      0    0           Y   \n",
       "148701     NaN            0            0      0    0           Y   \n",
       "148702   -17.2            2            1      2  160           Y   \n",
       "148703     NaN            1            0      0    0           Y   \n",
       "148704    12.9            3            4      4  140           Y   \n",
       "\n",
       "        curradjustment  prioradjustment pairshare_method  caa_denom  \\\n",
       "0                  NaN              NaN              NaN        NaN   \n",
       "1                  NaN              NaN              NaN        NaN   \n",
       "2                  NaN              NaN              NaN    36002.0   \n",
       "3                  NaN              NaN              NaN        NaN   \n",
       "4                  NaN              NaN              NaN        NaN   \n",
       "...                ...              ...              ...        ...   \n",
       "148700             NaN              NaN              NaN        NaN   \n",
       "148701             NaN              NaN              NaN        NaN   \n",
       "148702             NaN              NaN              NaN        NaN   \n",
       "148703             NaN              NaN              NaN        NaN   \n",
       "148704             NaN              NaN              NaN        NaN   \n",
       "\n",
       "        caa_level1_num  caa_level1_pct  caa_level2_num  caa_level2_pct  \\\n",
       "0                  NaN             NaN             NaN             NaN   \n",
       "1                  NaN             NaN             NaN             NaN   \n",
       "2              23217.0            64.5          9948.0            27.6   \n",
       "3                  NaN             NaN             NaN             NaN   \n",
       "4                  NaN             NaN             NaN             NaN   \n",
       "...                ...             ...             ...             ...   \n",
       "148700             NaN             NaN             NaN             NaN   \n",
       "148701             NaN             NaN             NaN             NaN   \n",
       "148702             NaN             NaN             NaN             NaN   \n",
       "148703             NaN             NaN             NaN             NaN   \n",
       "148704             NaN             NaN             NaN             NaN   \n",
       "\n",
       "        caa_level3_num  caa_level3_pct  ReportingYear  \n",
       "0                  NaN             NaN           2018  \n",
       "1                  NaN             NaN           2018  \n",
       "2               2837.0             7.9           2018  \n",
       "3                  NaN             NaN           2018  \n",
       "4                  NaN             NaN           2018  \n",
       "...                ...             ...            ...  \n",
       "148700             NaN             NaN           2018  \n",
       "148701             NaN             NaN           2018  \n",
       "148702             NaN             NaN           2018  \n",
       "148703             NaN             NaN           2018  \n",
       "148704             NaN             NaN           2018  \n",
       "\n",
       "[148705 rows x 32 columns]"
      ]
     },
     "execution_count": 28,
     "metadata": {},
     "output_type": "execute_result"
    }
   ],
   "source": [
    "math"
   ]
  },
  {
   "cell_type": "markdown",
   "metadata": {},
   "source": []
  },
  {
   "cell_type": "code",
   "execution_count": 29,
   "metadata": {},
   "outputs": [],
   "source": [
    "math['studentgroup'].astype(str)\n",
    "math = math.replace(replacements)\n",
    "# replace codes\n",
    "p = math\n",
    "p = p.loc[p['rtype'] == 'X']\n",
    "# select by no-type (state)\n",
    "q = pandas.concat([p.pop(x) for x in ['studentgroup', \n",
    "                                      'currstatus', \n",
    "                                      'priorstatus', \n",
    "                                      'change',\n",
    "                                      'currdenom']],\n",
    "                  1)\n",
    "# slice out columns\n",
    "math_state = q.sort_values(by='currstatus', ascending=False)\n"
   ]
  },
  {
   "cell_type": "markdown",
   "metadata": {},
   "source": [
    "## Aggregation"
   ]
  },
  {
   "cell_type": "code",
   "execution_count": 30,
   "metadata": {},
   "outputs": [],
   "source": [
    "# fixing cds codes to match with other datasets\n",
    "math['cds'].astype(str)\n",
    "# changing to string\n",
    "math = math[math.coe_flag !='Y']\n",
    "# removing county offices of education\n",
    "math = math.loc[math['rtype'] == 'D']\n",
    "# select district level performance\n",
    "math['cds'] = math['cds'].apply(lambda x: '{0:0>14}'.format(x))\n",
    "# adding leading zero to 13 digit int\n",
    "math['District Code'] = [x[2:7] for x in math['cds']]\n",
    "# adding district only code"
   ]
  },
  {
   "cell_type": "code",
   "execution_count": null,
   "metadata": {},
   "outputs": [],
   "source": []
  },
  {
   "cell_type": "code",
   "execution_count": 31,
   "metadata": {},
   "outputs": [],
   "source": [
    "#creating district-level math performance variable (dictionary)\n",
    "dfm = math\n",
    "dfm = pandas.concat([dfm.pop(x) for x in ['District Code',\n",
    "                                          'districtname',                                          \n",
    "                                          'studentgroup', \n",
    "                                          'currstatus', \n",
    "                                          'priorstatus', \n",
    "                                          'change',\n",
    "                                          'countyname']],\n",
    "                    1)\n",
    "# slice out columns"
   ]
  },
  {
   "cell_type": "code",
   "execution_count": 32,
   "metadata": {},
   "outputs": [
    {
     "data": {
      "text/plain": [
       "920"
      ]
     },
     "execution_count": 32,
     "metadata": {},
     "output_type": "execute_result"
    }
   ],
   "source": [
    "len(dfm['districtname'].unique())"
   ]
  },
  {
   "cell_type": "markdown",
   "metadata": {},
   "source": [
    "# LCFF funding data\n",
    "\n",
    "[FAQ here](https://www.cde.ca.gov/fg/aa/lc/lcfffaq.asp#CALPADS)"
   ]
  },
  {
   "cell_type": "code",
   "execution_count": 33,
   "metadata": {},
   "outputs": [
    {
     "data": {
      "text/plain": [
       "(2243, 26)"
      ]
     },
     "execution_count": 33,
     "metadata": {},
     "output_type": "execute_result"
    }
   ],
   "source": [
    "lcff = pandas.read_csv('lcff_data/lcffsnapshot18an.csv')\n",
    "lcff.shape"
   ]
  },
  {
   "cell_type": "code",
   "execution_count": 34,
   "metadata": {},
   "outputs": [
    {
     "data": {
      "text/plain": [
       "Index([' County Code ', 'District Code', 'School Code',\n",
       "       'Local Educational Agency ', 'Charter Number',\n",
       "       ' TK/K-3 ADA\\nTarget, B-5/B-1 ', ' 4 - 6 ADA\\nTarget, B-6/B-2 ',\n",
       "       ' 7 - 8 ADA\\nTarget, B-7/B-3 ', ' 9 - 12 ADA\\nTarget, B-8/B-4 ',\n",
       "       'Unduplicated Pupil Percentage\\nTarget, D-1',\n",
       "       ' Base Grant Funding\\nTarget, C-5 ',\n",
       "       ' Supplemental Grant Funding\\nTarget, D-7 ',\n",
       "       ' Concentration Grant Funding\\nTarget, E-8 ',\n",
       "       ' Necessary Small Schools Allowance\\nTarget, F-1 ',\n",
       "       ' Add-On (Based on 2012-13 Targeted Instructional Improvement Block Grant)\\nTarget, F-2 ',\n",
       "       ' Add-On (Based on 2012-13 Home-to-School Transportation)\\nTarget, F-3 ',\n",
       "       ' Add-On (Based on 2012-13 Small School District Bus Replacement Program)\\nTarget, F-4 ',\n",
       "       ' Total LCFF Target Entitlement\\nTarget, G-1/F-1 ',\n",
       "       ' Total LCFF Floor Entitlement\\nTransition, B-13 ',\n",
       "       ' Current Year Gap Funding (100%)\\nTransition, C-3 ',\n",
       "       ' Economic Recovery Target\\nTransition, D-1 ',\n",
       "       ' Miscellaneous Adjustments\\nTransition, E-1 ',\n",
       "       ' Total Local Revenue or In-Lieu of Property Taxes\\nTransition, F-2/F-7 ',\n",
       "       ' Education Protection Account Entitlement\\nTransition, F-5/F-9 ',\n",
       "       ' Net State Aid\\nTransition, F-6/F-10 ',\n",
       "       ' Additional SA for MSA Guarantee\\nTransition, H-1/H-2 '],\n",
       "      dtype='object')"
      ]
     },
     "execution_count": 34,
     "metadata": {},
     "output_type": "execute_result"
    }
   ],
   "source": [
    "lcff.columns\n",
    "# leading AND trailing spaces! inconsistently!! "
   ]
  },
  {
   "cell_type": "code",
   "execution_count": 35,
   "metadata": {},
   "outputs": [],
   "source": [
    "lcff.columns = lcff.columns.str.strip()\n",
    "# strip leading/trailing spaces"
   ]
  },
  {
   "cell_type": "code",
   "execution_count": 36,
   "metadata": {
    "scrolled": true
   },
   "outputs": [],
   "source": [
    "lcff_state_totals = lcff.tail(1)\n",
    "lcff.drop(lcff.tail(1).index,inplace=True)\n",
    "# extracting state totals, removing from df"
   ]
  },
  {
   "cell_type": "code",
   "execution_count": 37,
   "metadata": {},
   "outputs": [
    {
     "data": {
      "text/plain": [
       "944"
      ]
     },
     "execution_count": 37,
     "metadata": {},
     "output_type": "execute_result"
    }
   ],
   "source": [
    "# Slicing by district level cds code\n",
    "lcff['County Code'] = lcff['County Code'].astype(str)\n",
    "lcff['District Code'] = lcff['District Code'].astype(int)\n",
    "lcff['District Code'] = lcff['District Code'].astype(str)\n",
    "lcff['School Code'] = lcff['School Code'].astype(int)\n",
    "lcff['School Code'] = lcff['School Code'].astype(str)\n",
    "# Changing to strings\n",
    "lcff['School Code'] = lcff['School Code'].apply(lambda x: '{0:0>7}'.format(x))\n",
    "# Front fill school codes to == 7\n",
    "lcff = lcff.loc[lcff['School Code'] == '0000000']\n",
    "# select districts, district entries do not have a school level cds code\n",
    "lcff['cds'] = lcff['County Code'] + lcff['District Code'] + lcff['School Code']\n",
    "# Combining into cds code\n",
    "col_name='cds'\n",
    "first_col = lcff.pop(col_name)\n",
    "lcff.insert(0, col_name, first_col)\n",
    "# Moving to front \n",
    "lcff.drop('County Code', axis=1, inplace=True)\n",
    "# lcff.drop('District Code', axis=1, inplace=True)\n",
    "lcff.drop('School Code', axis=1, inplace=True)\n",
    "len(lcff)"
   ]
  },
  {
   "cell_type": "code",
   "execution_count": 38,
   "metadata": {
    "scrolled": true
   },
   "outputs": [],
   "source": [
    "# renaming important columns\n",
    "lcff = lcff.rename(columns={'Charter Number': 'charter_number',\n",
    "                     'Unduplicated Pupil Percentage\\nTarget, D-1': 'unduplicated_pupil_percentage',\n",
    "                     'Base Grant Funding\\nTarget, C-5': 'base_grant',\n",
    "                     'Supplemental Grant Funding\\nTarget, D-7': 'supplemental_grant',\n",
    "                     'Concentration Grant Funding\\nTarget, E-8': 'concentration_grant',\n",
    "                     'Total LCFF Target Entitlement\\nTarget, G-1/F-1': 'total_grants',\n",
    "                     'Unduplicated Pupil Percentage\\nTarget, D-1': 'unduplicated_pupil_count',\n",
    "                     'Necessary Small Schools Allowance\\nTarget, F-1': 'nec_small_schools'\n",
    "                           })"
   ]
  },
  {
   "cell_type": "code",
   "execution_count": 39,
   "metadata": {
    "scrolled": true
   },
   "outputs": [
    {
     "data": {
      "text/html": [
       "<div>\n",
       "<style scoped>\n",
       "    .dataframe tbody tr th:only-of-type {\n",
       "        vertical-align: middle;\n",
       "    }\n",
       "\n",
       "    .dataframe tbody tr th {\n",
       "        vertical-align: top;\n",
       "    }\n",
       "\n",
       "    .dataframe thead th {\n",
       "        text-align: right;\n",
       "    }\n",
       "</style>\n",
       "<table border=\"1\" class=\"dataframe\">\n",
       "  <thead>\n",
       "    <tr style=\"text-align: right;\">\n",
       "      <th></th>\n",
       "      <th>cds</th>\n",
       "      <th>District Code</th>\n",
       "      <th>Local Educational Agency</th>\n",
       "      <th>charter_number</th>\n",
       "      <th>TK/K-3 ADA\\nTarget, B-5/B-1</th>\n",
       "      <th>4 - 6 ADA\\nTarget, B-6/B-2</th>\n",
       "      <th>7 - 8 ADA\\nTarget, B-7/B-3</th>\n",
       "      <th>9 - 12 ADA\\nTarget, B-8/B-4</th>\n",
       "      <th>unduplicated_pupil_count</th>\n",
       "      <th>base_grant</th>\n",
       "      <th>supplemental_grant</th>\n",
       "      <th>concentration_grant</th>\n",
       "      <th>nec_small_schools</th>\n",
       "      <th>Add-On (Based on 2012-13 Targeted Instructional Improvement Block Grant)\\nTarget, F-2</th>\n",
       "      <th>Add-On (Based on 2012-13 Home-to-School Transportation)\\nTarget, F-3</th>\n",
       "      <th>Add-On (Based on 2012-13 Small School District Bus Replacement Program)\\nTarget, F-4</th>\n",
       "      <th>total_grants</th>\n",
       "      <th>Total LCFF Floor Entitlement\\nTransition, B-13</th>\n",
       "      <th>Current Year Gap Funding (100%)\\nTransition, C-3</th>\n",
       "      <th>Economic Recovery Target\\nTransition, D-1</th>\n",
       "      <th>Miscellaneous Adjustments\\nTransition, E-1</th>\n",
       "      <th>Total Local Revenue or In-Lieu of Property Taxes\\nTransition, F-2/F-7</th>\n",
       "      <th>Education Protection Account Entitlement\\nTransition, F-5/F-9</th>\n",
       "      <th>Net State Aid\\nTransition, F-6/F-10</th>\n",
       "      <th>Additional SA for MSA Guarantee\\nTransition, H-1/H-2</th>\n",
       "    </tr>\n",
       "  </thead>\n",
       "  <tbody>\n",
       "    <tr>\n",
       "      <th>10</th>\n",
       "      <td>01611190000000</td>\n",
       "      <td>61119</td>\n",
       "      <td>Alameda Unified</td>\n",
       "      <td>NaN</td>\n",
       "      <td>2,870.43</td>\n",
       "      <td>1,917.91</td>\n",
       "      <td>1,219.66</td>\n",
       "      <td>3,050.17</td>\n",
       "      <td>0.3486</td>\n",
       "      <td>75,938,983</td>\n",
       "      <td>5,294,466</td>\n",
       "      <td>-</td>\n",
       "      <td>-</td>\n",
       "      <td>665,778</td>\n",
       "      <td>258,889</td>\n",
       "      <td>-</td>\n",
       "      <td>82,158,116</td>\n",
       "      <td>77,176,229</td>\n",
       "      <td>4,981,887</td>\n",
       "      <td>-</td>\n",
       "      <td>-</td>\n",
       "      <td>29,277,891</td>\n",
       "      <td>14,772,333</td>\n",
       "      <td>38,107,892</td>\n",
       "      <td>-</td>\n",
       "    </tr>\n",
       "    <tr>\n",
       "      <th>16</th>\n",
       "      <td>01611270000000</td>\n",
       "      <td>61127</td>\n",
       "      <td>Albany City Unified</td>\n",
       "      <td>NaN</td>\n",
       "      <td>1,060.09</td>\n",
       "      <td>806.37</td>\n",
       "      <td>554.25</td>\n",
       "      <td>1,131.64</td>\n",
       "      <td>0.2833</td>\n",
       "      <td>29,644,972</td>\n",
       "      <td>1,679,684</td>\n",
       "      <td>-</td>\n",
       "      <td>-</td>\n",
       "      <td>-</td>\n",
       "      <td>27,884</td>\n",
       "      <td>-</td>\n",
       "      <td>31,352,540</td>\n",
       "      <td>29,460,891</td>\n",
       "      <td>1,891,649</td>\n",
       "      <td>-</td>\n",
       "      <td>-</td>\n",
       "      <td>11,005,115</td>\n",
       "      <td>5,777,202</td>\n",
       "      <td>14,570,223</td>\n",
       "      <td>-</td>\n",
       "    </tr>\n",
       "    <tr>\n",
       "      <th>17</th>\n",
       "      <td>01611430000000</td>\n",
       "      <td>61143</td>\n",
       "      <td>Berkeley Unified</td>\n",
       "      <td>NaN</td>\n",
       "      <td>2,828.54</td>\n",
       "      <td>2,101.08</td>\n",
       "      <td>1,397.55</td>\n",
       "      <td>3,070.55</td>\n",
       "      <td>0.3519</td>\n",
       "      <td>78,556,532</td>\n",
       "      <td>5,528,808</td>\n",
       "      <td>-</td>\n",
       "      <td>-</td>\n",
       "      <td>4,293,233</td>\n",
       "      <td>991,048</td>\n",
       "      <td>-</td>\n",
       "      <td>89,369,621</td>\n",
       "      <td>84,726,528</td>\n",
       "      <td>4,643,093</td>\n",
       "      <td>820,253</td>\n",
       "      <td>-</td>\n",
       "      <td>43,425,650</td>\n",
       "      <td>8,875,387</td>\n",
       "      <td>37,888,837</td>\n",
       "      <td>-</td>\n",
       "    </tr>\n",
       "    <tr>\n",
       "      <th>19</th>\n",
       "      <td>01611500000000</td>\n",
       "      <td>61150</td>\n",
       "      <td>Castro Valley Unified</td>\n",
       "      <td>NaN</td>\n",
       "      <td>2,617.44</td>\n",
       "      <td>2,032.50</td>\n",
       "      <td>1,400.40</td>\n",
       "      <td>2,918.48</td>\n",
       "      <td>0.2904</td>\n",
       "      <td>74,911,585</td>\n",
       "      <td>4,350,864</td>\n",
       "      <td>-</td>\n",
       "      <td>-</td>\n",
       "      <td>-</td>\n",
       "      <td>292,158</td>\n",
       "      <td>-</td>\n",
       "      <td>79,554,607</td>\n",
       "      <td>74,489,641</td>\n",
       "      <td>5,064,966</td>\n",
       "      <td>-</td>\n",
       "      <td>-</td>\n",
       "      <td>26,572,525</td>\n",
       "      <td>14,660,230</td>\n",
       "      <td>38,321,852</td>\n",
       "      <td>-</td>\n",
       "    </tr>\n",
       "    <tr>\n",
       "      <th>20</th>\n",
       "      <td>01611680000000</td>\n",
       "      <td>61168</td>\n",
       "      <td>Emery Unified</td>\n",
       "      <td>NaN</td>\n",
       "      <td>237.65</td>\n",
       "      <td>151.54</td>\n",
       "      <td>104.99</td>\n",
       "      <td>191.97</td>\n",
       "      <td>0.7953</td>\n",
       "      <td>5,702,229</td>\n",
       "      <td>906,997</td>\n",
       "      <td>699,378</td>\n",
       "      <td>-</td>\n",
       "      <td>-</td>\n",
       "      <td>18,271</td>\n",
       "      <td>-</td>\n",
       "      <td>7,326,875</td>\n",
       "      <td>6,698,947</td>\n",
       "      <td>627,928</td>\n",
       "      <td>108,723</td>\n",
       "      <td>-</td>\n",
       "      <td>5,582,328</td>\n",
       "      <td>137,230</td>\n",
       "      <td>1,716,040</td>\n",
       "      <td>-</td>\n",
       "    </tr>\n",
       "  </tbody>\n",
       "</table>\n",
       "</div>"
      ],
      "text/plain": [
       "               cds District Code Local Educational Agency  charter_number  \\\n",
       "10  01611190000000         61119          Alameda Unified             NaN   \n",
       "16  01611270000000         61127      Albany City Unified             NaN   \n",
       "17  01611430000000         61143         Berkeley Unified             NaN   \n",
       "19  01611500000000         61150    Castro Valley Unified             NaN   \n",
       "20  01611680000000         61168            Emery Unified             NaN   \n",
       "\n",
       "   TK/K-3 ADA\\nTarget, B-5/B-1 4 - 6 ADA\\nTarget, B-6/B-2  \\\n",
       "10                   2,870.43                   1,917.91    \n",
       "16                   1,060.09                     806.37    \n",
       "17                   2,828.54                   2,101.08    \n",
       "19                   2,617.44                   2,032.50    \n",
       "20                     237.65                     151.54    \n",
       "\n",
       "   7 - 8 ADA\\nTarget, B-7/B-3 9 - 12 ADA\\nTarget, B-8/B-4  \\\n",
       "10                  1,219.66                    3,050.17    \n",
       "16                    554.25                    1,131.64    \n",
       "17                  1,397.55                    3,070.55    \n",
       "19                  1,400.40                    2,918.48    \n",
       "20                    104.99                      191.97    \n",
       "\n",
       "   unduplicated_pupil_count    base_grant supplemental_grant  \\\n",
       "10                  0.3486    75,938,983          5,294,466    \n",
       "16                  0.2833    29,644,972          1,679,684    \n",
       "17                  0.3519    78,556,532          5,528,808    \n",
       "19                  0.2904    74,911,585          4,350,864    \n",
       "20                  0.7953     5,702,229            906,997    \n",
       "\n",
       "   concentration_grant nec_small_schools  \\\n",
       "10                  -                 -    \n",
       "16                  -                 -    \n",
       "17                  -                 -    \n",
       "19                  -                 -    \n",
       "20            699,378                 -    \n",
       "\n",
       "   Add-On (Based on 2012-13 Targeted Instructional Improvement Block Grant)\\nTarget, F-2  \\\n",
       "10                                           665,778                                       \n",
       "16                                                 -                                       \n",
       "17                                         4,293,233                                       \n",
       "19                                                 -                                       \n",
       "20                                                 -                                       \n",
       "\n",
       "   Add-On (Based on 2012-13 Home-to-School Transportation)\\nTarget, F-3  \\\n",
       "10                                           258,889                      \n",
       "16                                            27,884                      \n",
       "17                                           991,048                      \n",
       "19                                           292,158                      \n",
       "20                                            18,271                      \n",
       "\n",
       "   Add-On (Based on 2012-13 Small School District Bus Replacement Program)\\nTarget, F-4  \\\n",
       "10                                                 -                                      \n",
       "16                                                 -                                      \n",
       "17                                                 -                                      \n",
       "19                                                 -                                      \n",
       "20                                                 -                                      \n",
       "\n",
       "    total_grants Total LCFF Floor Entitlement\\nTransition, B-13  \\\n",
       "10   82,158,116                                     77,176,229    \n",
       "16   31,352,540                                     29,460,891    \n",
       "17   89,369,621                                     84,726,528    \n",
       "19   79,554,607                                     74,489,641    \n",
       "20    7,326,875                                      6,698,947    \n",
       "\n",
       "   Current Year Gap Funding (100%)\\nTransition, C-3  \\\n",
       "10                                       4,981,887    \n",
       "16                                       1,891,649    \n",
       "17                                       4,643,093    \n",
       "19                                       5,064,966    \n",
       "20                                         627,928    \n",
       "\n",
       "   Economic Recovery Target\\nTransition, D-1  \\\n",
       "10                                        -    \n",
       "16                                        -    \n",
       "17                                  820,253    \n",
       "19                                        -    \n",
       "20                                  108,723    \n",
       "\n",
       "   Miscellaneous Adjustments\\nTransition, E-1  \\\n",
       "10                                         -    \n",
       "16                                         -    \n",
       "17                                         -    \n",
       "19                                         -    \n",
       "20                                         -    \n",
       "\n",
       "   Total Local Revenue or In-Lieu of Property Taxes\\nTransition, F-2/F-7  \\\n",
       "10                                        29,277,891                       \n",
       "16                                        11,005,115                       \n",
       "17                                        43,425,650                       \n",
       "19                                        26,572,525                       \n",
       "20                                         5,582,328                       \n",
       "\n",
       "   Education Protection Account Entitlement\\nTransition, F-5/F-9  \\\n",
       "10                                        14,772,333               \n",
       "16                                         5,777,202               \n",
       "17                                         8,875,387               \n",
       "19                                        14,660,230               \n",
       "20                                           137,230               \n",
       "\n",
       "   Net State Aid\\nTransition, F-6/F-10  \\\n",
       "10                         38,107,892    \n",
       "16                         14,570,223    \n",
       "17                         37,888,837    \n",
       "19                         38,321,852    \n",
       "20                          1,716,040    \n",
       "\n",
       "   Additional SA for MSA Guarantee\\nTransition, H-1/H-2  \n",
       "10                                                 -     \n",
       "16                                                 -     \n",
       "17                                                 -     \n",
       "19                                                 -     \n",
       "20                                                 -     "
      ]
     },
     "execution_count": 39,
     "metadata": {},
     "output_type": "execute_result"
    }
   ],
   "source": [
    "lcff.head()\n",
    "# cds codes are now concurrent with documentation and comparable to acheivement data"
   ]
  },
  {
   "cell_type": "code",
   "execution_count": 40,
   "metadata": {
    "scrolled": false
   },
   "outputs": [
    {
     "data": {
      "text/plain": [
       "(944, 8)"
      ]
     },
     "execution_count": 40,
     "metadata": {},
     "output_type": "execute_result"
    }
   ],
   "source": [
    "#is this done?\n",
    "dflcff = lcff[['District Code', 'Local Educational Agency', 'unduplicated_pupil_count', 'base_grant', 'supplemental_grant', 'concentration_grant', 'total_grants', 'cds' ]].copy()\n",
    "dflcff.shape"
   ]
  },
  {
   "cell_type": "markdown",
   "metadata": {},
   "source": [
    "## LCFF geodataframe + mapping"
   ]
  },
  {
   "cell_type": "code",
   "execution_count": 41,
   "metadata": {
    "scrolled": false
   },
   "outputs": [
    {
     "data": {
      "text/html": [
       "<div>\n",
       "<style scoped>\n",
       "    .dataframe tbody tr th:only-of-type {\n",
       "        vertical-align: middle;\n",
       "    }\n",
       "\n",
       "    .dataframe tbody tr th {\n",
       "        vertical-align: top;\n",
       "    }\n",
       "\n",
       "    .dataframe thead th {\n",
       "        text-align: right;\n",
       "    }\n",
       "</style>\n",
       "<table border=\"1\" class=\"dataframe\">\n",
       "  <thead>\n",
       "    <tr style=\"text-align: right;\">\n",
       "      <th></th>\n",
       "      <th>District Code</th>\n",
       "      <th>Local Educational Agency</th>\n",
       "      <th>unduplicated_pupil_count</th>\n",
       "      <th>base_grant</th>\n",
       "      <th>supplemental_grant</th>\n",
       "      <th>concentration_grant</th>\n",
       "      <th>total_grants</th>\n",
       "      <th>cds</th>\n",
       "      <th>STATEFP</th>\n",
       "      <th>UNSDLEA</th>\n",
       "      <th>GEOID</th>\n",
       "      <th>NAME</th>\n",
       "      <th>LSAD</th>\n",
       "      <th>LOGRADE</th>\n",
       "      <th>HIGRADE</th>\n",
       "      <th>MTFCC</th>\n",
       "      <th>SDTYP</th>\n",
       "      <th>FUNCSTAT</th>\n",
       "      <th>ALAND</th>\n",
       "      <th>AWATER</th>\n",
       "      <th>INTPTLAT</th>\n",
       "      <th>INTPTLON</th>\n",
       "      <th>geometry</th>\n",
       "      <th>origin</th>\n",
       "      <th>ELSDLEA</th>\n",
       "      <th>SCSDLEA</th>\n",
       "    </tr>\n",
       "  </thead>\n",
       "  <tbody>\n",
       "    <tr>\n",
       "      <th>0</th>\n",
       "      <td>61119</td>\n",
       "      <td>Alameda Unified</td>\n",
       "      <td>0.3486</td>\n",
       "      <td>75,938,983</td>\n",
       "      <td>5,294,466</td>\n",
       "      <td>-</td>\n",
       "      <td>82,158,116</td>\n",
       "      <td>01611190000000</td>\n",
       "      <td>NaN</td>\n",
       "      <td>NaN</td>\n",
       "      <td>NaN</td>\n",
       "      <td>NaN</td>\n",
       "      <td>NaN</td>\n",
       "      <td>NaN</td>\n",
       "      <td>NaN</td>\n",
       "      <td>NaN</td>\n",
       "      <td>NaN</td>\n",
       "      <td>NaN</td>\n",
       "      <td>NaN</td>\n",
       "      <td>NaN</td>\n",
       "      <td>NaN</td>\n",
       "      <td>NaN</td>\n",
       "      <td>None</td>\n",
       "      <td>NaN</td>\n",
       "      <td>NaN</td>\n",
       "      <td>NaN</td>\n",
       "    </tr>\n",
       "    <tr>\n",
       "      <th>1</th>\n",
       "      <td>61127</td>\n",
       "      <td>Albany City Unified</td>\n",
       "      <td>0.2833</td>\n",
       "      <td>29,644,972</td>\n",
       "      <td>1,679,684</td>\n",
       "      <td>-</td>\n",
       "      <td>31,352,540</td>\n",
       "      <td>01611270000000</td>\n",
       "      <td>06</td>\n",
       "      <td>01860</td>\n",
       "      <td>0601860</td>\n",
       "      <td>Albany City Unified</td>\n",
       "      <td>00</td>\n",
       "      <td>KG</td>\n",
       "      <td>12</td>\n",
       "      <td>G5420</td>\n",
       "      <td>None</td>\n",
       "      <td>E</td>\n",
       "      <td>4634305.0</td>\n",
       "      <td>9523833.0</td>\n",
       "      <td>+37.8906499</td>\n",
       "      <td>-122.3181164</td>\n",
       "      <td>POLYGON ((-122.37312 37.88388, -122.37114 37.8...</td>\n",
       "      <td>unified</td>\n",
       "      <td>NaN</td>\n",
       "      <td>NaN</td>\n",
       "    </tr>\n",
       "    <tr>\n",
       "      <th>2</th>\n",
       "      <td>61143</td>\n",
       "      <td>Berkeley Unified</td>\n",
       "      <td>0.3519</td>\n",
       "      <td>78,556,532</td>\n",
       "      <td>5,528,808</td>\n",
       "      <td>-</td>\n",
       "      <td>89,369,621</td>\n",
       "      <td>01611430000000</td>\n",
       "      <td>06</td>\n",
       "      <td>04740</td>\n",
       "      <td>0604740</td>\n",
       "      <td>Berkeley Unified</td>\n",
       "      <td>00</td>\n",
       "      <td>KG</td>\n",
       "      <td>12</td>\n",
       "      <td>G5420</td>\n",
       "      <td>None</td>\n",
       "      <td>E</td>\n",
       "      <td>27095285.0</td>\n",
       "      <td>18715614.0</td>\n",
       "      <td>+37.8669717</td>\n",
       "      <td>-122.2991474</td>\n",
       "      <td>POLYGON ((-122.36778 37.86673, -122.35671 37.8...</td>\n",
       "      <td>unified</td>\n",
       "      <td>NaN</td>\n",
       "      <td>NaN</td>\n",
       "    </tr>\n",
       "    <tr>\n",
       "      <th>3</th>\n",
       "      <td>61150</td>\n",
       "      <td>Castro Valley Unified</td>\n",
       "      <td>0.2904</td>\n",
       "      <td>74,911,585</td>\n",
       "      <td>4,350,864</td>\n",
       "      <td>-</td>\n",
       "      <td>79,554,607</td>\n",
       "      <td>01611500000000</td>\n",
       "      <td>06</td>\n",
       "      <td>07800</td>\n",
       "      <td>0607800</td>\n",
       "      <td>Castro Valley Unified</td>\n",
       "      <td>00</td>\n",
       "      <td>KG</td>\n",
       "      <td>12</td>\n",
       "      <td>G5420</td>\n",
       "      <td>None</td>\n",
       "      <td>E</td>\n",
       "      <td>177385526.0</td>\n",
       "      <td>4276387.0</td>\n",
       "      <td>+37.7196716</td>\n",
       "      <td>-122.0463454</td>\n",
       "      <td>POLYGON ((-122.17916 37.80498, -122.17914 37.8...</td>\n",
       "      <td>unified</td>\n",
       "      <td>NaN</td>\n",
       "      <td>NaN</td>\n",
       "    </tr>\n",
       "    <tr>\n",
       "      <th>4</th>\n",
       "      <td>61168</td>\n",
       "      <td>Emery Unified</td>\n",
       "      <td>0.7953</td>\n",
       "      <td>5,702,229</td>\n",
       "      <td>906,997</td>\n",
       "      <td>699,378</td>\n",
       "      <td>7,326,875</td>\n",
       "      <td>01611680000000</td>\n",
       "      <td>06</td>\n",
       "      <td>12630</td>\n",
       "      <td>0612630</td>\n",
       "      <td>Emery Unified</td>\n",
       "      <td>00</td>\n",
       "      <td>KG</td>\n",
       "      <td>12</td>\n",
       "      <td>G5420</td>\n",
       "      <td>None</td>\n",
       "      <td>E</td>\n",
       "      <td>3317306.0</td>\n",
       "      <td>2517858.0</td>\n",
       "      <td>+37.8399065</td>\n",
       "      <td>-122.2989635</td>\n",
       "      <td>POLYGON ((-122.33014 37.84111, -122.32432 37.8...</td>\n",
       "      <td>unified</td>\n",
       "      <td>NaN</td>\n",
       "      <td>NaN</td>\n",
       "    </tr>\n",
       "  </tbody>\n",
       "</table>\n",
       "</div>"
      ],
      "text/plain": [
       "  District Code Local Educational Agency unduplicated_pupil_count  \\\n",
       "0         61119          Alameda Unified                  0.3486    \n",
       "1         61127      Albany City Unified                  0.2833    \n",
       "2         61143         Berkeley Unified                  0.3519    \n",
       "3         61150    Castro Valley Unified                  0.2904    \n",
       "4         61168            Emery Unified                  0.7953    \n",
       "\n",
       "     base_grant supplemental_grant concentration_grant  total_grants  \\\n",
       "0   75,938,983          5,294,466                   -    82,158,116    \n",
       "1   29,644,972          1,679,684                   -    31,352,540    \n",
       "2   78,556,532          5,528,808                   -    89,369,621    \n",
       "3   74,911,585          4,350,864                   -    79,554,607    \n",
       "4    5,702,229            906,997             699,378     7,326,875    \n",
       "\n",
       "              cds STATEFP UNSDLEA    GEOID                   NAME LSAD  \\\n",
       "0  01611190000000     NaN     NaN      NaN                    NaN  NaN   \n",
       "1  01611270000000      06   01860  0601860    Albany City Unified   00   \n",
       "2  01611430000000      06   04740  0604740       Berkeley Unified   00   \n",
       "3  01611500000000      06   07800  0607800  Castro Valley Unified   00   \n",
       "4  01611680000000      06   12630  0612630          Emery Unified   00   \n",
       "\n",
       "  LOGRADE HIGRADE  MTFCC SDTYP FUNCSTAT        ALAND      AWATER     INTPTLAT  \\\n",
       "0     NaN     NaN    NaN   NaN      NaN          NaN         NaN          NaN   \n",
       "1      KG      12  G5420  None        E    4634305.0   9523833.0  +37.8906499   \n",
       "2      KG      12  G5420  None        E   27095285.0  18715614.0  +37.8669717   \n",
       "3      KG      12  G5420  None        E  177385526.0   4276387.0  +37.7196716   \n",
       "4      KG      12  G5420  None        E    3317306.0   2517858.0  +37.8399065   \n",
       "\n",
       "       INTPTLON                                           geometry   origin  \\\n",
       "0           NaN                                               None      NaN   \n",
       "1  -122.3181164  POLYGON ((-122.37312 37.88388, -122.37114 37.8...  unified   \n",
       "2  -122.2991474  POLYGON ((-122.36778 37.86673, -122.35671 37.8...  unified   \n",
       "3  -122.0463454  POLYGON ((-122.17916 37.80498, -122.17914 37.8...  unified   \n",
       "4  -122.2989635  POLYGON ((-122.33014 37.84111, -122.32432 37.8...  unified   \n",
       "\n",
       "  ELSDLEA SCSDLEA  \n",
       "0     NaN     NaN  \n",
       "1     NaN     NaN  \n",
       "2     NaN     NaN  \n",
       "3     NaN     NaN  \n",
       "4     NaN     NaN  "
      ]
     },
     "execution_count": 41,
     "metadata": {},
     "output_type": "execute_result"
    }
   ],
   "source": [
    "a1 = pandas.merge(dflcff, adistricts, how='left', left_on='Local Educational Agency', right_on='NAME')\n",
    "a1.head()"
   ]
  },
  {
   "cell_type": "code",
   "execution_count": 42,
   "metadata": {
    "scrolled": true
   },
   "outputs": [
    {
     "data": {
      "text/plain": [
       "(974, 26)"
      ]
     },
     "execution_count": 42,
     "metadata": {},
     "output_type": "execute_result"
    }
   ],
   "source": [
    "a1.shape"
   ]
  },
  {
   "cell_type": "code",
   "execution_count": 43,
   "metadata": {},
   "outputs": [],
   "source": [
    "a1 = geopandas.GeoDataFrame(a1)"
   ]
  },
  {
   "cell_type": "code",
   "execution_count": 44,
   "metadata": {
    "scrolled": false
   },
   "outputs": [
    {
     "data": {
      "text/plain": [
       "<matplotlib.axes._subplots.AxesSubplot at 0x160ab4ba588>"
      ]
     },
     "execution_count": 44,
     "metadata": {},
     "output_type": "execute_result"
    },
    {
     "data": {
      "image/png": "[encoded data removed]",
      "text/plain": [
       "<Figure size 1080x1080 with 1 Axes>"
      ]
     },
     "metadata": {
      "needs_background": "light"
     },
     "output_type": "display_data"
    }
   ],
   "source": [
    "a1.plot(\n",
    "    column='unduplicated_pupil_count',\n",
    "    legend=True,\n",
    "    figsize=(15, 15),\n",
    "    scheme=\"quantiles\"\n",
    "        )"
   ]
  },
  {
   "cell_type": "markdown",
   "metadata": {},
   "source": [
    "# Free and reduced meal plan data\n",
    "Used by policy makers as a stand-in for a  segregation indicator. \n",
    "\n",
    "Find the codebook [here](https://www.cde.ca.gov/ds/sd/sd/fsspfrpm.asp)."
   ]
  },
  {
   "cell_type": "code",
   "execution_count": 45,
   "metadata": {
    "scrolled": false
   },
   "outputs": [
    {
     "data": {
      "text/plain": [
       "(10520, 28)"
      ]
     },
     "execution_count": 45,
     "metadata": {},
     "output_type": "execute_result"
    }
   ],
   "source": [
    "frpm = pandas.read_csv('lcff_data/frpm1819.csv', encoding = \"ISO-8859-1\", skiprows=1)\n",
    "frpm.shape\n",
    "# aggregate figures by district\n",
    "# jump down to 'mealagg' cell"
   ]
  },
  {
   "cell_type": "code",
   "execution_count": 46,
   "metadata": {},
   "outputs": [],
   "source": [
    "# renaming important columns\n",
    "frpm = frpm.rename(columns={'Percent (%) \\nEligible FRPM \\n(K-12)': 'percent_eligible_k12_frpm', \n",
    "                            'Percent (%) \\nEligible Free \\n(K-12)': 'percent_eligible_k12_free', \n",
    "                            'Percent (%) \\nEligible FRPM \\n(Ages 5-17)' : 'percent_eligible_by_age',\n",
    "                            'Enrollment \\n(Ages 5-17)': 'enrollment_by_age',\n",
    "                            'FRPM Count \\n(Ages 5-17)': 'frpm_count_by_age',\n",
    "                            'Free Meal \\nCount \\n(Ages 5-17)': 'free_count_by_age',\n",
    "                            'District Type': 'district_type',\n",
    "                            'District Name': 'district_name',\n",
    "                            'County Name': 'county_name',\n",
    "                            \n",
    "                           })"
   ]
  },
  {
   "cell_type": "code",
   "execution_count": 47,
   "metadata": {},
   "outputs": [
    {
     "data": {
      "text/html": [
       "<div>\n",
       "<style scoped>\n",
       "    .dataframe tbody tr th:only-of-type {\n",
       "        vertical-align: middle;\n",
       "    }\n",
       "\n",
       "    .dataframe tbody tr th {\n",
       "        vertical-align: top;\n",
       "    }\n",
       "\n",
       "    .dataframe thead th {\n",
       "        text-align: right;\n",
       "    }\n",
       "</style>\n",
       "<table border=\"1\" class=\"dataframe\">\n",
       "  <thead>\n",
       "    <tr style=\"text-align: right;\">\n",
       "      <th></th>\n",
       "      <th>Academic Year</th>\n",
       "      <th>County Code</th>\n",
       "      <th>District Code</th>\n",
       "      <th>School Code</th>\n",
       "      <th>county_name</th>\n",
       "      <th>district_name</th>\n",
       "      <th>School Name</th>\n",
       "      <th>district_type</th>\n",
       "      <th>School Type</th>\n",
       "      <th>Educational \\nOption Type</th>\n",
       "      <th>NSLP \\nProvision \\nStatus</th>\n",
       "      <th>Charter \\nSchool \\n(Y/N)</th>\n",
       "      <th>Charter \\nSchool \\nNumber</th>\n",
       "      <th>Charter \\nFunding \\nType</th>\n",
       "      <th>IRC</th>\n",
       "      <th>Low Grade</th>\n",
       "      <th>High Grade</th>\n",
       "      <th>Enrollment \\n(K-12)</th>\n",
       "      <th>Free Meal \\nCount \\n(K-12)</th>\n",
       "      <th>percent_eligible_k12_free</th>\n",
       "      <th>FRPM Count \\n(K-12)</th>\n",
       "      <th>percent_eligible_k12_frpm</th>\n",
       "      <th>enrollment_by_age</th>\n",
       "      <th>free_count_by_age</th>\n",
       "      <th>Percent (%) \\nEligible Free \\n(Ages 5-17)</th>\n",
       "      <th>frpm_count_by_age</th>\n",
       "      <th>percent_eligible_by_age</th>\n",
       "      <th>CALPADS Fall 1 \\nCertification Status</th>\n",
       "    </tr>\n",
       "  </thead>\n",
       "  <tbody>\n",
       "    <tr>\n",
       "      <th>0</th>\n",
       "      <td>2018-2019</td>\n",
       "      <td>1</td>\n",
       "      <td>10017</td>\n",
       "      <td>112607</td>\n",
       "      <td>Alameda</td>\n",
       "      <td>Alameda County Office of Education</td>\n",
       "      <td>Envision Academy for Arts &amp; Technology</td>\n",
       "      <td>County Office of Education (COE)</td>\n",
       "      <td>High Schools (Public)</td>\n",
       "      <td>Traditional</td>\n",
       "      <td>NaN</td>\n",
       "      <td>Yes</td>\n",
       "      <td>0811</td>\n",
       "      <td>Directly funded</td>\n",
       "      <td>Y</td>\n",
       "      <td>9</td>\n",
       "      <td>12</td>\n",
       "      <td>385</td>\n",
       "      <td>262</td>\n",
       "      <td>68.1%</td>\n",
       "      <td>306</td>\n",
       "      <td>79.5%</td>\n",
       "      <td>370</td>\n",
       "      <td>249</td>\n",
       "      <td>67.3%</td>\n",
       "      <td>291</td>\n",
       "      <td>78.6%</td>\n",
       "      <td>Y</td>\n",
       "    </tr>\n",
       "    <tr>\n",
       "      <th>1</th>\n",
       "      <td>2018-2019</td>\n",
       "      <td>1</td>\n",
       "      <td>10017</td>\n",
       "      <td>123968</td>\n",
       "      <td>Alameda</td>\n",
       "      <td>Alameda County Office of Education</td>\n",
       "      <td>Community School for Creative Education</td>\n",
       "      <td>County Office of Education (COE)</td>\n",
       "      <td>Elementary Schools (Public)</td>\n",
       "      <td>Traditional</td>\n",
       "      <td>NaN</td>\n",
       "      <td>Yes</td>\n",
       "      <td>1284</td>\n",
       "      <td>Directly funded</td>\n",
       "      <td>Y</td>\n",
       "      <td>K</td>\n",
       "      <td>8</td>\n",
       "      <td>241</td>\n",
       "      <td>118</td>\n",
       "      <td>49.0%</td>\n",
       "      <td>120</td>\n",
       "      <td>49.8%</td>\n",
       "      <td>224</td>\n",
       "      <td>113</td>\n",
       "      <td>50.4%</td>\n",
       "      <td>115</td>\n",
       "      <td>51.3%</td>\n",
       "      <td>Y</td>\n",
       "    </tr>\n",
       "    <tr>\n",
       "      <th>2</th>\n",
       "      <td>2018-2019</td>\n",
       "      <td>1</td>\n",
       "      <td>10017</td>\n",
       "      <td>124172</td>\n",
       "      <td>Alameda</td>\n",
       "      <td>Alameda County Office of Education</td>\n",
       "      <td>Yu Ming Charter</td>\n",
       "      <td>County Office of Education (COE)</td>\n",
       "      <td>Elementary Schools (Public)</td>\n",
       "      <td>Traditional</td>\n",
       "      <td>NaN</td>\n",
       "      <td>Yes</td>\n",
       "      <td>1296</td>\n",
       "      <td>Directly funded</td>\n",
       "      <td>Y</td>\n",
       "      <td>K</td>\n",
       "      <td>8</td>\n",
       "      <td>445</td>\n",
       "      <td>58</td>\n",
       "      <td>13.0%</td>\n",
       "      <td>64</td>\n",
       "      <td>14.4%</td>\n",
       "      <td>445</td>\n",
       "      <td>58</td>\n",
       "      <td>13.0%</td>\n",
       "      <td>64</td>\n",
       "      <td>14.4%</td>\n",
       "      <td>Y</td>\n",
       "    </tr>\n",
       "    <tr>\n",
       "      <th>3</th>\n",
       "      <td>2018-2019</td>\n",
       "      <td>1</td>\n",
       "      <td>10017</td>\n",
       "      <td>125567</td>\n",
       "      <td>Alameda</td>\n",
       "      <td>Alameda County Office of Education</td>\n",
       "      <td>Urban Montessori Charter</td>\n",
       "      <td>County Office of Education (COE)</td>\n",
       "      <td>Elementary Schools (Public)</td>\n",
       "      <td>Traditional</td>\n",
       "      <td>NaN</td>\n",
       "      <td>Yes</td>\n",
       "      <td>1383</td>\n",
       "      <td>Directly funded</td>\n",
       "      <td>Y</td>\n",
       "      <td>K</td>\n",
       "      <td>8</td>\n",
       "      <td>432</td>\n",
       "      <td>113</td>\n",
       "      <td>26.2%</td>\n",
       "      <td>131</td>\n",
       "      <td>30.3%</td>\n",
       "      <td>418</td>\n",
       "      <td>111</td>\n",
       "      <td>26.6%</td>\n",
       "      <td>129</td>\n",
       "      <td>30.9%</td>\n",
       "      <td>Y</td>\n",
       "    </tr>\n",
       "    <tr>\n",
       "      <th>4</th>\n",
       "      <td>2018-2019</td>\n",
       "      <td>1</td>\n",
       "      <td>10017</td>\n",
       "      <td>130401</td>\n",
       "      <td>Alameda</td>\n",
       "      <td>Alameda County Office of Education</td>\n",
       "      <td>Alameda County Juvenile Hall/Court</td>\n",
       "      <td>County Office of Education (COE)</td>\n",
       "      <td>Juvenile Court Schools</td>\n",
       "      <td>Juvenile Court School</td>\n",
       "      <td>NaN</td>\n",
       "      <td>No</td>\n",
       "      <td>NaN</td>\n",
       "      <td>NaN</td>\n",
       "      <td>N</td>\n",
       "      <td>K</td>\n",
       "      <td>12</td>\n",
       "      <td>53</td>\n",
       "      <td>53</td>\n",
       "      <td>100.0%</td>\n",
       "      <td>53</td>\n",
       "      <td>100.0%</td>\n",
       "      <td>50</td>\n",
       "      <td>50</td>\n",
       "      <td>100.0%</td>\n",
       "      <td>50</td>\n",
       "      <td>100.0%</td>\n",
       "      <td>Y</td>\n",
       "    </tr>\n",
       "  </tbody>\n",
       "</table>\n",
       "</div>"
      ],
      "text/plain": [
       "  Academic Year  County Code  District Code  School Code county_name  \\\n",
       "0     2018-2019            1          10017       112607     Alameda   \n",
       "1     2018-2019            1          10017       123968     Alameda   \n",
       "2     2018-2019            1          10017       124172     Alameda   \n",
       "3     2018-2019            1          10017       125567     Alameda   \n",
       "4     2018-2019            1          10017       130401     Alameda   \n",
       "\n",
       "                        district_name  \\\n",
       "0  Alameda County Office of Education   \n",
       "1  Alameda County Office of Education   \n",
       "2  Alameda County Office of Education   \n",
       "3  Alameda County Office of Education   \n",
       "4  Alameda County Office of Education   \n",
       "\n",
       "                               School Name                     district_type  \\\n",
       "0   Envision Academy for Arts & Technology  County Office of Education (COE)   \n",
       "1  Community School for Creative Education  County Office of Education (COE)   \n",
       "2                          Yu Ming Charter  County Office of Education (COE)   \n",
       "3                 Urban Montessori Charter  County Office of Education (COE)   \n",
       "4       Alameda County Juvenile Hall/Court  County Office of Education (COE)   \n",
       "\n",
       "                   School Type Educational \\nOption Type  \\\n",
       "0        High Schools (Public)               Traditional   \n",
       "1  Elementary Schools (Public)               Traditional   \n",
       "2  Elementary Schools (Public)               Traditional   \n",
       "3  Elementary Schools (Public)               Traditional   \n",
       "4       Juvenile Court Schools     Juvenile Court School   \n",
       "\n",
       "  NSLP \\nProvision \\nStatus Charter \\nSchool \\n(Y/N)  \\\n",
       "0                       NaN                      Yes   \n",
       "1                       NaN                      Yes   \n",
       "2                       NaN                      Yes   \n",
       "3                       NaN                      Yes   \n",
       "4                       NaN                      No    \n",
       "\n",
       "  Charter \\nSchool \\nNumber Charter \\nFunding \\nType IRC Low Grade High Grade  \\\n",
       "0                      0811          Directly funded   Y         9         12   \n",
       "1                      1284          Directly funded   Y         K          8   \n",
       "2                      1296          Directly funded   Y         K          8   \n",
       "3                      1383          Directly funded   Y         K          8   \n",
       "4                       NaN                      NaN   N         K         12   \n",
       "\n",
       "  Enrollment \\n(K-12) Free Meal \\nCount \\n(K-12) percent_eligible_k12_free  \\\n",
       "0                 385                        262                     68.1%   \n",
       "1                 241                        118                     49.0%   \n",
       "2                 445                         58                     13.0%   \n",
       "3                 432                        113                     26.2%   \n",
       "4                  53                         53                    100.0%   \n",
       "\n",
       "  FRPM Count \\n(K-12) percent_eligible_k12_frpm enrollment_by_age  \\\n",
       "0                 306                     79.5%               370   \n",
       "1                 120                     49.8%               224   \n",
       "2                  64                     14.4%               445   \n",
       "3                 131                     30.3%               418   \n",
       "4                  53                    100.0%                50   \n",
       "\n",
       "  free_count_by_age Percent (%) \\nEligible Free \\n(Ages 5-17)  \\\n",
       "0               249                                     67.3%   \n",
       "1               113                                     50.4%   \n",
       "2                58                                     13.0%   \n",
       "3               111                                     26.6%   \n",
       "4                50                                    100.0%   \n",
       "\n",
       "  frpm_count_by_age percent_eligible_by_age  \\\n",
       "0               291                   78.6%   \n",
       "1               115                   51.3%   \n",
       "2                64                   14.4%   \n",
       "3               129                   30.9%   \n",
       "4                50                  100.0%   \n",
       "\n",
       "  CALPADS Fall 1 \\nCertification Status  \n",
       "0                                     Y  \n",
       "1                                     Y  \n",
       "2                                     Y  \n",
       "3                                     Y  \n",
       "4                                     Y  "
      ]
     },
     "execution_count": 47,
     "metadata": {},
     "output_type": "execute_result"
    }
   ],
   "source": [
    "frpm.head()"
   ]
  },
  {
   "cell_type": "code",
   "execution_count": 48,
   "metadata": {
    "scrolled": false
   },
   "outputs": [],
   "source": [
    "#creating CDS code\n",
    "frpm['County Code'] = frpm['County Code'].astype(str)\n",
    "frpm['County Code'] = frpm['County Code'].apply(lambda x: '{0:0>2}'.format(x))\n",
    "frpm['District Code'] = frpm['District Code'].astype(str)\n",
    "frpm['School Code'] = frpm['School Code'].astype(str)\n",
    "frpm['School Code'] = frpm['School Code'].apply(lambda x: '{0:0>7}'.format(x))\n",
    "# converting to strings, adding leading zeroes \n",
    "frpm['cds'] = frpm['County Code'] + frpm['District Code'] + frpm['School Code']\n",
    "# combining codes\n",
    "\n",
    "frpm = frpm[frpm.district_type !='County Office of Education (COE)']\n",
    "# removing county offices of education\n",
    "\n",
    "col_name1='cds'\n",
    "first_col1 = frpm.pop(col_name1)\n",
    "frpm.insert(0, col_name1, first_col1)\n",
    "# Moving to front\n",
    "\n",
    "frpm.drop('County Code', axis=1, inplace=True)\n",
    "# frpm.drop('District Code', axis=1, inplace=True)\n",
    "frpm.drop('School Code', axis=1, inplace=True)\n",
    "# dropping split codes"
   ]
  },
  {
   "cell_type": "code",
   "execution_count": 49,
   "metadata": {},
   "outputs": [
    {
     "data": {
      "text/plain": [
       "Index(['cds', 'Academic Year', 'District Code', 'county_name', 'district_name',\n",
       "       'School Name', 'district_type', 'School Type',\n",
       "       'Educational \\nOption Type', 'NSLP \\nProvision \\nStatus',\n",
       "       'Charter \\nSchool \\n(Y/N)', 'Charter \\nSchool \\nNumber',\n",
       "       'Charter \\nFunding \\nType', 'IRC', 'Low Grade', 'High Grade',\n",
       "       'Enrollment \\n(K-12)', 'Free Meal \\nCount \\n(K-12)',\n",
       "       'percent_eligible_k12_free', 'FRPM Count \\n(K-12)',\n",
       "       'percent_eligible_k12_frpm', 'enrollment_by_age', 'free_count_by_age',\n",
       "       'Percent (%) \\nEligible Free \\n(Ages 5-17)', 'frpm_count_by_age',\n",
       "       'percent_eligible_by_age', 'CALPADS Fall 1 \\nCertification Status'],\n",
       "      dtype='object')"
      ]
     },
     "execution_count": 49,
     "metadata": {},
     "output_type": "execute_result"
    }
   ],
   "source": [
    "frpm.columns"
   ]
  },
  {
   "cell_type": "code",
   "execution_count": 50,
   "metadata": {},
   "outputs": [],
   "source": [
    "frpm['enrollment_by_age'] = frpm['enrollment_by_age'].str.replace(',', '').astype(int)\n",
    "frpm['frpm_count_by_age'] = frpm['frpm_count_by_age'].str.replace(',', '').astype(int)\n",
    "frpm['free_count_by_age'] = frpm['free_count_by_age'].str.replace(',', '').astype(int)\n",
    "# renaming columns, striping commas, converting to int "
   ]
  },
  {
   "cell_type": "code",
   "execution_count": 51,
   "metadata": {
    "scrolled": true
   },
   "outputs": [
    {
     "data": {
      "text/plain": [
       "Index(['cds', 'Academic Year', 'District Code', 'county_name', 'district_name',\n",
       "       'School Name', 'district_type', 'School Type',\n",
       "       'Educational \\nOption Type', 'NSLP \\nProvision \\nStatus',\n",
       "       'Charter \\nSchool \\n(Y/N)', 'Charter \\nSchool \\nNumber',\n",
       "       'Charter \\nFunding \\nType', 'IRC', 'Low Grade', 'High Grade',\n",
       "       'Enrollment \\n(K-12)', 'Free Meal \\nCount \\n(K-12)',\n",
       "       'percent_eligible_k12_free', 'FRPM Count \\n(K-12)',\n",
       "       'percent_eligible_k12_frpm', 'enrollment_by_age', 'free_count_by_age',\n",
       "       'Percent (%) \\nEligible Free \\n(Ages 5-17)', 'frpm_count_by_age',\n",
       "       'percent_eligible_by_age', 'CALPADS Fall 1 \\nCertification Status'],\n",
       "      dtype='object')"
      ]
     },
     "execution_count": 51,
     "metadata": {},
     "output_type": "execute_result"
    }
   ],
   "source": [
    "frpm.columns"
   ]
  },
  {
   "cell_type": "code",
   "execution_count": 52,
   "metadata": {
    "scrolled": true
   },
   "outputs": [],
   "source": [
    "dffrpm = frpm.groupby(by='District Code').sum()\n",
    "dffrpm2 = frpm.groupby(by='district_name').sum()\n",
    "# dffrpm2 = band-aid fix for later\n",
    "# aggregating"
   ]
  },
  {
   "cell_type": "code",
   "execution_count": 53,
   "metadata": {
    "scrolled": false
   },
   "outputs": [
    {
     "data": {
      "text/plain": [
       "Index(['enrollment_by_age', 'free_count_by_age', 'frpm_count_by_age'], dtype='object')"
      ]
     },
     "execution_count": 53,
     "metadata": {},
     "output_type": "execute_result"
    }
   ],
   "source": [
    "dffrpm.columns"
   ]
  },
  {
   "cell_type": "code",
   "execution_count": 54,
   "metadata": {},
   "outputs": [],
   "source": [
    "dffrpm['pct_frpm_by_age'] = dffrpm.frpm_count_by_age / dffrpm.enrollment_by_age\n",
    "dffrpm['pct_free_by_age'] = dffrpm.free_count_by_age / dffrpm.enrollment_by_age\n",
    "dffrpm2['pct_frpm_by_age'] = dffrpm2.frpm_count_by_age / dffrpm2.enrollment_by_age\n",
    "dffrpm2['pct_free_by_age'] = dffrpm2.free_count_by_age / dffrpm2.enrollment_by_age\n",
    "# inferring more convinient than copying lul"
   ]
  },
  {
   "cell_type": "code",
   "execution_count": 55,
   "metadata": {
    "scrolled": true
   },
   "outputs": [
    {
     "data": {
      "text/plain": [
       "(978, 5)"
      ]
     },
     "execution_count": 55,
     "metadata": {},
     "output_type": "execute_result"
    }
   ],
   "source": [
    "dffrpm.shape\n",
    "# need to include district name and county name in the aggreagtion\n",
    "# why do we lose columns in the groupby operation? dtypes object preventing groupby?"
   ]
  },
  {
   "cell_type": "code",
   "execution_count": 56,
   "metadata": {},
   "outputs": [
    {
     "data": {
      "text/html": [
       "<div>\n",
       "<style scoped>\n",
       "    .dataframe tbody tr th:only-of-type {\n",
       "        vertical-align: middle;\n",
       "    }\n",
       "\n",
       "    .dataframe tbody tr th {\n",
       "        vertical-align: top;\n",
       "    }\n",
       "\n",
       "    .dataframe thead th {\n",
       "        text-align: right;\n",
       "    }\n",
       "</style>\n",
       "<table border=\"1\" class=\"dataframe\">\n",
       "  <thead>\n",
       "    <tr style=\"text-align: right;\">\n",
       "      <th></th>\n",
       "      <th>enrollment_by_age</th>\n",
       "      <th>free_count_by_age</th>\n",
       "      <th>frpm_count_by_age</th>\n",
       "      <th>pct_frpm_by_age</th>\n",
       "      <th>pct_free_by_age</th>\n",
       "    </tr>\n",
       "    <tr>\n",
       "      <th>District Code</th>\n",
       "      <th></th>\n",
       "      <th></th>\n",
       "      <th></th>\n",
       "      <th></th>\n",
       "      <th></th>\n",
       "    </tr>\n",
       "  </thead>\n",
       "  <tbody>\n",
       "    <tr>\n",
       "      <th>31609</th>\n",
       "      <td>42</td>\n",
       "      <td>42</td>\n",
       "      <td>42</td>\n",
       "      <td>1.000000</td>\n",
       "      <td>1.000000</td>\n",
       "    </tr>\n",
       "    <tr>\n",
       "      <th>31617</th>\n",
       "      <td>311</td>\n",
       "      <td>311</td>\n",
       "      <td>311</td>\n",
       "      <td>1.000000</td>\n",
       "      <td>1.000000</td>\n",
       "    </tr>\n",
       "    <tr>\n",
       "      <th>31625</th>\n",
       "      <td>295</td>\n",
       "      <td>96</td>\n",
       "      <td>96</td>\n",
       "      <td>0.325424</td>\n",
       "      <td>0.325424</td>\n",
       "    </tr>\n",
       "    <tr>\n",
       "      <th>32276</th>\n",
       "      <td>127</td>\n",
       "      <td>126</td>\n",
       "      <td>126</td>\n",
       "      <td>0.992126</td>\n",
       "      <td>0.992126</td>\n",
       "    </tr>\n",
       "    <tr>\n",
       "      <th>61119</th>\n",
       "      <td>11031</td>\n",
       "      <td>2953</td>\n",
       "      <td>3306</td>\n",
       "      <td>0.299701</td>\n",
       "      <td>0.267700</td>\n",
       "    </tr>\n",
       "    <tr>\n",
       "      <th>...</th>\n",
       "      <td>...</td>\n",
       "      <td>...</td>\n",
       "      <td>...</td>\n",
       "      <td>...</td>\n",
       "      <td>...</td>\n",
       "    </tr>\n",
       "    <tr>\n",
       "      <th>77180</th>\n",
       "      <td>52</td>\n",
       "      <td>30</td>\n",
       "      <td>39</td>\n",
       "      <td>0.750000</td>\n",
       "      <td>0.576923</td>\n",
       "    </tr>\n",
       "    <tr>\n",
       "      <th>77198</th>\n",
       "      <td>194</td>\n",
       "      <td>126</td>\n",
       "      <td>136</td>\n",
       "      <td>0.701031</td>\n",
       "      <td>0.649485</td>\n",
       "    </tr>\n",
       "    <tr>\n",
       "      <th>77206</th>\n",
       "      <td>105</td>\n",
       "      <td>67</td>\n",
       "      <td>77</td>\n",
       "      <td>0.733333</td>\n",
       "      <td>0.638095</td>\n",
       "    </tr>\n",
       "    <tr>\n",
       "      <th>77214</th>\n",
       "      <td>76</td>\n",
       "      <td>19</td>\n",
       "      <td>22</td>\n",
       "      <td>0.289474</td>\n",
       "      <td>0.250000</td>\n",
       "    </tr>\n",
       "    <tr>\n",
       "      <th>77222</th>\n",
       "      <td>170</td>\n",
       "      <td>71</td>\n",
       "      <td>76</td>\n",
       "      <td>0.447059</td>\n",
       "      <td>0.417647</td>\n",
       "    </tr>\n",
       "  </tbody>\n",
       "</table>\n",
       "<p>978 rows × 5 columns</p>\n",
       "</div>"
      ],
      "text/plain": [
       "               enrollment_by_age  free_count_by_age  frpm_count_by_age  \\\n",
       "District Code                                                            \n",
       "31609                         42                 42                 42   \n",
       "31617                        311                311                311   \n",
       "31625                        295                 96                 96   \n",
       "32276                        127                126                126   \n",
       "61119                      11031               2953               3306   \n",
       "...                          ...                ...                ...   \n",
       "77180                         52                 30                 39   \n",
       "77198                        194                126                136   \n",
       "77206                        105                 67                 77   \n",
       "77214                         76                 19                 22   \n",
       "77222                        170                 71                 76   \n",
       "\n",
       "               pct_frpm_by_age  pct_free_by_age  \n",
       "District Code                                    \n",
       "31609                 1.000000         1.000000  \n",
       "31617                 1.000000         1.000000  \n",
       "31625                 0.325424         0.325424  \n",
       "32276                 0.992126         0.992126  \n",
       "61119                 0.299701         0.267700  \n",
       "...                        ...              ...  \n",
       "77180                 0.750000         0.576923  \n",
       "77198                 0.701031         0.649485  \n",
       "77206                 0.733333         0.638095  \n",
       "77214                 0.289474         0.250000  \n",
       "77222                 0.447059         0.417647  \n",
       "\n",
       "[978 rows x 5 columns]"
      ]
     },
     "execution_count": 56,
     "metadata": {},
     "output_type": "execute_result"
    }
   ],
   "source": [
    "dffrpm"
   ]
  },
  {
   "cell_type": "markdown",
   "metadata": {},
   "source": [
    "## Merging FRPM data with district codes, county codes, shapefiles"
   ]
  },
  {
   "cell_type": "code",
   "execution_count": 57,
   "metadata": {},
   "outputs": [
    {
     "data": {
      "text/html": [
       "<div>\n",
       "<style scoped>\n",
       "    .dataframe tbody tr th:only-of-type {\n",
       "        vertical-align: middle;\n",
       "    }\n",
       "\n",
       "    .dataframe tbody tr th {\n",
       "        vertical-align: top;\n",
       "    }\n",
       "\n",
       "    .dataframe thead th {\n",
       "        text-align: right;\n",
       "    }\n",
       "</style>\n",
       "<table border=\"1\" class=\"dataframe\">\n",
       "  <thead>\n",
       "    <tr style=\"text-align: right;\">\n",
       "      <th></th>\n",
       "      <th>studentgroup</th>\n",
       "      <th>currstatus</th>\n",
       "      <th>priorstatus</th>\n",
       "      <th>change</th>\n",
       "      <th>currdenom</th>\n",
       "    </tr>\n",
       "  </thead>\n",
       "  <tbody>\n",
       "    <tr>\n",
       "      <th>3</th>\n",
       "      <td>asian</td>\n",
       "      <td>62.4</td>\n",
       "      <td>60.5</td>\n",
       "      <td>2.0</td>\n",
       "      <td>293002</td>\n",
       "    </tr>\n",
       "    <tr>\n",
       "      <th>7</th>\n",
       "      <td>filipino</td>\n",
       "      <td>44.0</td>\n",
       "      <td>41.2</td>\n",
       "      <td>2.7</td>\n",
       "      <td>71139</td>\n",
       "    </tr>\n",
       "    <tr>\n",
       "      <th>11</th>\n",
       "      <td>multiple_races</td>\n",
       "      <td>28.6</td>\n",
       "      <td>26.3</td>\n",
       "      <td>2.3</td>\n",
       "      <td>118753</td>\n",
       "    </tr>\n",
       "    <tr>\n",
       "      <th>16</th>\n",
       "      <td>white</td>\n",
       "      <td>27.7</td>\n",
       "      <td>26.9</td>\n",
       "      <td>0.8</td>\n",
       "      <td>734863</td>\n",
       "    </tr>\n",
       "    <tr>\n",
       "      <th>6</th>\n",
       "      <td>english_only</td>\n",
       "      <td>6.5</td>\n",
       "      <td>4.6</td>\n",
       "      <td>1.8</td>\n",
       "      <td>1795002</td>\n",
       "    </tr>\n",
       "    <tr>\n",
       "      <th>13</th>\n",
       "      <td>rfep_only</td>\n",
       "      <td>2.2</td>\n",
       "      <td>-0.4</td>\n",
       "      <td>2.7</td>\n",
       "      <td>488023</td>\n",
       "    </tr>\n",
       "    <tr>\n",
       "      <th>2</th>\n",
       "      <td>all_students</td>\n",
       "      <td>-6.0</td>\n",
       "      <td>-8.2</td>\n",
       "      <td>2.2</td>\n",
       "      <td>3171704</td>\n",
       "    </tr>\n",
       "    <tr>\n",
       "      <th>12</th>\n",
       "      <td>pacific_islander</td>\n",
       "      <td>-21.3</td>\n",
       "      <td>-22.0</td>\n",
       "      <td>0.7</td>\n",
       "      <td>14894</td>\n",
       "    </tr>\n",
       "    <tr>\n",
       "      <th>9</th>\n",
       "      <td>hispanic</td>\n",
       "      <td>-31.3</td>\n",
       "      <td>-34.5</td>\n",
       "      <td>3.2</td>\n",
       "      <td>1738615</td>\n",
       "    </tr>\n",
       "    <tr>\n",
       "      <th>14</th>\n",
       "      <td>ses_disad</td>\n",
       "      <td>-34.7</td>\n",
       "      <td>-38.7</td>\n",
       "      <td>4.0</td>\n",
       "      <td>1982522</td>\n",
       "    </tr>\n",
       "    <tr>\n",
       "      <th>1</th>\n",
       "      <td>american_indian</td>\n",
       "      <td>-36.8</td>\n",
       "      <td>-39.1</td>\n",
       "      <td>2.3</td>\n",
       "      <td>16662</td>\n",
       "    </tr>\n",
       "    <tr>\n",
       "      <th>4</th>\n",
       "      <td>english_learners</td>\n",
       "      <td>-47.1</td>\n",
       "      <td>-50.4</td>\n",
       "      <td>3.3</td>\n",
       "      <td>1000703</td>\n",
       "    </tr>\n",
       "    <tr>\n",
       "      <th>10</th>\n",
       "      <td>homeless_youth</td>\n",
       "      <td>-51.0</td>\n",
       "      <td>-54.3</td>\n",
       "      <td>3.3</td>\n",
       "      <td>115551</td>\n",
       "    </tr>\n",
       "    <tr>\n",
       "      <th>0</th>\n",
       "      <td>african_american</td>\n",
       "      <td>-51.8</td>\n",
       "      <td>-52.7</td>\n",
       "      <td>0.9</td>\n",
       "      <td>172224</td>\n",
       "    </tr>\n",
       "    <tr>\n",
       "      <th>8</th>\n",
       "      <td>foster_youth</td>\n",
       "      <td>-79.2</td>\n",
       "      <td>-80.6</td>\n",
       "      <td>1.4</td>\n",
       "      <td>21073</td>\n",
       "    </tr>\n",
       "    <tr>\n",
       "      <th>5</th>\n",
       "      <td>english_learners_only</td>\n",
       "      <td>-94.1</td>\n",
       "      <td>-96.7</td>\n",
       "      <td>2.6</td>\n",
       "      <td>512680</td>\n",
       "    </tr>\n",
       "    <tr>\n",
       "      <th>15</th>\n",
       "      <td>disabilities</td>\n",
       "      <td>-95.5</td>\n",
       "      <td>-97.6</td>\n",
       "      <td>2.1</td>\n",
       "      <td>398345</td>\n",
       "    </tr>\n",
       "  </tbody>\n",
       "</table>\n",
       "</div>"
      ],
      "text/plain": [
       "             studentgroup  currstatus  priorstatus  change  currdenom\n",
       "3                   asian        62.4         60.5     2.0     293002\n",
       "7                filipino        44.0         41.2     2.7      71139\n",
       "11         multiple_races        28.6         26.3     2.3     118753\n",
       "16                  white        27.7         26.9     0.8     734863\n",
       "6            english_only         6.5          4.6     1.8    1795002\n",
       "13              rfep_only         2.2         -0.4     2.7     488023\n",
       "2            all_students        -6.0         -8.2     2.2    3171704\n",
       "12       pacific_islander       -21.3        -22.0     0.7      14894\n",
       "9                hispanic       -31.3        -34.5     3.2    1738615\n",
       "14              ses_disad       -34.7        -38.7     4.0    1982522\n",
       "1         american_indian       -36.8        -39.1     2.3      16662\n",
       "4        english_learners       -47.1        -50.4     3.3    1000703\n",
       "10         homeless_youth       -51.0        -54.3     3.3     115551\n",
       "0        african_american       -51.8        -52.7     0.9     172224\n",
       "8            foster_youth       -79.2        -80.6     1.4      21073\n",
       "5   english_learners_only       -94.1        -96.7     2.6     512680\n",
       "15           disabilities       -95.5        -97.6     2.1     398345"
      ]
     },
     "execution_count": 57,
     "metadata": {},
     "output_type": "execute_result"
    }
   ],
   "source": [
    "ela_state"
   ]
  },
  {
   "cell_type": "code",
   "execution_count": 58,
   "metadata": {
    "scrolled": true
   },
   "outputs": [
    {
     "data": {
      "text/html": [
       "<div>\n",
       "<style scoped>\n",
       "    .dataframe tbody tr th:only-of-type {\n",
       "        vertical-align: middle;\n",
       "    }\n",
       "\n",
       "    .dataframe tbody tr th {\n",
       "        vertical-align: top;\n",
       "    }\n",
       "\n",
       "    .dataframe thead th {\n",
       "        text-align: right;\n",
       "    }\n",
       "</style>\n",
       "<table border=\"1\" class=\"dataframe\">\n",
       "  <thead>\n",
       "    <tr style=\"text-align: right;\">\n",
       "      <th></th>\n",
       "      <th>district_name</th>\n",
       "      <th>county_name</th>\n",
       "    </tr>\n",
       "  </thead>\n",
       "  <tbody>\n",
       "    <tr>\n",
       "      <th>0</th>\n",
       "      <td>California School for the Blind (State Special...</td>\n",
       "      <td>Alameda</td>\n",
       "    </tr>\n",
       "    <tr>\n",
       "      <th>1</th>\n",
       "      <td>California School for the Deaf-Fremont (State ...</td>\n",
       "      <td>Alameda</td>\n",
       "    </tr>\n",
       "    <tr>\n",
       "      <th>2</th>\n",
       "      <td>Alameda Unified</td>\n",
       "      <td>Alameda</td>\n",
       "    </tr>\n",
       "    <tr>\n",
       "      <th>3</th>\n",
       "      <td>Albany City Unified</td>\n",
       "      <td>Alameda</td>\n",
       "    </tr>\n",
       "    <tr>\n",
       "      <th>4</th>\n",
       "      <td>Berkeley Unified</td>\n",
       "      <td>Alameda</td>\n",
       "    </tr>\n",
       "    <tr>\n",
       "      <th>...</th>\n",
       "      <td>...</td>\n",
       "      <td>...</td>\n",
       "    </tr>\n",
       "    <tr>\n",
       "      <th>961</th>\n",
       "      <td>Camptonville Elementary</td>\n",
       "      <td>Yuba</td>\n",
       "    </tr>\n",
       "    <tr>\n",
       "      <th>962</th>\n",
       "      <td>Marysville Joint Unified</td>\n",
       "      <td>Yuba</td>\n",
       "    </tr>\n",
       "    <tr>\n",
       "      <th>963</th>\n",
       "      <td>Plumas Lake Elementary</td>\n",
       "      <td>Yuba</td>\n",
       "    </tr>\n",
       "    <tr>\n",
       "      <th>964</th>\n",
       "      <td>Wheatland</td>\n",
       "      <td>Yuba</td>\n",
       "    </tr>\n",
       "    <tr>\n",
       "      <th>965</th>\n",
       "      <td>Wheatland Union High</td>\n",
       "      <td>Yuba</td>\n",
       "    </tr>\n",
       "  </tbody>\n",
       "</table>\n",
       "<p>966 rows × 2 columns</p>\n",
       "</div>"
      ],
      "text/plain": [
       "                                         district_name county_name\n",
       "0    California School for the Blind (State Special...     Alameda\n",
       "1    California School for the Deaf-Fremont (State ...     Alameda\n",
       "2                                      Alameda Unified     Alameda\n",
       "3                                  Albany City Unified     Alameda\n",
       "4                                     Berkeley Unified     Alameda\n",
       "..                                                 ...         ...\n",
       "961                            Camptonville Elementary        Yuba\n",
       "962                           Marysville Joint Unified        Yuba\n",
       "963                             Plumas Lake Elementary        Yuba\n",
       "964                                          Wheatland        Yuba\n",
       "965                               Wheatland Union High        Yuba\n",
       "\n",
       "[966 rows x 2 columns]"
      ]
     },
     "execution_count": 58,
     "metadata": {},
     "output_type": "execute_result"
    }
   ],
   "source": [
    "w1 = dict(zip(frpm.district_name,frpm.county_name))\n",
    "w1 = pandas.Series(w1, name='county_name')\n",
    "w1 = w1.to_frame()\n",
    "w1.index.name = 'district_name'\n",
    "w1.reset_index()"
   ]
  },
  {
   "cell_type": "code",
   "execution_count": 59,
   "metadata": {
    "scrolled": true
   },
   "outputs": [],
   "source": [
    "names = frpm['district_name'].unique()\n",
    "codes = []\n",
    "for name in names:\n",
    "    temp = frpm[frpm['district_name'] == name]\n",
    "    codes.append(temp['District Code'].values[0])"
   ]
  },
  {
   "cell_type": "code",
   "execution_count": 60,
   "metadata": {
    "scrolled": true
   },
   "outputs": [
    {
     "data": {
      "text/html": [
       "<div>\n",
       "<style scoped>\n",
       "    .dataframe tbody tr th:only-of-type {\n",
       "        vertical-align: middle;\n",
       "    }\n",
       "\n",
       "    .dataframe tbody tr th {\n",
       "        vertical-align: top;\n",
       "    }\n",
       "\n",
       "    .dataframe thead th {\n",
       "        text-align: right;\n",
       "    }\n",
       "</style>\n",
       "<table border=\"1\" class=\"dataframe\">\n",
       "  <thead>\n",
       "    <tr style=\"text-align: right;\">\n",
       "      <th></th>\n",
       "      <th>district_name</th>\n",
       "      <th>District Code</th>\n",
       "    </tr>\n",
       "  </thead>\n",
       "  <tbody>\n",
       "    <tr>\n",
       "      <th>0</th>\n",
       "      <td>California School for the Blind (State Special...</td>\n",
       "      <td>31609</td>\n",
       "    </tr>\n",
       "    <tr>\n",
       "      <th>1</th>\n",
       "      <td>California School for the Deaf-Fremont (State ...</td>\n",
       "      <td>31617</td>\n",
       "    </tr>\n",
       "    <tr>\n",
       "      <th>2</th>\n",
       "      <td>Alameda Unified</td>\n",
       "      <td>61119</td>\n",
       "    </tr>\n",
       "    <tr>\n",
       "      <th>3</th>\n",
       "      <td>Albany City Unified</td>\n",
       "      <td>61127</td>\n",
       "    </tr>\n",
       "    <tr>\n",
       "      <th>4</th>\n",
       "      <td>Berkeley Unified</td>\n",
       "      <td>61143</td>\n",
       "    </tr>\n",
       "  </tbody>\n",
       "</table>\n",
       "</div>"
      ],
      "text/plain": [
       "                                       district_name District Code\n",
       "0  California School for the Blind (State Special...         31609\n",
       "1  California School for the Deaf-Fremont (State ...         31617\n",
       "2                                    Alameda Unified         61119\n",
       "3                                Albany City Unified         61127\n",
       "4                                   Berkeley Unified         61143"
      ]
     },
     "execution_count": 60,
     "metadata": {},
     "output_type": "execute_result"
    }
   ],
   "source": [
    "w2 = pandas.DataFrame(list(zip(names, codes,)), \n",
    "               columns =['district_name', 'District Code',])\n",
    "w2.head()"
   ]
  },
  {
   "cell_type": "code",
   "execution_count": 61,
   "metadata": {},
   "outputs": [],
   "source": [
    "counties = frpm['county_name'].unique()\n",
    "countnames = []\n",
    "for county in counties:\n",
    "        temp2 = frpm[frpm['county_name'] == county]\n",
    "        countnames.append(temp2['District Code'].values[0])"
   ]
  },
  {
   "cell_type": "code",
   "execution_count": 62,
   "metadata": {},
   "outputs": [
    {
     "data": {
      "text/html": [
       "<div>\n",
       "<style scoped>\n",
       "    .dataframe tbody tr th:only-of-type {\n",
       "        vertical-align: middle;\n",
       "    }\n",
       "\n",
       "    .dataframe tbody tr th {\n",
       "        vertical-align: top;\n",
       "    }\n",
       "\n",
       "    .dataframe thead th {\n",
       "        text-align: right;\n",
       "    }\n",
       "</style>\n",
       "<table border=\"1\" class=\"dataframe\">\n",
       "  <thead>\n",
       "    <tr style=\"text-align: right;\">\n",
       "      <th></th>\n",
       "      <th>county_name</th>\n",
       "      <th>fips</th>\n",
       "    </tr>\n",
       "  </thead>\n",
       "  <tbody>\n",
       "    <tr>\n",
       "      <th>0</th>\n",
       "      <td>Alameda</td>\n",
       "      <td>31609</td>\n",
       "    </tr>\n",
       "    <tr>\n",
       "      <th>1</th>\n",
       "      <td>Alpine</td>\n",
       "      <td>61333</td>\n",
       "    </tr>\n",
       "    <tr>\n",
       "      <th>2</th>\n",
       "      <td>Amador</td>\n",
       "      <td>73981</td>\n",
       "    </tr>\n",
       "    <tr>\n",
       "      <th>3</th>\n",
       "      <td>Butte</td>\n",
       "      <td>61382</td>\n",
       "    </tr>\n",
       "    <tr>\n",
       "      <th>4</th>\n",
       "      <td>Calaveras</td>\n",
       "      <td>61556</td>\n",
       "    </tr>\n",
       "  </tbody>\n",
       "</table>\n",
       "</div>"
      ],
      "text/plain": [
       "  county_name   fips\n",
       "0     Alameda  31609\n",
       "1      Alpine  61333\n",
       "2      Amador  73981\n",
       "3       Butte  61382\n",
       "4   Calaveras  61556"
      ]
     },
     "execution_count": 62,
     "metadata": {},
     "output_type": "execute_result"
    }
   ],
   "source": [
    "w3 = pandas.DataFrame(list(zip(counties, countnames)),\n",
    "                     columns =['county_name', 'fips',])\n",
    "\n",
    "w3.head()"
   ]
  },
  {
   "cell_type": "code",
   "execution_count": 63,
   "metadata": {},
   "outputs": [],
   "source": [
    "# creating cfips df\n",
    "cnames = (\n",
    "'Alameda County', \n",
    "'Alpine County', \n",
    "'Amador County', \n",
    "'Butte County', \n",
    "'Calaveras County', \n",
    "'Colusa County', \n",
    "'Contra Costa County',\n",
    "'Del Norte County', \n",
    "'El Dorado County', \n",
    "'Fresno County', \n",
    "'Glenn County',\n",
    "'Humboldt County',\n",
    "'Imperial County', \n",
    "'Inyo County',\n",
    "'Kern County', \n",
    "'Kings County',\n",
    "'Lake County', \n",
    "'Lassen County',\n",
    "'Los Angeles County', \n",
    "'Madera County', \n",
    "'Marin County', \n",
    "'Mariposa County', \n",
    "'Mendocino County', \n",
    "'Merced County', \n",
    "'Modoc County', \n",
    "'Mono County', \n",
    "'Monterey County', \n",
    "'Napa County', \n",
    "'Nevada County', \n",
    "'Orange County',\n",
    "'Placer County',\n",
    "'Plumas County', \n",
    "'Riverside County', \n",
    "'Sacramento County', \n",
    "'San Benito County', \n",
    "'San Bernardino County', \n",
    "'San Diego County', \n",
    "'San Francisco County', \n",
    "'San Joaquin County', \n",
    "'San Luis Obispo County',\n",
    "'San Mateo County',\n",
    "'Santa Barbara County', \n",
    "'Santa Clara County',\n",
    "'Santa Cruz County', \n",
    "'Shasta County', \n",
    "'Sierra County', \n",
    "'Siskiyou County', \n",
    "'Solano County', \n",
    "'Sonoma County',\n",
    "'Stanislaus County', \n",
    "'Sutter County', \n",
    "'Tehama County',\n",
    "'Trinity County', \n",
    "'Tulare County', \n",
    "'Tuolumne County', \n",
    "'Ventura County', \n",
    "'Yolo County',\n",
    "'Yuba County')"
   ]
  },
  {
   "cell_type": "code",
   "execution_count": 64,
   "metadata": {
    "scrolled": false
   },
   "outputs": [],
   "source": [
    "geoid = ('06001',\n",
    "'06003',\n",
    "'06005',\n",
    "'06007',\n",
    "'06009',\n",
    "'06011',\n",
    "'06013',\n",
    "'06015',\n",
    "'06017',\n",
    "'06019',\n",
    "'06021',\n",
    "'06023',\n",
    "'06025',\n",
    "'06027',\n",
    "'06029',\n",
    "'06031',\n",
    "'06033',\n",
    "'06035',\n",
    "'06037',\n",
    "'06039',\n",
    "'06041',\n",
    "'06043',\n",
    "'06045',\n",
    "'06047',\n",
    "'06049',\n",
    "'06051',\n",
    "'06053',\n",
    "'06055',\n",
    "'06057',\n",
    "'06059',\n",
    "'06061',\n",
    "'06063',\n",
    "'06065',\n",
    "'06067',\n",
    "'06069',\n",
    "'06071',\n",
    "'06073',\n",
    "'06075',\n",
    "'06077',\n",
    "'06079',\n",
    "'06081',\n",
    "'06083',\n",
    "'06085',\n",
    "'06087',\n",
    "'06089',\n",
    "'06091',\n",
    "'06093',\n",
    "'06095',\n",
    "'06097',\n",
    "'06099',\n",
    "'06101',\n",
    "'06103',\n",
    "'06105',\n",
    "'06107',\n",
    "'06109',\n",
    "'06111',\n",
    "'06113', \n",
    "'06115')"
   ]
  },
  {
   "cell_type": "code",
   "execution_count": 65,
   "metadata": {},
   "outputs": [],
   "source": [
    "cfips = pandas.DataFrame(zip(cnames, geoid), columns=['county_name', 'GEOID'])\n",
    "cfips['county_name'] = cfips['county_name'].str.replace('County', '')\n",
    "# stripping white space"
   ]
  },
  {
   "cell_type": "code",
   "execution_count": 66,
   "metadata": {},
   "outputs": [
    {
     "data": {
      "text/plain": [
       "(966, 5)"
      ]
     },
     "execution_count": 66,
     "metadata": {},
     "output_type": "execute_result"
    }
   ],
   "source": [
    "dffrpm2.shape"
   ]
  },
  {
   "cell_type": "code",
   "execution_count": 67,
   "metadata": {},
   "outputs": [],
   "source": [
    "t1 = pandas.merge(dffrpm2, w2, how='left', on=['district_name'])\n",
    "# merge 1"
   ]
  },
  {
   "cell_type": "code",
   "execution_count": 68,
   "metadata": {},
   "outputs": [
    {
     "data": {
      "text/plain": [
       "(966, 7)"
      ]
     },
     "execution_count": 68,
     "metadata": {},
     "output_type": "execute_result"
    }
   ],
   "source": [
    "t1.shape"
   ]
  },
  {
   "cell_type": "code",
   "execution_count": 69,
   "metadata": {},
   "outputs": [],
   "source": [
    "t1 = pandas.merge(w1, t1, how='left', on=['district_name'])\n",
    "# merge 2"
   ]
  },
  {
   "cell_type": "code",
   "execution_count": 70,
   "metadata": {
    "scrolled": true
   },
   "outputs": [
    {
     "data": {
      "text/plain": [
       "(966, 8)"
      ]
     },
     "execution_count": 70,
     "metadata": {},
     "output_type": "execute_result"
    }
   ],
   "source": [
    "t1.shape"
   ]
  },
  {
   "cell_type": "code",
   "execution_count": 71,
   "metadata": {
    "scrolled": false
   },
   "outputs": [
    {
     "data": {
      "text/html": [
       "<div>\n",
       "<style scoped>\n",
       "    .dataframe tbody tr th:only-of-type {\n",
       "        vertical-align: middle;\n",
       "    }\n",
       "\n",
       "    .dataframe tbody tr th {\n",
       "        vertical-align: top;\n",
       "    }\n",
       "\n",
       "    .dataframe thead th {\n",
       "        text-align: right;\n",
       "    }\n",
       "</style>\n",
       "<table border=\"1\" class=\"dataframe\">\n",
       "  <thead>\n",
       "    <tr style=\"text-align: right;\">\n",
       "      <th></th>\n",
       "      <th>district_name</th>\n",
       "      <th>county_name</th>\n",
       "      <th>enrollment_by_age</th>\n",
       "      <th>free_count_by_age</th>\n",
       "      <th>frpm_count_by_age</th>\n",
       "      <th>pct_frpm_by_age</th>\n",
       "      <th>pct_free_by_age</th>\n",
       "      <th>District Code</th>\n",
       "    </tr>\n",
       "  </thead>\n",
       "  <tbody>\n",
       "    <tr>\n",
       "      <th>0</th>\n",
       "      <td>California School for the Blind (State Special...</td>\n",
       "      <td>Alameda</td>\n",
       "      <td>42</td>\n",
       "      <td>42</td>\n",
       "      <td>42</td>\n",
       "      <td>1.000000</td>\n",
       "      <td>1.000000</td>\n",
       "      <td>31609</td>\n",
       "    </tr>\n",
       "    <tr>\n",
       "      <th>1</th>\n",
       "      <td>California School for the Deaf-Fremont (State ...</td>\n",
       "      <td>Alameda</td>\n",
       "      <td>311</td>\n",
       "      <td>311</td>\n",
       "      <td>311</td>\n",
       "      <td>1.000000</td>\n",
       "      <td>1.000000</td>\n",
       "      <td>31617</td>\n",
       "    </tr>\n",
       "    <tr>\n",
       "      <th>2</th>\n",
       "      <td>Alameda Unified</td>\n",
       "      <td>Alameda</td>\n",
       "      <td>11031</td>\n",
       "      <td>2953</td>\n",
       "      <td>3306</td>\n",
       "      <td>0.299701</td>\n",
       "      <td>0.267700</td>\n",
       "      <td>61119</td>\n",
       "    </tr>\n",
       "    <tr>\n",
       "      <th>3</th>\n",
       "      <td>Albany City Unified</td>\n",
       "      <td>Alameda</td>\n",
       "      <td>3612</td>\n",
       "      <td>647</td>\n",
       "      <td>742</td>\n",
       "      <td>0.205426</td>\n",
       "      <td>0.179125</td>\n",
       "      <td>61127</td>\n",
       "    </tr>\n",
       "    <tr>\n",
       "      <th>4</th>\n",
       "      <td>Berkeley Unified</td>\n",
       "      <td>Alameda</td>\n",
       "      <td>10022</td>\n",
       "      <td>2758</td>\n",
       "      <td>3153</td>\n",
       "      <td>0.314608</td>\n",
       "      <td>0.275195</td>\n",
       "      <td>61143</td>\n",
       "    </tr>\n",
       "  </tbody>\n",
       "</table>\n",
       "</div>"
      ],
      "text/plain": [
       "                                       district_name county_name  \\\n",
       "0  California School for the Blind (State Special...     Alameda   \n",
       "1  California School for the Deaf-Fremont (State ...     Alameda   \n",
       "2                                    Alameda Unified     Alameda   \n",
       "3                                Albany City Unified     Alameda   \n",
       "4                                   Berkeley Unified     Alameda   \n",
       "\n",
       "   enrollment_by_age  free_count_by_age  frpm_count_by_age  pct_frpm_by_age  \\\n",
       "0                 42                 42                 42         1.000000   \n",
       "1                311                311                311         1.000000   \n",
       "2              11031               2953               3306         0.299701   \n",
       "3               3612                647                742         0.205426   \n",
       "4              10022               2758               3153         0.314608   \n",
       "\n",
       "   pct_free_by_age District Code  \n",
       "0         1.000000         31609  \n",
       "1         1.000000         31617  \n",
       "2         0.267700         61119  \n",
       "3         0.179125         61127  \n",
       "4         0.275195         61143  "
      ]
     },
     "execution_count": 71,
     "metadata": {},
     "output_type": "execute_result"
    }
   ],
   "source": [
    "t1.head()"
   ]
  },
  {
   "cell_type": "code",
   "execution_count": 72,
   "metadata": {},
   "outputs": [
    {
     "data": {
      "text/html": [
       "<div>\n",
       "<style scoped>\n",
       "    .dataframe tbody tr th:only-of-type {\n",
       "        vertical-align: middle;\n",
       "    }\n",
       "\n",
       "    .dataframe tbody tr th {\n",
       "        vertical-align: top;\n",
       "    }\n",
       "\n",
       "    .dataframe thead th {\n",
       "        text-align: right;\n",
       "    }\n",
       "</style>\n",
       "<table border=\"1\" class=\"dataframe\">\n",
       "  <thead>\n",
       "    <tr style=\"text-align: right;\">\n",
       "      <th></th>\n",
       "      <th>District Code</th>\n",
       "      <th>Local Educational Agency</th>\n",
       "      <th>unduplicated_pupil_count</th>\n",
       "      <th>base_grant</th>\n",
       "      <th>supplemental_grant</th>\n",
       "      <th>concentration_grant</th>\n",
       "      <th>total_grants</th>\n",
       "      <th>cds</th>\n",
       "    </tr>\n",
       "  </thead>\n",
       "  <tbody>\n",
       "    <tr>\n",
       "      <th>10</th>\n",
       "      <td>61119</td>\n",
       "      <td>Alameda Unified</td>\n",
       "      <td>0.3486</td>\n",
       "      <td>75,938,983</td>\n",
       "      <td>5,294,466</td>\n",
       "      <td>-</td>\n",
       "      <td>82,158,116</td>\n",
       "      <td>01611190000000</td>\n",
       "    </tr>\n",
       "    <tr>\n",
       "      <th>16</th>\n",
       "      <td>61127</td>\n",
       "      <td>Albany City Unified</td>\n",
       "      <td>0.2833</td>\n",
       "      <td>29,644,972</td>\n",
       "      <td>1,679,684</td>\n",
       "      <td>-</td>\n",
       "      <td>31,352,540</td>\n",
       "      <td>01611270000000</td>\n",
       "    </tr>\n",
       "    <tr>\n",
       "      <th>17</th>\n",
       "      <td>61143</td>\n",
       "      <td>Berkeley Unified</td>\n",
       "      <td>0.3519</td>\n",
       "      <td>78,556,532</td>\n",
       "      <td>5,528,808</td>\n",
       "      <td>-</td>\n",
       "      <td>89,369,621</td>\n",
       "      <td>01611430000000</td>\n",
       "    </tr>\n",
       "    <tr>\n",
       "      <th>19</th>\n",
       "      <td>61150</td>\n",
       "      <td>Castro Valley Unified</td>\n",
       "      <td>0.2904</td>\n",
       "      <td>74,911,585</td>\n",
       "      <td>4,350,864</td>\n",
       "      <td>-</td>\n",
       "      <td>79,554,607</td>\n",
       "      <td>01611500000000</td>\n",
       "    </tr>\n",
       "    <tr>\n",
       "      <th>20</th>\n",
       "      <td>61168</td>\n",
       "      <td>Emery Unified</td>\n",
       "      <td>0.7953</td>\n",
       "      <td>5,702,229</td>\n",
       "      <td>906,997</td>\n",
       "      <td>699,378</td>\n",
       "      <td>7,326,875</td>\n",
       "      <td>01611680000000</td>\n",
       "    </tr>\n",
       "    <tr>\n",
       "      <th>...</th>\n",
       "      <td>...</td>\n",
       "      <td>...</td>\n",
       "      <td>...</td>\n",
       "      <td>...</td>\n",
       "      <td>...</td>\n",
       "      <td>...</td>\n",
       "      <td>...</td>\n",
       "      <td>...</td>\n",
       "    </tr>\n",
       "    <tr>\n",
       "      <th>2233</th>\n",
       "      <td>72728</td>\n",
       "      <td>Camptonville Elementary</td>\n",
       "      <td>0.6988</td>\n",
       "      <td>420,692</td>\n",
       "      <td>58,796</td>\n",
       "      <td>31,299</td>\n",
       "      <td>537,244</td>\n",
       "      <td>58727280000000</td>\n",
       "    </tr>\n",
       "    <tr>\n",
       "      <th>2235</th>\n",
       "      <td>72736</td>\n",
       "      <td>Marysville Joint Unified</td>\n",
       "      <td>0.8168</td>\n",
       "      <td>76,193,862</td>\n",
       "      <td>12,447,028</td>\n",
       "      <td>10,164,261</td>\n",
       "      <td>100,261,913</td>\n",
       "      <td>58727360000000</td>\n",
       "    </tr>\n",
       "    <tr>\n",
       "      <th>2238</th>\n",
       "      <td>72744</td>\n",
       "      <td>Plumas Lake Elementary</td>\n",
       "      <td>0.3868</td>\n",
       "      <td>10,261,440</td>\n",
       "      <td>793,825</td>\n",
       "      <td>-</td>\n",
       "      <td>11,108,901</td>\n",
       "      <td>58727440000000</td>\n",
       "    </tr>\n",
       "    <tr>\n",
       "      <th>2239</th>\n",
       "      <td>72751</td>\n",
       "      <td>Wheatland</td>\n",
       "      <td>0.4783</td>\n",
       "      <td>9,947,133</td>\n",
       "      <td>951,543</td>\n",
       "      <td>-</td>\n",
       "      <td>11,234,349</td>\n",
       "      <td>58727510000000</td>\n",
       "    </tr>\n",
       "    <tr>\n",
       "      <th>2241</th>\n",
       "      <td>72769</td>\n",
       "      <td>Wheatland Union High</td>\n",
       "      <td>0.4283</td>\n",
       "      <td>7,062,422</td>\n",
       "      <td>604,967</td>\n",
       "      <td>-</td>\n",
       "      <td>7,852,628</td>\n",
       "      <td>58727690000000</td>\n",
       "    </tr>\n",
       "  </tbody>\n",
       "</table>\n",
       "<p>944 rows × 8 columns</p>\n",
       "</div>"
      ],
      "text/plain": [
       "     District Code  Local Educational Agency unduplicated_pupil_count  \\\n",
       "10           61119           Alameda Unified                  0.3486    \n",
       "16           61127       Albany City Unified                  0.2833    \n",
       "17           61143          Berkeley Unified                  0.3519    \n",
       "19           61150     Castro Valley Unified                  0.2904    \n",
       "20           61168             Emery Unified                  0.7953    \n",
       "...            ...                       ...                      ...   \n",
       "2233         72728   Camptonville Elementary                  0.6988    \n",
       "2235         72736  Marysville Joint Unified                  0.8168    \n",
       "2238         72744    Plumas Lake Elementary                  0.3868    \n",
       "2239         72751                 Wheatland                  0.4783    \n",
       "2241         72769      Wheatland Union High                  0.4283    \n",
       "\n",
       "        base_grant supplemental_grant concentration_grant   total_grants  \\\n",
       "10     75,938,983          5,294,466                   -     82,158,116    \n",
       "16     29,644,972          1,679,684                   -     31,352,540    \n",
       "17     78,556,532          5,528,808                   -     89,369,621    \n",
       "19     74,911,585          4,350,864                   -     79,554,607    \n",
       "20      5,702,229            906,997             699,378      7,326,875    \n",
       "...            ...                ...                 ...            ...   \n",
       "2233      420,692             58,796              31,299        537,244    \n",
       "2235   76,193,862         12,447,028          10,164,261    100,261,913    \n",
       "2238   10,261,440            793,825                   -     11,108,901    \n",
       "2239    9,947,133            951,543                   -     11,234,349    \n",
       "2241    7,062,422            604,967                   -      7,852,628    \n",
       "\n",
       "                 cds  \n",
       "10    01611190000000  \n",
       "16    01611270000000  \n",
       "17    01611430000000  \n",
       "19    01611500000000  \n",
       "20    01611680000000  \n",
       "...              ...  \n",
       "2233  58727280000000  \n",
       "2235  58727360000000  \n",
       "2238  58727440000000  \n",
       "2239  58727510000000  \n",
       "2241  58727690000000  \n",
       "\n",
       "[944 rows x 8 columns]"
      ]
     },
     "execution_count": 72,
     "metadata": {},
     "output_type": "execute_result"
    }
   ],
   "source": [
    "dflcff"
   ]
  },
  {
   "cell_type": "code",
   "execution_count": 73,
   "metadata": {},
   "outputs": [],
   "source": [
    "y1 = t1.merge(dflcff, how='left', on='District Code')"
   ]
  },
  {
   "cell_type": "code",
   "execution_count": 74,
   "metadata": {},
   "outputs": [
    {
     "data": {
      "text/html": [
       "<div>\n",
       "<style scoped>\n",
       "    .dataframe tbody tr th:only-of-type {\n",
       "        vertical-align: middle;\n",
       "    }\n",
       "\n",
       "    .dataframe tbody tr th {\n",
       "        vertical-align: top;\n",
       "    }\n",
       "\n",
       "    .dataframe thead th {\n",
       "        text-align: right;\n",
       "    }\n",
       "</style>\n",
       "<table border=\"1\" class=\"dataframe\">\n",
       "  <thead>\n",
       "    <tr style=\"text-align: right;\">\n",
       "      <th></th>\n",
       "      <th>district_name</th>\n",
       "      <th>county_name</th>\n",
       "      <th>enrollment_by_age</th>\n",
       "      <th>free_count_by_age</th>\n",
       "      <th>frpm_count_by_age</th>\n",
       "      <th>pct_frpm_by_age</th>\n",
       "      <th>pct_free_by_age</th>\n",
       "      <th>District Code</th>\n",
       "      <th>Local Educational Agency</th>\n",
       "      <th>unduplicated_pupil_count</th>\n",
       "      <th>base_grant</th>\n",
       "      <th>supplemental_grant</th>\n",
       "      <th>concentration_grant</th>\n",
       "      <th>total_grants</th>\n",
       "      <th>cds</th>\n",
       "    </tr>\n",
       "  </thead>\n",
       "  <tbody>\n",
       "    <tr>\n",
       "      <th>0</th>\n",
       "      <td>California School for the Blind (State Special...</td>\n",
       "      <td>Alameda</td>\n",
       "      <td>42</td>\n",
       "      <td>42</td>\n",
       "      <td>42</td>\n",
       "      <td>1.000000</td>\n",
       "      <td>1.000000</td>\n",
       "      <td>31609</td>\n",
       "      <td>NaN</td>\n",
       "      <td>NaN</td>\n",
       "      <td>NaN</td>\n",
       "      <td>NaN</td>\n",
       "      <td>NaN</td>\n",
       "      <td>NaN</td>\n",
       "      <td>NaN</td>\n",
       "    </tr>\n",
       "    <tr>\n",
       "      <th>1</th>\n",
       "      <td>California School for the Deaf-Fremont (State ...</td>\n",
       "      <td>Alameda</td>\n",
       "      <td>311</td>\n",
       "      <td>311</td>\n",
       "      <td>311</td>\n",
       "      <td>1.000000</td>\n",
       "      <td>1.000000</td>\n",
       "      <td>31617</td>\n",
       "      <td>NaN</td>\n",
       "      <td>NaN</td>\n",
       "      <td>NaN</td>\n",
       "      <td>NaN</td>\n",
       "      <td>NaN</td>\n",
       "      <td>NaN</td>\n",
       "      <td>NaN</td>\n",
       "    </tr>\n",
       "    <tr>\n",
       "      <th>2</th>\n",
       "      <td>Alameda Unified</td>\n",
       "      <td>Alameda</td>\n",
       "      <td>11031</td>\n",
       "      <td>2953</td>\n",
       "      <td>3306</td>\n",
       "      <td>0.299701</td>\n",
       "      <td>0.267700</td>\n",
       "      <td>61119</td>\n",
       "      <td>Alameda Unified</td>\n",
       "      <td>0.3486</td>\n",
       "      <td>75,938,983</td>\n",
       "      <td>5,294,466</td>\n",
       "      <td>-</td>\n",
       "      <td>82,158,116</td>\n",
       "      <td>01611190000000</td>\n",
       "    </tr>\n",
       "    <tr>\n",
       "      <th>3</th>\n",
       "      <td>Albany City Unified</td>\n",
       "      <td>Alameda</td>\n",
       "      <td>3612</td>\n",
       "      <td>647</td>\n",
       "      <td>742</td>\n",
       "      <td>0.205426</td>\n",
       "      <td>0.179125</td>\n",
       "      <td>61127</td>\n",
       "      <td>Albany City Unified</td>\n",
       "      <td>0.2833</td>\n",
       "      <td>29,644,972</td>\n",
       "      <td>1,679,684</td>\n",
       "      <td>-</td>\n",
       "      <td>31,352,540</td>\n",
       "      <td>01611270000000</td>\n",
       "    </tr>\n",
       "    <tr>\n",
       "      <th>4</th>\n",
       "      <td>Berkeley Unified</td>\n",
       "      <td>Alameda</td>\n",
       "      <td>10022</td>\n",
       "      <td>2758</td>\n",
       "      <td>3153</td>\n",
       "      <td>0.314608</td>\n",
       "      <td>0.275195</td>\n",
       "      <td>61143</td>\n",
       "      <td>Berkeley Unified</td>\n",
       "      <td>0.3519</td>\n",
       "      <td>78,556,532</td>\n",
       "      <td>5,528,808</td>\n",
       "      <td>-</td>\n",
       "      <td>89,369,621</td>\n",
       "      <td>01611430000000</td>\n",
       "    </tr>\n",
       "    <tr>\n",
       "      <th>...</th>\n",
       "      <td>...</td>\n",
       "      <td>...</td>\n",
       "      <td>...</td>\n",
       "      <td>...</td>\n",
       "      <td>...</td>\n",
       "      <td>...</td>\n",
       "      <td>...</td>\n",
       "      <td>...</td>\n",
       "      <td>...</td>\n",
       "      <td>...</td>\n",
       "      <td>...</td>\n",
       "      <td>...</td>\n",
       "      <td>...</td>\n",
       "      <td>...</td>\n",
       "      <td>...</td>\n",
       "    </tr>\n",
       "    <tr>\n",
       "      <th>961</th>\n",
       "      <td>Camptonville Elementary</td>\n",
       "      <td>Yuba</td>\n",
       "      <td>475</td>\n",
       "      <td>200</td>\n",
       "      <td>260</td>\n",
       "      <td>0.547368</td>\n",
       "      <td>0.421053</td>\n",
       "      <td>72728</td>\n",
       "      <td>Camptonville Elementary</td>\n",
       "      <td>0.6988</td>\n",
       "      <td>420,692</td>\n",
       "      <td>58,796</td>\n",
       "      <td>31,299</td>\n",
       "      <td>537,244</td>\n",
       "      <td>58727280000000</td>\n",
       "    </tr>\n",
       "    <tr>\n",
       "      <th>962</th>\n",
       "      <td>Marysville Joint Unified</td>\n",
       "      <td>Yuba</td>\n",
       "      <td>9963</td>\n",
       "      <td>7226</td>\n",
       "      <td>7833</td>\n",
       "      <td>0.786209</td>\n",
       "      <td>0.725284</td>\n",
       "      <td>72736</td>\n",
       "      <td>Marysville Joint Unified</td>\n",
       "      <td>0.8168</td>\n",
       "      <td>76,193,862</td>\n",
       "      <td>12,447,028</td>\n",
       "      <td>10,164,261</td>\n",
       "      <td>100,261,913</td>\n",
       "      <td>58727360000000</td>\n",
       "    </tr>\n",
       "    <tr>\n",
       "      <th>963</th>\n",
       "      <td>Plumas Lake Elementary</td>\n",
       "      <td>Yuba</td>\n",
       "      <td>1301</td>\n",
       "      <td>374</td>\n",
       "      <td>478</td>\n",
       "      <td>0.367410</td>\n",
       "      <td>0.287471</td>\n",
       "      <td>72744</td>\n",
       "      <td>Plumas Lake Elementary</td>\n",
       "      <td>0.3868</td>\n",
       "      <td>10,261,440</td>\n",
       "      <td>793,825</td>\n",
       "      <td>-</td>\n",
       "      <td>11,108,901</td>\n",
       "      <td>58727440000000</td>\n",
       "    </tr>\n",
       "    <tr>\n",
       "      <th>964</th>\n",
       "      <td>Wheatland</td>\n",
       "      <td>Yuba</td>\n",
       "      <td>1364</td>\n",
       "      <td>457</td>\n",
       "      <td>644</td>\n",
       "      <td>0.472141</td>\n",
       "      <td>0.335044</td>\n",
       "      <td>72751</td>\n",
       "      <td>Wheatland</td>\n",
       "      <td>0.4783</td>\n",
       "      <td>9,947,133</td>\n",
       "      <td>951,543</td>\n",
       "      <td>-</td>\n",
       "      <td>11,234,349</td>\n",
       "      <td>58727510000000</td>\n",
       "    </tr>\n",
       "    <tr>\n",
       "      <th>965</th>\n",
       "      <td>Wheatland Union High</td>\n",
       "      <td>Yuba</td>\n",
       "      <td>765</td>\n",
       "      <td>253</td>\n",
       "      <td>335</td>\n",
       "      <td>0.437908</td>\n",
       "      <td>0.330719</td>\n",
       "      <td>72769</td>\n",
       "      <td>Wheatland Union High</td>\n",
       "      <td>0.4283</td>\n",
       "      <td>7,062,422</td>\n",
       "      <td>604,967</td>\n",
       "      <td>-</td>\n",
       "      <td>7,852,628</td>\n",
       "      <td>58727690000000</td>\n",
       "    </tr>\n",
       "  </tbody>\n",
       "</table>\n",
       "<p>966 rows × 15 columns</p>\n",
       "</div>"
      ],
      "text/plain": [
       "                                         district_name county_name  \\\n",
       "0    California School for the Blind (State Special...     Alameda   \n",
       "1    California School for the Deaf-Fremont (State ...     Alameda   \n",
       "2                                      Alameda Unified     Alameda   \n",
       "3                                  Albany City Unified     Alameda   \n",
       "4                                     Berkeley Unified     Alameda   \n",
       "..                                                 ...         ...   \n",
       "961                            Camptonville Elementary        Yuba   \n",
       "962                           Marysville Joint Unified        Yuba   \n",
       "963                             Plumas Lake Elementary        Yuba   \n",
       "964                                          Wheatland        Yuba   \n",
       "965                               Wheatland Union High        Yuba   \n",
       "\n",
       "     enrollment_by_age  free_count_by_age  frpm_count_by_age  pct_frpm_by_age  \\\n",
       "0                   42                 42                 42         1.000000   \n",
       "1                  311                311                311         1.000000   \n",
       "2                11031               2953               3306         0.299701   \n",
       "3                 3612                647                742         0.205426   \n",
       "4                10022               2758               3153         0.314608   \n",
       "..                 ...                ...                ...              ...   \n",
       "961                475                200                260         0.547368   \n",
       "962               9963               7226               7833         0.786209   \n",
       "963               1301                374                478         0.367410   \n",
       "964               1364                457                644         0.472141   \n",
       "965                765                253                335         0.437908   \n",
       "\n",
       "     pct_free_by_age District Code  Local Educational Agency  \\\n",
       "0           1.000000         31609                       NaN   \n",
       "1           1.000000         31617                       NaN   \n",
       "2           0.267700         61119           Alameda Unified   \n",
       "3           0.179125         61127       Albany City Unified   \n",
       "4           0.275195         61143          Berkeley Unified   \n",
       "..               ...           ...                       ...   \n",
       "961         0.421053         72728   Camptonville Elementary   \n",
       "962         0.725284         72736  Marysville Joint Unified   \n",
       "963         0.287471         72744    Plumas Lake Elementary   \n",
       "964         0.335044         72751                 Wheatland   \n",
       "965         0.330719         72769      Wheatland Union High   \n",
       "\n",
       "    unduplicated_pupil_count    base_grant supplemental_grant  \\\n",
       "0                        NaN           NaN                NaN   \n",
       "1                        NaN           NaN                NaN   \n",
       "2                    0.3486    75,938,983          5,294,466    \n",
       "3                    0.2833    29,644,972          1,679,684    \n",
       "4                    0.3519    78,556,532          5,528,808    \n",
       "..                       ...           ...                ...   \n",
       "961                  0.6988       420,692             58,796    \n",
       "962                  0.8168    76,193,862         12,447,028    \n",
       "963                  0.3868    10,261,440            793,825    \n",
       "964                  0.4783     9,947,133            951,543    \n",
       "965                  0.4283     7,062,422            604,967    \n",
       "\n",
       "    concentration_grant   total_grants             cds  \n",
       "0                   NaN            NaN             NaN  \n",
       "1                   NaN            NaN             NaN  \n",
       "2                    -     82,158,116   01611190000000  \n",
       "3                    -     31,352,540   01611270000000  \n",
       "4                    -     89,369,621   01611430000000  \n",
       "..                  ...            ...             ...  \n",
       "961             31,299        537,244   58727280000000  \n",
       "962         10,164,261    100,261,913   58727360000000  \n",
       "963                  -     11,108,901   58727440000000  \n",
       "964                  -     11,234,349   58727510000000  \n",
       "965                  -      7,852,628   58727690000000  \n",
       "\n",
       "[966 rows x 15 columns]"
      ]
     },
     "execution_count": 74,
     "metadata": {},
     "output_type": "execute_result"
    }
   ],
   "source": [
    "y1"
   ]
  },
  {
   "cell_type": "code",
   "execution_count": 75,
   "metadata": {
    "scrolled": true
   },
   "outputs": [
    {
     "data": {
      "text/html": [
       "<div>\n",
       "<style scoped>\n",
       "    .dataframe tbody tr th:only-of-type {\n",
       "        vertical-align: middle;\n",
       "    }\n",
       "\n",
       "    .dataframe tbody tr th {\n",
       "        vertical-align: top;\n",
       "    }\n",
       "\n",
       "    .dataframe thead th {\n",
       "        text-align: right;\n",
       "    }\n",
       "</style>\n",
       "<table border=\"1\" class=\"dataframe\">\n",
       "  <thead>\n",
       "    <tr style=\"text-align: right;\">\n",
       "      <th></th>\n",
       "      <th>district_name</th>\n",
       "      <th>county_name</th>\n",
       "      <th>enrollment_by_age</th>\n",
       "      <th>free_count_by_age</th>\n",
       "      <th>frpm_count_by_age</th>\n",
       "      <th>pct_frpm_by_age</th>\n",
       "      <th>pct_free_by_age</th>\n",
       "      <th>District Code</th>\n",
       "      <th>GEOID_x</th>\n",
       "      <th>STATEFP</th>\n",
       "      <th>UNSDLEA</th>\n",
       "      <th>GEOID_y</th>\n",
       "      <th>NAME</th>\n",
       "      <th>LSAD</th>\n",
       "      <th>LOGRADE</th>\n",
       "      <th>HIGRADE</th>\n",
       "      <th>MTFCC</th>\n",
       "      <th>SDTYP</th>\n",
       "      <th>FUNCSTAT</th>\n",
       "      <th>ALAND</th>\n",
       "      <th>AWATER</th>\n",
       "      <th>INTPTLAT</th>\n",
       "      <th>INTPTLON</th>\n",
       "      <th>geometry</th>\n",
       "      <th>origin</th>\n",
       "      <th>ELSDLEA</th>\n",
       "      <th>SCSDLEA</th>\n",
       "    </tr>\n",
       "  </thead>\n",
       "  <tbody>\n",
       "    <tr>\n",
       "      <th>0</th>\n",
       "      <td>California School for the Blind (State Special...</td>\n",
       "      <td>Alameda</td>\n",
       "      <td>42</td>\n",
       "      <td>42</td>\n",
       "      <td>42</td>\n",
       "      <td>1.000000</td>\n",
       "      <td>1.000000</td>\n",
       "      <td>31609</td>\n",
       "      <td>06001</td>\n",
       "      <td>NaN</td>\n",
       "      <td>NaN</td>\n",
       "      <td>NaN</td>\n",
       "      <td>NaN</td>\n",
       "      <td>NaN</td>\n",
       "      <td>NaN</td>\n",
       "      <td>NaN</td>\n",
       "      <td>NaN</td>\n",
       "      <td>NaN</td>\n",
       "      <td>NaN</td>\n",
       "      <td>NaN</td>\n",
       "      <td>NaN</td>\n",
       "      <td>NaN</td>\n",
       "      <td>NaN</td>\n",
       "      <td>None</td>\n",
       "      <td>NaN</td>\n",
       "      <td>NaN</td>\n",
       "      <td>NaN</td>\n",
       "    </tr>\n",
       "    <tr>\n",
       "      <th>1</th>\n",
       "      <td>California School for the Deaf-Fremont (State ...</td>\n",
       "      <td>Alameda</td>\n",
       "      <td>311</td>\n",
       "      <td>311</td>\n",
       "      <td>311</td>\n",
       "      <td>1.000000</td>\n",
       "      <td>1.000000</td>\n",
       "      <td>31617</td>\n",
       "      <td>06001</td>\n",
       "      <td>NaN</td>\n",
       "      <td>NaN</td>\n",
       "      <td>NaN</td>\n",
       "      <td>NaN</td>\n",
       "      <td>NaN</td>\n",
       "      <td>NaN</td>\n",
       "      <td>NaN</td>\n",
       "      <td>NaN</td>\n",
       "      <td>NaN</td>\n",
       "      <td>NaN</td>\n",
       "      <td>NaN</td>\n",
       "      <td>NaN</td>\n",
       "      <td>NaN</td>\n",
       "      <td>NaN</td>\n",
       "      <td>None</td>\n",
       "      <td>NaN</td>\n",
       "      <td>NaN</td>\n",
       "      <td>NaN</td>\n",
       "    </tr>\n",
       "    <tr>\n",
       "      <th>2</th>\n",
       "      <td>Alameda Unified</td>\n",
       "      <td>Alameda</td>\n",
       "      <td>11031</td>\n",
       "      <td>2953</td>\n",
       "      <td>3306</td>\n",
       "      <td>0.299701</td>\n",
       "      <td>0.267700</td>\n",
       "      <td>61119</td>\n",
       "      <td>06001</td>\n",
       "      <td>NaN</td>\n",
       "      <td>NaN</td>\n",
       "      <td>NaN</td>\n",
       "      <td>NaN</td>\n",
       "      <td>NaN</td>\n",
       "      <td>NaN</td>\n",
       "      <td>NaN</td>\n",
       "      <td>NaN</td>\n",
       "      <td>NaN</td>\n",
       "      <td>NaN</td>\n",
       "      <td>NaN</td>\n",
       "      <td>NaN</td>\n",
       "      <td>NaN</td>\n",
       "      <td>NaN</td>\n",
       "      <td>None</td>\n",
       "      <td>NaN</td>\n",
       "      <td>NaN</td>\n",
       "      <td>NaN</td>\n",
       "    </tr>\n",
       "    <tr>\n",
       "      <th>3</th>\n",
       "      <td>Albany City Unified</td>\n",
       "      <td>Alameda</td>\n",
       "      <td>3612</td>\n",
       "      <td>647</td>\n",
       "      <td>742</td>\n",
       "      <td>0.205426</td>\n",
       "      <td>0.179125</td>\n",
       "      <td>61127</td>\n",
       "      <td>06001</td>\n",
       "      <td>06</td>\n",
       "      <td>01860</td>\n",
       "      <td>0601860</td>\n",
       "      <td>Albany City Unified</td>\n",
       "      <td>00</td>\n",
       "      <td>KG</td>\n",
       "      <td>12</td>\n",
       "      <td>G5420</td>\n",
       "      <td>None</td>\n",
       "      <td>E</td>\n",
       "      <td>4634305.0</td>\n",
       "      <td>9523833.0</td>\n",
       "      <td>+37.8906499</td>\n",
       "      <td>-122.3181164</td>\n",
       "      <td>POLYGON ((-122.37312 37.88388, -122.37114 37.8...</td>\n",
       "      <td>unified</td>\n",
       "      <td>NaN</td>\n",
       "      <td>NaN</td>\n",
       "    </tr>\n",
       "    <tr>\n",
       "      <th>4</th>\n",
       "      <td>Berkeley Unified</td>\n",
       "      <td>Alameda</td>\n",
       "      <td>10022</td>\n",
       "      <td>2758</td>\n",
       "      <td>3153</td>\n",
       "      <td>0.314608</td>\n",
       "      <td>0.275195</td>\n",
       "      <td>61143</td>\n",
       "      <td>06001</td>\n",
       "      <td>06</td>\n",
       "      <td>04740</td>\n",
       "      <td>0604740</td>\n",
       "      <td>Berkeley Unified</td>\n",
       "      <td>00</td>\n",
       "      <td>KG</td>\n",
       "      <td>12</td>\n",
       "      <td>G5420</td>\n",
       "      <td>None</td>\n",
       "      <td>E</td>\n",
       "      <td>27095285.0</td>\n",
       "      <td>18715614.0</td>\n",
       "      <td>+37.8669717</td>\n",
       "      <td>-122.2991474</td>\n",
       "      <td>POLYGON ((-122.36778 37.86673, -122.35671 37.8...</td>\n",
       "      <td>unified</td>\n",
       "      <td>NaN</td>\n",
       "      <td>NaN</td>\n",
       "    </tr>\n",
       "  </tbody>\n",
       "</table>\n",
       "</div>"
      ],
      "text/plain": [
       "                                       district_name county_name  \\\n",
       "0  California School for the Blind (State Special...     Alameda   \n",
       "1  California School for the Deaf-Fremont (State ...     Alameda   \n",
       "2                                    Alameda Unified     Alameda   \n",
       "3                                Albany City Unified     Alameda   \n",
       "4                                   Berkeley Unified     Alameda   \n",
       "\n",
       "   enrollment_by_age  free_count_by_age  frpm_count_by_age  pct_frpm_by_age  \\\n",
       "0                 42                 42                 42         1.000000   \n",
       "1                311                311                311         1.000000   \n",
       "2              11031               2953               3306         0.299701   \n",
       "3               3612                647                742         0.205426   \n",
       "4              10022               2758               3153         0.314608   \n",
       "\n",
       "   pct_free_by_age District Code GEOID_x STATEFP UNSDLEA  GEOID_y  \\\n",
       "0         1.000000         31609   06001     NaN     NaN      NaN   \n",
       "1         1.000000         31617   06001     NaN     NaN      NaN   \n",
       "2         0.267700         61119   06001     NaN     NaN      NaN   \n",
       "3         0.179125         61127   06001      06   01860  0601860   \n",
       "4         0.275195         61143   06001      06   04740  0604740   \n",
       "\n",
       "                  NAME LSAD LOGRADE HIGRADE  MTFCC SDTYP FUNCSTAT       ALAND  \\\n",
       "0                  NaN  NaN     NaN     NaN    NaN   NaN      NaN         NaN   \n",
       "1                  NaN  NaN     NaN     NaN    NaN   NaN      NaN         NaN   \n",
       "2                  NaN  NaN     NaN     NaN    NaN   NaN      NaN         NaN   \n",
       "3  Albany City Unified   00      KG      12  G5420  None        E   4634305.0   \n",
       "4     Berkeley Unified   00      KG      12  G5420  None        E  27095285.0   \n",
       "\n",
       "       AWATER     INTPTLAT      INTPTLON  \\\n",
       "0         NaN          NaN           NaN   \n",
       "1         NaN          NaN           NaN   \n",
       "2         NaN          NaN           NaN   \n",
       "3   9523833.0  +37.8906499  -122.3181164   \n",
       "4  18715614.0  +37.8669717  -122.2991474   \n",
       "\n",
       "                                            geometry   origin ELSDLEA SCSDLEA  \n",
       "0                                               None      NaN     NaN     NaN  \n",
       "1                                               None      NaN     NaN     NaN  \n",
       "2                                               None      NaN     NaN     NaN  \n",
       "3  POLYGON ((-122.37312 37.88388, -122.37114 37.8...  unified     NaN     NaN  \n",
       "4  POLYGON ((-122.36778 37.86673, -122.35671 37.8...  unified     NaN     NaN  "
      ]
     },
     "execution_count": 75,
     "metadata": {},
     "output_type": "execute_result"
    }
   ],
   "source": [
    "t1 = t1.rename(columns={'District Code_x': 'District Code',})\n",
    "# fixing column name\n",
    "t1.county_name = t1.county_name.str.strip()\n",
    "cfips.county_name = cfips.county_name.str.strip()\n",
    "adistricts.NAME = adistricts.NAME.str.strip()\n",
    "# stripping white space\n",
    "t2 = t1.merge(cfips, how='left', on=['county_name'])\n",
    "# merge with cfips\n",
    "gdf1 = t2.merge(adistricts, how='left', left_on='district_name', right_on='NAME')\n",
    "# merge 4\n",
    "gdf1 = geopandas.GeoDataFrame(gdf1)\n",
    "# convert to geodataframe\n",
    "gdf1.head()\n",
    "# deal with the duplicated names (pioneer, jefferson, lakeside)"
   ]
  },
  {
   "cell_type": "code",
   "execution_count": 76,
   "metadata": {},
   "outputs": [
    {
     "data": {
      "text/plain": [
       "138"
      ]
     },
     "execution_count": 76,
     "metadata": {},
     "output_type": "execute_result"
    }
   ],
   "source": [
    "g2 = gdf1[gdf1['geometry'].isnull()]\n",
    "len(g2)\n",
    "# number of districts from `frpm` without a matching geometry"
   ]
  },
  {
   "cell_type": "code",
   "execution_count": 77,
   "metadata": {},
   "outputs": [
    {
     "data": {
      "text/plain": [
       "(980, 27)"
      ]
     },
     "execution_count": 77,
     "metadata": {},
     "output_type": "execute_result"
    }
   ],
   "source": [
    "gdf1.shape"
   ]
  },
  {
   "cell_type": "code",
   "execution_count": 78,
   "metadata": {
    "scrolled": true
   },
   "outputs": [
    {
     "data": {
      "text/plain": [
       "<matplotlib.axes._subplots.AxesSubplot at 0x1609c6fae88>"
      ]
     },
     "execution_count": 78,
     "metadata": {},
     "output_type": "execute_result"
    },
    {
     "data": {
      "image/png": "[encoded data removed]",
      "text/plain": [
       "<Figure size 864x576 with 1 Axes>"
      ]
     },
     "metadata": {
      "needs_background": "light"
     },
     "output_type": "display_data"
    }
   ],
   "source": [
    "f, ax = plt.subplots(figsize  = (12, 8))\n",
    "\n",
    "ax.set_title(\"Share of Free/Reduced Meal Qualification\", fontsize=18)\n",
    "\n",
    "gdf1.plot(\n",
    "    column='pct_frpm_by_age',\n",
    "    legend=True,\n",
    "    figsize=(15, 15),\n",
    "    scheme=\"fisherjenks\",\n",
    "    linewidth=.3,\n",
    "    edgecolor='black',\n",
    "    cmap='viridis',\n",
    "    k=8,\n",
    "    ax=ax\n",
    "        )"
   ]
  },
  {
   "cell_type": "code",
   "execution_count": 94,
   "metadata": {},
   "outputs": [
    {
     "ename": "NameError",
     "evalue": "name 'treatment' is not defined",
     "output_type": "error",
     "traceback": [
      "\u001b[1;31m---------------------------------------------------------------------------\u001b[0m",
      "\u001b[1;31mNameError\u001b[0m                                 Traceback (most recent call last)",
      "\u001b[1;32m<ipython-input-94-33c8b1b00939>\u001b[0m in \u001b[0;36m<module>\u001b[1;34m\u001b[0m\n\u001b[1;32m----> 1\u001b[1;33m \u001b[0mgdf1\u001b[0m\u001b[1;33m.\u001b[0m\u001b[0mloc\u001b[0m\u001b[1;33m[\u001b[0m\u001b[0mgdf1\u001b[0m\u001b[1;33m[\u001b[0m\u001b[0mtreatment\u001b[0m\u001b[1;33m]\u001b[0m \u001b[1;33m==\u001b[0m \u001b[1;34m'1'\u001b[0m\u001b[1;33m]\u001b[0m\u001b[1;33m\u001b[0m\u001b[1;33m\u001b[0m\u001b[0m\n\u001b[0m",
      "\u001b[1;31mNameError\u001b[0m: name 'treatment' is not defined"
     ]
    }
   ],
   "source": []
  },
  {
   "cell_type": "markdown",
   "metadata": {},
   "source": [
    "## Unduplicated pupil count breakpoint groups\n",
    "\n",
    "compare groups to state averages"
   ]
  },
  {
   "cell_type": "code",
   "execution_count": 79,
   "metadata": {},
   "outputs": [],
   "source": [
    "a1 = pandas.merge(dflcff, adistricts, how='left', left_on='Local Educational Agency', right_on='NAME')\n",
    "# DELETE THIS LATER"
   ]
  },
  {
   "cell_type": "code",
   "execution_count": 80,
   "metadata": {},
   "outputs": [],
   "source": [
    "df = a1"
   ]
  },
  {
   "cell_type": "code",
   "execution_count": 81,
   "metadata": {
    "scrolled": false
   },
   "outputs": [],
   "source": [
    "df['unduplicated_pupil_count'] = df['unduplicated_pupil_count'].astype(float)"
   ]
  },
  {
   "cell_type": "code",
   "execution_count": 82,
   "metadata": {
    "scrolled": false
   },
   "outputs": [],
   "source": [
    "df['treatment'] = (df.unduplicated_pupil_count >= 0.55) * 1\n",
    "# creating dummy variable"
   ]
  },
  {
   "cell_type": "code",
   "execution_count": 83,
   "metadata": {},
   "outputs": [],
   "source": [
    "r3 = list(df['District Code'])\n",
    "# list of districts to extract from performance data\n",
    "mathpop = dfm[dfm['District Code'].isin(r3)]\n",
    "# extracting from math\n",
    "engpop = dfe[dfe['District Code'].isin(r3)]\n",
    "# extracting from english\n",
    "dffrpm['District Code'] = dffrpm.index\n",
    "frpmpop = dffrpm[dffrpm['District Code'].isin(r3)]\n",
    "frpmpop = frpmpop.reset_index(drop=True)\n",
    "# extracting from frpm\n",
    "engpop = engpop.rename(columns={'currstatus': 'ela_currstatus', 'priorstatus': 'ela_priorstatus', 'change' : 'ela_change'})\n",
    "mathpop = mathpop.rename(columns={'currstatus': 'm_currstatus', 'priorstatus': 'm_priorstatus', 'change' : 'm_change'})\n",
    "#renaming columns"
   ]
  },
  {
   "cell_type": "code",
   "execution_count": 84,
   "metadata": {
    "scrolled": false
   },
   "outputs": [],
   "source": [
    "df['total_grants'] = df['total_grants'].str.replace(',' , '').astype(float).astype(int)"
   ]
  },
  {
   "cell_type": "code",
   "execution_count": 85,
   "metadata": {
    "scrolled": true
   },
   "outputs": [],
   "source": [
    "df = df.merge(frpmpop, how='left', on='District Code')\n",
    "# merging with frpm\n",
    "df['per_capita_funds'] = df['total_grants'] / df['enrollment_by_age']\n",
    "# inferring per capita"
   ]
  },
  {
   "cell_type": "code",
   "execution_count": 86,
   "metadata": {},
   "outputs": [],
   "source": [
    "df.drop('STATEFP', axis=1, inplace=True)\n",
    "df.drop('UNSDLEA', axis=1, inplace=True)\n",
    "df.drop('GEOID', axis=1, inplace=True)\n",
    "df.drop('NAME', axis=1, inplace=True)\n",
    "df.drop('LSAD', axis=1, inplace=True)\n",
    "df.drop('LOGRADE', axis=1, inplace=True)\n",
    "df.drop('HIGRADE', axis=1, inplace=True)\n",
    "df.drop('MTFCC', axis=1, inplace=True)\n",
    "df.drop('SDTYP', axis=1, inplace=True)\n",
    "df.drop('FUNCSTAT', axis=1, inplace=True)\n",
    "df.drop('ALAND', axis=1, inplace=True)\n",
    "df.drop('AWATER', axis=1, inplace=True)\n",
    "df.drop('INTPTLAT', axis=1, inplace=True)\n",
    "df.drop('INTPTLON', axis=1, inplace=True)\n",
    "df.drop('origin', axis=1, inplace=True)\n",
    "df.drop('ELSDLEA', axis=1, inplace=True)\n",
    "df.drop('SCSDLEA', axis=1, inplace=True)"
   ]
  },
  {
   "cell_type": "code",
   "execution_count": 87,
   "metadata": {
    "scrolled": false
   },
   "outputs": [
    {
     "data": {
      "text/html": [
       "<div>\n",
       "<style scoped>\n",
       "    .dataframe tbody tr th:only-of-type {\n",
       "        vertical-align: middle;\n",
       "    }\n",
       "\n",
       "    .dataframe tbody tr th {\n",
       "        vertical-align: top;\n",
       "    }\n",
       "\n",
       "    .dataframe thead th {\n",
       "        text-align: right;\n",
       "    }\n",
       "</style>\n",
       "<table border=\"1\" class=\"dataframe\">\n",
       "  <thead>\n",
       "    <tr style=\"text-align: right;\">\n",
       "      <th></th>\n",
       "      <th>District Code</th>\n",
       "      <th>Local Educational Agency</th>\n",
       "      <th>unduplicated_pupil_count</th>\n",
       "      <th>base_grant</th>\n",
       "      <th>supplemental_grant</th>\n",
       "      <th>concentration_grant</th>\n",
       "      <th>total_grants</th>\n",
       "      <th>cds</th>\n",
       "      <th>geometry</th>\n",
       "      <th>treatment</th>\n",
       "      <th>enrollment_by_age</th>\n",
       "      <th>free_count_by_age</th>\n",
       "      <th>frpm_count_by_age</th>\n",
       "      <th>pct_frpm_by_age</th>\n",
       "      <th>pct_free_by_age</th>\n",
       "      <th>per_capita_funds</th>\n",
       "    </tr>\n",
       "  </thead>\n",
       "  <tbody>\n",
       "    <tr>\n",
       "      <th>0</th>\n",
       "      <td>61119</td>\n",
       "      <td>Alameda Unified</td>\n",
       "      <td>0.3486</td>\n",
       "      <td>75,938,983</td>\n",
       "      <td>5,294,466</td>\n",
       "      <td>-</td>\n",
       "      <td>82158116</td>\n",
       "      <td>01611190000000</td>\n",
       "      <td>None</td>\n",
       "      <td>0</td>\n",
       "      <td>11031</td>\n",
       "      <td>2953</td>\n",
       "      <td>3306</td>\n",
       "      <td>0.299701</td>\n",
       "      <td>0.267700</td>\n",
       "      <td>7447.930015</td>\n",
       "    </tr>\n",
       "    <tr>\n",
       "      <th>1</th>\n",
       "      <td>61127</td>\n",
       "      <td>Albany City Unified</td>\n",
       "      <td>0.2833</td>\n",
       "      <td>29,644,972</td>\n",
       "      <td>1,679,684</td>\n",
       "      <td>-</td>\n",
       "      <td>31352540</td>\n",
       "      <td>01611270000000</td>\n",
       "      <td>POLYGON ((-122.37312 37.88388, -122.37114 37.8...</td>\n",
       "      <td>0</td>\n",
       "      <td>3612</td>\n",
       "      <td>647</td>\n",
       "      <td>742</td>\n",
       "      <td>0.205426</td>\n",
       "      <td>0.179125</td>\n",
       "      <td>8680.105205</td>\n",
       "    </tr>\n",
       "    <tr>\n",
       "      <th>2</th>\n",
       "      <td>61143</td>\n",
       "      <td>Berkeley Unified</td>\n",
       "      <td>0.3519</td>\n",
       "      <td>78,556,532</td>\n",
       "      <td>5,528,808</td>\n",
       "      <td>-</td>\n",
       "      <td>89369621</td>\n",
       "      <td>01611430000000</td>\n",
       "      <td>POLYGON ((-122.36778 37.86673, -122.35671 37.8...</td>\n",
       "      <td>0</td>\n",
       "      <td>10022</td>\n",
       "      <td>2758</td>\n",
       "      <td>3153</td>\n",
       "      <td>0.314608</td>\n",
       "      <td>0.275195</td>\n",
       "      <td>8917.343943</td>\n",
       "    </tr>\n",
       "    <tr>\n",
       "      <th>3</th>\n",
       "      <td>61150</td>\n",
       "      <td>Castro Valley Unified</td>\n",
       "      <td>0.2904</td>\n",
       "      <td>74,911,585</td>\n",
       "      <td>4,350,864</td>\n",
       "      <td>-</td>\n",
       "      <td>79554607</td>\n",
       "      <td>01611500000000</td>\n",
       "      <td>POLYGON ((-122.17916 37.80498, -122.17914 37.8...</td>\n",
       "      <td>0</td>\n",
       "      <td>9106</td>\n",
       "      <td>1811</td>\n",
       "      <td>2178</td>\n",
       "      <td>0.239183</td>\n",
       "      <td>0.198880</td>\n",
       "      <td>8736.504173</td>\n",
       "    </tr>\n",
       "    <tr>\n",
       "      <th>4</th>\n",
       "      <td>61168</td>\n",
       "      <td>Emery Unified</td>\n",
       "      <td>0.7953</td>\n",
       "      <td>5,702,229</td>\n",
       "      <td>906,997</td>\n",
       "      <td>699,378</td>\n",
       "      <td>7326875</td>\n",
       "      <td>01611680000000</td>\n",
       "      <td>POLYGON ((-122.33014 37.84111, -122.32432 37.8...</td>\n",
       "      <td>1</td>\n",
       "      <td>727</td>\n",
       "      <td>515</td>\n",
       "      <td>583</td>\n",
       "      <td>0.801926</td>\n",
       "      <td>0.708391</td>\n",
       "      <td>10078.232462</td>\n",
       "    </tr>\n",
       "  </tbody>\n",
       "</table>\n",
       "</div>"
      ],
      "text/plain": [
       "  District Code Local Educational Agency  unduplicated_pupil_count  \\\n",
       "0         61119          Alameda Unified                    0.3486   \n",
       "1         61127      Albany City Unified                    0.2833   \n",
       "2         61143         Berkeley Unified                    0.3519   \n",
       "3         61150    Castro Valley Unified                    0.2904   \n",
       "4         61168            Emery Unified                    0.7953   \n",
       "\n",
       "     base_grant supplemental_grant concentration_grant  total_grants  \\\n",
       "0   75,938,983          5,294,466                   -       82158116   \n",
       "1   29,644,972          1,679,684                   -       31352540   \n",
       "2   78,556,532          5,528,808                   -       89369621   \n",
       "3   74,911,585          4,350,864                   -       79554607   \n",
       "4    5,702,229            906,997             699,378        7326875   \n",
       "\n",
       "              cds                                           geometry  \\\n",
       "0  01611190000000                                               None   \n",
       "1  01611270000000  POLYGON ((-122.37312 37.88388, -122.37114 37.8...   \n",
       "2  01611430000000  POLYGON ((-122.36778 37.86673, -122.35671 37.8...   \n",
       "3  01611500000000  POLYGON ((-122.17916 37.80498, -122.17914 37.8...   \n",
       "4  01611680000000  POLYGON ((-122.33014 37.84111, -122.32432 37.8...   \n",
       "\n",
       "   treatment  enrollment_by_age  free_count_by_age  frpm_count_by_age  \\\n",
       "0          0              11031               2953               3306   \n",
       "1          0               3612                647                742   \n",
       "2          0              10022               2758               3153   \n",
       "3          0               9106               1811               2178   \n",
       "4          1                727                515                583   \n",
       "\n",
       "   pct_frpm_by_age  pct_free_by_age  per_capita_funds  \n",
       "0         0.299701         0.267700       7447.930015  \n",
       "1         0.205426         0.179125       8680.105205  \n",
       "2         0.314608         0.275195       8917.343943  \n",
       "3         0.239183         0.198880       8736.504173  \n",
       "4         0.801926         0.708391      10078.232462  "
      ]
     },
     "execution_count": 87,
     "metadata": {},
     "output_type": "execute_result"
    }
   ],
   "source": [
    "df.head()\n",
    "# full dataframe"
   ]
  },
  {
   "cell_type": "code",
   "execution_count": 99,
   "metadata": {},
   "outputs": [
    {
     "data": {
      "text/plain": [
       "<bound method DataFrame.count of     District Code   Local Educational Agency  unduplicated_pupil_count  \\\n",
       "4           61168              Emery Unified                    0.7953   \n",
       "6           61192            Hayward Unified                    0.7685   \n",
       "8           61218  Mountain House Elementary                    0.7547   \n",
       "9           61234             Newark Unified                    0.5588   \n",
       "11          61259            Oakland Unified                    0.7678   \n",
       "..            ...                        ...                       ...   \n",
       "966         72694         Washington Unified                    0.6856   \n",
       "967         72702      Winters Joint Unified                    0.6912   \n",
       "968         72710     Woodland Joint Unified                    0.6751   \n",
       "969         72728    Camptonville Elementary                    0.6988   \n",
       "970         72736   Marysville Joint Unified                    0.8168   \n",
       "\n",
       "        base_grant supplemental_grant concentration_grant  total_grants  \\\n",
       "4       5,702,229            906,997             699,378        7326875   \n",
       "6     158,763,208         24,401,905          17,344,881      202238284   \n",
       "8         141,838             21,409              14,517         207042   \n",
       "9      47,676,224          5,328,295             209,776       54024719   \n",
       "11    284,749,840         43,726,185          31,009,257      375304926   \n",
       "..             ...                ...                 ...           ...   \n",
       "966    61,703,566          8,460,793           4,183,502       74759025   \n",
       "967    12,381,934          1,711,677             874,165       15184247   \n",
       "968    77,255,593         10,431,050           4,832,338       93665089   \n",
       "969       420,692             58,796              31,299         537244   \n",
       "970    76,193,862         12,447,028          10,164,261      100261913   \n",
       "\n",
       "                cds                                           geometry  \\\n",
       "4    01611680000000  POLYGON ((-122.33014 37.84111, -122.32432 37.8...   \n",
       "6    01611920000000  POLYGON ((-122.21872 37.63171, -122.17564 37.6...   \n",
       "8    01612180000000  POLYGON ((-121.62051 37.75534, -121.62048 37.7...   \n",
       "9    01612340000000  POLYGON ((-122.07814 37.51743, -122.07694 37.5...   \n",
       "11   01612590000000  MULTIPOLYGON (((-122.19706 37.71561, -122.1950...   \n",
       "..              ...                                                ...   \n",
       "966  57726940000000  POLYGON ((-121.61985 38.54876, -121.61982 38.5...   \n",
       "967  57727020000000  POLYGON ((-122.15002 38.62102, -122.14450 38.6...   \n",
       "968  57727100000000  POLYGON ((-121.99872 38.82689, -121.99851 38.8...   \n",
       "969  58727280000000  POLYGON ((-121.16298 39.47496, -121.16254 39.4...   \n",
       "970  58727360000000  POLYGON ((-121.63637 39.24608, -121.63629 39.2...   \n",
       "\n",
       "     treatment  enrollment_by_age  free_count_by_age  frpm_count_by_age  \\\n",
       "4            1                727                515                583   \n",
       "6            1              21970              13502              15328   \n",
       "8            1                 17                  8                 11   \n",
       "9            1               5595               2356               2729   \n",
       "11           1              48390              32546              35295   \n",
       "..         ...                ...                ...                ...   \n",
       "966          1               8166               4787               5382   \n",
       "967          1               1513                845                995   \n",
       "968          1               9790               5094               5915   \n",
       "969          1                475                200                260   \n",
       "970          1               9963               7226               7833   \n",
       "\n",
       "     pct_frpm_by_age  pct_free_by_age  per_capita_funds  \n",
       "4           0.801926         0.708391      10078.232462  \n",
       "6           0.697679         0.614565       9205.201821  \n",
       "8           0.647059         0.470588      12178.941176  \n",
       "9           0.487757         0.421090       9655.892583  \n",
       "11          0.729386         0.672577       7755.836454  \n",
       "..               ...              ...               ...  \n",
       "966         0.659074         0.586211       9154.913666  \n",
       "967         0.657634         0.558493      10035.853933  \n",
       "968         0.604188         0.520327       9567.424821  \n",
       "969         0.547368         0.421053       1131.040000  \n",
       "970         0.786209         0.725284      10063.425976  \n",
       "\n",
       "[583 rows x 16 columns]>"
      ]
     },
     "execution_count": 99,
     "metadata": {},
     "output_type": "execute_result"
    }
   ],
   "source": [
    "df.loc[df['treatment'] == 1].count\n",
    "# there are 583 districts that recieve the concentration grant"
   ]
  },
  {
   "cell_type": "code",
   "execution_count": 88,
   "metadata": {},
   "outputs": [],
   "source": [
    "df.to_csv(\"funds_frpm.csv\")"
   ]
  },
  {
   "cell_type": "code",
   "execution_count": 89,
   "metadata": {},
   "outputs": [],
   "source": [
    "mathpop.to_csv(\"math.csv\")"
   ]
  },
  {
   "cell_type": "code",
   "execution_count": 90,
   "metadata": {},
   "outputs": [],
   "source": [
    "engpop.to_csv(\"ela.csv\")"
   ]
  },
  {
   "cell_type": "markdown",
   "metadata": {},
   "source": [
    "## Compare districts to state average\n",
    "\n",
    "preserve this?"
   ]
  },
  {
   "cell_type": "code",
   "execution_count": 91,
   "metadata": {},
   "outputs": [
    {
     "data": {
      "text/html": [
       "<div>\n",
       "<style scoped>\n",
       "    .dataframe tbody tr th:only-of-type {\n",
       "        vertical-align: middle;\n",
       "    }\n",
       "\n",
       "    .dataframe tbody tr th {\n",
       "        vertical-align: top;\n",
       "    }\n",
       "\n",
       "    .dataframe thead th {\n",
       "        text-align: right;\n",
       "    }\n",
       "</style>\n",
       "<table border=\"1\" class=\"dataframe\">\n",
       "  <thead>\n",
       "    <tr style=\"text-align: right;\">\n",
       "      <th></th>\n",
       "      <th>studentgroup</th>\n",
       "      <th>currstatus</th>\n",
       "      <th>priorstatus</th>\n",
       "      <th>change</th>\n",
       "      <th>currdenom</th>\n",
       "    </tr>\n",
       "  </thead>\n",
       "  <tbody>\n",
       "    <tr>\n",
       "      <th>4</th>\n",
       "      <td>english_learners</td>\n",
       "      <td>-47.1</td>\n",
       "      <td>-50.4</td>\n",
       "      <td>3.3</td>\n",
       "      <td>1000703</td>\n",
       "    </tr>\n",
       "  </tbody>\n",
       "</table>\n",
       "</div>"
      ],
      "text/plain": [
       "       studentgroup  currstatus  priorstatus  change  currdenom\n",
       "4  english_learners       -47.1        -50.4     3.3    1000703"
      ]
     },
     "execution_count": 91,
     "metadata": {},
     "output_type": "execute_result"
    }
   ],
   "source": [
    "ela_state[ela_state['studentgroup'] == 'english_learners']"
   ]
  },
  {
   "cell_type": "code",
   "execution_count": 92,
   "metadata": {},
   "outputs": [
    {
     "ename": "NameError",
     "evalue": "name 'el_df' is not defined",
     "output_type": "error",
     "traceback": [
      "\u001b[1;31m---------------------------------------------------------------------------\u001b[0m",
      "\u001b[1;31mNameError\u001b[0m                                 Traceback (most recent call last)",
      "\u001b[1;32m<ipython-input-92-c420fd61d32a>\u001b[0m in \u001b[0;36m<module>\u001b[1;34m\u001b[0m\n\u001b[1;32m----> 1\u001b[1;33m \u001b[0mel_gdf\u001b[0m \u001b[1;33m=\u001b[0m \u001b[0mgeopandas\u001b[0m\u001b[1;33m.\u001b[0m\u001b[0mGeoDataFrame\u001b[0m\u001b[1;33m(\u001b[0m\u001b[0mel_df\u001b[0m\u001b[1;33m)\u001b[0m\u001b[1;33m\u001b[0m\u001b[1;33m\u001b[0m\u001b[0m\n\u001b[0m",
      "\u001b[1;31mNameError\u001b[0m: name 'el_df' is not defined"
     ]
    }
   ],
   "source": [
    "el_gdf = geopandas.GeoDataFrame(el_df)"
   ]
  },
  {
   "cell_type": "code",
   "execution_count": null,
   "metadata": {
    "scrolled": false
   },
   "outputs": [],
   "source": [
    "el_gdf.plot(\n",
    "    column='ela_currstatus',\n",
    "    figsize=(15, 15),\n",
    "    legend=True,\n",
    "    scheme=\"fisher_jenks\",\n",
    "    k=7,\n",
    "    )    "
   ]
  },
  {
   "cell_type": "code",
   "execution_count": null,
   "metadata": {},
   "outputs": [],
   "source": [
    "ela_state"
   ]
  },
  {
   "cell_type": "code",
   "execution_count": null,
   "metadata": {},
   "outputs": [],
   "source": [
    "sns.lmplot(x=\"ela_change\", y=\"per_capita_funds\", col=\"treatment\", hue=\"treatment\", data=_df,\n",
    "           ci=None, palette=\"colorblind\", height=5,\n",
    "           scatter_kws={\"s\": 15, \"alpha\": 1}\n",
    "          )"
   ]
  },
  {
   "cell_type": "code",
   "execution_count": null,
   "metadata": {
    "scrolled": false
   },
   "outputs": [],
   "source": [
    "sns.regplot(x='ela_currstatus', y='per_capita_funds*treatment', data=all_df);\n",
    "# control group - total grants' effects on current english scores"
   ]
  },
  {
   "cell_type": "code",
   "execution_count": null,
   "metadata": {
    "scrolled": false
   },
   "outputs": [],
   "source": [
    "sns.regplot(x='total_grants', y='ela_change', data=control);\n",
    "# control group - total grant's effects on change in english score from previous year"
   ]
  },
  {
   "cell_type": "code",
   "execution_count": null,
   "metadata": {},
   "outputs": [],
   "source": [
    "sns.regplot(x='total_grants', y='m_currstatus', data=control);\n",
    "# control group - total grants' effects on current math scores"
   ]
  },
  {
   "cell_type": "code",
   "execution_count": null,
   "metadata": {
    "scrolled": true
   },
   "outputs": [],
   "source": [
    "sns.regplot(x='total_grants', y='m_change', data=control);\n",
    "# control group - total grant's effects on change in math score from previous year"
   ]
  },
  {
   "cell_type": "code",
   "execution_count": null,
   "metadata": {
    "scrolled": false
   },
   "outputs": [],
   "source": [
    "sns.regplot(x='total_grants', y='ela_currstatus', data=treat);\n",
    "# treatment group - total grants' effects on current english scores"
   ]
  },
  {
   "cell_type": "code",
   "execution_count": null,
   "metadata": {},
   "outputs": [],
   "source": [
    "sns.regplot(x='total_grants', y='ela_change', data=treat);\n",
    "# treatment group - total grant's effects on change in english score from previous year"
   ]
  },
  {
   "cell_type": "code",
   "execution_count": null,
   "metadata": {
    "scrolled": true
   },
   "outputs": [],
   "source": [
    "sns.regplot(x='total_grants', y='m_currstatus', data=treat);\n",
    "# treatment group - total grants' effects on current english scores"
   ]
  },
  {
   "cell_type": "code",
   "execution_count": null,
   "metadata": {},
   "outputs": [],
   "source": [
    "sns.regplot(x='total_grants', y='m_change', data=treat);\n",
    "# treatment group - total grant's effects on change in math score from previous year"
   ]
  },
  {
   "cell_type": "markdown",
   "metadata": {},
   "source": [
    "### To deal with dupes: need to remove duplicates NOT in these counties"
   ]
  },
  {
   "cell_type": "code",
   "execution_count": null,
   "metadata": {
    "scrolled": true
   },
   "outputs": [],
   "source": [
    "t2.loc[t2['district_name'] == 'Pioneer Union Elementary']"
   ]
  },
  {
   "cell_type": "code",
   "execution_count": null,
   "metadata": {},
   "outputs": [],
   "source": [
    "gdf1.loc[gdf1['district_name'] == 'Pioneer Union Elementary']"
   ]
  },
  {
   "cell_type": "code",
   "execution_count": null,
   "metadata": {
    "scrolled": true
   },
   "outputs": [],
   "source": [
    "t2.loc[t2['district_name'] == 'Lakeside Union Elementary']"
   ]
  },
  {
   "cell_type": "code",
   "execution_count": null,
   "metadata": {
    "scrolled": true
   },
   "outputs": [],
   "source": [
    "t2.loc[t2['district_name'] == 'Jefferson Elementary']"
   ]
  },
  {
   "cell_type": "code",
   "execution_count": null,
   "metadata": {
    "scrolled": false
   },
   "outputs": [],
   "source": [
    "dupes"
   ]
  },
  {
   "cell_type": "markdown",
   "metadata": {},
   "source": [
    "## Test Variables for merge with District Codes"
   ]
  },
  {
   "cell_type": "code",
   "execution_count": null,
   "metadata": {},
   "outputs": [],
   "source": [
    "geot = set(adsgeo)\n",
    "len(geot)\n",
    "# There are no district codes in the geometries - must match by district name. "
   ]
  },
  {
   "cell_type": "code",
   "execution_count": null,
   "metadata": {},
   "outputs": [],
   "source": [
    "dffrpm"
   ]
  },
  {
   "cell_type": "code",
   "execution_count": null,
   "metadata": {},
   "outputs": [],
   "source": [
    "frpmt = set(t1['District Code'])\n",
    "len(frpmt)"
   ]
  },
  {
   "cell_type": "code",
   "execution_count": null,
   "metadata": {
    "scrolled": true
   },
   "outputs": [],
   "source": [
    "lcfft = set(dflcff['District Code'])\n",
    "len(lcfft)"
   ]
  },
  {
   "cell_type": "code",
   "execution_count": null,
   "metadata": {},
   "outputs": [],
   "source": [
    "elat = set(dfe['District Code'])\n",
    "len(elat)"
   ]
  },
  {
   "cell_type": "code",
   "execution_count": null,
   "metadata": {
    "scrolled": true
   },
   "outputs": [],
   "source": [
    "matht = set(dfm['District Code'])\n",
    "len(matht)\n",
    "# lowest common denominator"
   ]
  },
  {
   "cell_type": "code",
   "execution_count": null,
   "metadata": {},
   "outputs": [],
   "source": [
    "elat.difference(matht)"
   ]
  },
  {
   "cell_type": "code",
   "execution_count": null,
   "metadata": {
    "scrolled": true
   },
   "outputs": [],
   "source": [
    "d2 = lcfft.difference(matht)\n",
    "d2"
   ]
  },
  {
   "cell_type": "code",
   "execution_count": null,
   "metadata": {
    "scrolled": true
   },
   "outputs": [],
   "source": [
    "d3 = lcfft.difference(elat)\n",
    "d3"
   ]
  },
  {
   "cell_type": "code",
   "execution_count": null,
   "metadata": {},
   "outputs": [],
   "source": [
    "drops = d2.intersection(d3)\n",
    "len(drops)"
   ]
  },
  {
   "cell_type": "code",
   "execution_count": null,
   "metadata": {
    "scrolled": true
   },
   "outputs": [],
   "source": [
    "d2.difference(drops)"
   ]
  },
  {
   "cell_type": "code",
   "execution_count": null,
   "metadata": {
    "scrolled": true
   },
   "outputs": [],
   "source": [
    "drops = d2\n",
    "len(drops)"
   ]
  },
  {
   "cell_type": "code",
   "execution_count": null,
   "metadata": {},
   "outputs": [],
   "source": [
    "d4 = frpmt.difference(matht)\n",
    "len(d4)"
   ]
  },
  {
   "cell_type": "code",
   "execution_count": null,
   "metadata": {
    "scrolled": true
   },
   "outputs": [],
   "source": [
    "d2.difference(d4)"
   ]
  },
  {
   "cell_type": "code",
   "execution_count": null,
   "metadata": {
    "scrolled": true
   },
   "outputs": [],
   "source": [
    "d3.difference(d4)"
   ]
  },
  {
   "cell_type": "markdown",
   "metadata": {},
   "source": [
    "### d4 contains the list of districts to drop to merge all 4 datasets. "
   ]
  },
  {
   "cell_type": "code",
   "execution_count": null,
   "metadata": {},
   "outputs": [],
   "source": [
    "len(d4)"
   ]
  },
  {
   "cell_type": "code",
   "execution_count": null,
   "metadata": {
    "scrolled": true
   },
   "outputs": [],
   "source": [
    "d4"
   ]
  },
  {
   "cell_type": "markdown",
   "metadata": {},
   "source": [
    "# Examining data"
   ]
  },
  {
   "cell_type": "markdown",
   "metadata": {},
   "source": [
    "### State-level performance data"
   ]
  },
  {
   "cell_type": "code",
   "execution_count": null,
   "metadata": {
    "scrolled": true
   },
   "outputs": [],
   "source": [
    "ela_state"
   ]
  },
  {
   "cell_type": "code",
   "execution_count": null,
   "metadata": {},
   "outputs": [],
   "source": [
    "math_state"
   ]
  },
  {
   "cell_type": "code",
   "execution_count": null,
   "metadata": {
    "scrolled": true
   },
   "outputs": [],
   "source": [
    "dfe = dfe.rename(columns={'currstatus': 'ela_currstatus',\n",
    "                          'priorstatus': 'ela_priorstatus',\n",
    "                          'change' : 'ela_change'\n",
    "                         })\n",
    "dfe\n",
    "# dataframe english"
   ]
  },
  {
   "cell_type": "code",
   "execution_count": null,
   "metadata": {
    "scrolled": true
   },
   "outputs": [],
   "source": [
    "dfm = dfm.rename(columns={'currstatus': 'm_currstatus',\n",
    "                          'priorstatus': 'm_priorstatus',\n",
    "                          'change' : 'm_change'\n",
    "                         })\n",
    "dfm\n",
    "# dataframe math"
   ]
  },
  {
   "cell_type": "markdown",
   "metadata": {},
   "source": [
    "### Merging lcff and frpm (done)"
   ]
  },
  {
   "cell_type": "code",
   "execution_count": null,
   "metadata": {
    "scrolled": true
   },
   "outputs": [],
   "source": [
    "q1 = dflcff['District Code'].values\n",
    "len(q1)"
   ]
  },
  {
   "cell_type": "code",
   "execution_count": null,
   "metadata": {
    "scrolled": false
   },
   "outputs": [],
   "source": [
    "q2 = t1['District Code'].values\n",
    "len(q2)"
   ]
  },
  {
   "cell_type": "code",
   "execution_count": null,
   "metadata": {},
   "outputs": [],
   "source": [
    "s1 = set(dflcff['District Code'])\n",
    "len(s1)"
   ]
  },
  {
   "cell_type": "code",
   "execution_count": null,
   "metadata": {},
   "outputs": [],
   "source": [
    "s2 = set(t6['District Code'])"
   ]
  },
  {
   "cell_type": "code",
   "execution_count": null,
   "metadata": {
    "scrolled": true
   },
   "outputs": [],
   "source": [
    "s3 = s2.difference(s1)\n",
    "len(s3)"
   ]
  },
  {
   "cell_type": "code",
   "execution_count": null,
   "metadata": {},
   "outputs": [],
   "source": [
    "s4 = s1.difference(s2)\n",
    "len(s4)"
   ]
  },
  {
   "cell_type": "code",
   "execution_count": null,
   "metadata": {},
   "outputs": [],
   "source": [
    "f1 = dflcff[~dflcff['District Code'].isin(s4)]\n",
    "# slicing out matches from lcff\n",
    "f2 = t1[~t1['District Code'].isin(s3)]\n",
    "# slicing out matches from frpm\n",
    "df2 = f1.merge(f2, on='District Code')\n",
    "# merging lcff and frpm\n",
    "df2 = df2.merge(adistricts, how='left', left_on='district_name', right_on='NAME')\n",
    "df2 = geopandas.GeoDataFrame(df2)\n",
    "# merging with geometries, converting to geodataframe"
   ]
  },
  {
   "cell_type": "code",
   "execution_count": null,
   "metadata": {},
   "outputs": [],
   "source": [
    "df2\n",
    "# need to clean this if we're going to use it\n",
    "# have lcff and frpm as two geodataframes above"
   ]
  },
  {
   "cell_type": "code",
   "execution_count": null,
   "metadata": {
    "scrolled": false
   },
   "outputs": [],
   "source": [
    "df2.plot(\n",
    "    column='base_grant',\n",
    "    legend=True,\n",
    "    figsize=(15, 15),\n",
    "    scheme=\"quantiles\"\n",
    "        )"
   ]
  },
  {
   "cell_type": "markdown",
   "metadata": {},
   "source": [
    "# WORKING CELLS: performance"
   ]
  },
  {
   "cell_type": "code",
   "execution_count": null,
   "metadata": {
    "scrolled": false
   },
   "outputs": [],
   "source": [
    "dfe2 = dfe[dfe['District Code'] !='70318']\n",
    "dfe2\n",
    "# inherent problem: after dropping extra district, still 5 extra rows?"
   ]
  },
  {
   "cell_type": "code",
   "execution_count": null,
   "metadata": {
    "scrolled": false
   },
   "outputs": [],
   "source": [
    "dfm.shape"
   ]
  },
  {
   "cell_type": "code",
   "execution_count": null,
   "metadata": {},
   "outputs": [],
   "source": [
    "dfe.head(50)"
   ]
  },
  {
   "cell_type": "code",
   "execution_count": null,
   "metadata": {
    "scrolled": true
   },
   "outputs": [],
   "source": [
    "dfe2 = dfe\n",
    "dfe2"
   ]
  },
  {
   "cell_type": "code",
   "execution_count": null,
   "metadata": {
    "scrolled": true
   },
   "outputs": [],
   "source": [
    "# Create a variable\n",
    "mscore = []\n",
    "\n",
    "\n",
    "for row in dfm['District Code'], dfm['studentgroup']:\n",
    "    mscore.append(row)\n",
    "\n",
    "\n",
    "dfe2['m_currstatus'] = mscore\n",
    "\n",
    "# View the dataframe\n",
    "dfe2\n",
    "\n",
    "# cannot add (ignore index=True) to append line"
   ]
  },
  {
   "cell_type": "code",
   "execution_count": null,
   "metadata": {},
   "outputs": [],
   "source": []
  },
  {
   "cell_type": "code",
   "execution_count": null,
   "metadata": {},
   "outputs": [],
   "source": [
    "pdict = {}"
   ]
  },
  {
   "cell_type": "code",
   "execution_count": null,
   "metadata": {
    "scrolled": true
   },
   "outputs": [],
   "source": [
    "values = dfm.values\n",
    "keys = mkey\n",
    "for i in keys:\n",
    "    for x in values:\n",
    "        pdict[i] = x\n",
    "pdict"
   ]
  },
  {
   "cell_type": "code",
   "execution_count": null,
   "metadata": {},
   "outputs": [],
   "source": [
    "# Can I use the codes and groups to merge onto original dfe dataframe?\n",
    "mdist = dfm['District Code']\n",
    "mgroup = dfm['studentgroup']\n",
    "mscore = dfm['m_currstatus']\n",
    "mprio = dfm['m_priorstatus']\n",
    "mchange = dfm['m_change']\n",
    "mscores = list(zip(mdist, mgroup, mscore, mprio, mchange))\n",
    "mscores"
   ]
  },
  {
   "cell_type": "code",
   "execution_count": null,
   "metadata": {
    "scrolled": true
   },
   "outputs": [],
   "source": [
    "edist = dfe['District Code']\n",
    "egroup = dfe['studentgroup']\n",
    "escore = dfe['ela_currstatus']\n",
    "eprio = dfe['ela_priorstatus']\n",
    "echange = dfe['ela_change']\n",
    "escores = list(zip(edist, egroup, escore, eprio, echange))\n",
    "escores"
   ]
  },
  {
   "cell_type": "code",
   "execution_count": null,
   "metadata": {},
   "outputs": [],
   "source": [
    "result = pandas.merge([escores, mscores], right=edist, sort=False)"
   ]
  },
  {
   "cell_type": "code",
   "execution_count": null,
   "metadata": {
    "scrolled": true
   },
   "outputs": [],
   "source": [
    "scores = []\n",
    "for row in dfm['m_currsrtatus']:\n",
    "    scores.append(ignore_index=True)\n",
    "    \n",
    "dfe['m_currstatus'] = scores\n",
    "dfe"
   ]
  },
  {
   "cell_type": "code",
   "execution_count": null,
   "metadata": {
    "scrolled": true
   },
   "outputs": [],
   "source": [
    "test = dfe.append(dfm, ignore_index=True)"
   ]
  },
  {
   "cell_type": "code",
   "execution_count": null,
   "metadata": {
    "scrolled": true
   },
   "outputs": [],
   "source": [
    "s3 = dfe.combine_first(dfm)\n",
    "s3.head(200)"
   ]
  },
  {
   "cell_type": "code",
   "execution_count": null,
   "metadata": {
    "scrolled": true
   },
   "outputs": [],
   "source": [
    "dfe"
   ]
  },
  {
   "cell_type": "code",
   "execution_count": null,
   "metadata": {},
   "outputs": [],
   "source": [
    "mscores = dfm.districtname, dfm.studentgroup, dfm.m_currstatus, dfm.m_priorstatus, dfm.m_change\n",
    "mscores"
   ]
  },
  {
   "cell_type": "code",
   "execution_count": null,
   "metadata": {},
   "outputs": [],
   "source": [
    "s2 = pandas.concat([dfe, dfm],\n",
    "                   levels=[['studentgroup', 'districtname']],\n",
    "                   axis=1)\n",
    "s2"
   ]
  },
  {
   "cell_type": "code",
   "execution_count": null,
   "metadata": {
    "scrolled": false
   },
   "outputs": [],
   "source": [
    "s2 = pandas.concat([dfe, mscores],\n",
    "                   axis=1,\n",
    "                   levels=[['districtname', 'studentgroup',]],\n",
    "                   ignore_index=True)\n",
    "s2"
   ]
  },
  {
   "cell_type": "code",
   "execution_count": null,
   "metadata": {},
   "outputs": [],
   "source": [
    "s1 = pandas.merge(dfe, dfm, how='inner', \n",
    "                  on=['District Code'], \n",
    "                  right_index=True)"
   ]
  },
  {
   "cell_type": "code",
   "execution_count": null,
   "metadata": {
    "scrolled": false
   },
   "outputs": [],
   "source": [
    "s1\n",
    "# english groups got messed up here"
   ]
  },
  {
   "cell_type": "code",
   "execution_count": null,
   "metadata": {},
   "outputs": [],
   "source": [
    "s1.drop('districtname_y', axis=1, inplace=True)\n",
    "s1.drop('studentgroup_y', axis=1, inplace=True)\n",
    "s1 = s1.rename(columns={'districtname_x': 'districtname',\n",
    "                          'studentgroup_x': 'studentgroup',\n",
    "                        })"
   ]
  },
  {
   "cell_type": "code",
   "execution_count": null,
   "metadata": {
    "scrolled": true
   },
   "outputs": [],
   "source": [
    "s2 = pandas.merge(s1, dflcff, how='left', on=['District Code'])\n",
    "s2\n",
    "# probably a better way to do this"
   ]
  },
  {
   "cell_type": "code",
   "execution_count": null,
   "metadata": {},
   "outputs": [],
   "source": [
    "len(elat)"
   ]
  },
  {
   "cell_type": "code",
   "execution_count": null,
   "metadata": {},
   "outputs": [],
   "source": [
    "len(matht)"
   ]
  },
  {
   "cell_type": "code",
   "execution_count": null,
   "metadata": {
    "scrolled": true
   },
   "outputs": [],
   "source": [
    "dflcff['District Code'].drop(, inplace=True)\n",
    "dflcff"
   ]
  },
  {
   "cell_type": "code",
   "execution_count": null,
   "metadata": {},
   "outputs": [],
   "source": []
  },
  {
   "cell_type": "markdown",
   "metadata": {},
   "source": [
    "trying to make dictionary - this approach would require 34 dictionaries - 1 for every student group (17) in each subject (2: ela, math)"
   ]
  },
  {
   "cell_type": "code",
   "execution_count": null,
   "metadata": {
    "scrolled": true
   },
   "outputs": [],
   "source": [
    "# Create an empty list \n",
    "Row_list =[] \n",
    "  \n",
    "# Iterate over each row \n",
    "for index, rows in ela.iterrows(): \n",
    "    # Create list for the current row \n",
    "    my_list = [rows.studentgroup, rows.currstatus, rows.priorstatus, rows.change, rows.currdenom] \n",
    "      \n",
    "    # append the list to the final list \n",
    "    Row_list.append(my_list) \n",
    "\n",
    "    \n",
    "Row_list"
   ]
  },
  {
   "cell_type": "code",
   "execution_count": null,
   "metadata": {
    "scrolled": true
   },
   "outputs": [],
   "source": [
    "pdict = dict(zip(ela.countyname, Row_list))\n",
    "print(pdict)\n",
    "# closer! only got one student group"
   ]
  },
  {
   "cell_type": "code",
   "execution_count": null,
   "metadata": {
    "scrolled": true
   },
   "outputs": [],
   "source": [
    "district_list = []\n",
    "for index, rows in ela.iterrows():\n",
    "    a_list = [rows.districtname]\n",
    "    district_list.append(a_list)\n",
    "    \n",
    "district_list"
   ]
  },
  {
   "cell_type": "code",
   "execution_count": null,
   "metadata": {},
   "outputs": [],
   "source": [
    "districts"
   ]
  },
  {
   "cell_type": "code",
   "execution_count": null,
   "metadata": {
    "scrolled": false
   },
   "outputs": [],
   "source": [
    "pdict ={} \n",
    "for key in districts: \n",
    "    for value in Row: \n",
    "        pdict[key] = value \n",
    "        Row.remove(value) \n",
    "        break  "
   ]
  },
  {
   "cell_type": "code",
   "execution_count": null,
   "metadata": {},
   "outputs": [],
   "source": [
    "dflcff.drop(s3, inplace=True)\n",
    "dflcff"
   ]
  },
  {
   "cell_type": "markdown",
   "metadata": {},
   "source": [
    "### play cells"
   ]
  },
  {
   "cell_type": "code",
   "execution_count": null,
   "metadata": {
    "scrolled": true
   },
   "outputs": [],
   "source": [
    "lcff.loc[lcff['Local Educational Agency'] == 'Los Angeles Unified']"
   ]
  },
  {
   "cell_type": "code",
   "execution_count": null,
   "metadata": {
    "scrolled": true
   },
   "outputs": [],
   "source": [
    "df[df.total_grants == df.total_grants.max()]"
   ]
  },
  {
   "cell_type": "code",
   "execution_count": null,
   "metadata": {
    "scrolled": true
   },
   "outputs": [],
   "source": [
    "df[df.total_grants == df.total_grants.min()]"
   ]
  },
  {
   "cell_type": "code",
   "execution_count": null,
   "metadata": {
    "scrolled": true
   },
   "outputs": [],
   "source": [
    "lcff.loc[lcff['Local Educational Agency'] == 'Maple Creek Elementary']"
   ]
  },
  {
   "cell_type": "code",
   "execution_count": null,
   "metadata": {
    "scrolled": true
   },
   "outputs": [],
   "source": [
    "3580789986+612100240+545533354"
   ]
  },
  {
   "cell_type": "code",
   "execution_count": null,
   "metadata": {
    "scrolled": true
   },
   "outputs": [],
   "source": [
    "i = ela.loc[ela['rtype'] == 'S']\n",
    "o = i = pandas.concat([i.pop(x) for x in ['schoolname', \n",
    "                                      'cds']],\n",
    "                  1)\n",
    "o\n",
    "# had to check this school's cds code to validate with another dataset"
   ]
  },
  {
   "cell_type": "code",
   "execution_count": null,
   "metadata": {},
   "outputs": [],
   "source": [
    "mlist = []\n",
    "for group in dfm['District Code']:\n",
    "    mlist.append(dfm.studentgroup)\n",
    "    for group in dfm['studentgroup']:\n",
    "        mlist.append(dfm.m_currstatus)\n",
    "mlist"
   ]
  },
  {
   "cell_type": "code",
   "execution_count": null,
   "metadata": {},
   "outputs": [],
   "source": [
    "dfmm = dfm\n",
    "dfm1 = pandas.concat([dfmm.pop(x) for x in ['District Code',\n",
    "                                           'studentgroup',\n",
    "                                           'currstatus',\n",
    "                                           'priorstatus',\n",
    "                                           'change',\n",
    "                                          ]])"
   ]
  },
  {
   "cell_type": "code",
   "execution_count": null,
   "metadata": {},
   "outputs": [],
   "source": [
    "g1 = geopandas.GeoDataFrame(df)"
   ]
  },
  {
   "cell_type": "code",
   "execution_count": null,
   "metadata": {},
   "outputs": [],
   "source": [
    "gtreat = g1[g1['treatment'] == 1]"
   ]
  },
  {
   "cell_type": "code",
   "execution_count": null,
   "metadata": {},
   "outputs": [],
   "source": [
    "gcontrol = g1[g1['treatment'] == 0]"
   ]
  },
  {
   "cell_type": "code",
   "execution_count": null,
   "metadata": {},
   "outputs": [],
   "source": [
    "gtreat.plot(\n",
    "            figsize=(15,15))"
   ]
  },
  {
   "cell_type": "code",
   "execution_count": null,
   "metadata": {},
   "outputs": [],
   "source": [
    "gcontrol.plot(\n",
    "            figsize=(15,15))"
   ]
  },
  {
   "cell_type": "code",
   "execution_count": null,
   "metadata": {},
   "outputs": [],
   "source": [
    "gini = geopandas.read_file(\"gini.csv\")"
   ]
  },
  {
   "cell_type": "code",
   "execution_count": null,
   "metadata": {
    "scrolled": true
   },
   "outputs": [],
   "source": [
    "gini.head()"
   ]
  },
  {
   "cell_type": "code",
   "execution_count": null,
   "metadata": {
    "scrolled": true
   },
   "outputs": [],
   "source": [
    "gini = gini.rename(columns={'field_1': 'county',\n",
    "                            'field_3': 'geoid',\n",
    "                            'field_8': 'gini'})\n",
    "gini.head()"
   ]
  },
  {
   "cell_type": "markdown",
   "metadata": {},
   "source": [
    "# Census Data\n",
    "\n",
    "#### SCAG counties and their FIPS codes:\n",
    "<br> Los Angeles (06037)<br> Orange (06059)<br> Riverside (06065)<br> San Bernardino (06071)<br> San Diego (06073)<br>Imperial (06025)<br> Ventura (06111)"
   ]
  },
  {
   "cell_type": "code",
   "execution_count": null,
   "metadata": {
    "scrolled": true
   },
   "outputs": [],
   "source": [
    "dffrpm"
   ]
  },
  {
   "cell_type": "code",
   "execution_count": null,
   "metadata": {},
   "outputs": [],
   "source": [
    "a1 = geopandas.GeoDataFrame(a1)"
   ]
  },
  {
   "cell_type": "code",
   "execution_count": null,
   "metadata": {
    "scrolled": true
   },
   "outputs": [],
   "source": [
    "ca = Community.from_census(state_fips='06')"
   ]
  },
  {
   "cell_type": "code",
   "execution_count": null,
   "metadata": {},
   "outputs": [],
   "source": [
    "ca.head()"
   ]
  },
  {
   "cell_type": "code",
   "execution_count": null,
   "metadata": {},
   "outputs": [],
   "source": [
    "ca = ca.gdf"
   ]
  },
  {
   "cell_type": "code",
   "execution_count": null,
   "metadata": {},
   "outputs": [],
   "source": [
    "ca.gdf['county'] = ca.gdf.geoid.str[:5]\n",
    "# create counties variable"
   ]
  },
  {
   "cell_type": "code",
   "execution_count": null,
   "metadata": {
    "scrolled": false
   },
   "outputs": [],
   "source": [
    "ca.gdf.plot(column='median_household_income',\n",
    "           legend=True,\n",
    "           figsize=(15, 15),\n",
    "           scheme=\"quantiles\"\n",
    "           )"
   ]
  },
  {
   "cell_type": "code",
   "execution_count": null,
   "metadata": {},
   "outputs": [],
   "source": [
    "countymean = ca.gdf.dissolve(by='county', aggfunc='mean')"
   ]
  },
  {
   "cell_type": "code",
   "execution_count": null,
   "metadata": {
    "scrolled": true
   },
   "outputs": [],
   "source": [
    "countymean.plot(column='median_household_income',\n",
    "                legend=True,\n",
    "                figsize=(15, 15),\n",
    "                scheme=\"quantiles\"\n",
    "                \n",
    "        )"
   ]
  },
  {
   "cell_type": "code",
   "execution_count": null,
   "metadata": {},
   "outputs": [],
   "source": [
    "countymean = county"
   ]
  },
  {
   "cell_type": "code",
   "execution_count": null,
   "metadata": {},
   "outputs": [],
   "source": [
    "countynew = countymean[['median_household_income', 'county']].copy()\n",
    "countynew.head()"
   ]
  },
  {
   "cell_type": "code",
   "execution_count": null,
   "metadata": {
    "scrolled": true
   },
   "outputs": [],
   "source": [
    "canew = ca[['median_household_income', 'county']].copy()\n",
    "canew.head()"
   ]
  },
  {
   "cell_type": "code",
   "execution_count": null,
   "metadata": {},
   "outputs": [],
   "source": [
    "countynew = countynew.merge(canew, how='left', on='county')\n",
    "countynew = countynew.rename(columns={'median_household_income_x': 'county_level_income',\n",
    "                          'median_household_income_y': 'tract_level_income'\n",
    "                         })"
   ]
  },
  {
   "cell_type": "code",
   "execution_count": null,
   "metadata": {},
   "outputs": [],
   "source": [
    "countynew.head()"
   ]
  },
  {
   "cell_type": "code",
   "execution_count": null,
   "metadata": {},
   "outputs": [],
   "source": [
    "gini.drop('field_2', axis=1, inplace=True)\n",
    "gini.drop('field_4', axis=1, inplace=True)\n",
    "gini.drop('field_5', axis=1, inplace=True)\n",
    "gini.drop('field_6', axis=1, inplace=True)\n",
    "gini.head()"
   ]
  },
  {
   "cell_type": "code",
   "execution_count": null,
   "metadata": {
    "scrolled": true
   },
   "outputs": [],
   "source": [
    "y1.head()"
   ]
  },
  {
   "cell_type": "code",
   "execution_count": null,
   "metadata": {},
   "outputs": [],
   "source": [
    "gini2 = y1.merge(gini, how='outer', left_on='county_name', right_on='county')"
   ]
  },
  {
   "cell_type": "code",
   "execution_count": null,
   "metadata": {},
   "outputs": [],
   "source": [
    "gini2.head()"
   ]
  },
  {
   "cell_type": "code",
   "execution_count": null,
   "metadata": {},
   "outputs": [],
   "source": [
    "gini2 = pandas.concat([gini2.pop(x) for x in ['pct_frpm_by_age',\n",
    "                                              'district_name',                                          \n",
    "                                              'unduplicated_pupil_count', \n",
    "                                              'gini', \n",
    "                                              'geoid', \n",
    "                                              \n",
    "                                              ]],1)"
   ]
  },
  {
   "cell_type": "code",
   "execution_count": null,
   "metadata": {},
   "outputs": [],
   "source": [
    "gini2.head(200)"
   ]
  },
  {
   "cell_type": "code",
   "execution_count": null,
   "metadata": {
    "scrolled": true
   },
   "outputs": [],
   "source": [
    "from segregation.aspatial import GiniSeg\n",
    "index = GiniSeg(countynew, 'tract_level_income', 'county_level_income')\n",
    "type(index)"
   ]
  },
  {
   "cell_type": "code",
   "execution_count": null,
   "metadata": {},
   "outputs": [],
   "source": []
  },
  {
   "cell_type": "code",
   "execution_count": null,
   "metadata": {},
   "outputs": [],
   "source": []
  },
  {
   "cell_type": "code",
   "execution_count": null,
   "metadata": {
    "scrolled": false
   },
   "outputs": [],
   "source": [
    "countymean.head()"
   ]
  },
  {
   "cell_type": "code",
   "execution_count": null,
   "metadata": {},
   "outputs": [],
   "source": [
    "ca2 = ca.cluster(method='kmeans', n_clusters=5, columns=['median_household_income', 'n_edu_hs_less'] )\n",
    "ca2.gdf[ca2.gdf.year==2010].plot(column='kmeans',\n",
    "                                 figsize=(15, 15),\n",
    "                                 legend=True\n",
    "                                )"
   ]
  },
  {
   "cell_type": "code",
   "execution_count": null,
   "metadata": {},
   "outputs": [],
   "source": []
  },
  {
   "cell_type": "code",
   "execution_count": null,
   "metadata": {
    "scrolled": false
   },
   "outputs": [],
   "source": [
    "ca.plot(\n",
    "    column='median_household_income',\n",
    "    legend=True,\n",
    "    figsize=(15, 15),\n",
    "    scheme=\"quantiles\"\n",
    "        )"
   ]
  },
  {
   "cell_type": "code",
   "execution_count": null,
   "metadata": {
    "scrolled": false
   },
   "outputs": [],
   "source": [
    "plot(cacom, 'median_household_income')"
   ]
  },
  {
   "cell_type": "code",
   "execution_count": null,
   "metadata": {
    "scrolled": false
   },
   "outputs": [],
   "source": [
    "scag = Community.from_census(county_fips=['06025', '06037', '06059', '06071', '06111', '06073', '06065'])"
   ]
  },
  {
   "cell_type": "code",
   "execution_count": null,
   "metadata": {},
   "outputs": [],
   "source": [
    "scag.gdf.plot(\n",
    "    column = 'median_household_income'\n",
    "            )"
   ]
  },
  {
   "cell_type": "code",
   "execution_count": null,
   "metadata": {
    "scrolled": true
   },
   "outputs": [],
   "source": [
    "rivco = Community.from_census(county_fips=['06065'])"
   ]
  },
  {
   "cell_type": "code",
   "execution_count": null,
   "metadata": {},
   "outputs": [],
   "source": [
    "orangeco = Community.from_census(county_fips=['06059'])"
   ]
  },
  {
   "cell_type": "code",
   "execution_count": null,
   "metadata": {},
   "outputs": [],
   "source": [
    "laco = Community.from_census(county_fips=['06037'])"
   ]
  },
  {
   "cell_type": "code",
   "execution_count": null,
   "metadata": {},
   "outputs": [],
   "source": [
    "sbco = Community.from_census(county_fips=['06071'])"
   ]
  },
  {
   "cell_type": "code",
   "execution_count": null,
   "metadata": {},
   "outputs": [],
   "source": [
    "sdco = Community.from_census(county_fips=['06073'])"
   ]
  },
  {
   "cell_type": "code",
   "execution_count": null,
   "metadata": {
    "scrolled": true
   },
   "outputs": [],
   "source": [
    "f, ax = plt.subplots(1, figsize=(30, 30))\n",
    "ax = rivco.gdf[rivco.gdf.year==2010].plot('p_poverty_rate_over_65', axes=ax)\n",
    "plt.show()\n",
    "\n",
    "# change gdf, variable, and year"
   ]
  },
  {
   "cell_type": "markdown",
   "metadata": {},
   "source": [
    "### This 'plot' function will produce three maps, one from each of the census data years. We can use it to pass in communities and a specific variable to provide a preliminary view of changes over 30 years."
   ]
  },
  {
   "cell_type": "code",
   "execution_count": null,
   "metadata": {},
   "outputs": [],
   "source": [
    "def plot(community, column):\n",
    "    fig, axs = plt.subplots(1,3, figsize=(20,20))\n",
    "    axs=axs.flatten()\n",
    "    \n",
    "    community.gdf[community.gdf.year==1990].dropna(subset=[column]).plot(column=column, scheme='quantiles', cmap='Greens', k=7, ax=axs[0])\n",
    "    axs[0].axis('off')\n",
    "    axs[0].set_title('1990')\n",
    "\n",
    "    community.gdf[community.gdf.year==2000].dropna(subset=[column]).plot(column=column, scheme='quantiles', cmap='Greens', k=7, ax=axs[1])\n",
    "    axs[1].axis('off')\n",
    "    axs[1].set_title('2000')\n",
    "\n",
    "    community.gdf[community.gdf.year==2010].dropna(subset=[column]).plot(column=column, scheme='quantiles', cmap='Greens', k=7, ax=axs[2])\n",
    "    axs[2].axis('off')\n",
    "    axs[2].set_title('2010')"
   ]
  },
  {
   "cell_type": "code",
   "execution_count": null,
   "metadata": {
    "scrolled": true
   },
   "outputs": [],
   "source": [
    "datasets.codebook()"
   ]
  },
  {
   "cell_type": "markdown",
   "metadata": {},
   "source": [
    "### Variables of interest from census:\n",
    "#### economic indicators\n",
    "median_household_income <br>\n",
    "median_home_value OR median_contract_rent<br>\n",
    "median_income_whitehh<br>\n",
    "median_income_blackhh<br>\n",
    "median_income_hispanichh<br>\n",
    "n_edu_college_greater - persons with at least 4-year degree (also available as %)<br>\n",
    "n_edu_hs_less - persons with less than high school (also available as %)<br>\n",
    "\n",
    "#### demographic indicators\n",
    "n_recent_immigrant_pop (within the last 10 years)<br>\n",
    "n_limited_english OR n_other_language<br>\n",
    "n_hispanic_persons<br>\n",
    "n_black_persons<br>\n",
    "n_white_persons"
   ]
  },
  {
   "cell_type": "markdown",
   "metadata": {},
   "source": [
    "## Alternative community construction\n",
    "\n",
    "Can also construct communities from longitudinal tract database (ltdb)"
   ]
  },
  {
   "cell_type": "code",
   "execution_count": null,
   "metadata": {
    "scrolled": true
   },
   "outputs": [],
   "source": [
    "datasets.msas()[datasets.msas().name.str.startswith('Riverside')]"
   ]
  },
  {
   "cell_type": "code",
   "execution_count": null,
   "metadata": {},
   "outputs": [],
   "source": [
    "datasets.msas()[datasets.msas().name.str.startswith('Orange')]"
   ]
  },
  {
   "cell_type": "code",
   "execution_count": null,
   "metadata": {
    "scrolled": true
   },
   "outputs": [],
   "source": [
    "datasets.msas()[datasets.msas().name.str.startswith('San')]"
   ]
  },
  {
   "cell_type": "code",
   "execution_count": null,
   "metadata": {
    "scrolled": true
   },
   "outputs": [],
   "source": [
    "LA = Community.from_ltdb(msa_fips='31080')"
   ]
  },
  {
   "cell_type": "code",
   "execution_count": null,
   "metadata": {
    "scrolled": false
   },
   "outputs": [],
   "source": [
    "SD = Community.from_ltdb(msa_fips='41740')"
   ]
  },
  {
   "cell_type": "code",
   "execution_count": null,
   "metadata": {
    "scrolled": false
   },
   "outputs": [],
   "source": [
    "riverside = Community.from_ltdb(msa_fips='40140')"
   ]
  }
 ],
 "metadata": {
  "kernelspec": {
   "display_name": "Python 3",
   "language": "python",
   "name": "python3"
  },
  "language_info": {
   "codemirror_mode": {
    "name": "ipython",
    "version": 3
   },
   "file_extension": ".py",
   "mimetype": "text/x-python",
   "name": "python",
   "nbconvert_exporter": "python",
   "pygments_lexer": "ipython3",
   "version": "3.7.6"
  },
  "widgets": {
   "application/vnd.jupyter.widget-state+json": {
    "state": {},
    "version_major": 2,
    "version_minor": 0
   }
  }
 },
 "nbformat": 4,
 "nbformat_minor": 2
}
