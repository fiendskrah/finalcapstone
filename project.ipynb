{
 "cells": [
  {
   "cell_type": "code",
   "execution_count": 382,
   "metadata": {
    "scrolled": false
   },
   "outputs": [],
   "source": [
    "import pandas\n",
    "from geosnap import Community\n",
    "from geosnap import datasets\n",
    "import fiona\n",
    "import geopandas\n",
    "%matplotlib inline\n",
    "import matplotlib.pyplot as plt\n",
    "import segregation\n",
    "import numpy as np\n",
    "import seaborn as sns\n",
    "import statsmodels\n",
    "\n",
    "# questions for today 5/27\n",
    "# bucket problem with geosnap?\n",
    "# losing district and county name with frpm aggregation\n",
    "# merge operation breaking ela currstatus "
   ]
  },
  {
   "cell_type": "code",
   "execution_count": 2,
   "metadata": {},
   "outputs": [],
   "source": [
    "pandas.set_option('display.max_rows', 500)\n",
    "pandas.set_option('display.max_column', 500)"
   ]
  },
  {
   "cell_type": "code",
   "execution_count": 3,
   "metadata": {},
   "outputs": [],
   "source": [
    "ele = geopandas.read_file(\"districts_tiger/tl_2015_us_sde.shp\")\n",
    "# Reading in shapefiles from census/tiger"
   ]
  },
  {
   "cell_type": "code",
   "execution_count": 4,
   "metadata": {},
   "outputs": [],
   "source": [
    "seco = geopandas.read_file(\"districts_tiger/tl_2015_us_sds.shp\")"
   ]
  },
  {
   "cell_type": "code",
   "execution_count": 5,
   "metadata": {},
   "outputs": [],
   "source": [
    "uni = geopandas.read_file(\"districts_tiger/tl_2015_us_sdu.shp\")"
   ]
  },
  {
   "cell_type": "code",
   "execution_count": 6,
   "metadata": {
    "scrolled": true
   },
   "outputs": [],
   "source": [
    "ele = ele.loc[ele['STATEFP'] == '06']\n",
    "# slicing out California\n",
    "# elementary school districts in California"
   ]
  },
  {
   "cell_type": "code",
   "execution_count": 7,
   "metadata": {
    "scrolled": true
   },
   "outputs": [],
   "source": [
    "seco = seco.loc[seco['STATEFP'] == '06']\n",
    "# secondary school districts in California"
   ]
  },
  {
   "cell_type": "code",
   "execution_count": 8,
   "metadata": {
    "scrolled": false
   },
   "outputs": [],
   "source": [
    "uni = uni.loc[uni['STATEFP'] == '06']\n",
    "# unified school districts in California"
   ]
  },
  {
   "cell_type": "code",
   "execution_count": 9,
   "metadata": {},
   "outputs": [
    {
     "data": {
      "text/plain": [
       "986"
      ]
     },
     "execution_count": 9,
     "metadata": {},
     "output_type": "execute_result"
    }
   ],
   "source": [
    "len(ele)+len(seco)+len(uni)"
   ]
  },
  {
   "cell_type": "markdown",
   "metadata": {},
   "source": [
    "## Combining shapefiles into single geodataframe"
   ]
  },
  {
   "cell_type": "code",
   "execution_count": 10,
   "metadata": {},
   "outputs": [],
   "source": [
    "ele['origin'] = 'elementary'"
   ]
  },
  {
   "cell_type": "code",
   "execution_count": 11,
   "metadata": {},
   "outputs": [],
   "source": [
    "seco['origin'] = 'secondary'"
   ]
  },
  {
   "cell_type": "code",
   "execution_count": 12,
   "metadata": {},
   "outputs": [],
   "source": [
    "uni['origin'] = 'unified'"
   ]
  },
  {
   "cell_type": "code",
   "execution_count": 13,
   "metadata": {},
   "outputs": [],
   "source": [
    "adistricts = uni.append([ele, seco])\n",
    "#all districts"
   ]
  },
  {
   "cell_type": "code",
   "execution_count": 14,
   "metadata": {
    "scrolled": false
   },
   "outputs": [],
   "source": [
    "adistricts = adistricts.sort_values('NAME', ascending=True)"
   ]
  },
  {
   "cell_type": "code",
   "execution_count": 15,
   "metadata": {},
   "outputs": [],
   "source": [
    "adistricts['NAME'] = adistricts['NAME'].str.replace('School District', '')\n",
    "adistricts['NAME'] = adistricts['NAME'].str.strip()"
   ]
  },
  {
   "cell_type": "code",
   "execution_count": 16,
   "metadata": {
    "scrolled": true
   },
   "outputs": [
    {
     "name": "stdout",
     "output_type": "stream",
     "text": [
      "[]\n"
     ]
    }
   ],
   "source": [
    "check = adistricts['NAME'].str.contains('County Office')\n",
    "res = [i for i, val in enumerate(check) if val]\n",
    "print(res)"
   ]
  },
  {
   "cell_type": "code",
   "execution_count": 17,
   "metadata": {},
   "outputs": [],
   "source": [
    "cnames = (\n",
    "'Alameda County', \n",
    "'Alpine County', \n",
    "'Amador County', \n",
    "'Butte County', \n",
    "'Calaveras County', \n",
    "'Colusa County', \n",
    "'Contra Costa County',\n",
    "'Del Norte County', \n",
    "'El Dorado County', \n",
    "'Fresno County', \n",
    "'Glenn County',\n",
    "'Humboldt County',\n",
    "'Imperial County', \n",
    "'Inyo County',\n",
    "'Kern County', \n",
    "'Kings County',\n",
    "'Lake County', \n",
    "'Lassen County',\n",
    "'Los Angeles County', \n",
    "'Madera County', \n",
    "'Marin County', \n",
    "'Mariposa County', \n",
    "'Mendocino County', \n",
    "'Merced County', \n",
    "'Modoc County', \n",
    "'Mono County', \n",
    "'Monterey County', \n",
    "'Napa County', \n",
    "'Nevada County', \n",
    "'Orange County',\n",
    "'Placer County',\n",
    "'Plumas County', \n",
    "'Riverside County', \n",
    "'Sacramento County', \n",
    "'San Benito County', \n",
    "'San Bernardino County', \n",
    "'San Diego County', \n",
    "'San Francisco County', \n",
    "'San Joaquin County', \n",
    "'San Luis Obispo County',\n",
    "'San Mateo County',\n",
    "'Santa Barbara County', \n",
    "'Santa Clara County',\n",
    "'Santa Cruz County', \n",
    "'Shasta County', \n",
    "'Sierra County', \n",
    "'Siskiyou County', \n",
    "'Solano County', \n",
    "'Sonoma County',\n",
    "'Stanislaus County', \n",
    "'Sutter County', \n",
    "'Tehama County',\n",
    "'Trinity County', \n",
    "'Tulare County', \n",
    "'Tuolumne County', \n",
    "'Ventura County', \n",
    "'Yolo County',\n",
    "'Yuba County')"
   ]
  },
  {
   "cell_type": "code",
   "execution_count": 18,
   "metadata": {
    "scrolled": false
   },
   "outputs": [],
   "source": [
    "geoid = ('06001',\n",
    "'06003',\n",
    "'06005',\n",
    "'06007',\n",
    "'06009',\n",
    "'06011',\n",
    "'06013',\n",
    "'06015',\n",
    "'06017',\n",
    "'06019',\n",
    "'06021',\n",
    "'06023',\n",
    "'06025',\n",
    "'06027',\n",
    "'06029',\n",
    "'06031',\n",
    "'06033',\n",
    "'06035',\n",
    "'06037',\n",
    "'06039',\n",
    "'06041',\n",
    "'06043',\n",
    "'06045',\n",
    "'06047',\n",
    "'06049',\n",
    "'06051',\n",
    "'06053',\n",
    "'06055',\n",
    "'06057',\n",
    "'06059',\n",
    "'06061',\n",
    "'06063',\n",
    "'06065',\n",
    "'06067',\n",
    "'06069',\n",
    "'06071',\n",
    "'06073',\n",
    "'06075',\n",
    "'06077',\n",
    "'06079',\n",
    "'06081',\n",
    "'06083',\n",
    "'06085',\n",
    "'06087',\n",
    "'06089',\n",
    "'06091',\n",
    "'06093',\n",
    "'06095',\n",
    "'06097',\n",
    "'06099',\n",
    "'06101',\n",
    "'06103',\n",
    "'06105',\n",
    "'06107',\n",
    "'06109',\n",
    "'06111',\n",
    "'06113', \n",
    "'06115')"
   ]
  },
  {
   "cell_type": "code",
   "execution_count": 19,
   "metadata": {},
   "outputs": [
    {
     "data": {
      "text/html": [
       "<div>\n",
       "<style scoped>\n",
       "    .dataframe tbody tr th:only-of-type {\n",
       "        vertical-align: middle;\n",
       "    }\n",
       "\n",
       "    .dataframe tbody tr th {\n",
       "        vertical-align: top;\n",
       "    }\n",
       "\n",
       "    .dataframe thead th {\n",
       "        text-align: right;\n",
       "    }\n",
       "</style>\n",
       "<table border=\"1\" class=\"dataframe\">\n",
       "  <thead>\n",
       "    <tr style=\"text-align: right;\">\n",
       "      <th></th>\n",
       "      <th>county_name</th>\n",
       "      <th>GEOID</th>\n",
       "    </tr>\n",
       "  </thead>\n",
       "  <tbody>\n",
       "    <tr>\n",
       "      <th>0</th>\n",
       "      <td>Alameda</td>\n",
       "      <td>06001</td>\n",
       "    </tr>\n",
       "    <tr>\n",
       "      <th>1</th>\n",
       "      <td>Alpine</td>\n",
       "      <td>06003</td>\n",
       "    </tr>\n",
       "    <tr>\n",
       "      <th>2</th>\n",
       "      <td>Amador</td>\n",
       "      <td>06005</td>\n",
       "    </tr>\n",
       "    <tr>\n",
       "      <th>3</th>\n",
       "      <td>Butte</td>\n",
       "      <td>06007</td>\n",
       "    </tr>\n",
       "    <tr>\n",
       "      <th>4</th>\n",
       "      <td>Calaveras</td>\n",
       "      <td>06009</td>\n",
       "    </tr>\n",
       "  </tbody>\n",
       "</table>\n",
       "</div>"
      ],
      "text/plain": [
       "  county_name  GEOID\n",
       "0    Alameda   06001\n",
       "1     Alpine   06003\n",
       "2     Amador   06005\n",
       "3      Butte   06007\n",
       "4  Calaveras   06009"
      ]
     },
     "execution_count": 19,
     "metadata": {},
     "output_type": "execute_result"
    }
   ],
   "source": [
    "cfips = pandas.DataFrame(zip(cnames, geoid), columns=['county_name', 'GEOID'])\n",
    "cfips['county_name'] = cfips['county_name'].str.replace('County', '')\n",
    "# stripping white space\n",
    "cfips.head()"
   ]
  },
  {
   "cell_type": "code",
   "execution_count": 20,
   "metadata": {
    "scrolled": true
   },
   "outputs": [
    {
     "data": {
      "text/plain": [
       "(986, 18)"
      ]
     },
     "execution_count": 20,
     "metadata": {},
     "output_type": "execute_result"
    }
   ],
   "source": [
    "adistricts.shape"
   ]
  },
  {
   "cell_type": "code",
   "execution_count": 21,
   "metadata": {},
   "outputs": [],
   "source": [
    "adsgeo = adistricts['NAME']\n",
    "# all districs name list"
   ]
  },
  {
   "cell_type": "code",
   "execution_count": 22,
   "metadata": {
    "scrolled": true
   },
   "outputs": [
    {
     "data": {
      "text/plain": [
       "(970,)"
      ]
     },
     "execution_count": 22,
     "metadata": {},
     "output_type": "execute_result"
    }
   ],
   "source": [
    "adsgeo.unique().shape\n",
    "# todo: some districts listed twice"
   ]
  },
  {
   "cell_type": "code",
   "execution_count": 23,
   "metadata": {},
   "outputs": [
    {
     "name": "stdout",
     "output_type": "stream",
     "text": [
      "['Jefferson Elementary' 'Lakeside Union Elementary'\n",
      " 'Pioneer Union Elementary']\n"
     ]
    },
    {
     "name": "stderr",
     "output_type": "stream",
     "text": [
      "C:\\Users\\fiend\\Anaconda2\\envs\\capstone\\lib\\site-packages\\ipykernel_launcher.py:2: SettingWithCopyWarning: \n",
      "A value is trying to be set on a copy of a slice from a DataFrame.\n",
      "Try using .loc[row_indexer,col_indexer] = value instead\n",
      "\n",
      "See the caveats in the documentation: https://pandas.pydata.org/pandas-docs/stable/user_guide/indexing.html#returning-a-view-versus-a-copy\n",
      "  \n"
     ]
    }
   ],
   "source": [
    "dupes = adistricts[adistricts['NAME'].isin(adistricts['NAME'].value_counts()[adistricts['NAME'].value_counts()>2].index)]\n",
    "dupes['NAME'] = dupes['NAME'].str.strip()\n",
    "print(dupes['NAME'].unique())\n",
    "# 3 Jefferson\n",
    "# 3 Lakeside\n",
    "# 3 Pioneer\n",
    "\n",
    "# create new column indicating countyID"
   ]
  },
  {
   "cell_type": "markdown",
   "metadata": {},
   "source": [
    "### Harmonizing data\n",
    "\n",
    "ela + math `currstatus` Average distance from Standard of students who took the Smarter Balanced summative assessment in ela/math\n",
    "\n",
    "\n",
    "options<br>\n",
    "* questions of differences across groups? (no geography)\n",
    "* differences across districts (group by district)\n",
    "* differences across groups in districts (interaction effects > more pronounced differences in certain districts)\n",
    "\n",
    "visualization\n",
    "\n",
    "* what is the best indicator to use for choropleth ()\n",
    "\n",
    "* or - use state level values as benchmark for each group (how is it reflected in each district, heterogeniety in space?)"
   ]
  },
  {
   "cell_type": "markdown",
   "metadata": {},
   "source": [
    "## ELA acheivement indicator data\n",
    "Find the codebook [here](https://www.cde.ca.gov/ta/ac/cm/ela18.asp)"
   ]
  },
  {
   "cell_type": "code",
   "execution_count": 24,
   "metadata": {
    "scrolled": false
   },
   "outputs": [
    {
     "name": "stderr",
     "output_type": "stream",
     "text": [
      "C:\\Users\\fiend\\Anaconda2\\envs\\capstone\\lib\\site-packages\\IPython\\core\\interactiveshell.py:3063: DtypeWarning: Columns (6,23) have mixed types.Specify dtype option on import or set low_memory=False.\n",
      "  interactivity=interactivity, compiler=compiler, result=result)\n"
     ]
    },
    {
     "data": {
      "text/plain": [
       "(148838, 32)"
      ]
     },
     "execution_count": 24,
     "metadata": {},
     "output_type": "execute_result"
    }
   ],
   "source": [
    "ela = pandas.read_csv('lcff_data/eladownload2018.csv')\n",
    "ela.shape"
   ]
  },
  {
   "cell_type": "code",
   "execution_count": 25,
   "metadata": {
    "scrolled": true
   },
   "outputs": [
    {
     "data": {
      "text/html": [
       "<div>\n",
       "<style scoped>\n",
       "    .dataframe tbody tr th:only-of-type {\n",
       "        vertical-align: middle;\n",
       "    }\n",
       "\n",
       "    .dataframe tbody tr th {\n",
       "        vertical-align: top;\n",
       "    }\n",
       "\n",
       "    .dataframe thead th {\n",
       "        text-align: right;\n",
       "    }\n",
       "</style>\n",
       "<table border=\"1\" class=\"dataframe\">\n",
       "  <thead>\n",
       "    <tr style=\"text-align: right;\">\n",
       "      <th></th>\n",
       "      <th>cds</th>\n",
       "      <th>rtype</th>\n",
       "      <th>schoolname</th>\n",
       "      <th>districtname</th>\n",
       "      <th>countyname</th>\n",
       "      <th>charter_flag</th>\n",
       "      <th>coe_flag</th>\n",
       "      <th>dass_flag</th>\n",
       "      <th>studentgroup</th>\n",
       "      <th>currdenom</th>\n",
       "      <th>currdenom_swd</th>\n",
       "      <th>currstatus</th>\n",
       "      <th>priordenom</th>\n",
       "      <th>priordenom_swd</th>\n",
       "      <th>priorstatus</th>\n",
       "      <th>change</th>\n",
       "      <th>statuslevel</th>\n",
       "      <th>changelevel</th>\n",
       "      <th>color</th>\n",
       "      <th>box</th>\n",
       "      <th>hscutpoints</th>\n",
       "      <th>curradjustment</th>\n",
       "      <th>prioradjustment</th>\n",
       "      <th>pairshare_method</th>\n",
       "      <th>caa_denom</th>\n",
       "      <th>caa_level1_num</th>\n",
       "      <th>caa_level1_pct</th>\n",
       "      <th>caa_level2_num</th>\n",
       "      <th>caa_level2_pct</th>\n",
       "      <th>caa_level3_num</th>\n",
       "      <th>caa_level3_pct</th>\n",
       "      <th>ReportingYear</th>\n",
       "    </tr>\n",
       "  </thead>\n",
       "  <tbody>\n",
       "    <tr>\n",
       "      <th>0</th>\n",
       "      <td>0</td>\n",
       "      <td>X</td>\n",
       "      <td>NaN</td>\n",
       "      <td>NaN</td>\n",
       "      <td>NaN</td>\n",
       "      <td>NaN</td>\n",
       "      <td>NaN</td>\n",
       "      <td>NaN</td>\n",
       "      <td>AA</td>\n",
       "      <td>172224</td>\n",
       "      <td>NaN</td>\n",
       "      <td>-51.8</td>\n",
       "      <td>177009.0</td>\n",
       "      <td>NaN</td>\n",
       "      <td>-52.7</td>\n",
       "      <td>0.9</td>\n",
       "      <td>2</td>\n",
       "      <td>3</td>\n",
       "      <td>2</td>\n",
       "      <td>180</td>\n",
       "      <td>NaN</td>\n",
       "      <td>NaN</td>\n",
       "      <td>NaN</td>\n",
       "      <td>NaN</td>\n",
       "      <td>NaN</td>\n",
       "      <td>NaN</td>\n",
       "      <td>NaN</td>\n",
       "      <td>NaN</td>\n",
       "      <td>NaN</td>\n",
       "      <td>NaN</td>\n",
       "      <td>NaN</td>\n",
       "      <td>2018</td>\n",
       "    </tr>\n",
       "    <tr>\n",
       "      <th>1</th>\n",
       "      <td>0</td>\n",
       "      <td>X</td>\n",
       "      <td>NaN</td>\n",
       "      <td>NaN</td>\n",
       "      <td>NaN</td>\n",
       "      <td>NaN</td>\n",
       "      <td>NaN</td>\n",
       "      <td>NaN</td>\n",
       "      <td>AI</td>\n",
       "      <td>16662</td>\n",
       "      <td>NaN</td>\n",
       "      <td>-36.8</td>\n",
       "      <td>17234.0</td>\n",
       "      <td>NaN</td>\n",
       "      <td>-39.1</td>\n",
       "      <td>2.3</td>\n",
       "      <td>2</td>\n",
       "      <td>3</td>\n",
       "      <td>2</td>\n",
       "      <td>180</td>\n",
       "      <td>NaN</td>\n",
       "      <td>NaN</td>\n",
       "      <td>NaN</td>\n",
       "      <td>NaN</td>\n",
       "      <td>NaN</td>\n",
       "      <td>NaN</td>\n",
       "      <td>NaN</td>\n",
       "      <td>NaN</td>\n",
       "      <td>NaN</td>\n",
       "      <td>NaN</td>\n",
       "      <td>NaN</td>\n",
       "      <td>2018</td>\n",
       "    </tr>\n",
       "    <tr>\n",
       "      <th>2</th>\n",
       "      <td>0</td>\n",
       "      <td>X</td>\n",
       "      <td>NaN</td>\n",
       "      <td>NaN</td>\n",
       "      <td>NaN</td>\n",
       "      <td>NaN</td>\n",
       "      <td>NaN</td>\n",
       "      <td>NaN</td>\n",
       "      <td>ALL</td>\n",
       "      <td>3171704</td>\n",
       "      <td>NaN</td>\n",
       "      <td>-6.0</td>\n",
       "      <td>3200441.0</td>\n",
       "      <td>NaN</td>\n",
       "      <td>-8.2</td>\n",
       "      <td>2.2</td>\n",
       "      <td>2</td>\n",
       "      <td>3</td>\n",
       "      <td>2</td>\n",
       "      <td>180</td>\n",
       "      <td>NaN</td>\n",
       "      <td>NaN</td>\n",
       "      <td>NaN</td>\n",
       "      <td>NaN</td>\n",
       "      <td>36140.0</td>\n",
       "      <td>18581.0</td>\n",
       "      <td>51.4</td>\n",
       "      <td>11330.0</td>\n",
       "      <td>31.4</td>\n",
       "      <td>6229.0</td>\n",
       "      <td>17.2</td>\n",
       "      <td>2018</td>\n",
       "    </tr>\n",
       "    <tr>\n",
       "      <th>3</th>\n",
       "      <td>0</td>\n",
       "      <td>X</td>\n",
       "      <td>NaN</td>\n",
       "      <td>NaN</td>\n",
       "      <td>NaN</td>\n",
       "      <td>NaN</td>\n",
       "      <td>NaN</td>\n",
       "      <td>NaN</td>\n",
       "      <td>AS</td>\n",
       "      <td>293002</td>\n",
       "      <td>NaN</td>\n",
       "      <td>62.4</td>\n",
       "      <td>295040.0</td>\n",
       "      <td>NaN</td>\n",
       "      <td>60.5</td>\n",
       "      <td>2.0</td>\n",
       "      <td>5</td>\n",
       "      <td>3</td>\n",
       "      <td>5</td>\n",
       "      <td>30</td>\n",
       "      <td>NaN</td>\n",
       "      <td>NaN</td>\n",
       "      <td>NaN</td>\n",
       "      <td>NaN</td>\n",
       "      <td>NaN</td>\n",
       "      <td>NaN</td>\n",
       "      <td>NaN</td>\n",
       "      <td>NaN</td>\n",
       "      <td>NaN</td>\n",
       "      <td>NaN</td>\n",
       "      <td>NaN</td>\n",
       "      <td>2018</td>\n",
       "    </tr>\n",
       "    <tr>\n",
       "      <th>4</th>\n",
       "      <td>0</td>\n",
       "      <td>X</td>\n",
       "      <td>NaN</td>\n",
       "      <td>NaN</td>\n",
       "      <td>NaN</td>\n",
       "      <td>NaN</td>\n",
       "      <td>NaN</td>\n",
       "      <td>NaN</td>\n",
       "      <td>EL</td>\n",
       "      <td>1000703</td>\n",
       "      <td>NaN</td>\n",
       "      <td>-47.1</td>\n",
       "      <td>1021418.0</td>\n",
       "      <td>NaN</td>\n",
       "      <td>-50.4</td>\n",
       "      <td>3.3</td>\n",
       "      <td>2</td>\n",
       "      <td>4</td>\n",
       "      <td>3</td>\n",
       "      <td>190</td>\n",
       "      <td>NaN</td>\n",
       "      <td>NaN</td>\n",
       "      <td>NaN</td>\n",
       "      <td>NaN</td>\n",
       "      <td>NaN</td>\n",
       "      <td>NaN</td>\n",
       "      <td>NaN</td>\n",
       "      <td>NaN</td>\n",
       "      <td>NaN</td>\n",
       "      <td>NaN</td>\n",
       "      <td>NaN</td>\n",
       "      <td>2018</td>\n",
       "    </tr>\n",
       "  </tbody>\n",
       "</table>\n",
       "</div>"
      ],
      "text/plain": [
       "   cds rtype schoolname districtname countyname charter_flag coe_flag  \\\n",
       "0    0     X        NaN          NaN        NaN          NaN      NaN   \n",
       "1    0     X        NaN          NaN        NaN          NaN      NaN   \n",
       "2    0     X        NaN          NaN        NaN          NaN      NaN   \n",
       "3    0     X        NaN          NaN        NaN          NaN      NaN   \n",
       "4    0     X        NaN          NaN        NaN          NaN      NaN   \n",
       "\n",
       "  dass_flag studentgroup  currdenom  currdenom_swd  currstatus  priordenom  \\\n",
       "0       NaN           AA     172224            NaN       -51.8    177009.0   \n",
       "1       NaN           AI      16662            NaN       -36.8     17234.0   \n",
       "2       NaN          ALL    3171704            NaN        -6.0   3200441.0   \n",
       "3       NaN           AS     293002            NaN        62.4    295040.0   \n",
       "4       NaN           EL    1000703            NaN       -47.1   1021418.0   \n",
       "\n",
       "   priordenom_swd  priorstatus  change  statuslevel  changelevel  color  box  \\\n",
       "0             NaN        -52.7     0.9            2            3      2  180   \n",
       "1             NaN        -39.1     2.3            2            3      2  180   \n",
       "2             NaN         -8.2     2.2            2            3      2  180   \n",
       "3             NaN         60.5     2.0            5            3      5   30   \n",
       "4             NaN        -50.4     3.3            2            4      3  190   \n",
       "\n",
       "  hscutpoints  curradjustment  prioradjustment pairshare_method  caa_denom  \\\n",
       "0         NaN             NaN              NaN              NaN        NaN   \n",
       "1         NaN             NaN              NaN              NaN        NaN   \n",
       "2         NaN             NaN              NaN              NaN    36140.0   \n",
       "3         NaN             NaN              NaN              NaN        NaN   \n",
       "4         NaN             NaN              NaN              NaN        NaN   \n",
       "\n",
       "   caa_level1_num  caa_level1_pct  caa_level2_num  caa_level2_pct  \\\n",
       "0             NaN             NaN             NaN             NaN   \n",
       "1             NaN             NaN             NaN             NaN   \n",
       "2         18581.0            51.4         11330.0            31.4   \n",
       "3             NaN             NaN             NaN             NaN   \n",
       "4             NaN             NaN             NaN             NaN   \n",
       "\n",
       "   caa_level3_num  caa_level3_pct  ReportingYear  \n",
       "0             NaN             NaN           2018  \n",
       "1             NaN             NaN           2018  \n",
       "2          6229.0            17.2           2018  \n",
       "3             NaN             NaN           2018  \n",
       "4             NaN             NaN           2018  "
      ]
     },
     "execution_count": 25,
     "metadata": {},
     "output_type": "execute_result"
    }
   ],
   "source": [
    "ela.head()"
   ]
  },
  {
   "cell_type": "markdown",
   "metadata": {},
   "source": [
    "## Creating state-level variable"
   ]
  },
  {
   "cell_type": "code",
   "execution_count": 26,
   "metadata": {},
   "outputs": [],
   "source": [
    "replacements = dict(\n",
    "    studentgroup = {'ALL':'all_students',\n",
    "                        'AA':'african_american',\n",
    "                        'AI':'american_indian',\n",
    "                        'AS':'asian',\n",
    "                        'FI':'filipino',\n",
    "                        'HI':'hispanic',\n",
    "                        'PI':'pacific_islander',\n",
    "                        'WH':'white',\n",
    "                        'MR':'multiple_races',\n",
    "                        'EL':'english_learners',\n",
    "                        'ELO':'english_learners_only',\n",
    "                        'RFP':'rfep_only',\n",
    "                        'EO':'english_only',\n",
    "                        'SED':'ses_disad',\n",
    "                        'SWD':'disabilities',\n",
    "                        'FOS':'foster_youth',\n",
    "                        'HOM':'homeless_youth',\n",
    "                })\n",
    "# dictionary for replacing acronyms, reuse later\n",
    "\n",
    "ela['studentgroup'].astype(str)\n",
    "ela = ela.replace(replacements)\n",
    "# replace acronyms\n",
    "\n",
    "j = ela\n",
    "j = j.loc[j['rtype'] == 'X']\n",
    "# select by no-type (state)\n",
    "k = pandas.concat([j.pop(x) for x in ['studentgroup', \n",
    "                                      'currstatus', \n",
    "                                      'priorstatus', \n",
    "                                      'change',\n",
    "                                      'currdenom']],\n",
    "                  1)\n",
    "# slice out columns\n",
    "ela_state = k.sort_values(by='currstatus', ascending=False)\n",
    "# state-level ela performance variable"
   ]
  },
  {
   "cell_type": "markdown",
   "metadata": {},
   "source": [
    "## Aggregation "
   ]
  },
  {
   "cell_type": "code",
   "execution_count": 27,
   "metadata": {},
   "outputs": [
    {
     "data": {
      "text/html": [
       "<div>\n",
       "<style scoped>\n",
       "    .dataframe tbody tr th:only-of-type {\n",
       "        vertical-align: middle;\n",
       "    }\n",
       "\n",
       "    .dataframe tbody tr th {\n",
       "        vertical-align: top;\n",
       "    }\n",
       "\n",
       "    .dataframe thead th {\n",
       "        text-align: right;\n",
       "    }\n",
       "</style>\n",
       "<table border=\"1\" class=\"dataframe\">\n",
       "  <thead>\n",
       "    <tr style=\"text-align: right;\">\n",
       "      <th></th>\n",
       "      <th>cds</th>\n",
       "      <th>rtype</th>\n",
       "      <th>schoolname</th>\n",
       "      <th>districtname</th>\n",
       "      <th>countyname</th>\n",
       "      <th>charter_flag</th>\n",
       "      <th>coe_flag</th>\n",
       "      <th>dass_flag</th>\n",
       "      <th>studentgroup</th>\n",
       "      <th>currdenom</th>\n",
       "      <th>currdenom_swd</th>\n",
       "      <th>currstatus</th>\n",
       "      <th>priordenom</th>\n",
       "      <th>priordenom_swd</th>\n",
       "      <th>priorstatus</th>\n",
       "      <th>change</th>\n",
       "      <th>statuslevel</th>\n",
       "      <th>changelevel</th>\n",
       "      <th>color</th>\n",
       "      <th>box</th>\n",
       "      <th>hscutpoints</th>\n",
       "      <th>curradjustment</th>\n",
       "      <th>prioradjustment</th>\n",
       "      <th>pairshare_method</th>\n",
       "      <th>caa_denom</th>\n",
       "      <th>caa_level1_num</th>\n",
       "      <th>caa_level1_pct</th>\n",
       "      <th>caa_level2_num</th>\n",
       "      <th>caa_level2_pct</th>\n",
       "      <th>caa_level3_num</th>\n",
       "      <th>caa_level3_pct</th>\n",
       "      <th>ReportingYear</th>\n",
       "      <th>District Code</th>\n",
       "    </tr>\n",
       "  </thead>\n",
       "  <tbody>\n",
       "    <tr>\n",
       "      <th>164</th>\n",
       "      <td>01611190000000</td>\n",
       "      <td>D</td>\n",
       "      <td>NaN</td>\n",
       "      <td>Alameda Unified</td>\n",
       "      <td>Alameda</td>\n",
       "      <td>NaN</td>\n",
       "      <td>NaN</td>\n",
       "      <td>NaN</td>\n",
       "      <td>african_american</td>\n",
       "      <td>298</td>\n",
       "      <td>NaN</td>\n",
       "      <td>-43.0</td>\n",
       "      <td>332.0</td>\n",
       "      <td>NaN</td>\n",
       "      <td>-48.7</td>\n",
       "      <td>5.7</td>\n",
       "      <td>2</td>\n",
       "      <td>4</td>\n",
       "      <td>3</td>\n",
       "      <td>190</td>\n",
       "      <td>NaN</td>\n",
       "      <td>NaN</td>\n",
       "      <td>NaN</td>\n",
       "      <td>NaN</td>\n",
       "      <td>NaN</td>\n",
       "      <td>NaN</td>\n",
       "      <td>NaN</td>\n",
       "      <td>NaN</td>\n",
       "      <td>NaN</td>\n",
       "      <td>NaN</td>\n",
       "      <td>NaN</td>\n",
       "      <td>2018</td>\n",
       "      <td>61119</td>\n",
       "    </tr>\n",
       "    <tr>\n",
       "      <th>165</th>\n",
       "      <td>01611190000000</td>\n",
       "      <td>D</td>\n",
       "      <td>NaN</td>\n",
       "      <td>Alameda Unified</td>\n",
       "      <td>Alameda</td>\n",
       "      <td>NaN</td>\n",
       "      <td>NaN</td>\n",
       "      <td>NaN</td>\n",
       "      <td>american_indian</td>\n",
       "      <td>13</td>\n",
       "      <td>NaN</td>\n",
       "      <td>-14.8</td>\n",
       "      <td>14.0</td>\n",
       "      <td>NaN</td>\n",
       "      <td>14.3</td>\n",
       "      <td>-29.1</td>\n",
       "      <td>2</td>\n",
       "      <td>1</td>\n",
       "      <td>0</td>\n",
       "      <td>0</td>\n",
       "      <td>NaN</td>\n",
       "      <td>NaN</td>\n",
       "      <td>-0.25</td>\n",
       "      <td>NaN</td>\n",
       "      <td>NaN</td>\n",
       "      <td>NaN</td>\n",
       "      <td>NaN</td>\n",
       "      <td>NaN</td>\n",
       "      <td>NaN</td>\n",
       "      <td>NaN</td>\n",
       "      <td>NaN</td>\n",
       "      <td>2018</td>\n",
       "      <td>61119</td>\n",
       "    </tr>\n",
       "    <tr>\n",
       "      <th>166</th>\n",
       "      <td>01611190000000</td>\n",
       "      <td>D</td>\n",
       "      <td>NaN</td>\n",
       "      <td>Alameda Unified</td>\n",
       "      <td>Alameda</td>\n",
       "      <td>NaN</td>\n",
       "      <td>NaN</td>\n",
       "      <td>NaN</td>\n",
       "      <td>all_students</td>\n",
       "      <td>4550</td>\n",
       "      <td>NaN</td>\n",
       "      <td>36.8</td>\n",
       "      <td>4541.0</td>\n",
       "      <td>NaN</td>\n",
       "      <td>32.8</td>\n",
       "      <td>4.0</td>\n",
       "      <td>4</td>\n",
       "      <td>4</td>\n",
       "      <td>4</td>\n",
       "      <td>90</td>\n",
       "      <td>NaN</td>\n",
       "      <td>NaN</td>\n",
       "      <td>NaN</td>\n",
       "      <td>NaN</td>\n",
       "      <td>38.0</td>\n",
       "      <td>26.0</td>\n",
       "      <td>68.4</td>\n",
       "      <td>6.0</td>\n",
       "      <td>15.8</td>\n",
       "      <td>6.0</td>\n",
       "      <td>15.8</td>\n",
       "      <td>2018</td>\n",
       "      <td>61119</td>\n",
       "    </tr>\n",
       "    <tr>\n",
       "      <th>167</th>\n",
       "      <td>01611190000000</td>\n",
       "      <td>D</td>\n",
       "      <td>NaN</td>\n",
       "      <td>Alameda Unified</td>\n",
       "      <td>Alameda</td>\n",
       "      <td>NaN</td>\n",
       "      <td>NaN</td>\n",
       "      <td>NaN</td>\n",
       "      <td>asian</td>\n",
       "      <td>1288</td>\n",
       "      <td>NaN</td>\n",
       "      <td>48.6</td>\n",
       "      <td>1334.0</td>\n",
       "      <td>NaN</td>\n",
       "      <td>54.0</td>\n",
       "      <td>-5.3</td>\n",
       "      <td>5</td>\n",
       "      <td>2</td>\n",
       "      <td>4</td>\n",
       "      <td>20</td>\n",
       "      <td>NaN</td>\n",
       "      <td>NaN</td>\n",
       "      <td>NaN</td>\n",
       "      <td>NaN</td>\n",
       "      <td>NaN</td>\n",
       "      <td>NaN</td>\n",
       "      <td>NaN</td>\n",
       "      <td>NaN</td>\n",
       "      <td>NaN</td>\n",
       "      <td>NaN</td>\n",
       "      <td>NaN</td>\n",
       "      <td>2018</td>\n",
       "      <td>61119</td>\n",
       "    </tr>\n",
       "    <tr>\n",
       "      <th>168</th>\n",
       "      <td>01611190000000</td>\n",
       "      <td>D</td>\n",
       "      <td>NaN</td>\n",
       "      <td>Alameda Unified</td>\n",
       "      <td>Alameda</td>\n",
       "      <td>NaN</td>\n",
       "      <td>NaN</td>\n",
       "      <td>NaN</td>\n",
       "      <td>english_learners</td>\n",
       "      <td>1084</td>\n",
       "      <td>NaN</td>\n",
       "      <td>-2.5</td>\n",
       "      <td>1176.0</td>\n",
       "      <td>NaN</td>\n",
       "      <td>-1.4</td>\n",
       "      <td>-1.1</td>\n",
       "      <td>3</td>\n",
       "      <td>3</td>\n",
       "      <td>3</td>\n",
       "      <td>130</td>\n",
       "      <td>NaN</td>\n",
       "      <td>NaN</td>\n",
       "      <td>NaN</td>\n",
       "      <td>NaN</td>\n",
       "      <td>NaN</td>\n",
       "      <td>NaN</td>\n",
       "      <td>NaN</td>\n",
       "      <td>NaN</td>\n",
       "      <td>NaN</td>\n",
       "      <td>NaN</td>\n",
       "      <td>NaN</td>\n",
       "      <td>2018</td>\n",
       "      <td>61119</td>\n",
       "    </tr>\n",
       "  </tbody>\n",
       "</table>\n",
       "</div>"
      ],
      "text/plain": [
       "                cds rtype schoolname     districtname countyname charter_flag  \\\n",
       "164  01611190000000     D        NaN  Alameda Unified    Alameda          NaN   \n",
       "165  01611190000000     D        NaN  Alameda Unified    Alameda          NaN   \n",
       "166  01611190000000     D        NaN  Alameda Unified    Alameda          NaN   \n",
       "167  01611190000000     D        NaN  Alameda Unified    Alameda          NaN   \n",
       "168  01611190000000     D        NaN  Alameda Unified    Alameda          NaN   \n",
       "\n",
       "    coe_flag dass_flag      studentgroup  currdenom  currdenom_swd  \\\n",
       "164      NaN       NaN  african_american        298            NaN   \n",
       "165      NaN       NaN   american_indian         13            NaN   \n",
       "166      NaN       NaN      all_students       4550            NaN   \n",
       "167      NaN       NaN             asian       1288            NaN   \n",
       "168      NaN       NaN  english_learners       1084            NaN   \n",
       "\n",
       "     currstatus  priordenom  priordenom_swd  priorstatus  change  statuslevel  \\\n",
       "164       -43.0       332.0             NaN        -48.7     5.7            2   \n",
       "165       -14.8        14.0             NaN         14.3   -29.1            2   \n",
       "166        36.8      4541.0             NaN         32.8     4.0            4   \n",
       "167        48.6      1334.0             NaN         54.0    -5.3            5   \n",
       "168        -2.5      1176.0             NaN         -1.4    -1.1            3   \n",
       "\n",
       "     changelevel  color  box hscutpoints  curradjustment  prioradjustment  \\\n",
       "164            4      3  190         NaN             NaN              NaN   \n",
       "165            1      0    0         NaN             NaN            -0.25   \n",
       "166            4      4   90         NaN             NaN              NaN   \n",
       "167            2      4   20         NaN             NaN              NaN   \n",
       "168            3      3  130         NaN             NaN              NaN   \n",
       "\n",
       "    pairshare_method  caa_denom  caa_level1_num  caa_level1_pct  \\\n",
       "164              NaN        NaN             NaN             NaN   \n",
       "165              NaN        NaN             NaN             NaN   \n",
       "166              NaN       38.0            26.0            68.4   \n",
       "167              NaN        NaN             NaN             NaN   \n",
       "168              NaN        NaN             NaN             NaN   \n",
       "\n",
       "     caa_level2_num  caa_level2_pct  caa_level3_num  caa_level3_pct  \\\n",
       "164             NaN             NaN             NaN             NaN   \n",
       "165             NaN             NaN             NaN             NaN   \n",
       "166             6.0            15.8             6.0            15.8   \n",
       "167             NaN             NaN             NaN             NaN   \n",
       "168             NaN             NaN             NaN             NaN   \n",
       "\n",
       "     ReportingYear District Code  \n",
       "164           2018         61119  \n",
       "165           2018         61119  \n",
       "166           2018         61119  \n",
       "167           2018         61119  \n",
       "168           2018         61119  "
      ]
     },
     "execution_count": 27,
     "metadata": {},
     "output_type": "execute_result"
    }
   ],
   "source": [
    "# fixing cds codes to match with other datasets\n",
    "ela['cds'].astype(str)\n",
    "# changing cds code to string\n",
    "ela = ela[ela.coe_flag !='Y']\n",
    "# removing county offices of education\n",
    "ela = ela.loc[ela['rtype'] == 'D']\n",
    "# select district level entries\n",
    "ela['cds'] = ela['cds'].apply(lambda x: '{0:0>14}'.format(x))\n",
    "# adding leading zero to 13 digit int\n",
    "ela['District Code'] = [x[2:7] for x in ela['cds']]\n",
    "# adding district only code\n",
    "elat = set(ela['cds'])\n",
    "# creating test set variable\n",
    "ela.head()"
   ]
  },
  {
   "cell_type": "code",
   "execution_count": 28,
   "metadata": {},
   "outputs": [],
   "source": [
    "#creating district-level ela performance variable (dictionary)\n",
    "dfe = ela\n",
    "dfe = pandas.concat([dfe.pop(x) for x in ['District Code',\n",
    "                                          'districtname',                                          \n",
    "                                          'studentgroup', \n",
    "                                          'currstatus', \n",
    "                                          'priorstatus', \n",
    "                                          'change']],\n",
    "                    1)\n",
    "# slice out columns"
   ]
  },
  {
   "cell_type": "markdown",
   "metadata": {},
   "source": [
    "## Math achievement indicator data\n",
    "find the codebook [here](https://www.cde.ca.gov/ta/ac/cm/math18.asp)"
   ]
  },
  {
   "cell_type": "code",
   "execution_count": 29,
   "metadata": {},
   "outputs": [
    {
     "name": "stderr",
     "output_type": "stream",
     "text": [
      "C:\\Users\\fiend\\Anaconda2\\envs\\capstone\\lib\\site-packages\\IPython\\core\\interactiveshell.py:3063: DtypeWarning: Columns (6,23) have mixed types.Specify dtype option on import or set low_memory=False.\n",
      "  interactivity=interactivity, compiler=compiler, result=result)\n"
     ]
    },
    {
     "data": {
      "text/plain": [
       "(148705, 32)"
      ]
     },
     "execution_count": 29,
     "metadata": {},
     "output_type": "execute_result"
    }
   ],
   "source": [
    "math = pandas.read_csv('lcff_data/mathdownload2018.csv')\n",
    "math.shape"
   ]
  },
  {
   "cell_type": "code",
   "execution_count": 30,
   "metadata": {},
   "outputs": [],
   "source": [
    "math['studentgroup'].astype(str)\n",
    "math = math.replace(replacements)\n",
    "# replace codes\n",
    "p = math\n",
    "p = p.loc[p['rtype'] == 'X']\n",
    "# select by no-type (state)\n",
    "q = pandas.concat([p.pop(x) for x in ['studentgroup', \n",
    "                                      'currstatus', \n",
    "                                      'priorstatus', \n",
    "                                      'change',\n",
    "                                      'currdenom']],\n",
    "                  1)\n",
    "# slice out columns\n",
    "math_state = q.sort_values(by='currstatus', ascending=False)\n"
   ]
  },
  {
   "cell_type": "markdown",
   "metadata": {},
   "source": [
    "## Aggregation"
   ]
  },
  {
   "cell_type": "code",
   "execution_count": 31,
   "metadata": {},
   "outputs": [],
   "source": [
    "# fixing cds codes to match with other datasets\n",
    "math['cds'].astype(str)\n",
    "# changing to string\n",
    "math = math[math.coe_flag !='Y']\n",
    "# removing county offices of education\n",
    "math = math.loc[math['rtype'] == 'D']\n",
    "# select district level performance\n",
    "math['cds'] = math['cds'].apply(lambda x: '{0:0>14}'.format(x))\n",
    "# adding leading zero to 13 digit int\n",
    "math['District Code'] = [x[2:7] for x in math['cds']]\n",
    "# adding district only code"
   ]
  },
  {
   "cell_type": "code",
   "execution_count": 32,
   "metadata": {},
   "outputs": [],
   "source": [
    "#creating district-level math performance variable (dictionary)\n",
    "dfm = math\n",
    "dfm = pandas.concat([dfm.pop(x) for x in ['District Code',\n",
    "                                          'districtname',                                          \n",
    "                                          'studentgroup', \n",
    "                                          'currstatus', \n",
    "                                          'priorstatus', \n",
    "                                          'change']],\n",
    "                    1)\n",
    "# slice out columns"
   ]
  },
  {
   "cell_type": "code",
   "execution_count": 33,
   "metadata": {},
   "outputs": [
    {
     "data": {
      "text/html": [
       "<div>\n",
       "<style scoped>\n",
       "    .dataframe tbody tr th:only-of-type {\n",
       "        vertical-align: middle;\n",
       "    }\n",
       "\n",
       "    .dataframe tbody tr th {\n",
       "        vertical-align: top;\n",
       "    }\n",
       "\n",
       "    .dataframe thead th {\n",
       "        text-align: right;\n",
       "    }\n",
       "</style>\n",
       "<table border=\"1\" class=\"dataframe\">\n",
       "  <thead>\n",
       "    <tr style=\"text-align: right;\">\n",
       "      <th></th>\n",
       "      <th>District Code</th>\n",
       "      <th>districtname</th>\n",
       "      <th>studentgroup</th>\n",
       "      <th>currstatus</th>\n",
       "      <th>priorstatus</th>\n",
       "      <th>change</th>\n",
       "    </tr>\n",
       "  </thead>\n",
       "  <tbody>\n",
       "    <tr>\n",
       "      <th>163</th>\n",
       "      <td>61119</td>\n",
       "      <td>Alameda Unified</td>\n",
       "      <td>african_american</td>\n",
       "      <td>-83.9</td>\n",
       "      <td>-82.8</td>\n",
       "      <td>-1.1</td>\n",
       "    </tr>\n",
       "    <tr>\n",
       "      <th>164</th>\n",
       "      <td>61119</td>\n",
       "      <td>Alameda Unified</td>\n",
       "      <td>american_indian</td>\n",
       "      <td>-51.8</td>\n",
       "      <td>-50.0</td>\n",
       "      <td>-1.8</td>\n",
       "    </tr>\n",
       "    <tr>\n",
       "      <th>165</th>\n",
       "      <td>61119</td>\n",
       "      <td>Alameda Unified</td>\n",
       "      <td>all_students</td>\n",
       "      <td>14.3</td>\n",
       "      <td>10.8</td>\n",
       "      <td>3.4</td>\n",
       "    </tr>\n",
       "    <tr>\n",
       "      <th>166</th>\n",
       "      <td>61119</td>\n",
       "      <td>Alameda Unified</td>\n",
       "      <td>asian</td>\n",
       "      <td>43.6</td>\n",
       "      <td>44.8</td>\n",
       "      <td>-1.2</td>\n",
       "    </tr>\n",
       "    <tr>\n",
       "      <th>167</th>\n",
       "      <td>61119</td>\n",
       "      <td>Alameda Unified</td>\n",
       "      <td>english_learners</td>\n",
       "      <td>-13.7</td>\n",
       "      <td>-12.9</td>\n",
       "      <td>-0.9</td>\n",
       "    </tr>\n",
       "    <tr>\n",
       "      <th>...</th>\n",
       "      <td>...</td>\n",
       "      <td>...</td>\n",
       "      <td>...</td>\n",
       "      <td>...</td>\n",
       "      <td>...</td>\n",
       "      <td>...</td>\n",
       "    </tr>\n",
       "    <tr>\n",
       "      <th>148683</th>\n",
       "      <td>72769</td>\n",
       "      <td>Wheatland Union High</td>\n",
       "      <td>pacific_islander</td>\n",
       "      <td>NaN</td>\n",
       "      <td>NaN</td>\n",
       "      <td>NaN</td>\n",
       "    </tr>\n",
       "    <tr>\n",
       "      <th>148684</th>\n",
       "      <td>72769</td>\n",
       "      <td>Wheatland Union High</td>\n",
       "      <td>rfep_only</td>\n",
       "      <td>NaN</td>\n",
       "      <td>NaN</td>\n",
       "      <td>NaN</td>\n",
       "    </tr>\n",
       "    <tr>\n",
       "      <th>148685</th>\n",
       "      <td>72769</td>\n",
       "      <td>Wheatland Union High</td>\n",
       "      <td>ses_disad</td>\n",
       "      <td>-90.0</td>\n",
       "      <td>-74.0</td>\n",
       "      <td>-16.0</td>\n",
       "    </tr>\n",
       "    <tr>\n",
       "      <th>148686</th>\n",
       "      <td>72769</td>\n",
       "      <td>Wheatland Union High</td>\n",
       "      <td>disabilities</td>\n",
       "      <td>-226.6</td>\n",
       "      <td>NaN</td>\n",
       "      <td>NaN</td>\n",
       "    </tr>\n",
       "    <tr>\n",
       "      <th>148687</th>\n",
       "      <td>72769</td>\n",
       "      <td>Wheatland Union High</td>\n",
       "      <td>white</td>\n",
       "      <td>-42.3</td>\n",
       "      <td>-57.0</td>\n",
       "      <td>14.7</td>\n",
       "    </tr>\n",
       "  </tbody>\n",
       "</table>\n",
       "<p>13603 rows × 6 columns</p>\n",
       "</div>"
      ],
      "text/plain": [
       "       District Code          districtname      studentgroup  currstatus  \\\n",
       "163            61119       Alameda Unified  african_american       -83.9   \n",
       "164            61119       Alameda Unified   american_indian       -51.8   \n",
       "165            61119       Alameda Unified      all_students        14.3   \n",
       "166            61119       Alameda Unified             asian        43.6   \n",
       "167            61119       Alameda Unified  english_learners       -13.7   \n",
       "...              ...                   ...               ...         ...   \n",
       "148683         72769  Wheatland Union High  pacific_islander         NaN   \n",
       "148684         72769  Wheatland Union High         rfep_only         NaN   \n",
       "148685         72769  Wheatland Union High         ses_disad       -90.0   \n",
       "148686         72769  Wheatland Union High      disabilities      -226.6   \n",
       "148687         72769  Wheatland Union High             white       -42.3   \n",
       "\n",
       "        priorstatus  change  \n",
       "163           -82.8    -1.1  \n",
       "164           -50.0    -1.8  \n",
       "165            10.8     3.4  \n",
       "166            44.8    -1.2  \n",
       "167           -12.9    -0.9  \n",
       "...             ...     ...  \n",
       "148683          NaN     NaN  \n",
       "148684          NaN     NaN  \n",
       "148685        -74.0   -16.0  \n",
       "148686          NaN     NaN  \n",
       "148687        -57.0    14.7  \n",
       "\n",
       "[13603 rows x 6 columns]"
      ]
     },
     "execution_count": 33,
     "metadata": {},
     "output_type": "execute_result"
    }
   ],
   "source": [
    "dfm"
   ]
  },
  {
   "cell_type": "markdown",
   "metadata": {},
   "source": [
    "# LCFF funding data\n",
    "\n",
    "[FAQ here](https://www.cde.ca.gov/fg/aa/lc/lcfffaq.asp#CALPADS)"
   ]
  },
  {
   "cell_type": "code",
   "execution_count": 34,
   "metadata": {},
   "outputs": [
    {
     "data": {
      "text/plain": [
       "(2243, 26)"
      ]
     },
     "execution_count": 34,
     "metadata": {},
     "output_type": "execute_result"
    }
   ],
   "source": [
    "lcff = pandas.read_csv('lcff_data/lcffsnapshot18an.csv')\n",
    "lcff.shape"
   ]
  },
  {
   "cell_type": "code",
   "execution_count": 35,
   "metadata": {},
   "outputs": [
    {
     "data": {
      "text/plain": [
       "Index([' County Code ', 'District Code', 'School Code',\n",
       "       'Local Educational Agency ', 'Charter Number',\n",
       "       ' TK/K-3 ADA\\nTarget, B-5/B-1 ', ' 4 - 6 ADA\\nTarget, B-6/B-2 ',\n",
       "       ' 7 - 8 ADA\\nTarget, B-7/B-3 ', ' 9 - 12 ADA\\nTarget, B-8/B-4 ',\n",
       "       'Unduplicated Pupil Percentage\\nTarget, D-1',\n",
       "       ' Base Grant Funding\\nTarget, C-5 ',\n",
       "       ' Supplemental Grant Funding\\nTarget, D-7 ',\n",
       "       ' Concentration Grant Funding\\nTarget, E-8 ',\n",
       "       ' Necessary Small Schools Allowance\\nTarget, F-1 ',\n",
       "       ' Add-On (Based on 2012-13 Targeted Instructional Improvement Block Grant)\\nTarget, F-2 ',\n",
       "       ' Add-On (Based on 2012-13 Home-to-School Transportation)\\nTarget, F-3 ',\n",
       "       ' Add-On (Based on 2012-13 Small School District Bus Replacement Program)\\nTarget, F-4 ',\n",
       "       ' Total LCFF Target Entitlement\\nTarget, G-1/F-1 ',\n",
       "       ' Total LCFF Floor Entitlement\\nTransition, B-13 ',\n",
       "       ' Current Year Gap Funding (100%)\\nTransition, C-3 ',\n",
       "       ' Economic Recovery Target\\nTransition, D-1 ',\n",
       "       ' Miscellaneous Adjustments\\nTransition, E-1 ',\n",
       "       ' Total Local Revenue or In-Lieu of Property Taxes\\nTransition, F-2/F-7 ',\n",
       "       ' Education Protection Account Entitlement\\nTransition, F-5/F-9 ',\n",
       "       ' Net State Aid\\nTransition, F-6/F-10 ',\n",
       "       ' Additional SA for MSA Guarantee\\nTransition, H-1/H-2 '],\n",
       "      dtype='object')"
      ]
     },
     "execution_count": 35,
     "metadata": {},
     "output_type": "execute_result"
    }
   ],
   "source": [
    "lcff.columns\n",
    "# leading AND trailing spaces! inconsistently!! "
   ]
  },
  {
   "cell_type": "code",
   "execution_count": 36,
   "metadata": {},
   "outputs": [],
   "source": [
    "lcff.columns = lcff.columns.str.strip()\n",
    "# strip leading/trailing spaces"
   ]
  },
  {
   "cell_type": "code",
   "execution_count": 37,
   "metadata": {
    "scrolled": true
   },
   "outputs": [],
   "source": [
    "lcff_state_totals = lcff.tail(1)\n",
    "lcff.drop(lcff.tail(1).index,inplace=True)\n",
    "# extracting state totals, removing from df"
   ]
  },
  {
   "cell_type": "code",
   "execution_count": 38,
   "metadata": {},
   "outputs": [
    {
     "data": {
      "text/plain": [
       "944"
      ]
     },
     "execution_count": 38,
     "metadata": {},
     "output_type": "execute_result"
    }
   ],
   "source": [
    "# Slicing by district level cds code\n",
    "lcff['County Code'] = lcff['County Code'].astype(str)\n",
    "lcff['District Code'] = lcff['District Code'].astype(int)\n",
    "lcff['District Code'] = lcff['District Code'].astype(str)\n",
    "lcff['School Code'] = lcff['School Code'].astype(int)\n",
    "lcff['School Code'] = lcff['School Code'].astype(str)\n",
    "# Changing to strings\n",
    "lcff['School Code'] = lcff['School Code'].apply(lambda x: '{0:0>7}'.format(x))\n",
    "# Front fill school codes to == 7\n",
    "lcff = lcff.loc[lcff['School Code'] == '0000000']\n",
    "# select districts, district entries do not have a school level cds code\n",
    "lcff['cds'] = lcff['County Code'] + lcff['District Code'] + lcff['School Code']\n",
    "# Combining into cds code\n",
    "col_name='cds'\n",
    "first_col = lcff.pop(col_name)\n",
    "lcff.insert(0, col_name, first_col)\n",
    "# Moving to front \n",
    "lcff.drop('County Code', axis=1, inplace=True)\n",
    "# lcff.drop('District Code', axis=1, inplace=True)\n",
    "lcff.drop('School Code', axis=1, inplace=True)\n",
    "len(lcff)"
   ]
  },
  {
   "cell_type": "code",
   "execution_count": 39,
   "metadata": {
    "scrolled": true
   },
   "outputs": [],
   "source": [
    "# renaming important columns\n",
    "lcff = lcff.rename(columns={'Charter Number': 'charter_number',\n",
    "                     'Unduplicated Pupil Percentage\\nTarget, D-1': 'unduplicated_pupil_percentage',\n",
    "                     'Base Grant Funding\\nTarget, C-5': 'base_grant',\n",
    "                     'Supplemental Grant Funding\\nTarget, D-7': 'supplemental_grant',\n",
    "                     'Concentration Grant Funding\\nTarget, E-8': 'concentration_grant',\n",
    "                     'Total LCFF Target Entitlement\\nTarget, G-1/F-1': 'total_grants',\n",
    "                     'Unduplicated Pupil Percentage\\nTarget, D-1': 'unduplicated_pupil_count',\n",
    "                     'Necessary Small Schools Allowance\\nTarget, F-1': 'nec_small_schools'\n",
    "                           })"
   ]
  },
  {
   "cell_type": "code",
   "execution_count": 40,
   "metadata": {
    "scrolled": true
   },
   "outputs": [
    {
     "data": {
      "text/html": [
       "<div>\n",
       "<style scoped>\n",
       "    .dataframe tbody tr th:only-of-type {\n",
       "        vertical-align: middle;\n",
       "    }\n",
       "\n",
       "    .dataframe tbody tr th {\n",
       "        vertical-align: top;\n",
       "    }\n",
       "\n",
       "    .dataframe thead th {\n",
       "        text-align: right;\n",
       "    }\n",
       "</style>\n",
       "<table border=\"1\" class=\"dataframe\">\n",
       "  <thead>\n",
       "    <tr style=\"text-align: right;\">\n",
       "      <th></th>\n",
       "      <th>cds</th>\n",
       "      <th>District Code</th>\n",
       "      <th>Local Educational Agency</th>\n",
       "      <th>charter_number</th>\n",
       "      <th>TK/K-3 ADA\\nTarget, B-5/B-1</th>\n",
       "      <th>4 - 6 ADA\\nTarget, B-6/B-2</th>\n",
       "      <th>7 - 8 ADA\\nTarget, B-7/B-3</th>\n",
       "      <th>9 - 12 ADA\\nTarget, B-8/B-4</th>\n",
       "      <th>unduplicated_pupil_count</th>\n",
       "      <th>base_grant</th>\n",
       "      <th>supplemental_grant</th>\n",
       "      <th>concentration_grant</th>\n",
       "      <th>nec_small_schools</th>\n",
       "      <th>Add-On (Based on 2012-13 Targeted Instructional Improvement Block Grant)\\nTarget, F-2</th>\n",
       "      <th>Add-On (Based on 2012-13 Home-to-School Transportation)\\nTarget, F-3</th>\n",
       "      <th>Add-On (Based on 2012-13 Small School District Bus Replacement Program)\\nTarget, F-4</th>\n",
       "      <th>total_grants</th>\n",
       "      <th>Total LCFF Floor Entitlement\\nTransition, B-13</th>\n",
       "      <th>Current Year Gap Funding (100%)\\nTransition, C-3</th>\n",
       "      <th>Economic Recovery Target\\nTransition, D-1</th>\n",
       "      <th>Miscellaneous Adjustments\\nTransition, E-1</th>\n",
       "      <th>Total Local Revenue or In-Lieu of Property Taxes\\nTransition, F-2/F-7</th>\n",
       "      <th>Education Protection Account Entitlement\\nTransition, F-5/F-9</th>\n",
       "      <th>Net State Aid\\nTransition, F-6/F-10</th>\n",
       "      <th>Additional SA for MSA Guarantee\\nTransition, H-1/H-2</th>\n",
       "    </tr>\n",
       "  </thead>\n",
       "  <tbody>\n",
       "    <tr>\n",
       "      <th>10</th>\n",
       "      <td>01611190000000</td>\n",
       "      <td>61119</td>\n",
       "      <td>Alameda Unified</td>\n",
       "      <td>NaN</td>\n",
       "      <td>2,870.43</td>\n",
       "      <td>1,917.91</td>\n",
       "      <td>1,219.66</td>\n",
       "      <td>3,050.17</td>\n",
       "      <td>0.3486</td>\n",
       "      <td>75,938,983</td>\n",
       "      <td>5,294,466</td>\n",
       "      <td>-</td>\n",
       "      <td>-</td>\n",
       "      <td>665,778</td>\n",
       "      <td>258,889</td>\n",
       "      <td>-</td>\n",
       "      <td>82,158,116</td>\n",
       "      <td>77,176,229</td>\n",
       "      <td>4,981,887</td>\n",
       "      <td>-</td>\n",
       "      <td>-</td>\n",
       "      <td>29,277,891</td>\n",
       "      <td>14,772,333</td>\n",
       "      <td>38,107,892</td>\n",
       "      <td>-</td>\n",
       "    </tr>\n",
       "    <tr>\n",
       "      <th>16</th>\n",
       "      <td>01611270000000</td>\n",
       "      <td>61127</td>\n",
       "      <td>Albany City Unified</td>\n",
       "      <td>NaN</td>\n",
       "      <td>1,060.09</td>\n",
       "      <td>806.37</td>\n",
       "      <td>554.25</td>\n",
       "      <td>1,131.64</td>\n",
       "      <td>0.2833</td>\n",
       "      <td>29,644,972</td>\n",
       "      <td>1,679,684</td>\n",
       "      <td>-</td>\n",
       "      <td>-</td>\n",
       "      <td>-</td>\n",
       "      <td>27,884</td>\n",
       "      <td>-</td>\n",
       "      <td>31,352,540</td>\n",
       "      <td>29,460,891</td>\n",
       "      <td>1,891,649</td>\n",
       "      <td>-</td>\n",
       "      <td>-</td>\n",
       "      <td>11,005,115</td>\n",
       "      <td>5,777,202</td>\n",
       "      <td>14,570,223</td>\n",
       "      <td>-</td>\n",
       "    </tr>\n",
       "    <tr>\n",
       "      <th>17</th>\n",
       "      <td>01611430000000</td>\n",
       "      <td>61143</td>\n",
       "      <td>Berkeley Unified</td>\n",
       "      <td>NaN</td>\n",
       "      <td>2,828.54</td>\n",
       "      <td>2,101.08</td>\n",
       "      <td>1,397.55</td>\n",
       "      <td>3,070.55</td>\n",
       "      <td>0.3519</td>\n",
       "      <td>78,556,532</td>\n",
       "      <td>5,528,808</td>\n",
       "      <td>-</td>\n",
       "      <td>-</td>\n",
       "      <td>4,293,233</td>\n",
       "      <td>991,048</td>\n",
       "      <td>-</td>\n",
       "      <td>89,369,621</td>\n",
       "      <td>84,726,528</td>\n",
       "      <td>4,643,093</td>\n",
       "      <td>820,253</td>\n",
       "      <td>-</td>\n",
       "      <td>43,425,650</td>\n",
       "      <td>8,875,387</td>\n",
       "      <td>37,888,837</td>\n",
       "      <td>-</td>\n",
       "    </tr>\n",
       "    <tr>\n",
       "      <th>19</th>\n",
       "      <td>01611500000000</td>\n",
       "      <td>61150</td>\n",
       "      <td>Castro Valley Unified</td>\n",
       "      <td>NaN</td>\n",
       "      <td>2,617.44</td>\n",
       "      <td>2,032.50</td>\n",
       "      <td>1,400.40</td>\n",
       "      <td>2,918.48</td>\n",
       "      <td>0.2904</td>\n",
       "      <td>74,911,585</td>\n",
       "      <td>4,350,864</td>\n",
       "      <td>-</td>\n",
       "      <td>-</td>\n",
       "      <td>-</td>\n",
       "      <td>292,158</td>\n",
       "      <td>-</td>\n",
       "      <td>79,554,607</td>\n",
       "      <td>74,489,641</td>\n",
       "      <td>5,064,966</td>\n",
       "      <td>-</td>\n",
       "      <td>-</td>\n",
       "      <td>26,572,525</td>\n",
       "      <td>14,660,230</td>\n",
       "      <td>38,321,852</td>\n",
       "      <td>-</td>\n",
       "    </tr>\n",
       "    <tr>\n",
       "      <th>20</th>\n",
       "      <td>01611680000000</td>\n",
       "      <td>61168</td>\n",
       "      <td>Emery Unified</td>\n",
       "      <td>NaN</td>\n",
       "      <td>237.65</td>\n",
       "      <td>151.54</td>\n",
       "      <td>104.99</td>\n",
       "      <td>191.97</td>\n",
       "      <td>0.7953</td>\n",
       "      <td>5,702,229</td>\n",
       "      <td>906,997</td>\n",
       "      <td>699,378</td>\n",
       "      <td>-</td>\n",
       "      <td>-</td>\n",
       "      <td>18,271</td>\n",
       "      <td>-</td>\n",
       "      <td>7,326,875</td>\n",
       "      <td>6,698,947</td>\n",
       "      <td>627,928</td>\n",
       "      <td>108,723</td>\n",
       "      <td>-</td>\n",
       "      <td>5,582,328</td>\n",
       "      <td>137,230</td>\n",
       "      <td>1,716,040</td>\n",
       "      <td>-</td>\n",
       "    </tr>\n",
       "  </tbody>\n",
       "</table>\n",
       "</div>"
      ],
      "text/plain": [
       "               cds District Code Local Educational Agency  charter_number  \\\n",
       "10  01611190000000         61119          Alameda Unified             NaN   \n",
       "16  01611270000000         61127      Albany City Unified             NaN   \n",
       "17  01611430000000         61143         Berkeley Unified             NaN   \n",
       "19  01611500000000         61150    Castro Valley Unified             NaN   \n",
       "20  01611680000000         61168            Emery Unified             NaN   \n",
       "\n",
       "   TK/K-3 ADA\\nTarget, B-5/B-1 4 - 6 ADA\\nTarget, B-6/B-2  \\\n",
       "10                   2,870.43                   1,917.91    \n",
       "16                   1,060.09                     806.37    \n",
       "17                   2,828.54                   2,101.08    \n",
       "19                   2,617.44                   2,032.50    \n",
       "20                     237.65                     151.54    \n",
       "\n",
       "   7 - 8 ADA\\nTarget, B-7/B-3 9 - 12 ADA\\nTarget, B-8/B-4  \\\n",
       "10                  1,219.66                    3,050.17    \n",
       "16                    554.25                    1,131.64    \n",
       "17                  1,397.55                    3,070.55    \n",
       "19                  1,400.40                    2,918.48    \n",
       "20                    104.99                      191.97    \n",
       "\n",
       "   unduplicated_pupil_count    base_grant supplemental_grant  \\\n",
       "10                  0.3486    75,938,983          5,294,466    \n",
       "16                  0.2833    29,644,972          1,679,684    \n",
       "17                  0.3519    78,556,532          5,528,808    \n",
       "19                  0.2904    74,911,585          4,350,864    \n",
       "20                  0.7953     5,702,229            906,997    \n",
       "\n",
       "   concentration_grant nec_small_schools  \\\n",
       "10                  -                 -    \n",
       "16                  -                 -    \n",
       "17                  -                 -    \n",
       "19                  -                 -    \n",
       "20            699,378                 -    \n",
       "\n",
       "   Add-On (Based on 2012-13 Targeted Instructional Improvement Block Grant)\\nTarget, F-2  \\\n",
       "10                                           665,778                                       \n",
       "16                                                 -                                       \n",
       "17                                         4,293,233                                       \n",
       "19                                                 -                                       \n",
       "20                                                 -                                       \n",
       "\n",
       "   Add-On (Based on 2012-13 Home-to-School Transportation)\\nTarget, F-3  \\\n",
       "10                                           258,889                      \n",
       "16                                            27,884                      \n",
       "17                                           991,048                      \n",
       "19                                           292,158                      \n",
       "20                                            18,271                      \n",
       "\n",
       "   Add-On (Based on 2012-13 Small School District Bus Replacement Program)\\nTarget, F-4  \\\n",
       "10                                                 -                                      \n",
       "16                                                 -                                      \n",
       "17                                                 -                                      \n",
       "19                                                 -                                      \n",
       "20                                                 -                                      \n",
       "\n",
       "    total_grants Total LCFF Floor Entitlement\\nTransition, B-13  \\\n",
       "10   82,158,116                                     77,176,229    \n",
       "16   31,352,540                                     29,460,891    \n",
       "17   89,369,621                                     84,726,528    \n",
       "19   79,554,607                                     74,489,641    \n",
       "20    7,326,875                                      6,698,947    \n",
       "\n",
       "   Current Year Gap Funding (100%)\\nTransition, C-3  \\\n",
       "10                                       4,981,887    \n",
       "16                                       1,891,649    \n",
       "17                                       4,643,093    \n",
       "19                                       5,064,966    \n",
       "20                                         627,928    \n",
       "\n",
       "   Economic Recovery Target\\nTransition, D-1  \\\n",
       "10                                        -    \n",
       "16                                        -    \n",
       "17                                  820,253    \n",
       "19                                        -    \n",
       "20                                  108,723    \n",
       "\n",
       "   Miscellaneous Adjustments\\nTransition, E-1  \\\n",
       "10                                         -    \n",
       "16                                         -    \n",
       "17                                         -    \n",
       "19                                         -    \n",
       "20                                         -    \n",
       "\n",
       "   Total Local Revenue or In-Lieu of Property Taxes\\nTransition, F-2/F-7  \\\n",
       "10                                        29,277,891                       \n",
       "16                                        11,005,115                       \n",
       "17                                        43,425,650                       \n",
       "19                                        26,572,525                       \n",
       "20                                         5,582,328                       \n",
       "\n",
       "   Education Protection Account Entitlement\\nTransition, F-5/F-9  \\\n",
       "10                                        14,772,333               \n",
       "16                                         5,777,202               \n",
       "17                                         8,875,387               \n",
       "19                                        14,660,230               \n",
       "20                                           137,230               \n",
       "\n",
       "   Net State Aid\\nTransition, F-6/F-10  \\\n",
       "10                         38,107,892    \n",
       "16                         14,570,223    \n",
       "17                         37,888,837    \n",
       "19                         38,321,852    \n",
       "20                          1,716,040    \n",
       "\n",
       "   Additional SA for MSA Guarantee\\nTransition, H-1/H-2  \n",
       "10                                                 -     \n",
       "16                                                 -     \n",
       "17                                                 -     \n",
       "19                                                 -     \n",
       "20                                                 -     "
      ]
     },
     "execution_count": 40,
     "metadata": {},
     "output_type": "execute_result"
    }
   ],
   "source": [
    "lcff.head()\n",
    "# cds codes are now concurrent with documentation and comparable to acheivement data"
   ]
  },
  {
   "cell_type": "code",
   "execution_count": 41,
   "metadata": {
    "scrolled": true
   },
   "outputs": [
    {
     "data": {
      "text/html": [
       "<div>\n",
       "<style scoped>\n",
       "    .dataframe tbody tr th:only-of-type {\n",
       "        vertical-align: middle;\n",
       "    }\n",
       "\n",
       "    .dataframe tbody tr th {\n",
       "        vertical-align: top;\n",
       "    }\n",
       "\n",
       "    .dataframe thead th {\n",
       "        text-align: right;\n",
       "    }\n",
       "</style>\n",
       "<table border=\"1\" class=\"dataframe\">\n",
       "  <thead>\n",
       "    <tr style=\"text-align: right;\">\n",
       "      <th></th>\n",
       "      <th>District Code</th>\n",
       "      <th>Local Educational Agency</th>\n",
       "      <th>unduplicated_pupil_count</th>\n",
       "      <th>base_grant</th>\n",
       "      <th>supplemental_grant</th>\n",
       "      <th>concentration_grant</th>\n",
       "      <th>total_grants</th>\n",
       "      <th>cds</th>\n",
       "    </tr>\n",
       "  </thead>\n",
       "  <tbody>\n",
       "    <tr>\n",
       "      <th>10</th>\n",
       "      <td>61119</td>\n",
       "      <td>Alameda Unified</td>\n",
       "      <td>0.3486</td>\n",
       "      <td>75,938,983</td>\n",
       "      <td>5,294,466</td>\n",
       "      <td>-</td>\n",
       "      <td>82,158,116</td>\n",
       "      <td>01611190000000</td>\n",
       "    </tr>\n",
       "    <tr>\n",
       "      <th>16</th>\n",
       "      <td>61127</td>\n",
       "      <td>Albany City Unified</td>\n",
       "      <td>0.2833</td>\n",
       "      <td>29,644,972</td>\n",
       "      <td>1,679,684</td>\n",
       "      <td>-</td>\n",
       "      <td>31,352,540</td>\n",
       "      <td>01611270000000</td>\n",
       "    </tr>\n",
       "    <tr>\n",
       "      <th>17</th>\n",
       "      <td>61143</td>\n",
       "      <td>Berkeley Unified</td>\n",
       "      <td>0.3519</td>\n",
       "      <td>78,556,532</td>\n",
       "      <td>5,528,808</td>\n",
       "      <td>-</td>\n",
       "      <td>89,369,621</td>\n",
       "      <td>01611430000000</td>\n",
       "    </tr>\n",
       "    <tr>\n",
       "      <th>19</th>\n",
       "      <td>61150</td>\n",
       "      <td>Castro Valley Unified</td>\n",
       "      <td>0.2904</td>\n",
       "      <td>74,911,585</td>\n",
       "      <td>4,350,864</td>\n",
       "      <td>-</td>\n",
       "      <td>79,554,607</td>\n",
       "      <td>01611500000000</td>\n",
       "    </tr>\n",
       "    <tr>\n",
       "      <th>20</th>\n",
       "      <td>61168</td>\n",
       "      <td>Emery Unified</td>\n",
       "      <td>0.7953</td>\n",
       "      <td>5,702,229</td>\n",
       "      <td>906,997</td>\n",
       "      <td>699,378</td>\n",
       "      <td>7,326,875</td>\n",
       "      <td>01611680000000</td>\n",
       "    </tr>\n",
       "  </tbody>\n",
       "</table>\n",
       "</div>"
      ],
      "text/plain": [
       "   District Code Local Educational Agency unduplicated_pupil_count  \\\n",
       "10         61119          Alameda Unified                  0.3486    \n",
       "16         61127      Albany City Unified                  0.2833    \n",
       "17         61143         Berkeley Unified                  0.3519    \n",
       "19         61150    Castro Valley Unified                  0.2904    \n",
       "20         61168            Emery Unified                  0.7953    \n",
       "\n",
       "      base_grant supplemental_grant concentration_grant  total_grants  \\\n",
       "10   75,938,983          5,294,466                   -    82,158,116    \n",
       "16   29,644,972          1,679,684                   -    31,352,540    \n",
       "17   78,556,532          5,528,808                   -    89,369,621    \n",
       "19   74,911,585          4,350,864                   -    79,554,607    \n",
       "20    5,702,229            906,997             699,378     7,326,875    \n",
       "\n",
       "               cds  \n",
       "10  01611190000000  \n",
       "16  01611270000000  \n",
       "17  01611430000000  \n",
       "19  01611500000000  \n",
       "20  01611680000000  "
      ]
     },
     "execution_count": 41,
     "metadata": {},
     "output_type": "execute_result"
    }
   ],
   "source": [
    "#is this done?\n",
    "dflcff = lcff[['District Code', 'Local Educational Agency', 'unduplicated_pupil_count', 'base_grant', 'supplemental_grant', 'concentration_grant', 'total_grants', 'cds' ]].copy()\n",
    "dflcff.head()"
   ]
  },
  {
   "cell_type": "markdown",
   "metadata": {},
   "source": [
    "## LCFF geodataframe + mapping"
   ]
  },
  {
   "cell_type": "code",
   "execution_count": 42,
   "metadata": {
    "scrolled": true
   },
   "outputs": [
    {
     "data": {
      "text/html": [
       "<div>\n",
       "<style scoped>\n",
       "    .dataframe tbody tr th:only-of-type {\n",
       "        vertical-align: middle;\n",
       "    }\n",
       "\n",
       "    .dataframe tbody tr th {\n",
       "        vertical-align: top;\n",
       "    }\n",
       "\n",
       "    .dataframe thead th {\n",
       "        text-align: right;\n",
       "    }\n",
       "</style>\n",
       "<table border=\"1\" class=\"dataframe\">\n",
       "  <thead>\n",
       "    <tr style=\"text-align: right;\">\n",
       "      <th></th>\n",
       "      <th>District Code</th>\n",
       "      <th>Local Educational Agency</th>\n",
       "      <th>unduplicated_pupil_count</th>\n",
       "      <th>base_grant</th>\n",
       "      <th>supplemental_grant</th>\n",
       "      <th>concentration_grant</th>\n",
       "      <th>total_grants</th>\n",
       "      <th>cds</th>\n",
       "      <th>STATEFP</th>\n",
       "      <th>UNSDLEA</th>\n",
       "      <th>GEOID</th>\n",
       "      <th>NAME</th>\n",
       "      <th>LSAD</th>\n",
       "      <th>LOGRADE</th>\n",
       "      <th>HIGRADE</th>\n",
       "      <th>MTFCC</th>\n",
       "      <th>SDTYP</th>\n",
       "      <th>FUNCSTAT</th>\n",
       "      <th>ALAND</th>\n",
       "      <th>AWATER</th>\n",
       "      <th>INTPTLAT</th>\n",
       "      <th>INTPTLON</th>\n",
       "      <th>geometry</th>\n",
       "      <th>origin</th>\n",
       "      <th>ELSDLEA</th>\n",
       "      <th>SCSDLEA</th>\n",
       "    </tr>\n",
       "  </thead>\n",
       "  <tbody>\n",
       "    <tr>\n",
       "      <th>0</th>\n",
       "      <td>61119</td>\n",
       "      <td>Alameda Unified</td>\n",
       "      <td>0.3486</td>\n",
       "      <td>75,938,983</td>\n",
       "      <td>5,294,466</td>\n",
       "      <td>-</td>\n",
       "      <td>82,158,116</td>\n",
       "      <td>01611190000000</td>\n",
       "      <td>NaN</td>\n",
       "      <td>NaN</td>\n",
       "      <td>NaN</td>\n",
       "      <td>NaN</td>\n",
       "      <td>NaN</td>\n",
       "      <td>NaN</td>\n",
       "      <td>NaN</td>\n",
       "      <td>NaN</td>\n",
       "      <td>NaN</td>\n",
       "      <td>NaN</td>\n",
       "      <td>NaN</td>\n",
       "      <td>NaN</td>\n",
       "      <td>NaN</td>\n",
       "      <td>NaN</td>\n",
       "      <td>None</td>\n",
       "      <td>NaN</td>\n",
       "      <td>NaN</td>\n",
       "      <td>NaN</td>\n",
       "    </tr>\n",
       "    <tr>\n",
       "      <th>1</th>\n",
       "      <td>61127</td>\n",
       "      <td>Albany City Unified</td>\n",
       "      <td>0.2833</td>\n",
       "      <td>29,644,972</td>\n",
       "      <td>1,679,684</td>\n",
       "      <td>-</td>\n",
       "      <td>31,352,540</td>\n",
       "      <td>01611270000000</td>\n",
       "      <td>06</td>\n",
       "      <td>01860</td>\n",
       "      <td>0601860</td>\n",
       "      <td>Albany City Unified</td>\n",
       "      <td>00</td>\n",
       "      <td>KG</td>\n",
       "      <td>12</td>\n",
       "      <td>G5420</td>\n",
       "      <td>None</td>\n",
       "      <td>E</td>\n",
       "      <td>4634305.0</td>\n",
       "      <td>9523833.0</td>\n",
       "      <td>+37.8906499</td>\n",
       "      <td>-122.3181164</td>\n",
       "      <td>POLYGON ((-122.37312 37.88388, -122.37114 37.8...</td>\n",
       "      <td>unified</td>\n",
       "      <td>NaN</td>\n",
       "      <td>NaN</td>\n",
       "    </tr>\n",
       "    <tr>\n",
       "      <th>2</th>\n",
       "      <td>61143</td>\n",
       "      <td>Berkeley Unified</td>\n",
       "      <td>0.3519</td>\n",
       "      <td>78,556,532</td>\n",
       "      <td>5,528,808</td>\n",
       "      <td>-</td>\n",
       "      <td>89,369,621</td>\n",
       "      <td>01611430000000</td>\n",
       "      <td>06</td>\n",
       "      <td>04740</td>\n",
       "      <td>0604740</td>\n",
       "      <td>Berkeley Unified</td>\n",
       "      <td>00</td>\n",
       "      <td>KG</td>\n",
       "      <td>12</td>\n",
       "      <td>G5420</td>\n",
       "      <td>None</td>\n",
       "      <td>E</td>\n",
       "      <td>27095285.0</td>\n",
       "      <td>18715614.0</td>\n",
       "      <td>+37.8669717</td>\n",
       "      <td>-122.2991474</td>\n",
       "      <td>POLYGON ((-122.36778 37.86673, -122.35671 37.8...</td>\n",
       "      <td>unified</td>\n",
       "      <td>NaN</td>\n",
       "      <td>NaN</td>\n",
       "    </tr>\n",
       "    <tr>\n",
       "      <th>3</th>\n",
       "      <td>61150</td>\n",
       "      <td>Castro Valley Unified</td>\n",
       "      <td>0.2904</td>\n",
       "      <td>74,911,585</td>\n",
       "      <td>4,350,864</td>\n",
       "      <td>-</td>\n",
       "      <td>79,554,607</td>\n",
       "      <td>01611500000000</td>\n",
       "      <td>06</td>\n",
       "      <td>07800</td>\n",
       "      <td>0607800</td>\n",
       "      <td>Castro Valley Unified</td>\n",
       "      <td>00</td>\n",
       "      <td>KG</td>\n",
       "      <td>12</td>\n",
       "      <td>G5420</td>\n",
       "      <td>None</td>\n",
       "      <td>E</td>\n",
       "      <td>177385526.0</td>\n",
       "      <td>4276387.0</td>\n",
       "      <td>+37.7196716</td>\n",
       "      <td>-122.0463454</td>\n",
       "      <td>POLYGON ((-122.17916 37.80498, -122.17914 37.8...</td>\n",
       "      <td>unified</td>\n",
       "      <td>NaN</td>\n",
       "      <td>NaN</td>\n",
       "    </tr>\n",
       "    <tr>\n",
       "      <th>4</th>\n",
       "      <td>61168</td>\n",
       "      <td>Emery Unified</td>\n",
       "      <td>0.7953</td>\n",
       "      <td>5,702,229</td>\n",
       "      <td>906,997</td>\n",
       "      <td>699,378</td>\n",
       "      <td>7,326,875</td>\n",
       "      <td>01611680000000</td>\n",
       "      <td>06</td>\n",
       "      <td>12630</td>\n",
       "      <td>0612630</td>\n",
       "      <td>Emery Unified</td>\n",
       "      <td>00</td>\n",
       "      <td>KG</td>\n",
       "      <td>12</td>\n",
       "      <td>G5420</td>\n",
       "      <td>None</td>\n",
       "      <td>E</td>\n",
       "      <td>3317306.0</td>\n",
       "      <td>2517858.0</td>\n",
       "      <td>+37.8399065</td>\n",
       "      <td>-122.2989635</td>\n",
       "      <td>POLYGON ((-122.33014 37.84111, -122.32432 37.8...</td>\n",
       "      <td>unified</td>\n",
       "      <td>NaN</td>\n",
       "      <td>NaN</td>\n",
       "    </tr>\n",
       "  </tbody>\n",
       "</table>\n",
       "</div>"
      ],
      "text/plain": [
       "  District Code Local Educational Agency unduplicated_pupil_count  \\\n",
       "0         61119          Alameda Unified                  0.3486    \n",
       "1         61127      Albany City Unified                  0.2833    \n",
       "2         61143         Berkeley Unified                  0.3519    \n",
       "3         61150    Castro Valley Unified                  0.2904    \n",
       "4         61168            Emery Unified                  0.7953    \n",
       "\n",
       "     base_grant supplemental_grant concentration_grant  total_grants  \\\n",
       "0   75,938,983          5,294,466                   -    82,158,116    \n",
       "1   29,644,972          1,679,684                   -    31,352,540    \n",
       "2   78,556,532          5,528,808                   -    89,369,621    \n",
       "3   74,911,585          4,350,864                   -    79,554,607    \n",
       "4    5,702,229            906,997             699,378     7,326,875    \n",
       "\n",
       "              cds STATEFP UNSDLEA    GEOID                   NAME LSAD  \\\n",
       "0  01611190000000     NaN     NaN      NaN                    NaN  NaN   \n",
       "1  01611270000000      06   01860  0601860    Albany City Unified   00   \n",
       "2  01611430000000      06   04740  0604740       Berkeley Unified   00   \n",
       "3  01611500000000      06   07800  0607800  Castro Valley Unified   00   \n",
       "4  01611680000000      06   12630  0612630          Emery Unified   00   \n",
       "\n",
       "  LOGRADE HIGRADE  MTFCC SDTYP FUNCSTAT        ALAND      AWATER     INTPTLAT  \\\n",
       "0     NaN     NaN    NaN   NaN      NaN          NaN         NaN          NaN   \n",
       "1      KG      12  G5420  None        E    4634305.0   9523833.0  +37.8906499   \n",
       "2      KG      12  G5420  None        E   27095285.0  18715614.0  +37.8669717   \n",
       "3      KG      12  G5420  None        E  177385526.0   4276387.0  +37.7196716   \n",
       "4      KG      12  G5420  None        E    3317306.0   2517858.0  +37.8399065   \n",
       "\n",
       "       INTPTLON                                           geometry   origin  \\\n",
       "0           NaN                                               None      NaN   \n",
       "1  -122.3181164  POLYGON ((-122.37312 37.88388, -122.37114 37.8...  unified   \n",
       "2  -122.2991474  POLYGON ((-122.36778 37.86673, -122.35671 37.8...  unified   \n",
       "3  -122.0463454  POLYGON ((-122.17916 37.80498, -122.17914 37.8...  unified   \n",
       "4  -122.2989635  POLYGON ((-122.33014 37.84111, -122.32432 37.8...  unified   \n",
       "\n",
       "  ELSDLEA SCSDLEA  \n",
       "0     NaN     NaN  \n",
       "1     NaN     NaN  \n",
       "2     NaN     NaN  \n",
       "3     NaN     NaN  \n",
       "4     NaN     NaN  "
      ]
     },
     "execution_count": 42,
     "metadata": {},
     "output_type": "execute_result"
    }
   ],
   "source": [
    "a1 = pandas.merge(dflcff, adistricts, how='left', left_on='Local Educational Agency', right_on='NAME')\n",
    "a1.head()"
   ]
  },
  {
   "cell_type": "code",
   "execution_count": 43,
   "metadata": {},
   "outputs": [],
   "source": [
    "a1 = geopandas.GeoDataFrame(a1)"
   ]
  },
  {
   "cell_type": "code",
   "execution_count": 44,
   "metadata": {
    "scrolled": false
   },
   "outputs": [
    {
     "data": {
      "text/plain": [
       "<matplotlib.axes._subplots.AxesSubplot at 0x13a67f25888>"
      ]
     },
     "execution_count": 44,
     "metadata": {},
     "output_type": "execute_result"
    },
    {
     "data": {
      "image/png": "[encoded data removed]",
      "text/plain": [
       "<Figure size 1080x1080 with 1 Axes>"
      ]
     },
     "metadata": {
      "needs_background": "light"
     },
     "output_type": "display_data"
    }
   ],
   "source": [
    "a1.plot(\n",
    "    column='unduplicated_pupil_count',\n",
    "    legend=True,\n",
    "    figsize=(15, 15),\n",
    "    scheme=\"quantiles\"\n",
    "        )"
   ]
  },
  {
   "cell_type": "code",
   "execution_count": null,
   "metadata": {},
   "outputs": [],
   "source": []
  },
  {
   "cell_type": "code",
   "execution_count": null,
   "metadata": {},
   "outputs": [],
   "source": []
  },
  {
   "cell_type": "code",
   "execution_count": null,
   "metadata": {},
   "outputs": [],
   "source": []
  },
  {
   "cell_type": "markdown",
   "metadata": {},
   "source": [
    "# Free and reduced meal plan data\n",
    "Used by policy makers as a stand-in for a  segregation indicator. \n",
    "\n",
    "Find the codebook [here](https://www.cde.ca.gov/ds/sd/sd/fsspfrpm.asp)."
   ]
  },
  {
   "cell_type": "code",
   "execution_count": 45,
   "metadata": {
    "scrolled": false
   },
   "outputs": [
    {
     "data": {
      "text/plain": [
       "(10520, 28)"
      ]
     },
     "execution_count": 45,
     "metadata": {},
     "output_type": "execute_result"
    }
   ],
   "source": [
    "frpm = pandas.read_csv('lcff_data/frpm1819.csv', encoding = \"ISO-8859-1\", skiprows=1)\n",
    "frpm.shape\n",
    "# aggregate figures by district\n",
    "# jump down to 'mealagg' cell"
   ]
  },
  {
   "cell_type": "code",
   "execution_count": 46,
   "metadata": {},
   "outputs": [],
   "source": [
    "# renaming important columns\n",
    "frpm = frpm.rename(columns={'Percent (%) \\nEligible FRPM \\n(K-12)': 'percent_eligible_k12_frpm', \n",
    "                            'Percent (%) \\nEligible Free \\n(K-12)': 'percent_eligible_k12_free', \n",
    "                            'Percent (%) \\nEligible FRPM \\n(Ages 5-17)' : 'percent_eligible_by_age',\n",
    "                            'Enrollment \\n(Ages 5-17)': 'enrollment_by_age',\n",
    "                            'FRPM Count \\n(Ages 5-17)': 'frpm_count_by_age',\n",
    "                            'Free Meal \\nCount \\n(Ages 5-17)': 'free_count_by_age',\n",
    "                            'District Type': 'district_type',\n",
    "                            'District Name': 'district_name',\n",
    "                            'County Name': 'county_name',\n",
    "                            \n",
    "                           })"
   ]
  },
  {
   "cell_type": "code",
   "execution_count": 47,
   "metadata": {},
   "outputs": [
    {
     "data": {
      "text/html": [
       "<div>\n",
       "<style scoped>\n",
       "    .dataframe tbody tr th:only-of-type {\n",
       "        vertical-align: middle;\n",
       "    }\n",
       "\n",
       "    .dataframe tbody tr th {\n",
       "        vertical-align: top;\n",
       "    }\n",
       "\n",
       "    .dataframe thead th {\n",
       "        text-align: right;\n",
       "    }\n",
       "</style>\n",
       "<table border=\"1\" class=\"dataframe\">\n",
       "  <thead>\n",
       "    <tr style=\"text-align: right;\">\n",
       "      <th></th>\n",
       "      <th>Academic Year</th>\n",
       "      <th>County Code</th>\n",
       "      <th>District Code</th>\n",
       "      <th>School Code</th>\n",
       "      <th>county_name</th>\n",
       "      <th>district_name</th>\n",
       "      <th>School Name</th>\n",
       "      <th>district_type</th>\n",
       "      <th>School Type</th>\n",
       "      <th>Educational \\nOption Type</th>\n",
       "      <th>NSLP \\nProvision \\nStatus</th>\n",
       "      <th>Charter \\nSchool \\n(Y/N)</th>\n",
       "      <th>Charter \\nSchool \\nNumber</th>\n",
       "      <th>Charter \\nFunding \\nType</th>\n",
       "      <th>IRC</th>\n",
       "      <th>Low Grade</th>\n",
       "      <th>High Grade</th>\n",
       "      <th>Enrollment \\n(K-12)</th>\n",
       "      <th>Free Meal \\nCount \\n(K-12)</th>\n",
       "      <th>percent_eligible_k12_free</th>\n",
       "      <th>FRPM Count \\n(K-12)</th>\n",
       "      <th>percent_eligible_k12_frpm</th>\n",
       "      <th>enrollment_by_age</th>\n",
       "      <th>free_count_by_age</th>\n",
       "      <th>Percent (%) \\nEligible Free \\n(Ages 5-17)</th>\n",
       "      <th>frpm_count_by_age</th>\n",
       "      <th>percent_eligible_by_age</th>\n",
       "      <th>CALPADS Fall 1 \\nCertification Status</th>\n",
       "    </tr>\n",
       "  </thead>\n",
       "  <tbody>\n",
       "    <tr>\n",
       "      <th>0</th>\n",
       "      <td>2018-2019</td>\n",
       "      <td>1</td>\n",
       "      <td>10017</td>\n",
       "      <td>112607</td>\n",
       "      <td>Alameda</td>\n",
       "      <td>Alameda County Office of Education</td>\n",
       "      <td>Envision Academy for Arts &amp; Technology</td>\n",
       "      <td>County Office of Education (COE)</td>\n",
       "      <td>High Schools (Public)</td>\n",
       "      <td>Traditional</td>\n",
       "      <td>NaN</td>\n",
       "      <td>Yes</td>\n",
       "      <td>0811</td>\n",
       "      <td>Directly funded</td>\n",
       "      <td>Y</td>\n",
       "      <td>9</td>\n",
       "      <td>12</td>\n",
       "      <td>385</td>\n",
       "      <td>262</td>\n",
       "      <td>68.1%</td>\n",
       "      <td>306</td>\n",
       "      <td>79.5%</td>\n",
       "      <td>370</td>\n",
       "      <td>249</td>\n",
       "      <td>67.3%</td>\n",
       "      <td>291</td>\n",
       "      <td>78.6%</td>\n",
       "      <td>Y</td>\n",
       "    </tr>\n",
       "    <tr>\n",
       "      <th>1</th>\n",
       "      <td>2018-2019</td>\n",
       "      <td>1</td>\n",
       "      <td>10017</td>\n",
       "      <td>123968</td>\n",
       "      <td>Alameda</td>\n",
       "      <td>Alameda County Office of Education</td>\n",
       "      <td>Community School for Creative Education</td>\n",
       "      <td>County Office of Education (COE)</td>\n",
       "      <td>Elementary Schools (Public)</td>\n",
       "      <td>Traditional</td>\n",
       "      <td>NaN</td>\n",
       "      <td>Yes</td>\n",
       "      <td>1284</td>\n",
       "      <td>Directly funded</td>\n",
       "      <td>Y</td>\n",
       "      <td>K</td>\n",
       "      <td>8</td>\n",
       "      <td>241</td>\n",
       "      <td>118</td>\n",
       "      <td>49.0%</td>\n",
       "      <td>120</td>\n",
       "      <td>49.8%</td>\n",
       "      <td>224</td>\n",
       "      <td>113</td>\n",
       "      <td>50.4%</td>\n",
       "      <td>115</td>\n",
       "      <td>51.3%</td>\n",
       "      <td>Y</td>\n",
       "    </tr>\n",
       "    <tr>\n",
       "      <th>2</th>\n",
       "      <td>2018-2019</td>\n",
       "      <td>1</td>\n",
       "      <td>10017</td>\n",
       "      <td>124172</td>\n",
       "      <td>Alameda</td>\n",
       "      <td>Alameda County Office of Education</td>\n",
       "      <td>Yu Ming Charter</td>\n",
       "      <td>County Office of Education (COE)</td>\n",
       "      <td>Elementary Schools (Public)</td>\n",
       "      <td>Traditional</td>\n",
       "      <td>NaN</td>\n",
       "      <td>Yes</td>\n",
       "      <td>1296</td>\n",
       "      <td>Directly funded</td>\n",
       "      <td>Y</td>\n",
       "      <td>K</td>\n",
       "      <td>8</td>\n",
       "      <td>445</td>\n",
       "      <td>58</td>\n",
       "      <td>13.0%</td>\n",
       "      <td>64</td>\n",
       "      <td>14.4%</td>\n",
       "      <td>445</td>\n",
       "      <td>58</td>\n",
       "      <td>13.0%</td>\n",
       "      <td>64</td>\n",
       "      <td>14.4%</td>\n",
       "      <td>Y</td>\n",
       "    </tr>\n",
       "    <tr>\n",
       "      <th>3</th>\n",
       "      <td>2018-2019</td>\n",
       "      <td>1</td>\n",
       "      <td>10017</td>\n",
       "      <td>125567</td>\n",
       "      <td>Alameda</td>\n",
       "      <td>Alameda County Office of Education</td>\n",
       "      <td>Urban Montessori Charter</td>\n",
       "      <td>County Office of Education (COE)</td>\n",
       "      <td>Elementary Schools (Public)</td>\n",
       "      <td>Traditional</td>\n",
       "      <td>NaN</td>\n",
       "      <td>Yes</td>\n",
       "      <td>1383</td>\n",
       "      <td>Directly funded</td>\n",
       "      <td>Y</td>\n",
       "      <td>K</td>\n",
       "      <td>8</td>\n",
       "      <td>432</td>\n",
       "      <td>113</td>\n",
       "      <td>26.2%</td>\n",
       "      <td>131</td>\n",
       "      <td>30.3%</td>\n",
       "      <td>418</td>\n",
       "      <td>111</td>\n",
       "      <td>26.6%</td>\n",
       "      <td>129</td>\n",
       "      <td>30.9%</td>\n",
       "      <td>Y</td>\n",
       "    </tr>\n",
       "    <tr>\n",
       "      <th>4</th>\n",
       "      <td>2018-2019</td>\n",
       "      <td>1</td>\n",
       "      <td>10017</td>\n",
       "      <td>130401</td>\n",
       "      <td>Alameda</td>\n",
       "      <td>Alameda County Office of Education</td>\n",
       "      <td>Alameda County Juvenile Hall/Court</td>\n",
       "      <td>County Office of Education (COE)</td>\n",
       "      <td>Juvenile Court Schools</td>\n",
       "      <td>Juvenile Court School</td>\n",
       "      <td>NaN</td>\n",
       "      <td>No</td>\n",
       "      <td>NaN</td>\n",
       "      <td>NaN</td>\n",
       "      <td>N</td>\n",
       "      <td>K</td>\n",
       "      <td>12</td>\n",
       "      <td>53</td>\n",
       "      <td>53</td>\n",
       "      <td>100.0%</td>\n",
       "      <td>53</td>\n",
       "      <td>100.0%</td>\n",
       "      <td>50</td>\n",
       "      <td>50</td>\n",
       "      <td>100.0%</td>\n",
       "      <td>50</td>\n",
       "      <td>100.0%</td>\n",
       "      <td>Y</td>\n",
       "    </tr>\n",
       "  </tbody>\n",
       "</table>\n",
       "</div>"
      ],
      "text/plain": [
       "  Academic Year  County Code  District Code  School Code county_name  \\\n",
       "0     2018-2019            1          10017       112607     Alameda   \n",
       "1     2018-2019            1          10017       123968     Alameda   \n",
       "2     2018-2019            1          10017       124172     Alameda   \n",
       "3     2018-2019            1          10017       125567     Alameda   \n",
       "4     2018-2019            1          10017       130401     Alameda   \n",
       "\n",
       "                        district_name  \\\n",
       "0  Alameda County Office of Education   \n",
       "1  Alameda County Office of Education   \n",
       "2  Alameda County Office of Education   \n",
       "3  Alameda County Office of Education   \n",
       "4  Alameda County Office of Education   \n",
       "\n",
       "                               School Name                     district_type  \\\n",
       "0   Envision Academy for Arts & Technology  County Office of Education (COE)   \n",
       "1  Community School for Creative Education  County Office of Education (COE)   \n",
       "2                          Yu Ming Charter  County Office of Education (COE)   \n",
       "3                 Urban Montessori Charter  County Office of Education (COE)   \n",
       "4       Alameda County Juvenile Hall/Court  County Office of Education (COE)   \n",
       "\n",
       "                   School Type Educational \\nOption Type  \\\n",
       "0        High Schools (Public)               Traditional   \n",
       "1  Elementary Schools (Public)               Traditional   \n",
       "2  Elementary Schools (Public)               Traditional   \n",
       "3  Elementary Schools (Public)               Traditional   \n",
       "4       Juvenile Court Schools     Juvenile Court School   \n",
       "\n",
       "  NSLP \\nProvision \\nStatus Charter \\nSchool \\n(Y/N)  \\\n",
       "0                       NaN                      Yes   \n",
       "1                       NaN                      Yes   \n",
       "2                       NaN                      Yes   \n",
       "3                       NaN                      Yes   \n",
       "4                       NaN                      No    \n",
       "\n",
       "  Charter \\nSchool \\nNumber Charter \\nFunding \\nType IRC Low Grade High Grade  \\\n",
       "0                      0811          Directly funded   Y         9         12   \n",
       "1                      1284          Directly funded   Y         K          8   \n",
       "2                      1296          Directly funded   Y         K          8   \n",
       "3                      1383          Directly funded   Y         K          8   \n",
       "4                       NaN                      NaN   N         K         12   \n",
       "\n",
       "  Enrollment \\n(K-12) Free Meal \\nCount \\n(K-12) percent_eligible_k12_free  \\\n",
       "0                 385                        262                     68.1%   \n",
       "1                 241                        118                     49.0%   \n",
       "2                 445                         58                     13.0%   \n",
       "3                 432                        113                     26.2%   \n",
       "4                  53                         53                    100.0%   \n",
       "\n",
       "  FRPM Count \\n(K-12) percent_eligible_k12_frpm enrollment_by_age  \\\n",
       "0                 306                     79.5%               370   \n",
       "1                 120                     49.8%               224   \n",
       "2                  64                     14.4%               445   \n",
       "3                 131                     30.3%               418   \n",
       "4                  53                    100.0%                50   \n",
       "\n",
       "  free_count_by_age Percent (%) \\nEligible Free \\n(Ages 5-17)  \\\n",
       "0               249                                     67.3%   \n",
       "1               113                                     50.4%   \n",
       "2                58                                     13.0%   \n",
       "3               111                                     26.6%   \n",
       "4                50                                    100.0%   \n",
       "\n",
       "  frpm_count_by_age percent_eligible_by_age  \\\n",
       "0               291                   78.6%   \n",
       "1               115                   51.3%   \n",
       "2                64                   14.4%   \n",
       "3               129                   30.9%   \n",
       "4                50                  100.0%   \n",
       "\n",
       "  CALPADS Fall 1 \\nCertification Status  \n",
       "0                                     Y  \n",
       "1                                     Y  \n",
       "2                                     Y  \n",
       "3                                     Y  \n",
       "4                                     Y  "
      ]
     },
     "execution_count": 47,
     "metadata": {},
     "output_type": "execute_result"
    }
   ],
   "source": [
    "frpm.head()"
   ]
  },
  {
   "cell_type": "code",
   "execution_count": 48,
   "metadata": {
    "scrolled": false
   },
   "outputs": [],
   "source": [
    "#creating CDS code\n",
    "frpm['County Code'] = frpm['County Code'].astype(str)\n",
    "frpm['County Code'] = frpm['County Code'].apply(lambda x: '{0:0>2}'.format(x))\n",
    "frpm['District Code'] = frpm['District Code'].astype(str)\n",
    "frpm['School Code'] = frpm['School Code'].astype(str)\n",
    "frpm['School Code'] = frpm['School Code'].apply(lambda x: '{0:0>7}'.format(x))\n",
    "# converting to strings, adding leading zeroes \n",
    "frpm['cds'] = frpm['County Code'] + frpm['District Code'] + frpm['School Code']\n",
    "# combining codes\n",
    "\n",
    "frpm = frpm[frpm.district_type !='County Office of Education (COE)']\n",
    "# removing county offices of education\n",
    "\n",
    "col_name1='cds'\n",
    "first_col1 = frpm.pop(col_name1)\n",
    "frpm.insert(0, col_name1, first_col1)\n",
    "# Moving to front\n",
    "\n",
    "frpm.drop('County Code', axis=1, inplace=True)\n",
    "# frpm.drop('District Code', axis=1, inplace=True)\n",
    "frpm.drop('School Code', axis=1, inplace=True)\n",
    "# dropping split codes"
   ]
  },
  {
   "cell_type": "code",
   "execution_count": 49,
   "metadata": {},
   "outputs": [
    {
     "data": {
      "text/plain": [
       "Index(['cds', 'Academic Year', 'District Code', 'county_name', 'district_name',\n",
       "       'School Name', 'district_type', 'School Type',\n",
       "       'Educational \\nOption Type', 'NSLP \\nProvision \\nStatus',\n",
       "       'Charter \\nSchool \\n(Y/N)', 'Charter \\nSchool \\nNumber',\n",
       "       'Charter \\nFunding \\nType', 'IRC', 'Low Grade', 'High Grade',\n",
       "       'Enrollment \\n(K-12)', 'Free Meal \\nCount \\n(K-12)',\n",
       "       'percent_eligible_k12_free', 'FRPM Count \\n(K-12)',\n",
       "       'percent_eligible_k12_frpm', 'enrollment_by_age', 'free_count_by_age',\n",
       "       'Percent (%) \\nEligible Free \\n(Ages 5-17)', 'frpm_count_by_age',\n",
       "       'percent_eligible_by_age', 'CALPADS Fall 1 \\nCertification Status'],\n",
       "      dtype='object')"
      ]
     },
     "execution_count": 49,
     "metadata": {},
     "output_type": "execute_result"
    }
   ],
   "source": [
    "frpm.columns"
   ]
  },
  {
   "cell_type": "code",
   "execution_count": 50,
   "metadata": {},
   "outputs": [],
   "source": [
    "frpm['enrollment_by_age'] = frpm['enrollment_by_age'].str.replace(',', '').astype(int)\n",
    "frpm['frpm_count_by_age'] = frpm['frpm_count_by_age'].str.replace(',', '').astype(int)\n",
    "frpm['free_count_by_age'] = frpm['free_count_by_age'].str.replace(',', '').astype(int)\n",
    "# renaming columns, striping commas, converting to int "
   ]
  },
  {
   "cell_type": "code",
   "execution_count": 51,
   "metadata": {
    "scrolled": true
   },
   "outputs": [
    {
     "data": {
      "text/plain": [
       "Index(['cds', 'Academic Year', 'District Code', 'county_name', 'district_name',\n",
       "       'School Name', 'district_type', 'School Type',\n",
       "       'Educational \\nOption Type', 'NSLP \\nProvision \\nStatus',\n",
       "       'Charter \\nSchool \\n(Y/N)', 'Charter \\nSchool \\nNumber',\n",
       "       'Charter \\nFunding \\nType', 'IRC', 'Low Grade', 'High Grade',\n",
       "       'Enrollment \\n(K-12)', 'Free Meal \\nCount \\n(K-12)',\n",
       "       'percent_eligible_k12_free', 'FRPM Count \\n(K-12)',\n",
       "       'percent_eligible_k12_frpm', 'enrollment_by_age', 'free_count_by_age',\n",
       "       'Percent (%) \\nEligible Free \\n(Ages 5-17)', 'frpm_count_by_age',\n",
       "       'percent_eligible_by_age', 'CALPADS Fall 1 \\nCertification Status'],\n",
       "      dtype='object')"
      ]
     },
     "execution_count": 51,
     "metadata": {},
     "output_type": "execute_result"
    }
   ],
   "source": [
    "frpm.columns"
   ]
  },
  {
   "cell_type": "code",
   "execution_count": 52,
   "metadata": {
    "scrolled": true
   },
   "outputs": [],
   "source": [
    "# If nothing is int (and everything is object), all columns live through the groupby\n",
    "# if we convert to int before groupby (to make .sum() work), only int lives through groupby\n",
    "\n",
    "dffrpm = frpm.groupby(by='district_name').sum()\n",
    "# aggregating"
   ]
  },
  {
   "cell_type": "code",
   "execution_count": 53,
   "metadata": {
    "scrolled": false
   },
   "outputs": [
    {
     "data": {
      "text/plain": [
       "Index(['enrollment_by_age', 'free_count_by_age', 'frpm_count_by_age'], dtype='object')"
      ]
     },
     "execution_count": 53,
     "metadata": {},
     "output_type": "execute_result"
    }
   ],
   "source": [
    "dffrpm.columns"
   ]
  },
  {
   "cell_type": "code",
   "execution_count": 54,
   "metadata": {},
   "outputs": [],
   "source": [
    "dffrpm['pct_frpm_by_age'] = dffrpm.frpm_count_by_age / dffrpm.enrollment_by_age\n",
    "dffrpm['pct_free_by_age'] = dffrpm.free_count_by_age / dffrpm.enrollment_by_age\n",
    "# inferring more convinient than copying lul"
   ]
  },
  {
   "cell_type": "code",
   "execution_count": 55,
   "metadata": {
    "scrolled": true
   },
   "outputs": [
    {
     "data": {
      "text/plain": [
       "(966, 5)"
      ]
     },
     "execution_count": 55,
     "metadata": {},
     "output_type": "execute_result"
    }
   ],
   "source": [
    "dffrpm.shape\n",
    "# need to include district name and county name in the aggreagtion\n",
    "# why do we lose columns in the groupby operation? dtypes object preventing groupby?"
   ]
  },
  {
   "cell_type": "markdown",
   "metadata": {},
   "source": [
    "## Merging FRPM data with district codes, county codes, shapefiles"
   ]
  },
  {
   "cell_type": "code",
   "execution_count": 56,
   "metadata": {
    "scrolled": true
   },
   "outputs": [
    {
     "data": {
      "text/html": [
       "<div>\n",
       "<style scoped>\n",
       "    .dataframe tbody tr th:only-of-type {\n",
       "        vertical-align: middle;\n",
       "    }\n",
       "\n",
       "    .dataframe tbody tr th {\n",
       "        vertical-align: top;\n",
       "    }\n",
       "\n",
       "    .dataframe thead th {\n",
       "        text-align: right;\n",
       "    }\n",
       "</style>\n",
       "<table border=\"1\" class=\"dataframe\">\n",
       "  <thead>\n",
       "    <tr style=\"text-align: right;\">\n",
       "      <th></th>\n",
       "      <th>district_name</th>\n",
       "      <th>county_name</th>\n",
       "    </tr>\n",
       "  </thead>\n",
       "  <tbody>\n",
       "    <tr>\n",
       "      <th>0</th>\n",
       "      <td>California School for the Blind (State Special...</td>\n",
       "      <td>Alameda</td>\n",
       "    </tr>\n",
       "    <tr>\n",
       "      <th>1</th>\n",
       "      <td>California School for the Deaf-Fremont (State ...</td>\n",
       "      <td>Alameda</td>\n",
       "    </tr>\n",
       "    <tr>\n",
       "      <th>2</th>\n",
       "      <td>Alameda Unified</td>\n",
       "      <td>Alameda</td>\n",
       "    </tr>\n",
       "    <tr>\n",
       "      <th>3</th>\n",
       "      <td>Albany City Unified</td>\n",
       "      <td>Alameda</td>\n",
       "    </tr>\n",
       "    <tr>\n",
       "      <th>4</th>\n",
       "      <td>Berkeley Unified</td>\n",
       "      <td>Alameda</td>\n",
       "    </tr>\n",
       "    <tr>\n",
       "      <th>...</th>\n",
       "      <td>...</td>\n",
       "      <td>...</td>\n",
       "    </tr>\n",
       "    <tr>\n",
       "      <th>961</th>\n",
       "      <td>Camptonville Elementary</td>\n",
       "      <td>Yuba</td>\n",
       "    </tr>\n",
       "    <tr>\n",
       "      <th>962</th>\n",
       "      <td>Marysville Joint Unified</td>\n",
       "      <td>Yuba</td>\n",
       "    </tr>\n",
       "    <tr>\n",
       "      <th>963</th>\n",
       "      <td>Plumas Lake Elementary</td>\n",
       "      <td>Yuba</td>\n",
       "    </tr>\n",
       "    <tr>\n",
       "      <th>964</th>\n",
       "      <td>Wheatland</td>\n",
       "      <td>Yuba</td>\n",
       "    </tr>\n",
       "    <tr>\n",
       "      <th>965</th>\n",
       "      <td>Wheatland Union High</td>\n",
       "      <td>Yuba</td>\n",
       "    </tr>\n",
       "  </tbody>\n",
       "</table>\n",
       "<p>966 rows × 2 columns</p>\n",
       "</div>"
      ],
      "text/plain": [
       "                                         district_name county_name\n",
       "0    California School for the Blind (State Special...     Alameda\n",
       "1    California School for the Deaf-Fremont (State ...     Alameda\n",
       "2                                      Alameda Unified     Alameda\n",
       "3                                  Albany City Unified     Alameda\n",
       "4                                     Berkeley Unified     Alameda\n",
       "..                                                 ...         ...\n",
       "961                            Camptonville Elementary        Yuba\n",
       "962                           Marysville Joint Unified        Yuba\n",
       "963                             Plumas Lake Elementary        Yuba\n",
       "964                                          Wheatland        Yuba\n",
       "965                               Wheatland Union High        Yuba\n",
       "\n",
       "[966 rows x 2 columns]"
      ]
     },
     "execution_count": 56,
     "metadata": {},
     "output_type": "execute_result"
    }
   ],
   "source": [
    "w1 = dict(zip(frpm.district_name,frpm.county_name))\n",
    "w1 = pandas.Series(w1, name='county_name')\n",
    "w1 = w1.to_frame()\n",
    "w1.index.name = 'district_name'\n",
    "w1.reset_index()"
   ]
  },
  {
   "cell_type": "code",
   "execution_count": 57,
   "metadata": {
    "scrolled": true
   },
   "outputs": [],
   "source": [
    "names = frpm['district_name'].unique()\n",
    "codes = []\n",
    "for name in names:\n",
    "    temp = frpm[frpm['district_name'] == name]\n",
    "    codes.append(temp['District Code'].values[0])"
   ]
  },
  {
   "cell_type": "code",
   "execution_count": 58,
   "metadata": {
    "scrolled": true
   },
   "outputs": [
    {
     "data": {
      "text/html": [
       "<div>\n",
       "<style scoped>\n",
       "    .dataframe tbody tr th:only-of-type {\n",
       "        vertical-align: middle;\n",
       "    }\n",
       "\n",
       "    .dataframe tbody tr th {\n",
       "        vertical-align: top;\n",
       "    }\n",
       "\n",
       "    .dataframe thead th {\n",
       "        text-align: right;\n",
       "    }\n",
       "</style>\n",
       "<table border=\"1\" class=\"dataframe\">\n",
       "  <thead>\n",
       "    <tr style=\"text-align: right;\">\n",
       "      <th></th>\n",
       "      <th>district_name</th>\n",
       "      <th>District Code</th>\n",
       "    </tr>\n",
       "  </thead>\n",
       "  <tbody>\n",
       "    <tr>\n",
       "      <th>0</th>\n",
       "      <td>California School for the Blind (State Special...</td>\n",
       "      <td>31609</td>\n",
       "    </tr>\n",
       "    <tr>\n",
       "      <th>1</th>\n",
       "      <td>California School for the Deaf-Fremont (State ...</td>\n",
       "      <td>31617</td>\n",
       "    </tr>\n",
       "    <tr>\n",
       "      <th>2</th>\n",
       "      <td>Alameda Unified</td>\n",
       "      <td>61119</td>\n",
       "    </tr>\n",
       "    <tr>\n",
       "      <th>3</th>\n",
       "      <td>Albany City Unified</td>\n",
       "      <td>61127</td>\n",
       "    </tr>\n",
       "    <tr>\n",
       "      <th>4</th>\n",
       "      <td>Berkeley Unified</td>\n",
       "      <td>61143</td>\n",
       "    </tr>\n",
       "  </tbody>\n",
       "</table>\n",
       "</div>"
      ],
      "text/plain": [
       "                                       district_name District Code\n",
       "0  California School for the Blind (State Special...         31609\n",
       "1  California School for the Deaf-Fremont (State ...         31617\n",
       "2                                    Alameda Unified         61119\n",
       "3                                Albany City Unified         61127\n",
       "4                                   Berkeley Unified         61143"
      ]
     },
     "execution_count": 58,
     "metadata": {},
     "output_type": "execute_result"
    }
   ],
   "source": [
    "w2 = pandas.DataFrame(list(zip(names, codes,)), \n",
    "               columns =['district_name', 'District Code',])\n",
    "w2.head()"
   ]
  },
  {
   "cell_type": "code",
   "execution_count": 59,
   "metadata": {},
   "outputs": [],
   "source": [
    "counties = frpm['county_name'].unique()\n",
    "countnames = []\n",
    "for county in counties:\n",
    "        temp2 = frpm[frpm['county_name'] == county]\n",
    "        countnames.append(temp2['District Code'].values[0])"
   ]
  },
  {
   "cell_type": "code",
   "execution_count": 60,
   "metadata": {},
   "outputs": [
    {
     "data": {
      "text/html": [
       "<div>\n",
       "<style scoped>\n",
       "    .dataframe tbody tr th:only-of-type {\n",
       "        vertical-align: middle;\n",
       "    }\n",
       "\n",
       "    .dataframe tbody tr th {\n",
       "        vertical-align: top;\n",
       "    }\n",
       "\n",
       "    .dataframe thead th {\n",
       "        text-align: right;\n",
       "    }\n",
       "</style>\n",
       "<table border=\"1\" class=\"dataframe\">\n",
       "  <thead>\n",
       "    <tr style=\"text-align: right;\">\n",
       "      <th></th>\n",
       "      <th>county_name</th>\n",
       "      <th>fips</th>\n",
       "    </tr>\n",
       "  </thead>\n",
       "  <tbody>\n",
       "    <tr>\n",
       "      <th>0</th>\n",
       "      <td>Alameda</td>\n",
       "      <td>31609</td>\n",
       "    </tr>\n",
       "    <tr>\n",
       "      <th>1</th>\n",
       "      <td>Alpine</td>\n",
       "      <td>61333</td>\n",
       "    </tr>\n",
       "    <tr>\n",
       "      <th>2</th>\n",
       "      <td>Amador</td>\n",
       "      <td>73981</td>\n",
       "    </tr>\n",
       "    <tr>\n",
       "      <th>3</th>\n",
       "      <td>Butte</td>\n",
       "      <td>61382</td>\n",
       "    </tr>\n",
       "    <tr>\n",
       "      <th>4</th>\n",
       "      <td>Calaveras</td>\n",
       "      <td>61556</td>\n",
       "    </tr>\n",
       "  </tbody>\n",
       "</table>\n",
       "</div>"
      ],
      "text/plain": [
       "  county_name   fips\n",
       "0     Alameda  31609\n",
       "1      Alpine  61333\n",
       "2      Amador  73981\n",
       "3       Butte  61382\n",
       "4   Calaveras  61556"
      ]
     },
     "execution_count": 60,
     "metadata": {},
     "output_type": "execute_result"
    }
   ],
   "source": [
    "w3 = pandas.DataFrame(list(zip(counties, countnames)),\n",
    "                     columns =['county_name', 'fips',])\n",
    "\n",
    "w3.head()"
   ]
  },
  {
   "cell_type": "code",
   "execution_count": 61,
   "metadata": {
    "scrolled": true
   },
   "outputs": [
    {
     "data": {
      "text/html": [
       "<div>\n",
       "<style scoped>\n",
       "    .dataframe tbody tr th:only-of-type {\n",
       "        vertical-align: middle;\n",
       "    }\n",
       "\n",
       "    .dataframe tbody tr th {\n",
       "        vertical-align: top;\n",
       "    }\n",
       "\n",
       "    .dataframe thead th {\n",
       "        text-align: right;\n",
       "    }\n",
       "</style>\n",
       "<table border=\"1\" class=\"dataframe\">\n",
       "  <thead>\n",
       "    <tr style=\"text-align: right;\">\n",
       "      <th></th>\n",
       "      <th>district_name</th>\n",
       "      <th>county_name</th>\n",
       "      <th>enrollment_by_age</th>\n",
       "      <th>free_count_by_age</th>\n",
       "      <th>frpm_count_by_age</th>\n",
       "      <th>pct_frpm_by_age</th>\n",
       "      <th>pct_free_by_age</th>\n",
       "      <th>District Code</th>\n",
       "      <th>GEOID_x</th>\n",
       "      <th>STATEFP</th>\n",
       "      <th>UNSDLEA</th>\n",
       "      <th>GEOID_y</th>\n",
       "      <th>NAME</th>\n",
       "      <th>LSAD</th>\n",
       "      <th>LOGRADE</th>\n",
       "      <th>HIGRADE</th>\n",
       "      <th>MTFCC</th>\n",
       "      <th>SDTYP</th>\n",
       "      <th>FUNCSTAT</th>\n",
       "      <th>ALAND</th>\n",
       "      <th>AWATER</th>\n",
       "      <th>INTPTLAT</th>\n",
       "      <th>INTPTLON</th>\n",
       "      <th>geometry</th>\n",
       "      <th>origin</th>\n",
       "      <th>ELSDLEA</th>\n",
       "      <th>SCSDLEA</th>\n",
       "    </tr>\n",
       "  </thead>\n",
       "  <tbody>\n",
       "    <tr>\n",
       "      <th>0</th>\n",
       "      <td>California School for the Blind (State Special...</td>\n",
       "      <td>Alameda</td>\n",
       "      <td>42</td>\n",
       "      <td>42</td>\n",
       "      <td>42</td>\n",
       "      <td>1.000000</td>\n",
       "      <td>1.000000</td>\n",
       "      <td>31609</td>\n",
       "      <td>06001</td>\n",
       "      <td>NaN</td>\n",
       "      <td>NaN</td>\n",
       "      <td>NaN</td>\n",
       "      <td>NaN</td>\n",
       "      <td>NaN</td>\n",
       "      <td>NaN</td>\n",
       "      <td>NaN</td>\n",
       "      <td>NaN</td>\n",
       "      <td>NaN</td>\n",
       "      <td>NaN</td>\n",
       "      <td>NaN</td>\n",
       "      <td>NaN</td>\n",
       "      <td>NaN</td>\n",
       "      <td>NaN</td>\n",
       "      <td>None</td>\n",
       "      <td>NaN</td>\n",
       "      <td>NaN</td>\n",
       "      <td>NaN</td>\n",
       "    </tr>\n",
       "    <tr>\n",
       "      <th>1</th>\n",
       "      <td>California School for the Deaf-Fremont (State ...</td>\n",
       "      <td>Alameda</td>\n",
       "      <td>311</td>\n",
       "      <td>311</td>\n",
       "      <td>311</td>\n",
       "      <td>1.000000</td>\n",
       "      <td>1.000000</td>\n",
       "      <td>31617</td>\n",
       "      <td>06001</td>\n",
       "      <td>NaN</td>\n",
       "      <td>NaN</td>\n",
       "      <td>NaN</td>\n",
       "      <td>NaN</td>\n",
       "      <td>NaN</td>\n",
       "      <td>NaN</td>\n",
       "      <td>NaN</td>\n",
       "      <td>NaN</td>\n",
       "      <td>NaN</td>\n",
       "      <td>NaN</td>\n",
       "      <td>NaN</td>\n",
       "      <td>NaN</td>\n",
       "      <td>NaN</td>\n",
       "      <td>NaN</td>\n",
       "      <td>None</td>\n",
       "      <td>NaN</td>\n",
       "      <td>NaN</td>\n",
       "      <td>NaN</td>\n",
       "    </tr>\n",
       "    <tr>\n",
       "      <th>2</th>\n",
       "      <td>Alameda Unified</td>\n",
       "      <td>Alameda</td>\n",
       "      <td>11031</td>\n",
       "      <td>2953</td>\n",
       "      <td>3306</td>\n",
       "      <td>0.299701</td>\n",
       "      <td>0.267700</td>\n",
       "      <td>61119</td>\n",
       "      <td>06001</td>\n",
       "      <td>NaN</td>\n",
       "      <td>NaN</td>\n",
       "      <td>NaN</td>\n",
       "      <td>NaN</td>\n",
       "      <td>NaN</td>\n",
       "      <td>NaN</td>\n",
       "      <td>NaN</td>\n",
       "      <td>NaN</td>\n",
       "      <td>NaN</td>\n",
       "      <td>NaN</td>\n",
       "      <td>NaN</td>\n",
       "      <td>NaN</td>\n",
       "      <td>NaN</td>\n",
       "      <td>NaN</td>\n",
       "      <td>None</td>\n",
       "      <td>NaN</td>\n",
       "      <td>NaN</td>\n",
       "      <td>NaN</td>\n",
       "    </tr>\n",
       "    <tr>\n",
       "      <th>3</th>\n",
       "      <td>Albany City Unified</td>\n",
       "      <td>Alameda</td>\n",
       "      <td>3612</td>\n",
       "      <td>647</td>\n",
       "      <td>742</td>\n",
       "      <td>0.205426</td>\n",
       "      <td>0.179125</td>\n",
       "      <td>61127</td>\n",
       "      <td>06001</td>\n",
       "      <td>06</td>\n",
       "      <td>01860</td>\n",
       "      <td>0601860</td>\n",
       "      <td>Albany City Unified</td>\n",
       "      <td>00</td>\n",
       "      <td>KG</td>\n",
       "      <td>12</td>\n",
       "      <td>G5420</td>\n",
       "      <td>None</td>\n",
       "      <td>E</td>\n",
       "      <td>4634305.0</td>\n",
       "      <td>9523833.0</td>\n",
       "      <td>+37.8906499</td>\n",
       "      <td>-122.3181164</td>\n",
       "      <td>POLYGON ((-122.37312 37.88388, -122.37114 37.8...</td>\n",
       "      <td>unified</td>\n",
       "      <td>NaN</td>\n",
       "      <td>NaN</td>\n",
       "    </tr>\n",
       "    <tr>\n",
       "      <th>4</th>\n",
       "      <td>Berkeley Unified</td>\n",
       "      <td>Alameda</td>\n",
       "      <td>10022</td>\n",
       "      <td>2758</td>\n",
       "      <td>3153</td>\n",
       "      <td>0.314608</td>\n",
       "      <td>0.275195</td>\n",
       "      <td>61143</td>\n",
       "      <td>06001</td>\n",
       "      <td>06</td>\n",
       "      <td>04740</td>\n",
       "      <td>0604740</td>\n",
       "      <td>Berkeley Unified</td>\n",
       "      <td>00</td>\n",
       "      <td>KG</td>\n",
       "      <td>12</td>\n",
       "      <td>G5420</td>\n",
       "      <td>None</td>\n",
       "      <td>E</td>\n",
       "      <td>27095285.0</td>\n",
       "      <td>18715614.0</td>\n",
       "      <td>+37.8669717</td>\n",
       "      <td>-122.2991474</td>\n",
       "      <td>POLYGON ((-122.36778 37.86673, -122.35671 37.8...</td>\n",
       "      <td>unified</td>\n",
       "      <td>NaN</td>\n",
       "      <td>NaN</td>\n",
       "    </tr>\n",
       "  </tbody>\n",
       "</table>\n",
       "</div>"
      ],
      "text/plain": [
       "                                       district_name county_name  \\\n",
       "0  California School for the Blind (State Special...     Alameda   \n",
       "1  California School for the Deaf-Fremont (State ...     Alameda   \n",
       "2                                    Alameda Unified     Alameda   \n",
       "3                                Albany City Unified     Alameda   \n",
       "4                                   Berkeley Unified     Alameda   \n",
       "\n",
       "   enrollment_by_age  free_count_by_age  frpm_count_by_age  pct_frpm_by_age  \\\n",
       "0                 42                 42                 42         1.000000   \n",
       "1                311                311                311         1.000000   \n",
       "2              11031               2953               3306         0.299701   \n",
       "3               3612                647                742         0.205426   \n",
       "4              10022               2758               3153         0.314608   \n",
       "\n",
       "   pct_free_by_age District Code GEOID_x STATEFP UNSDLEA  GEOID_y  \\\n",
       "0         1.000000         31609   06001     NaN     NaN      NaN   \n",
       "1         1.000000         31617   06001     NaN     NaN      NaN   \n",
       "2         0.267700         61119   06001     NaN     NaN      NaN   \n",
       "3         0.179125         61127   06001      06   01860  0601860   \n",
       "4         0.275195         61143   06001      06   04740  0604740   \n",
       "\n",
       "                  NAME LSAD LOGRADE HIGRADE  MTFCC SDTYP FUNCSTAT       ALAND  \\\n",
       "0                  NaN  NaN     NaN     NaN    NaN   NaN      NaN         NaN   \n",
       "1                  NaN  NaN     NaN     NaN    NaN   NaN      NaN         NaN   \n",
       "2                  NaN  NaN     NaN     NaN    NaN   NaN      NaN         NaN   \n",
       "3  Albany City Unified   00      KG      12  G5420  None        E   4634305.0   \n",
       "4     Berkeley Unified   00      KG      12  G5420  None        E  27095285.0   \n",
       "\n",
       "       AWATER     INTPTLAT      INTPTLON  \\\n",
       "0         NaN          NaN           NaN   \n",
       "1         NaN          NaN           NaN   \n",
       "2         NaN          NaN           NaN   \n",
       "3   9523833.0  +37.8906499  -122.3181164   \n",
       "4  18715614.0  +37.8669717  -122.2991474   \n",
       "\n",
       "                                            geometry   origin ELSDLEA SCSDLEA  \n",
       "0                                               None      NaN     NaN     NaN  \n",
       "1                                               None      NaN     NaN     NaN  \n",
       "2                                               None      NaN     NaN     NaN  \n",
       "3  POLYGON ((-122.37312 37.88388, -122.37114 37.8...  unified     NaN     NaN  \n",
       "4  POLYGON ((-122.36778 37.86673, -122.35671 37.8...  unified     NaN     NaN  "
      ]
     },
     "execution_count": 61,
     "metadata": {},
     "output_type": "execute_result"
    }
   ],
   "source": [
    "t1 = pandas.merge(dffrpm, w2, how='left', on=['district_name'])\n",
    "# merge 1\n",
    "t1 = pandas.merge(w1, t1, how='left', on=['district_name'])\n",
    "# merge 2\n",
    "t1 = t1.rename(columns={'District Code_x': 'District Code',})\n",
    "# fixing column name\n",
    "t1.county_name = t1.county_name.str.strip()\n",
    "cfips.county_name = cfips.county_name.str.strip()\n",
    "adistricts.NAME = adistricts.NAME.str.strip()\n",
    "# stripping white space\n",
    "t2 = t1.merge(cfips, how='left', on=['county_name'])\n",
    "# merge 3\n",
    "gdf1 = t2.merge(adistricts, how='left', left_on='district_name', right_on='NAME')\n",
    "# merge 4\n",
    "gdf1 = geopandas.GeoDataFrame(gdf1)\n",
    "# convert to geodataframe\n",
    "gdf1.head()\n",
    "# deal with the duplicated names (pioneer, jefferson, lakeside)"
   ]
  },
  {
   "cell_type": "code",
   "execution_count": 62,
   "metadata": {},
   "outputs": [
    {
     "data": {
      "text/plain": [
       "138"
      ]
     },
     "execution_count": 62,
     "metadata": {},
     "output_type": "execute_result"
    }
   ],
   "source": [
    "g2 = gdf1[gdf1['geometry'].isnull()]\n",
    "len(g2)\n",
    "# number of districts from `frpm` without a matching geometry"
   ]
  },
  {
   "cell_type": "code",
   "execution_count": 63,
   "metadata": {
    "scrolled": false
   },
   "outputs": [
    {
     "data": {
      "text/plain": [
       "<matplotlib.axes._subplots.AxesSubplot at 0x13a592a6688>"
      ]
     },
     "execution_count": 63,
     "metadata": {},
     "output_type": "execute_result"
    },
    {
     "data": {
      "image/png": "[encoded data removed]",
      "text/plain": [
       "<Figure size 1080x1080 with 1 Axes>"
      ]
     },
     "metadata": {
      "needs_background": "light"
     },
     "output_type": "display_data"
    }
   ],
   "source": [
    "gdf1.plot(\n",
    "    column='pct_frpm_by_age',\n",
    "    legend=True,\n",
    "    figsize=(15, 15),\n",
    "    scheme=\"quantiles\"\n",
    "        )"
   ]
  },
  {
   "cell_type": "markdown",
   "metadata": {},
   "source": [
    "## Unduplicated pupil count breakpoint groups\n",
    "look for disticts that have 55-65% upc\n",
    "\n",
    "another group that has 45-55% upc\n",
    "\n",
    "if large enough N, can run regresion?\n",
    "\n",
    "from lcff:"
   ]
  },
  {
   "cell_type": "code",
   "execution_count": 347,
   "metadata": {
    "scrolled": false
   },
   "outputs": [],
   "source": [
    "dflcff['unduplicated_pupil_count'] = dflcff['unduplicated_pupil_count'].astype(float)"
   ]
  },
  {
   "cell_type": "code",
   "execution_count": 348,
   "metadata": {},
   "outputs": [
    {
     "data": {
      "text/plain": [
       "dtype('float64')"
      ]
     },
     "execution_count": 348,
     "metadata": {},
     "output_type": "execute_result"
    }
   ],
   "source": [
    "dflcff['unduplicated_pupil_count'].dtype"
   ]
  },
  {
   "cell_type": "code",
   "execution_count": 349,
   "metadata": {},
   "outputs": [],
   "source": [
    "treat = dflcff[(dflcff['unduplicated_pupil_count'] >= 0.55) & (dflcff['unduplicated_pupil_count'] <= 0.65)]\n",
    "# creating treatment lcff group\n",
    "control = dflcff[(dflcff['unduplicated_pupil_count'] >= 0.45) & (dflcff['unduplicated_pupil_count'] <= 0.5499)]\n",
    "# creating control lcff group"
   ]
  },
  {
   "cell_type": "code",
   "execution_count": 350,
   "metadata": {},
   "outputs": [
    {
     "data": {
      "text/plain": [
       "107"
      ]
     },
     "execution_count": 350,
     "metadata": {},
     "output_type": "execute_result"
    }
   ],
   "source": [
    "len(control)"
   ]
  },
  {
   "cell_type": "code",
   "execution_count": 351,
   "metadata": {},
   "outputs": [
    {
     "data": {
      "text/plain": [
       "230"
      ]
     },
     "execution_count": 351,
     "metadata": {},
     "output_type": "execute_result"
    }
   ],
   "source": [
    "r1 = list(treat['District Code'])\n",
    "r2 = list(control['District Code'])\n",
    "r3 = r1+r2\n",
    "len(r3)\n",
    "# list of districts to extract from performance data"
   ]
  },
  {
   "cell_type": "code",
   "execution_count": 352,
   "metadata": {},
   "outputs": [
    {
     "data": {
      "text/plain": [
       "228"
      ]
     },
     "execution_count": 352,
     "metadata": {},
     "output_type": "execute_result"
    }
   ],
   "source": [
    "mathpop = dfm[dfm['District Code'].isin(r3)]\n",
    "len(mathpop['District Code'].unique())\n",
    "# extracting from math"
   ]
  },
  {
   "cell_type": "code",
   "execution_count": 353,
   "metadata": {},
   "outputs": [
    {
     "data": {
      "text/plain": [
       "228"
      ]
     },
     "execution_count": 353,
     "metadata": {},
     "output_type": "execute_result"
    }
   ],
   "source": [
    "engpop = dfe[dfe['District Code'].isin(r3)]\n",
    "len(engpop['District Code'].unique())\n",
    "# extracting from english"
   ]
  },
  {
   "cell_type": "code",
   "execution_count": 354,
   "metadata": {
    "scrolled": true
   },
   "outputs": [],
   "source": [
    "treat2 = mathpop[mathpop['District Code'].isin(r1)]\n",
    "control2 = mathpop[mathpop['District Code'].isin(r2)]\n",
    "treat3 = engpop[engpop['District Code'].isin(r1)]\n",
    "control3 = engpop[engpop['District Code'].isin(r2)]\n",
    "# creating treatment and control variables "
   ]
  },
  {
   "cell_type": "code",
   "execution_count": 355,
   "metadata": {
    "scrolled": true
   },
   "outputs": [],
   "source": [
    "treat_el_math = treat2.loc[treat2['studentgroup'] == 'english_learners']\n",
    "cont_el_math = control2.loc[control2['studentgroup'] == 'english_learners']\n",
    "# slicing english learners from math performance data\n",
    "treat_el_eng = treat3.loc[treat3['studentgroup'] == 'english_learners']\n",
    "cont_el_eng = control3.loc[control3['studentgroup'] == 'english_learners']\n",
    "# slicing english learners from english performance data\n",
    "cont_el_math = cont_el_math.dropna(axis=0)\n",
    "treat_el_math = treat_el_math.dropna(axis=0)\n",
    "cont_el_eng = cont_el_eng.dropna(axis=0)\n",
    "treat_el_eng = treat_el_eng.dropna(axis=0)\n",
    "# dropping nans"
   ]
  },
  {
   "cell_type": "code",
   "execution_count": 356,
   "metadata": {
    "scrolled": true
   },
   "outputs": [
    {
     "name": "stderr",
     "output_type": "stream",
     "text": [
      "C:\\Users\\fiend\\Anaconda2\\envs\\capstone\\lib\\site-packages\\ipykernel_launcher.py:1: SettingWithCopyWarning: \n",
      "A value is trying to be set on a copy of a slice from a DataFrame.\n",
      "Try using .loc[row_indexer,col_indexer] = value instead\n",
      "\n",
      "See the caveats in the documentation: https://pandas.pydata.org/pandas-docs/stable/user_guide/indexing.html#returning-a-view-versus-a-copy\n",
      "  \"\"\"Entry point for launching an IPython kernel.\n",
      "C:\\Users\\fiend\\Anaconda2\\envs\\capstone\\lib\\site-packages\\ipykernel_launcher.py:2: SettingWithCopyWarning: \n",
      "A value is trying to be set on a copy of a slice from a DataFrame.\n",
      "Try using .loc[row_indexer,col_indexer] = value instead\n",
      "\n",
      "See the caveats in the documentation: https://pandas.pydata.org/pandas-docs/stable/user_guide/indexing.html#returning-a-view-versus-a-copy\n",
      "  \n",
      "C:\\Users\\fiend\\Anaconda2\\envs\\capstone\\lib\\site-packages\\ipykernel_launcher.py:3: SettingWithCopyWarning: \n",
      "A value is trying to be set on a copy of a slice from a DataFrame.\n",
      "Try using .loc[row_indexer,col_indexer] = value instead\n",
      "\n",
      "See the caveats in the documentation: https://pandas.pydata.org/pandas-docs/stable/user_guide/indexing.html#returning-a-view-versus-a-copy\n",
      "  This is separate from the ipykernel package so we can avoid doing imports until\n",
      "C:\\Users\\fiend\\Anaconda2\\envs\\capstone\\lib\\site-packages\\ipykernel_launcher.py:4: SettingWithCopyWarning: \n",
      "A value is trying to be set on a copy of a slice from a DataFrame.\n",
      "Try using .loc[row_indexer,col_indexer] = value instead\n",
      "\n",
      "See the caveats in the documentation: https://pandas.pydata.org/pandas-docs/stable/user_guide/indexing.html#returning-a-view-versus-a-copy\n",
      "  after removing the cwd from sys.path.\n",
      "C:\\Users\\fiend\\Anaconda2\\envs\\capstone\\lib\\site-packages\\ipykernel_launcher.py:5: SettingWithCopyWarning: \n",
      "A value is trying to be set on a copy of a slice from a DataFrame.\n",
      "Try using .loc[row_indexer,col_indexer] = value instead\n",
      "\n",
      "See the caveats in the documentation: https://pandas.pydata.org/pandas-docs/stable/user_guide/indexing.html#returning-a-view-versus-a-copy\n",
      "  \"\"\"\n",
      "C:\\Users\\fiend\\Anaconda2\\envs\\capstone\\lib\\site-packages\\ipykernel_launcher.py:6: SettingWithCopyWarning: \n",
      "A value is trying to be set on a copy of a slice from a DataFrame.\n",
      "Try using .loc[row_indexer,col_indexer] = value instead\n",
      "\n",
      "See the caveats in the documentation: https://pandas.pydata.org/pandas-docs/stable/user_guide/indexing.html#returning-a-view-versus-a-copy\n",
      "  \n"
     ]
    }
   ],
   "source": [
    "control['total_grants'] = control['total_grants'].str.replace(',' , '')\n",
    "control['total_grants'] = control['total_grants'].astype(float)\n",
    "control['total_grants'] = control['total_grants'].astype(int)\n",
    "treat['total_grants'] = treat['total_grants'].str.replace(',' , '')\n",
    "treat['total_grants'] = treat['total_grants'].astype(float)\n",
    "treat['total_grants'] = treat['total_grants'].astype(int)\n",
    "# changing string of variable to float\n",
    "# we want to use total grants"
   ]
  },
  {
   "cell_type": "code",
   "execution_count": 357,
   "metadata": {
    "scrolled": true
   },
   "outputs": [],
   "source": [
    "cont_el_math  = cont_el_math.rename(columns={'currstatus': 'm_currstatus',\n",
    "                             'priorstatus': 'm_priorstatus',\n",
    "                             'change' : 'm_change'\n",
    "                            })"
   ]
  },
  {
   "cell_type": "code",
   "execution_count": 359,
   "metadata": {},
   "outputs": [
    {
     "data": {
      "text/plain": [
       "(95, 18)"
      ]
     },
     "execution_count": 359,
     "metadata": {},
     "output_type": "execute_result"
    }
   ],
   "source": [
    "treat = treat.merge(treat_el_eng, how='left', on='District Code')\n",
    "treat = treat.merge(treat_el_math, how='left', on='District Code')\n",
    "treat = treat.dropna(axis=0)\n",
    "treat.shape"
   ]
  },
  {
   "cell_type": "code",
   "execution_count": 360,
   "metadata": {},
   "outputs": [
    {
     "data": {
      "text/plain": [
       "(83, 18)"
      ]
     },
     "execution_count": 360,
     "metadata": {},
     "output_type": "execute_result"
    }
   ],
   "source": [
    "control = control.merge(cont_el_eng, how='left', on='District Code')\n",
    "control = control.merge(cont_el_math, how='left', on='District Code')\n",
    "control = control.dropna(axis=0)\n",
    "control.shape"
   ]
  },
  {
   "cell_type": "code",
   "execution_count": 361,
   "metadata": {},
   "outputs": [],
   "source": [
    "control.drop('districtname_y', axis=1, inplace=True)\n",
    "control.drop('studentgroup_y', axis=1, inplace=True)\n",
    "treat.drop('districtname_y', axis=1, inplace=True)\n",
    "treat.drop('studentgroup_y', axis=1, inplace=True)"
   ]
  },
  {
   "cell_type": "code",
   "execution_count": 367,
   "metadata": {},
   "outputs": [
    {
     "data": {
      "text/plain": [
       "(83, 16)"
      ]
     },
     "execution_count": 367,
     "metadata": {},
     "output_type": "execute_result"
    }
   ],
   "source": [
    "control.shape"
   ]
  },
  {
   "cell_type": "code",
   "execution_count": 368,
   "metadata": {},
   "outputs": [
    {
     "data": {
      "text/plain": [
       "(95, 16)"
      ]
     },
     "execution_count": 368,
     "metadata": {},
     "output_type": "execute_result"
    }
   ],
   "source": [
    "treat.shape"
   ]
  },
  {
   "cell_type": "code",
   "execution_count": 388,
   "metadata": {},
   "outputs": [
    {
     "data": {
      "text/html": [
       "<div>\n",
       "<style scoped>\n",
       "    .dataframe tbody tr th:only-of-type {\n",
       "        vertical-align: middle;\n",
       "    }\n",
       "\n",
       "    .dataframe tbody tr th {\n",
       "        vertical-align: top;\n",
       "    }\n",
       "\n",
       "    .dataframe thead th {\n",
       "        text-align: right;\n",
       "    }\n",
       "</style>\n",
       "<table border=\"1\" class=\"dataframe\">\n",
       "  <thead>\n",
       "    <tr style=\"text-align: right;\">\n",
       "      <th></th>\n",
       "      <th>District Code</th>\n",
       "      <th>Local Educational Agency</th>\n",
       "      <th>unduplicated_pupil_count</th>\n",
       "      <th>base_grant</th>\n",
       "      <th>supplemental_grant</th>\n",
       "      <th>concentration_grant</th>\n",
       "      <th>total_grants</th>\n",
       "      <th>cds</th>\n",
       "      <th>districtname_x</th>\n",
       "      <th>studentgroup_x</th>\n",
       "      <th>ela_currstatus</th>\n",
       "      <th>ela_priorstatus</th>\n",
       "      <th>ela_change</th>\n",
       "      <th>m_currstatus</th>\n",
       "      <th>m_priorstatus</th>\n",
       "      <th>m_change</th>\n",
       "    </tr>\n",
       "  </thead>\n",
       "  <tbody>\n",
       "    <tr>\n",
       "      <th>0</th>\n",
       "      <td>61234</td>\n",
       "      <td>Newark Unified</td>\n",
       "      <td>0.5588</td>\n",
       "      <td>47,676,224</td>\n",
       "      <td>5,328,295</td>\n",
       "      <td>209,776</td>\n",
       "      <td>54024719</td>\n",
       "      <td>01612340000000</td>\n",
       "      <td>Newark Unified</td>\n",
       "      <td>english_learners</td>\n",
       "      <td>-53.4</td>\n",
       "      <td>-53.0</td>\n",
       "      <td>-0.4</td>\n",
       "      <td>-71.9</td>\n",
       "      <td>-68.8</td>\n",
       "      <td>-3.1</td>\n",
       "    </tr>\n",
       "    <tr>\n",
       "      <th>1</th>\n",
       "      <td>61408</td>\n",
       "      <td>Biggs Unified</td>\n",
       "      <td>0.6417</td>\n",
       "      <td>3,041,401</td>\n",
       "      <td>632,853</td>\n",
       "      <td>226,090</td>\n",
       "      <td>6006620</td>\n",
       "      <td>04614080000000</td>\n",
       "      <td>Biggs Unified</td>\n",
       "      <td>english_learners</td>\n",
       "      <td>-87.8</td>\n",
       "      <td>-103.1</td>\n",
       "      <td>15.3</td>\n",
       "      <td>-124.7</td>\n",
       "      <td>-127.3</td>\n",
       "      <td>2.6</td>\n",
       "    </tr>\n",
       "    <tr>\n",
       "      <th>3</th>\n",
       "      <td>61564</td>\n",
       "      <td>Calaveras Unified</td>\n",
       "      <td>0.5558</td>\n",
       "      <td>22,472,807</td>\n",
       "      <td>2,498,077</td>\n",
       "      <td>65,171</td>\n",
       "      <td>26373691</td>\n",
       "      <td>05615640000000</td>\n",
       "      <td>Calaveras Unified</td>\n",
       "      <td>english_learners</td>\n",
       "      <td>-102.1</td>\n",
       "      <td>-97.5</td>\n",
       "      <td>-4.6</td>\n",
       "      <td>-111.4</td>\n",
       "      <td>-117.1</td>\n",
       "      <td>5.7</td>\n",
       "    </tr>\n",
       "    <tr>\n",
       "      <th>4</th>\n",
       "      <td>61572</td>\n",
       "      <td>Mark Twain Union Elementary</td>\n",
       "      <td>0.6197</td>\n",
       "      <td>6,133,750</td>\n",
       "      <td>760,218</td>\n",
       "      <td>213,761</td>\n",
       "      <td>7261995</td>\n",
       "      <td>05615720000000</td>\n",
       "      <td>Mark Twain Union Elementary</td>\n",
       "      <td>english_learners</td>\n",
       "      <td>-68.6</td>\n",
       "      <td>-48.2</td>\n",
       "      <td>-20.4</td>\n",
       "      <td>-81.0</td>\n",
       "      <td>-67.9</td>\n",
       "      <td>-13.1</td>\n",
       "    </tr>\n",
       "    <tr>\n",
       "      <th>5</th>\n",
       "      <td>61846</td>\n",
       "      <td>Camino Union Elementary</td>\n",
       "      <td>0.5658</td>\n",
       "      <td>3,100,237</td>\n",
       "      <td>350,823</td>\n",
       "      <td>24,492</td>\n",
       "      <td>3669417</td>\n",
       "      <td>09618460000000</td>\n",
       "      <td>Camino Union Elementary</td>\n",
       "      <td>english_learners</td>\n",
       "      <td>-11.3</td>\n",
       "      <td>-48.6</td>\n",
       "      <td>37.3</td>\n",
       "      <td>-27.4</td>\n",
       "      <td>-52.0</td>\n",
       "      <td>24.6</td>\n",
       "    </tr>\n",
       "  </tbody>\n",
       "</table>\n",
       "</div>"
      ],
      "text/plain": [
       "  District Code     Local Educational Agency  unduplicated_pupil_count  \\\n",
       "0         61234               Newark Unified                    0.5588   \n",
       "1         61408                Biggs Unified                    0.6417   \n",
       "3         61564            Calaveras Unified                    0.5558   \n",
       "4         61572  Mark Twain Union Elementary                    0.6197   \n",
       "5         61846      Camino Union Elementary                    0.5658   \n",
       "\n",
       "     base_grant supplemental_grant concentration_grant  total_grants  \\\n",
       "0   47,676,224          5,328,295             209,776       54024719   \n",
       "1    3,041,401            632,853             226,090        6006620   \n",
       "3   22,472,807          2,498,077              65,171       26373691   \n",
       "4    6,133,750            760,218             213,761        7261995   \n",
       "5    3,100,237            350,823              24,492        3669417   \n",
       "\n",
       "              cds               districtname_x    studentgroup_x  \\\n",
       "0  01612340000000               Newark Unified  english_learners   \n",
       "1  04614080000000                Biggs Unified  english_learners   \n",
       "3  05615640000000            Calaveras Unified  english_learners   \n",
       "4  05615720000000  Mark Twain Union Elementary  english_learners   \n",
       "5  09618460000000      Camino Union Elementary  english_learners   \n",
       "\n",
       "   ela_currstatus  ela_priorstatus  ela_change  m_currstatus  m_priorstatus  \\\n",
       "0           -53.4            -53.0        -0.4         -71.9          -68.8   \n",
       "1           -87.8           -103.1        15.3        -124.7         -127.3   \n",
       "3          -102.1            -97.5        -4.6        -111.4         -117.1   \n",
       "4           -68.6            -48.2       -20.4         -81.0          -67.9   \n",
       "5           -11.3            -48.6        37.3         -27.4          -52.0   \n",
       "\n",
       "   m_change  \n",
       "0      -3.1  \n",
       "1       2.6  \n",
       "3       5.7  \n",
       "4     -13.1  \n",
       "5      24.6  "
      ]
     },
     "execution_count": 388,
     "metadata": {},
     "output_type": "execute_result"
    }
   ],
   "source": [
    "treat.head()"
   ]
  },
  {
   "cell_type": "code",
   "execution_count": 386,
   "metadata": {
    "scrolled": true
   },
   "outputs": [
    {
     "name": "stdout",
     "output_type": "stream",
     "text": [
      "                                 OLS Regression Results                                \n",
      "=======================================================================================\n",
      "Dep. Variable:         ela_currstatus   R-squared (uncentered):                   0.118\n",
      "Model:                            OLS   Adj. R-squared (uncentered):              0.108\n",
      "Method:                 Least Squares   F-statistic:                              12.54\n",
      "Date:                Tue, 02 Jun 2020   Prob (F-statistic):                    0.000623\n",
      "Time:                        01:19:38   Log-Likelihood:                         -517.08\n",
      "No. Observations:                  95   AIC:                                      1036.\n",
      "Df Residuals:                      94   BIC:                                      1039.\n",
      "Df Model:                           1                                                  \n",
      "Covariance Type:            nonrobust                                                  \n",
      "================================================================================\n",
      "                   coef    std err          t      P>|t|      [0.025      0.975]\n",
      "--------------------------------------------------------------------------------\n",
      "total_grants -1.279e-07   3.61e-08     -3.541      0.001      -2e-07   -5.62e-08\n",
      "==============================================================================\n",
      "Omnibus:                       14.248   Durbin-Watson:                   0.711\n",
      "Prob(Omnibus):                  0.001   Jarque-Bera (JB):               21.721\n",
      "Skew:                           0.652   Prob(JB):                     1.92e-05\n",
      "Kurtosis:                       4.945   Cond. No.                         1.00\n",
      "==============================================================================\n",
      "\n",
      "Warnings:\n",
      "[1] Standard Errors assume that the covariance matrix of the errors is correctly specified.\n"
     ]
    }
   ],
   "source": [
    "x = treat['total_grants']\n",
    "y = treat['ela_currstatus']\n",
    "model = sm.OLS(y, x)\n",
    "results = model.fit()\n",
    "print(results.summary())"
   ]
  },
  {
   "cell_type": "code",
   "execution_count": 387,
   "metadata": {
    "scrolled": false
   },
   "outputs": [
    {
     "name": "stdout",
     "output_type": "stream",
     "text": [
      "                                 OLS Regression Results                                \n",
      "=======================================================================================\n",
      "Dep. Variable:         ela_currstatus   R-squared (uncentered):                   0.203\n",
      "Model:                            OLS   Adj. R-squared (uncentered):              0.194\n",
      "Method:                 Least Squares   F-statistic:                              20.94\n",
      "Date:                Tue, 02 Jun 2020   Prob (F-statistic):                    1.67e-05\n",
      "Time:                        01:19:56   Log-Likelihood:                         -436.65\n",
      "No. Observations:                  83   AIC:                                      875.3\n",
      "Df Residuals:                      82   BIC:                                      877.7\n",
      "Df Model:                           1                                                  \n",
      "Covariance Type:            nonrobust                                                  \n",
      "================================================================================\n",
      "                   coef    std err          t      P>|t|      [0.025      0.975]\n",
      "--------------------------------------------------------------------------------\n",
      "total_grants  -2.24e-07    4.9e-08     -4.576      0.000   -3.21e-07   -1.27e-07\n",
      "==============================================================================\n",
      "Omnibus:                        4.450   Durbin-Watson:                   0.761\n",
      "Prob(Omnibus):                  0.108   Jarque-Bera (JB):                4.664\n",
      "Skew:                           0.240   Prob(JB):                       0.0971\n",
      "Kurtosis:                       4.057   Cond. No.                         1.00\n",
      "==============================================================================\n",
      "\n",
      "Warnings:\n",
      "[1] Standard Errors assume that the covariance matrix of the errors is correctly specified.\n"
     ]
    }
   ],
   "source": [
    "x1 = control['total_grants']\n",
    "y1 = control['ela_currstatus']\n",
    "model1 = sm.OLS(y1, x1)\n",
    "results1 = model1.fit()\n",
    "print(results1.summary())"
   ]
  },
  {
   "cell_type": "code",
   "execution_count": 362,
   "metadata": {
    "scrolled": false
   },
   "outputs": [
    {
     "data": {
      "image/png": "[encoded data removed]",
      "text/plain": [
       "<Figure size 432x288 with 1 Axes>"
      ]
     },
     "metadata": {
      "needs_background": "light"
     },
     "output_type": "display_data"
    }
   ],
   "source": [
    "sns.regplot(x='total_grants', y='ela_currstatus', data=control);\n",
    "# control group - total grants' effects on current english scores"
   ]
  },
  {
   "cell_type": "code",
   "execution_count": 370,
   "metadata": {
    "scrolled": false
   },
   "outputs": [
    {
     "data": {
      "image/png": "[encoded data removed]",
      "text/plain": [
       "<Figure size 432x288 with 1 Axes>"
      ]
     },
     "metadata": {
      "needs_background": "light"
     },
     "output_type": "display_data"
    }
   ],
   "source": [
    "sns.regplot(x='total_grants', y='ela_change', data=control);\n",
    "# control group - total grant's effects on change in english score from previous year"
   ]
  },
  {
   "cell_type": "code",
   "execution_count": 363,
   "metadata": {},
   "outputs": [
    {
     "data": {
      "image/png": "[encoded data removed]",
      "text/plain": [
       "<Figure size 432x288 with 1 Axes>"
      ]
     },
     "metadata": {
      "needs_background": "light"
     },
     "output_type": "display_data"
    }
   ],
   "source": [
    "sns.regplot(x='total_grants', y='m_currstatus', data=control);\n",
    "# control group - total grants' effects on current math scores"
   ]
  },
  {
   "cell_type": "code",
   "execution_count": 371,
   "metadata": {
    "scrolled": true
   },
   "outputs": [
    {
     "data": {
      "image/png": "[encoded data removed]",
      "text/plain": [
       "<Figure size 432x288 with 1 Axes>"
      ]
     },
     "metadata": {
      "needs_background": "light"
     },
     "output_type": "display_data"
    }
   ],
   "source": [
    "sns.regplot(x='total_grants', y='m_change', data=control);\n",
    "# control group - total grant's effects on change in math score from previous year"
   ]
  },
  {
   "cell_type": "code",
   "execution_count": 365,
   "metadata": {
    "scrolled": false
   },
   "outputs": [
    {
     "data": {
      "image/png": "[encoded data removed]",
      "text/plain": [
       "<Figure size 432x288 with 1 Axes>"
      ]
     },
     "metadata": {
      "needs_background": "light"
     },
     "output_type": "display_data"
    }
   ],
   "source": [
    "sns.regplot(x='total_grants', y='ela_currstatus', data=treat);\n",
    "# treatment group - total grants' effects on current english scores"
   ]
  },
  {
   "cell_type": "code",
   "execution_count": 372,
   "metadata": {},
   "outputs": [
    {
     "data": {
      "image/png": "[encoded data removed]",
      "text/plain": [
       "<Figure size 432x288 with 1 Axes>"
      ]
     },
     "metadata": {
      "needs_background": "light"
     },
     "output_type": "display_data"
    }
   ],
   "source": [
    "sns.regplot(x='total_grants', y='ela_change', data=treat);\n",
    "# treatment group - total grant's effects on change in english score from previous year"
   ]
  },
  {
   "cell_type": "code",
   "execution_count": 366,
   "metadata": {
    "scrolled": true
   },
   "outputs": [
    {
     "data": {
      "image/png": "[encoded data removed]",
      "text/plain": [
       "<Figure size 432x288 with 1 Axes>"
      ]
     },
     "metadata": {
      "needs_background": "light"
     },
     "output_type": "display_data"
    }
   ],
   "source": [
    "sns.regplot(x='total_grants', y='m_currstatus', data=treat);\n",
    "# treatment group - total grants' effects on current english scores"
   ]
  },
  {
   "cell_type": "code",
   "execution_count": 373,
   "metadata": {},
   "outputs": [
    {
     "data": {
      "image/png": "[encoded data removed]",
      "text/plain": [
       "<Figure size 432x288 with 1 Axes>"
      ]
     },
     "metadata": {
      "needs_background": "light"
     },
     "output_type": "display_data"
    }
   ],
   "source": [
    "sns.regplot(x='total_grants', y='m_change', data=treat);\n",
    "# treatment group - total grant's effects on change in math score from previous year"
   ]
  },
  {
   "cell_type": "code",
   "execution_count": null,
   "metadata": {},
   "outputs": [],
   "source": []
  },
  {
   "cell_type": "code",
   "execution_count": null,
   "metadata": {},
   "outputs": [],
   "source": []
  },
  {
   "cell_type": "markdown",
   "metadata": {},
   "source": [
    "### To deal with dupes: need to remove duplicates NOT in these counties"
   ]
  },
  {
   "cell_type": "code",
   "execution_count": 86,
   "metadata": {
    "scrolled": true
   },
   "outputs": [
    {
     "data": {
      "text/html": [
       "<div>\n",
       "<style scoped>\n",
       "    .dataframe tbody tr th:only-of-type {\n",
       "        vertical-align: middle;\n",
       "    }\n",
       "\n",
       "    .dataframe tbody tr th {\n",
       "        vertical-align: top;\n",
       "    }\n",
       "\n",
       "    .dataframe thead th {\n",
       "        text-align: right;\n",
       "    }\n",
       "</style>\n",
       "<table border=\"1\" class=\"dataframe\">\n",
       "  <thead>\n",
       "    <tr style=\"text-align: right;\">\n",
       "      <th></th>\n",
       "      <th>district_name</th>\n",
       "      <th>county_name</th>\n",
       "      <th>enrollment_by_age</th>\n",
       "      <th>free_count_by_age</th>\n",
       "      <th>frpm_count_by_age</th>\n",
       "      <th>pct_frpm_by_age</th>\n",
       "      <th>pct_free_by_age</th>\n",
       "      <th>District Code</th>\n",
       "      <th>GEOID</th>\n",
       "    </tr>\n",
       "  </thead>\n",
       "  <tbody>\n",
       "    <tr>\n",
       "      <th>35</th>\n",
       "      <td>Pioneer Union Elementary</td>\n",
       "      <td>Kings</td>\n",
       "      <td>1933</td>\n",
       "      <td>793</td>\n",
       "      <td>927</td>\n",
       "      <td>0.479565</td>\n",
       "      <td>0.410243</td>\n",
       "      <td>73379</td>\n",
       "      <td>06031</td>\n",
       "    </tr>\n",
       "  </tbody>\n",
       "</table>\n",
       "</div>"
      ],
      "text/plain": [
       "               district_name county_name  enrollment_by_age  \\\n",
       "35  Pioneer Union Elementary       Kings               1933   \n",
       "\n",
       "    free_count_by_age  frpm_count_by_age  pct_frpm_by_age  pct_free_by_age  \\\n",
       "35                793                927         0.479565         0.410243   \n",
       "\n",
       "   District Code  GEOID  \n",
       "35         73379  06031  "
      ]
     },
     "execution_count": 86,
     "metadata": {},
     "output_type": "execute_result"
    }
   ],
   "source": [
    "t2.loc[t2['district_name'] == 'Pioneer Union Elementary']"
   ]
  },
  {
   "cell_type": "code",
   "execution_count": 87,
   "metadata": {},
   "outputs": [
    {
     "data": {
      "text/html": [
       "<div>\n",
       "<style scoped>\n",
       "    .dataframe tbody tr th:only-of-type {\n",
       "        vertical-align: middle;\n",
       "    }\n",
       "\n",
       "    .dataframe tbody tr th {\n",
       "        vertical-align: top;\n",
       "    }\n",
       "\n",
       "    .dataframe thead th {\n",
       "        text-align: right;\n",
       "    }\n",
       "</style>\n",
       "<table border=\"1\" class=\"dataframe\">\n",
       "  <thead>\n",
       "    <tr style=\"text-align: right;\">\n",
       "      <th></th>\n",
       "      <th>district_name</th>\n",
       "      <th>county_name</th>\n",
       "      <th>enrollment_by_age</th>\n",
       "      <th>free_count_by_age</th>\n",
       "      <th>frpm_count_by_age</th>\n",
       "      <th>pct_frpm_by_age</th>\n",
       "      <th>pct_free_by_age</th>\n",
       "      <th>District Code</th>\n",
       "      <th>GEOID_x</th>\n",
       "      <th>STATEFP</th>\n",
       "      <th>UNSDLEA</th>\n",
       "      <th>GEOID_y</th>\n",
       "      <th>NAME</th>\n",
       "      <th>LSAD</th>\n",
       "      <th>LOGRADE</th>\n",
       "      <th>HIGRADE</th>\n",
       "      <th>MTFCC</th>\n",
       "      <th>SDTYP</th>\n",
       "      <th>FUNCSTAT</th>\n",
       "      <th>ALAND</th>\n",
       "      <th>AWATER</th>\n",
       "      <th>INTPTLAT</th>\n",
       "      <th>INTPTLON</th>\n",
       "      <th>geometry</th>\n",
       "      <th>origin</th>\n",
       "      <th>ELSDLEA</th>\n",
       "      <th>SCSDLEA</th>\n",
       "    </tr>\n",
       "  </thead>\n",
       "  <tbody>\n",
       "    <tr>\n",
       "      <th>35</th>\n",
       "      <td>Pioneer Union Elementary</td>\n",
       "      <td>Kings</td>\n",
       "      <td>1933</td>\n",
       "      <td>793</td>\n",
       "      <td>927</td>\n",
       "      <td>0.479565</td>\n",
       "      <td>0.410243</td>\n",
       "      <td>73379</td>\n",
       "      <td>06031</td>\n",
       "      <td>06</td>\n",
       "      <td>NaN</td>\n",
       "      <td>0630520</td>\n",
       "      <td>Pioneer Union Elementary</td>\n",
       "      <td>00</td>\n",
       "      <td>KG</td>\n",
       "      <td>08</td>\n",
       "      <td>G5400</td>\n",
       "      <td>E</td>\n",
       "      <td>E</td>\n",
       "      <td>313831458.0</td>\n",
       "      <td>20712358.0</td>\n",
       "      <td>+39.6733136</td>\n",
       "      <td>-121.3673265</td>\n",
       "      <td>POLYGON ((-121.50626 39.65474, -121.50614 39.6...</td>\n",
       "      <td>elementary</td>\n",
       "      <td>30520</td>\n",
       "      <td>NaN</td>\n",
       "    </tr>\n",
       "    <tr>\n",
       "      <th>36</th>\n",
       "      <td>Pioneer Union Elementary</td>\n",
       "      <td>Kings</td>\n",
       "      <td>1933</td>\n",
       "      <td>793</td>\n",
       "      <td>927</td>\n",
       "      <td>0.479565</td>\n",
       "      <td>0.410243</td>\n",
       "      <td>73379</td>\n",
       "      <td>06031</td>\n",
       "      <td>06</td>\n",
       "      <td>NaN</td>\n",
       "      <td>0630480</td>\n",
       "      <td>Pioneer Union Elementary</td>\n",
       "      <td>00</td>\n",
       "      <td>KG</td>\n",
       "      <td>08</td>\n",
       "      <td>G5400</td>\n",
       "      <td>E</td>\n",
       "      <td>E</td>\n",
       "      <td>599380124.0</td>\n",
       "      <td>148996.0</td>\n",
       "      <td>+38.6163499</td>\n",
       "      <td>-120.5238525</td>\n",
       "      <td>POLYGON ((-120.81255 38.55972, -120.81238 38.5...</td>\n",
       "      <td>elementary</td>\n",
       "      <td>30480</td>\n",
       "      <td>NaN</td>\n",
       "    </tr>\n",
       "    <tr>\n",
       "      <th>37</th>\n",
       "      <td>Pioneer Union Elementary</td>\n",
       "      <td>Kings</td>\n",
       "      <td>1933</td>\n",
       "      <td>793</td>\n",
       "      <td>927</td>\n",
       "      <td>0.479565</td>\n",
       "      <td>0.410243</td>\n",
       "      <td>73379</td>\n",
       "      <td>06031</td>\n",
       "      <td>06</td>\n",
       "      <td>NaN</td>\n",
       "      <td>0630510</td>\n",
       "      <td>Pioneer Union Elementary</td>\n",
       "      <td>00</td>\n",
       "      <td>KG</td>\n",
       "      <td>08</td>\n",
       "      <td>G5400</td>\n",
       "      <td>E</td>\n",
       "      <td>E</td>\n",
       "      <td>45769224.0</td>\n",
       "      <td>0.0</td>\n",
       "      <td>+36.3608860</td>\n",
       "      <td>-119.6993605</td>\n",
       "      <td>POLYGON ((-119.76275 36.33763, -119.76273 36.3...</td>\n",
       "      <td>elementary</td>\n",
       "      <td>30510</td>\n",
       "      <td>NaN</td>\n",
       "    </tr>\n",
       "  </tbody>\n",
       "</table>\n",
       "</div>"
      ],
      "text/plain": [
       "               district_name county_name  enrollment_by_age  \\\n",
       "35  Pioneer Union Elementary       Kings               1933   \n",
       "36  Pioneer Union Elementary       Kings               1933   \n",
       "37  Pioneer Union Elementary       Kings               1933   \n",
       "\n",
       "    free_count_by_age  frpm_count_by_age  pct_frpm_by_age  pct_free_by_age  \\\n",
       "35                793                927         0.479565         0.410243   \n",
       "36                793                927         0.479565         0.410243   \n",
       "37                793                927         0.479565         0.410243   \n",
       "\n",
       "   District Code GEOID_x STATEFP UNSDLEA  GEOID_y                      NAME  \\\n",
       "35         73379   06031      06     NaN  0630520  Pioneer Union Elementary   \n",
       "36         73379   06031      06     NaN  0630480  Pioneer Union Elementary   \n",
       "37         73379   06031      06     NaN  0630510  Pioneer Union Elementary   \n",
       "\n",
       "   LSAD LOGRADE HIGRADE  MTFCC SDTYP FUNCSTAT        ALAND      AWATER  \\\n",
       "35   00      KG      08  G5400     E        E  313831458.0  20712358.0   \n",
       "36   00      KG      08  G5400     E        E  599380124.0    148996.0   \n",
       "37   00      KG      08  G5400     E        E   45769224.0         0.0   \n",
       "\n",
       "       INTPTLAT      INTPTLON  \\\n",
       "35  +39.6733136  -121.3673265   \n",
       "36  +38.6163499  -120.5238525   \n",
       "37  +36.3608860  -119.6993605   \n",
       "\n",
       "                                             geometry      origin ELSDLEA  \\\n",
       "35  POLYGON ((-121.50626 39.65474, -121.50614 39.6...  elementary   30520   \n",
       "36  POLYGON ((-120.81255 38.55972, -120.81238 38.5...  elementary   30480   \n",
       "37  POLYGON ((-119.76275 36.33763, -119.76273 36.3...  elementary   30510   \n",
       "\n",
       "   SCSDLEA  \n",
       "35     NaN  \n",
       "36     NaN  \n",
       "37     NaN  "
      ]
     },
     "execution_count": 87,
     "metadata": {},
     "output_type": "execute_result"
    }
   ],
   "source": [
    "gdf1.loc[gdf1['district_name'] == 'Pioneer Union Elementary']"
   ]
  },
  {
   "cell_type": "code",
   "execution_count": 88,
   "metadata": {
    "scrolled": true
   },
   "outputs": [
    {
     "data": {
      "text/html": [
       "<div>\n",
       "<style scoped>\n",
       "    .dataframe tbody tr th:only-of-type {\n",
       "        vertical-align: middle;\n",
       "    }\n",
       "\n",
       "    .dataframe tbody tr th {\n",
       "        vertical-align: top;\n",
       "    }\n",
       "\n",
       "    .dataframe thead th {\n",
       "        text-align: right;\n",
       "    }\n",
       "</style>\n",
       "<table border=\"1\" class=\"dataframe\">\n",
       "  <thead>\n",
       "    <tr style=\"text-align: right;\">\n",
       "      <th></th>\n",
       "      <th>district_name</th>\n",
       "      <th>county_name</th>\n",
       "      <th>enrollment_by_age</th>\n",
       "      <th>free_count_by_age</th>\n",
       "      <th>frpm_count_by_age</th>\n",
       "      <th>pct_frpm_by_age</th>\n",
       "      <th>pct_free_by_age</th>\n",
       "      <th>District Code</th>\n",
       "      <th>GEOID</th>\n",
       "    </tr>\n",
       "  </thead>\n",
       "  <tbody>\n",
       "    <tr>\n",
       "      <th>227</th>\n",
       "      <td>Lakeside Union Elementary</td>\n",
       "      <td>San Diego</td>\n",
       "      <td>5765</td>\n",
       "      <td>1996</td>\n",
       "      <td>2532</td>\n",
       "      <td>0.439202</td>\n",
       "      <td>0.346227</td>\n",
       "      <td>63966</td>\n",
       "      <td>06073</td>\n",
       "    </tr>\n",
       "  </tbody>\n",
       "</table>\n",
       "</div>"
      ],
      "text/plain": [
       "                 district_name county_name  enrollment_by_age  \\\n",
       "227  Lakeside Union Elementary   San Diego               5765   \n",
       "\n",
       "     free_count_by_age  frpm_count_by_age  pct_frpm_by_age  pct_free_by_age  \\\n",
       "227               1996               2532         0.439202         0.346227   \n",
       "\n",
       "    District Code  GEOID  \n",
       "227         63966  06073  "
      ]
     },
     "execution_count": 88,
     "metadata": {},
     "output_type": "execute_result"
    }
   ],
   "source": [
    "t2.loc[t2['district_name'] == 'Lakeside Union Elementary']"
   ]
  },
  {
   "cell_type": "code",
   "execution_count": 89,
   "metadata": {
    "scrolled": true
   },
   "outputs": [
    {
     "data": {
      "text/html": [
       "<div>\n",
       "<style scoped>\n",
       "    .dataframe tbody tr th:only-of-type {\n",
       "        vertical-align: middle;\n",
       "    }\n",
       "\n",
       "    .dataframe tbody tr th {\n",
       "        vertical-align: top;\n",
       "    }\n",
       "\n",
       "    .dataframe thead th {\n",
       "        text-align: right;\n",
       "    }\n",
       "</style>\n",
       "<table border=\"1\" class=\"dataframe\">\n",
       "  <thead>\n",
       "    <tr style=\"text-align: right;\">\n",
       "      <th></th>\n",
       "      <th>district_name</th>\n",
       "      <th>county_name</th>\n",
       "      <th>enrollment_by_age</th>\n",
       "      <th>free_count_by_age</th>\n",
       "      <th>frpm_count_by_age</th>\n",
       "      <th>pct_frpm_by_age</th>\n",
       "      <th>pct_free_by_age</th>\n",
       "      <th>District Code</th>\n",
       "      <th>GEOID</th>\n",
       "    </tr>\n",
       "  </thead>\n",
       "  <tbody>\n",
       "    <tr>\n",
       "      <th>525</th>\n",
       "      <td>Jefferson Elementary</td>\n",
       "      <td>San Mateo</td>\n",
       "      <td>9081</td>\n",
       "      <td>3493</td>\n",
       "      <td>4338</td>\n",
       "      <td>0.477701</td>\n",
       "      <td>0.384649</td>\n",
       "      <td>67488</td>\n",
       "      <td>06081</td>\n",
       "    </tr>\n",
       "  </tbody>\n",
       "</table>\n",
       "</div>"
      ],
      "text/plain": [
       "            district_name county_name  enrollment_by_age  free_count_by_age  \\\n",
       "525  Jefferson Elementary   San Mateo               9081               3493   \n",
       "\n",
       "     frpm_count_by_age  pct_frpm_by_age  pct_free_by_age District Code  GEOID  \n",
       "525               4338         0.477701         0.384649         67488  06081  "
      ]
     },
     "execution_count": 89,
     "metadata": {},
     "output_type": "execute_result"
    }
   ],
   "source": [
    "t2.loc[t2['district_name'] == 'Jefferson Elementary']"
   ]
  },
  {
   "cell_type": "code",
   "execution_count": 90,
   "metadata": {
    "scrolled": false
   },
   "outputs": [
    {
     "data": {
      "text/html": [
       "<div>\n",
       "<style scoped>\n",
       "    .dataframe tbody tr th:only-of-type {\n",
       "        vertical-align: middle;\n",
       "    }\n",
       "\n",
       "    .dataframe tbody tr th {\n",
       "        vertical-align: top;\n",
       "    }\n",
       "\n",
       "    .dataframe thead th {\n",
       "        text-align: right;\n",
       "    }\n",
       "</style>\n",
       "<table border=\"1\" class=\"dataframe\">\n",
       "  <thead>\n",
       "    <tr style=\"text-align: right;\">\n",
       "      <th></th>\n",
       "      <th>STATEFP</th>\n",
       "      <th>UNSDLEA</th>\n",
       "      <th>GEOID</th>\n",
       "      <th>NAME</th>\n",
       "      <th>LSAD</th>\n",
       "      <th>LOGRADE</th>\n",
       "      <th>HIGRADE</th>\n",
       "      <th>MTFCC</th>\n",
       "      <th>SDTYP</th>\n",
       "      <th>FUNCSTAT</th>\n",
       "      <th>ALAND</th>\n",
       "      <th>AWATER</th>\n",
       "      <th>INTPTLAT</th>\n",
       "      <th>INTPTLON</th>\n",
       "      <th>geometry</th>\n",
       "      <th>origin</th>\n",
       "      <th>ELSDLEA</th>\n",
       "      <th>SCSDLEA</th>\n",
       "    </tr>\n",
       "  </thead>\n",
       "  <tbody>\n",
       "    <tr>\n",
       "      <th>608</th>\n",
       "      <td>06</td>\n",
       "      <td>NaN</td>\n",
       "      <td>0618810</td>\n",
       "      <td>Jefferson Elementary</td>\n",
       "      <td>00</td>\n",
       "      <td>KG</td>\n",
       "      <td>08</td>\n",
       "      <td>G5400</td>\n",
       "      <td>E</td>\n",
       "      <td>E</td>\n",
       "      <td>456704159</td>\n",
       "      <td>167620</td>\n",
       "      <td>+36.5121094</td>\n",
       "      <td>-121.1260655</td>\n",
       "      <td>POLYGON ((-121.33392 36.57440, -121.33311 36.5...</td>\n",
       "      <td>elementary</td>\n",
       "      <td>18810</td>\n",
       "      <td>NaN</td>\n",
       "    </tr>\n",
       "    <tr>\n",
       "      <th>216</th>\n",
       "      <td>06</td>\n",
       "      <td>NaN</td>\n",
       "      <td>0618870</td>\n",
       "      <td>Jefferson Elementary</td>\n",
       "      <td>00</td>\n",
       "      <td>KG</td>\n",
       "      <td>08</td>\n",
       "      <td>G5400</td>\n",
       "      <td>E</td>\n",
       "      <td>E</td>\n",
       "      <td>24725681</td>\n",
       "      <td>30852871</td>\n",
       "      <td>+37.6901929</td>\n",
       "      <td>-122.4962701</td>\n",
       "      <td>POLYGON ((-122.57519 37.70672, -122.55069 37.7...</td>\n",
       "      <td>elementary</td>\n",
       "      <td>18870</td>\n",
       "      <td>NaN</td>\n",
       "    </tr>\n",
       "    <tr>\n",
       "      <th>242</th>\n",
       "      <td>06</td>\n",
       "      <td>NaN</td>\n",
       "      <td>0618840</td>\n",
       "      <td>Jefferson Elementary</td>\n",
       "      <td>00</td>\n",
       "      <td>KG</td>\n",
       "      <td>08</td>\n",
       "      <td>G5400</td>\n",
       "      <td>E</td>\n",
       "      <td>E</td>\n",
       "      <td>356601145</td>\n",
       "      <td>61969</td>\n",
       "      <td>+37.6257134</td>\n",
       "      <td>-121.4377868</td>\n",
       "      <td>POLYGON ((-121.55726 37.61667, -121.55725 37.6...</td>\n",
       "      <td>elementary</td>\n",
       "      <td>18840</td>\n",
       "      <td>NaN</td>\n",
       "    </tr>\n",
       "    <tr>\n",
       "      <th>373</th>\n",
       "      <td>06</td>\n",
       "      <td>NaN</td>\n",
       "      <td>0620760</td>\n",
       "      <td>Lakeside Union Elementary</td>\n",
       "      <td>00</td>\n",
       "      <td>KG</td>\n",
       "      <td>08</td>\n",
       "      <td>G5400</td>\n",
       "      <td>E</td>\n",
       "      <td>E</td>\n",
       "      <td>143100581</td>\n",
       "      <td>33302</td>\n",
       "      <td>+36.2328593</td>\n",
       "      <td>-119.6092332</td>\n",
       "      <td>POLYGON ((-119.69110 36.22867, -119.69093 36.2...</td>\n",
       "      <td>elementary</td>\n",
       "      <td>20760</td>\n",
       "      <td>NaN</td>\n",
       "    </tr>\n",
       "    <tr>\n",
       "      <th>254</th>\n",
       "      <td>06</td>\n",
       "      <td>NaN</td>\n",
       "      <td>0620730</td>\n",
       "      <td>Lakeside Union Elementary</td>\n",
       "      <td>00</td>\n",
       "      <td>KG</td>\n",
       "      <td>08</td>\n",
       "      <td>G5400</td>\n",
       "      <td>E</td>\n",
       "      <td>E</td>\n",
       "      <td>425820881</td>\n",
       "      <td>4752762</td>\n",
       "      <td>+35.1900417</td>\n",
       "      <td>-119.1916871</td>\n",
       "      <td>POLYGON ((-119.34128 35.25365, -119.33833 35.2...</td>\n",
       "      <td>elementary</td>\n",
       "      <td>20730</td>\n",
       "      <td>NaN</td>\n",
       "    </tr>\n",
       "    <tr>\n",
       "      <th>175</th>\n",
       "      <td>06</td>\n",
       "      <td>NaN</td>\n",
       "      <td>0620790</td>\n",
       "      <td>Lakeside Union Elementary</td>\n",
       "      <td>00</td>\n",
       "      <td>KG</td>\n",
       "      <td>08</td>\n",
       "      <td>G5400</td>\n",
       "      <td>E</td>\n",
       "      <td>E</td>\n",
       "      <td>175436343</td>\n",
       "      <td>7085107</td>\n",
       "      <td>+32.9006100</td>\n",
       "      <td>-116.8808603</td>\n",
       "      <td>POLYGON ((-116.96373 32.90326, -116.96367 32.9...</td>\n",
       "      <td>elementary</td>\n",
       "      <td>20790</td>\n",
       "      <td>NaN</td>\n",
       "    </tr>\n",
       "    <tr>\n",
       "      <th>528</th>\n",
       "      <td>06</td>\n",
       "      <td>NaN</td>\n",
       "      <td>0630520</td>\n",
       "      <td>Pioneer Union Elementary</td>\n",
       "      <td>00</td>\n",
       "      <td>KG</td>\n",
       "      <td>08</td>\n",
       "      <td>G5400</td>\n",
       "      <td>E</td>\n",
       "      <td>E</td>\n",
       "      <td>313831458</td>\n",
       "      <td>20712358</td>\n",
       "      <td>+39.6733136</td>\n",
       "      <td>-121.3673265</td>\n",
       "      <td>POLYGON ((-121.50626 39.65474, -121.50614 39.6...</td>\n",
       "      <td>elementary</td>\n",
       "      <td>30520</td>\n",
       "      <td>NaN</td>\n",
       "    </tr>\n",
       "    <tr>\n",
       "      <th>149</th>\n",
       "      <td>06</td>\n",
       "      <td>NaN</td>\n",
       "      <td>0630480</td>\n",
       "      <td>Pioneer Union Elementary</td>\n",
       "      <td>00</td>\n",
       "      <td>KG</td>\n",
       "      <td>08</td>\n",
       "      <td>G5400</td>\n",
       "      <td>E</td>\n",
       "      <td>E</td>\n",
       "      <td>599380124</td>\n",
       "      <td>148996</td>\n",
       "      <td>+38.6163499</td>\n",
       "      <td>-120.5238525</td>\n",
       "      <td>POLYGON ((-120.81255 38.55972, -120.81238 38.5...</td>\n",
       "      <td>elementary</td>\n",
       "      <td>30480</td>\n",
       "      <td>NaN</td>\n",
       "    </tr>\n",
       "    <tr>\n",
       "      <th>391</th>\n",
       "      <td>06</td>\n",
       "      <td>NaN</td>\n",
       "      <td>0630510</td>\n",
       "      <td>Pioneer Union Elementary</td>\n",
       "      <td>00</td>\n",
       "      <td>KG</td>\n",
       "      <td>08</td>\n",
       "      <td>G5400</td>\n",
       "      <td>E</td>\n",
       "      <td>E</td>\n",
       "      <td>45769224</td>\n",
       "      <td>0</td>\n",
       "      <td>+36.3608860</td>\n",
       "      <td>-119.6993605</td>\n",
       "      <td>POLYGON ((-119.76275 36.33763, -119.76273 36.3...</td>\n",
       "      <td>elementary</td>\n",
       "      <td>30510</td>\n",
       "      <td>NaN</td>\n",
       "    </tr>\n",
       "  </tbody>\n",
       "</table>\n",
       "</div>"
      ],
      "text/plain": [
       "    STATEFP UNSDLEA    GEOID                       NAME LSAD LOGRADE HIGRADE  \\\n",
       "608      06     NaN  0618810       Jefferson Elementary   00      KG      08   \n",
       "216      06     NaN  0618870       Jefferson Elementary   00      KG      08   \n",
       "242      06     NaN  0618840       Jefferson Elementary   00      KG      08   \n",
       "373      06     NaN  0620760  Lakeside Union Elementary   00      KG      08   \n",
       "254      06     NaN  0620730  Lakeside Union Elementary   00      KG      08   \n",
       "175      06     NaN  0620790  Lakeside Union Elementary   00      KG      08   \n",
       "528      06     NaN  0630520   Pioneer Union Elementary   00      KG      08   \n",
       "149      06     NaN  0630480   Pioneer Union Elementary   00      KG      08   \n",
       "391      06     NaN  0630510   Pioneer Union Elementary   00      KG      08   \n",
       "\n",
       "     MTFCC SDTYP FUNCSTAT      ALAND    AWATER     INTPTLAT      INTPTLON  \\\n",
       "608  G5400     E        E  456704159    167620  +36.5121094  -121.1260655   \n",
       "216  G5400     E        E   24725681  30852871  +37.6901929  -122.4962701   \n",
       "242  G5400     E        E  356601145     61969  +37.6257134  -121.4377868   \n",
       "373  G5400     E        E  143100581     33302  +36.2328593  -119.6092332   \n",
       "254  G5400     E        E  425820881   4752762  +35.1900417  -119.1916871   \n",
       "175  G5400     E        E  175436343   7085107  +32.9006100  -116.8808603   \n",
       "528  G5400     E        E  313831458  20712358  +39.6733136  -121.3673265   \n",
       "149  G5400     E        E  599380124    148996  +38.6163499  -120.5238525   \n",
       "391  G5400     E        E   45769224         0  +36.3608860  -119.6993605   \n",
       "\n",
       "                                              geometry      origin ELSDLEA  \\\n",
       "608  POLYGON ((-121.33392 36.57440, -121.33311 36.5...  elementary   18810   \n",
       "216  POLYGON ((-122.57519 37.70672, -122.55069 37.7...  elementary   18870   \n",
       "242  POLYGON ((-121.55726 37.61667, -121.55725 37.6...  elementary   18840   \n",
       "373  POLYGON ((-119.69110 36.22867, -119.69093 36.2...  elementary   20760   \n",
       "254  POLYGON ((-119.34128 35.25365, -119.33833 35.2...  elementary   20730   \n",
       "175  POLYGON ((-116.96373 32.90326, -116.96367 32.9...  elementary   20790   \n",
       "528  POLYGON ((-121.50626 39.65474, -121.50614 39.6...  elementary   30520   \n",
       "149  POLYGON ((-120.81255 38.55972, -120.81238 38.5...  elementary   30480   \n",
       "391  POLYGON ((-119.76275 36.33763, -119.76273 36.3...  elementary   30510   \n",
       "\n",
       "    SCSDLEA  \n",
       "608     NaN  \n",
       "216     NaN  \n",
       "242     NaN  \n",
       "373     NaN  \n",
       "254     NaN  \n",
       "175     NaN  \n",
       "528     NaN  \n",
       "149     NaN  \n",
       "391     NaN  "
      ]
     },
     "execution_count": 90,
     "metadata": {},
     "output_type": "execute_result"
    }
   ],
   "source": [
    "dupes"
   ]
  },
  {
   "cell_type": "markdown",
   "metadata": {},
   "source": [
    "## Test Variables for merge with District Codes"
   ]
  },
  {
   "cell_type": "code",
   "execution_count": 91,
   "metadata": {},
   "outputs": [
    {
     "data": {
      "text/plain": [
       "970"
      ]
     },
     "execution_count": 91,
     "metadata": {},
     "output_type": "execute_result"
    }
   ],
   "source": [
    "geot = set(adsgeo)\n",
    "len(geot)\n",
    "# There are no district codes in the geometries - must match by district name. "
   ]
  },
  {
   "cell_type": "code",
   "execution_count": 92,
   "metadata": {},
   "outputs": [
    {
     "data": {
      "text/html": [
       "<div>\n",
       "<style scoped>\n",
       "    .dataframe tbody tr th:only-of-type {\n",
       "        vertical-align: middle;\n",
       "    }\n",
       "\n",
       "    .dataframe tbody tr th {\n",
       "        vertical-align: top;\n",
       "    }\n",
       "\n",
       "    .dataframe thead th {\n",
       "        text-align: right;\n",
       "    }\n",
       "</style>\n",
       "<table border=\"1\" class=\"dataframe\">\n",
       "  <thead>\n",
       "    <tr style=\"text-align: right;\">\n",
       "      <th></th>\n",
       "      <th>enrollment_by_age</th>\n",
       "      <th>free_count_by_age</th>\n",
       "      <th>frpm_count_by_age</th>\n",
       "      <th>pct_frpm_by_age</th>\n",
       "      <th>pct_free_by_age</th>\n",
       "    </tr>\n",
       "    <tr>\n",
       "      <th>district_name</th>\n",
       "      <th></th>\n",
       "      <th></th>\n",
       "      <th></th>\n",
       "      <th></th>\n",
       "      <th></th>\n",
       "    </tr>\n",
       "  </thead>\n",
       "  <tbody>\n",
       "    <tr>\n",
       "      <th>ABC Unified</th>\n",
       "      <td>20022</td>\n",
       "      <td>8508</td>\n",
       "      <td>9994</td>\n",
       "      <td>0.499151</td>\n",
       "      <td>0.424933</td>\n",
       "    </tr>\n",
       "    <tr>\n",
       "      <th>Acalanes Union High</th>\n",
       "      <td>5487</td>\n",
       "      <td>334</td>\n",
       "      <td>358</td>\n",
       "      <td>0.065245</td>\n",
       "      <td>0.060871</td>\n",
       "    </tr>\n",
       "    <tr>\n",
       "      <th>Ackerman Charter</th>\n",
       "      <td>584</td>\n",
       "      <td>154</td>\n",
       "      <td>180</td>\n",
       "      <td>0.308219</td>\n",
       "      <td>0.263699</td>\n",
       "    </tr>\n",
       "    <tr>\n",
       "      <th>Acton-Agua Dulce Unified</th>\n",
       "      <td>13553</td>\n",
       "      <td>5745</td>\n",
       "      <td>6389</td>\n",
       "      <td>0.471409</td>\n",
       "      <td>0.423891</td>\n",
       "    </tr>\n",
       "    <tr>\n",
       "      <th>Adelanto Elementary</th>\n",
       "      <td>8512</td>\n",
       "      <td>6158</td>\n",
       "      <td>6708</td>\n",
       "      <td>0.788064</td>\n",
       "      <td>0.723449</td>\n",
       "    </tr>\n",
       "    <tr>\n",
       "      <th>...</th>\n",
       "      <td>...</td>\n",
       "      <td>...</td>\n",
       "      <td>...</td>\n",
       "      <td>...</td>\n",
       "      <td>...</td>\n",
       "    </tr>\n",
       "    <tr>\n",
       "      <th>Yosemite Unified</th>\n",
       "      <td>2036</td>\n",
       "      <td>881</td>\n",
       "      <td>977</td>\n",
       "      <td>0.479862</td>\n",
       "      <td>0.432711</td>\n",
       "    </tr>\n",
       "    <tr>\n",
       "      <th>Yreka Union Elementary</th>\n",
       "      <td>984</td>\n",
       "      <td>634</td>\n",
       "      <td>702</td>\n",
       "      <td>0.713415</td>\n",
       "      <td>0.644309</td>\n",
       "    </tr>\n",
       "    <tr>\n",
       "      <th>Yreka Union High</th>\n",
       "      <td>610</td>\n",
       "      <td>269</td>\n",
       "      <td>290</td>\n",
       "      <td>0.475410</td>\n",
       "      <td>0.440984</td>\n",
       "    </tr>\n",
       "    <tr>\n",
       "      <th>Yuba City Unified</th>\n",
       "      <td>12839</td>\n",
       "      <td>8182</td>\n",
       "      <td>9518</td>\n",
       "      <td>0.741335</td>\n",
       "      <td>0.637277</td>\n",
       "    </tr>\n",
       "    <tr>\n",
       "      <th>Yucaipa-Calimesa Joint Unified</th>\n",
       "      <td>9783</td>\n",
       "      <td>4260</td>\n",
       "      <td>4960</td>\n",
       "      <td>0.507002</td>\n",
       "      <td>0.435449</td>\n",
       "    </tr>\n",
       "  </tbody>\n",
       "</table>\n",
       "<p>966 rows × 5 columns</p>\n",
       "</div>"
      ],
      "text/plain": [
       "                                enrollment_by_age  free_count_by_age  \\\n",
       "district_name                                                          \n",
       "ABC Unified                                 20022               8508   \n",
       "Acalanes Union High                          5487                334   \n",
       "Ackerman Charter                              584                154   \n",
       "Acton-Agua Dulce Unified                    13553               5745   \n",
       "Adelanto Elementary                          8512               6158   \n",
       "...                                           ...                ...   \n",
       "Yosemite Unified                             2036                881   \n",
       "Yreka Union Elementary                        984                634   \n",
       "Yreka Union High                              610                269   \n",
       "Yuba City Unified                           12839               8182   \n",
       "Yucaipa-Calimesa Joint Unified               9783               4260   \n",
       "\n",
       "                                frpm_count_by_age  pct_frpm_by_age  \\\n",
       "district_name                                                        \n",
       "ABC Unified                                  9994         0.499151   \n",
       "Acalanes Union High                           358         0.065245   \n",
       "Ackerman Charter                              180         0.308219   \n",
       "Acton-Agua Dulce Unified                     6389         0.471409   \n",
       "Adelanto Elementary                          6708         0.788064   \n",
       "...                                           ...              ...   \n",
       "Yosemite Unified                              977         0.479862   \n",
       "Yreka Union Elementary                        702         0.713415   \n",
       "Yreka Union High                              290         0.475410   \n",
       "Yuba City Unified                            9518         0.741335   \n",
       "Yucaipa-Calimesa Joint Unified               4960         0.507002   \n",
       "\n",
       "                                pct_free_by_age  \n",
       "district_name                                    \n",
       "ABC Unified                            0.424933  \n",
       "Acalanes Union High                    0.060871  \n",
       "Ackerman Charter                       0.263699  \n",
       "Acton-Agua Dulce Unified               0.423891  \n",
       "Adelanto Elementary                    0.723449  \n",
       "...                                         ...  \n",
       "Yosemite Unified                       0.432711  \n",
       "Yreka Union Elementary                 0.644309  \n",
       "Yreka Union High                       0.440984  \n",
       "Yuba City Unified                      0.637277  \n",
       "Yucaipa-Calimesa Joint Unified         0.435449  \n",
       "\n",
       "[966 rows x 5 columns]"
      ]
     },
     "execution_count": 92,
     "metadata": {},
     "output_type": "execute_result"
    }
   ],
   "source": [
    "dffrpm"
   ]
  },
  {
   "cell_type": "code",
   "execution_count": 93,
   "metadata": {},
   "outputs": [
    {
     "data": {
      "text/plain": [
       "966"
      ]
     },
     "execution_count": 93,
     "metadata": {},
     "output_type": "execute_result"
    }
   ],
   "source": [
    "frpmt = set(t1['District Code'])\n",
    "len(frpmt)"
   ]
  },
  {
   "cell_type": "code",
   "execution_count": 94,
   "metadata": {
    "scrolled": true
   },
   "outputs": [
    {
     "data": {
      "text/plain": [
       "944"
      ]
     },
     "execution_count": 94,
     "metadata": {},
     "output_type": "execute_result"
    }
   ],
   "source": [
    "lcfft = set(dflcff['District Code'])\n",
    "len(lcfft)"
   ]
  },
  {
   "cell_type": "code",
   "execution_count": 95,
   "metadata": {},
   "outputs": [
    {
     "data": {
      "text/plain": [
       "932"
      ]
     },
     "execution_count": 95,
     "metadata": {},
     "output_type": "execute_result"
    }
   ],
   "source": [
    "elat = set(dfe['District Code'])\n",
    "len(elat)"
   ]
  },
  {
   "cell_type": "code",
   "execution_count": 96,
   "metadata": {
    "scrolled": true
   },
   "outputs": [
    {
     "data": {
      "text/plain": [
       "931"
      ]
     },
     "execution_count": 96,
     "metadata": {},
     "output_type": "execute_result"
    }
   ],
   "source": [
    "matht = set(dfm['District Code'])\n",
    "len(matht)\n",
    "# lowest common denominator"
   ]
  },
  {
   "cell_type": "code",
   "execution_count": 97,
   "metadata": {},
   "outputs": [
    {
     "data": {
      "text/plain": [
       "{'70318'}"
      ]
     },
     "execution_count": 97,
     "metadata": {},
     "output_type": "execute_result"
    }
   ],
   "source": [
    "elat.difference(matht)"
   ]
  },
  {
   "cell_type": "code",
   "execution_count": null,
   "metadata": {},
   "outputs": [],
   "source": []
  },
  {
   "cell_type": "code",
   "execution_count": 98,
   "metadata": {
    "scrolled": true
   },
   "outputs": [
    {
     "data": {
      "text/plain": [
       "{'61994',\n",
       " '63933',\n",
       " '66761',\n",
       " '68627',\n",
       " '70318',\n",
       " '70680',\n",
       " '70714',\n",
       " '70730',\n",
       " '70797',\n",
       " '70839',\n",
       " '70854',\n",
       " '70862',\n",
       " '70912',\n",
       " '70920',\n",
       " '71274',\n",
       " '71670'}"
      ]
     },
     "execution_count": 98,
     "metadata": {},
     "output_type": "execute_result"
    }
   ],
   "source": [
    "d2 = lcfft.difference(matht)\n",
    "d2"
   ]
  },
  {
   "cell_type": "code",
   "execution_count": 99,
   "metadata": {
    "scrolled": true
   },
   "outputs": [
    {
     "data": {
      "text/plain": [
       "{'61994',\n",
       " '63933',\n",
       " '66761',\n",
       " '68627',\n",
       " '70680',\n",
       " '70714',\n",
       " '70730',\n",
       " '70797',\n",
       " '70839',\n",
       " '70854',\n",
       " '70862',\n",
       " '70912',\n",
       " '70920',\n",
       " '71274',\n",
       " '71670'}"
      ]
     },
     "execution_count": 99,
     "metadata": {},
     "output_type": "execute_result"
    }
   ],
   "source": [
    "d3 = lcfft.difference(elat)\n",
    "d3"
   ]
  },
  {
   "cell_type": "code",
   "execution_count": 100,
   "metadata": {},
   "outputs": [
    {
     "data": {
      "text/plain": [
       "15"
      ]
     },
     "execution_count": 100,
     "metadata": {},
     "output_type": "execute_result"
    }
   ],
   "source": [
    "drops = d2.intersection(d3)\n",
    "len(drops)"
   ]
  },
  {
   "cell_type": "code",
   "execution_count": 101,
   "metadata": {
    "scrolled": true
   },
   "outputs": [
    {
     "data": {
      "text/plain": [
       "{'70318'}"
      ]
     },
     "execution_count": 101,
     "metadata": {},
     "output_type": "execute_result"
    }
   ],
   "source": [
    "d2.difference(drops)"
   ]
  },
  {
   "cell_type": "code",
   "execution_count": 102,
   "metadata": {
    "scrolled": true
   },
   "outputs": [
    {
     "data": {
      "text/plain": [
       "16"
      ]
     },
     "execution_count": 102,
     "metadata": {},
     "output_type": "execute_result"
    }
   ],
   "source": [
    "drops = d2\n",
    "len(drops)"
   ]
  },
  {
   "cell_type": "code",
   "execution_count": 103,
   "metadata": {},
   "outputs": [
    {
     "data": {
      "text/plain": [
       "49"
      ]
     },
     "execution_count": 103,
     "metadata": {},
     "output_type": "execute_result"
    }
   ],
   "source": [
    "d4 = frpmt.difference(matht)\n",
    "len(d4)"
   ]
  },
  {
   "cell_type": "code",
   "execution_count": 104,
   "metadata": {
    "scrolled": true
   },
   "outputs": [
    {
     "data": {
      "text/plain": [
       "set()"
      ]
     },
     "execution_count": 104,
     "metadata": {},
     "output_type": "execute_result"
    }
   ],
   "source": [
    "d2.difference(d4)"
   ]
  },
  {
   "cell_type": "code",
   "execution_count": 105,
   "metadata": {
    "scrolled": true
   },
   "outputs": [
    {
     "data": {
      "text/plain": [
       "set()"
      ]
     },
     "execution_count": 105,
     "metadata": {},
     "output_type": "execute_result"
    }
   ],
   "source": [
    "d3.difference(d4)"
   ]
  },
  {
   "cell_type": "markdown",
   "metadata": {},
   "source": [
    "### d4 contains the list of districts to drop to merge all 4 datasets. "
   ]
  },
  {
   "cell_type": "code",
   "execution_count": 106,
   "metadata": {},
   "outputs": [
    {
     "data": {
      "text/plain": [
       "49"
      ]
     },
     "execution_count": 106,
     "metadata": {},
     "output_type": "execute_result"
    }
   ],
   "source": [
    "len(d4)"
   ]
  },
  {
   "cell_type": "code",
   "execution_count": 107,
   "metadata": {
    "scrolled": true
   },
   "outputs": [
    {
     "data": {
      "text/plain": [
       "{'31609',\n",
       " '31617',\n",
       " '31625',\n",
       " '32276',\n",
       " '61994',\n",
       " '63933',\n",
       " '66761',\n",
       " '68627',\n",
       " '70318',\n",
       " '70680',\n",
       " '70714',\n",
       " '70730',\n",
       " '70797',\n",
       " '70839',\n",
       " '70854',\n",
       " '70862',\n",
       " '70912',\n",
       " '70920',\n",
       " '71274',\n",
       " '71670',\n",
       " '75630',\n",
       " '75663',\n",
       " '75697',\n",
       " '76547',\n",
       " '76885',\n",
       " '76893',\n",
       " '76901',\n",
       " '76919',\n",
       " '76927',\n",
       " '76943',\n",
       " '76950',\n",
       " '76968',\n",
       " '76992',\n",
       " '77024',\n",
       " '77032',\n",
       " '77065',\n",
       " '77081',\n",
       " '77099',\n",
       " '77107',\n",
       " '77131',\n",
       " '77149',\n",
       " '77156',\n",
       " '77164',\n",
       " '77172',\n",
       " '77180',\n",
       " '77198',\n",
       " '77206',\n",
       " '77214',\n",
       " '77222'}"
      ]
     },
     "execution_count": 107,
     "metadata": {},
     "output_type": "execute_result"
    }
   ],
   "source": [
    "d4"
   ]
  },
  {
   "cell_type": "markdown",
   "metadata": {},
   "source": [
    "# Examining data"
   ]
  },
  {
   "cell_type": "markdown",
   "metadata": {},
   "source": [
    "### State-level performance data"
   ]
  },
  {
   "cell_type": "code",
   "execution_count": 108,
   "metadata": {
    "scrolled": true
   },
   "outputs": [
    {
     "data": {
      "text/html": [
       "<div>\n",
       "<style scoped>\n",
       "    .dataframe tbody tr th:only-of-type {\n",
       "        vertical-align: middle;\n",
       "    }\n",
       "\n",
       "    .dataframe tbody tr th {\n",
       "        vertical-align: top;\n",
       "    }\n",
       "\n",
       "    .dataframe thead th {\n",
       "        text-align: right;\n",
       "    }\n",
       "</style>\n",
       "<table border=\"1\" class=\"dataframe\">\n",
       "  <thead>\n",
       "    <tr style=\"text-align: right;\">\n",
       "      <th></th>\n",
       "      <th>studentgroup</th>\n",
       "      <th>currstatus</th>\n",
       "      <th>priorstatus</th>\n",
       "      <th>change</th>\n",
       "      <th>currdenom</th>\n",
       "    </tr>\n",
       "  </thead>\n",
       "  <tbody>\n",
       "    <tr>\n",
       "      <th>3</th>\n",
       "      <td>asian</td>\n",
       "      <td>62.4</td>\n",
       "      <td>60.5</td>\n",
       "      <td>2.0</td>\n",
       "      <td>293002</td>\n",
       "    </tr>\n",
       "    <tr>\n",
       "      <th>7</th>\n",
       "      <td>filipino</td>\n",
       "      <td>44.0</td>\n",
       "      <td>41.2</td>\n",
       "      <td>2.7</td>\n",
       "      <td>71139</td>\n",
       "    </tr>\n",
       "    <tr>\n",
       "      <th>11</th>\n",
       "      <td>multiple_races</td>\n",
       "      <td>28.6</td>\n",
       "      <td>26.3</td>\n",
       "      <td>2.3</td>\n",
       "      <td>118753</td>\n",
       "    </tr>\n",
       "    <tr>\n",
       "      <th>16</th>\n",
       "      <td>white</td>\n",
       "      <td>27.7</td>\n",
       "      <td>26.9</td>\n",
       "      <td>0.8</td>\n",
       "      <td>734863</td>\n",
       "    </tr>\n",
       "    <tr>\n",
       "      <th>6</th>\n",
       "      <td>english_only</td>\n",
       "      <td>6.5</td>\n",
       "      <td>4.6</td>\n",
       "      <td>1.8</td>\n",
       "      <td>1795002</td>\n",
       "    </tr>\n",
       "    <tr>\n",
       "      <th>13</th>\n",
       "      <td>rfep_only</td>\n",
       "      <td>2.2</td>\n",
       "      <td>-0.4</td>\n",
       "      <td>2.7</td>\n",
       "      <td>488023</td>\n",
       "    </tr>\n",
       "    <tr>\n",
       "      <th>2</th>\n",
       "      <td>all_students</td>\n",
       "      <td>-6.0</td>\n",
       "      <td>-8.2</td>\n",
       "      <td>2.2</td>\n",
       "      <td>3171704</td>\n",
       "    </tr>\n",
       "    <tr>\n",
       "      <th>12</th>\n",
       "      <td>pacific_islander</td>\n",
       "      <td>-21.3</td>\n",
       "      <td>-22.0</td>\n",
       "      <td>0.7</td>\n",
       "      <td>14894</td>\n",
       "    </tr>\n",
       "    <tr>\n",
       "      <th>9</th>\n",
       "      <td>hispanic</td>\n",
       "      <td>-31.3</td>\n",
       "      <td>-34.5</td>\n",
       "      <td>3.2</td>\n",
       "      <td>1738615</td>\n",
       "    </tr>\n",
       "    <tr>\n",
       "      <th>14</th>\n",
       "      <td>ses_disad</td>\n",
       "      <td>-34.7</td>\n",
       "      <td>-38.7</td>\n",
       "      <td>4.0</td>\n",
       "      <td>1982522</td>\n",
       "    </tr>\n",
       "    <tr>\n",
       "      <th>1</th>\n",
       "      <td>american_indian</td>\n",
       "      <td>-36.8</td>\n",
       "      <td>-39.1</td>\n",
       "      <td>2.3</td>\n",
       "      <td>16662</td>\n",
       "    </tr>\n",
       "    <tr>\n",
       "      <th>4</th>\n",
       "      <td>english_learners</td>\n",
       "      <td>-47.1</td>\n",
       "      <td>-50.4</td>\n",
       "      <td>3.3</td>\n",
       "      <td>1000703</td>\n",
       "    </tr>\n",
       "    <tr>\n",
       "      <th>10</th>\n",
       "      <td>homeless_youth</td>\n",
       "      <td>-51.0</td>\n",
       "      <td>-54.3</td>\n",
       "      <td>3.3</td>\n",
       "      <td>115551</td>\n",
       "    </tr>\n",
       "    <tr>\n",
       "      <th>0</th>\n",
       "      <td>african_american</td>\n",
       "      <td>-51.8</td>\n",
       "      <td>-52.7</td>\n",
       "      <td>0.9</td>\n",
       "      <td>172224</td>\n",
       "    </tr>\n",
       "    <tr>\n",
       "      <th>8</th>\n",
       "      <td>foster_youth</td>\n",
       "      <td>-79.2</td>\n",
       "      <td>-80.6</td>\n",
       "      <td>1.4</td>\n",
       "      <td>21073</td>\n",
       "    </tr>\n",
       "    <tr>\n",
       "      <th>5</th>\n",
       "      <td>english_learners_only</td>\n",
       "      <td>-94.1</td>\n",
       "      <td>-96.7</td>\n",
       "      <td>2.6</td>\n",
       "      <td>512680</td>\n",
       "    </tr>\n",
       "    <tr>\n",
       "      <th>15</th>\n",
       "      <td>disabilities</td>\n",
       "      <td>-95.5</td>\n",
       "      <td>-97.6</td>\n",
       "      <td>2.1</td>\n",
       "      <td>398345</td>\n",
       "    </tr>\n",
       "  </tbody>\n",
       "</table>\n",
       "</div>"
      ],
      "text/plain": [
       "             studentgroup  currstatus  priorstatus  change  currdenom\n",
       "3                   asian        62.4         60.5     2.0     293002\n",
       "7                filipino        44.0         41.2     2.7      71139\n",
       "11         multiple_races        28.6         26.3     2.3     118753\n",
       "16                  white        27.7         26.9     0.8     734863\n",
       "6            english_only         6.5          4.6     1.8    1795002\n",
       "13              rfep_only         2.2         -0.4     2.7     488023\n",
       "2            all_students        -6.0         -8.2     2.2    3171704\n",
       "12       pacific_islander       -21.3        -22.0     0.7      14894\n",
       "9                hispanic       -31.3        -34.5     3.2    1738615\n",
       "14              ses_disad       -34.7        -38.7     4.0    1982522\n",
       "1         american_indian       -36.8        -39.1     2.3      16662\n",
       "4        english_learners       -47.1        -50.4     3.3    1000703\n",
       "10         homeless_youth       -51.0        -54.3     3.3     115551\n",
       "0        african_american       -51.8        -52.7     0.9     172224\n",
       "8            foster_youth       -79.2        -80.6     1.4      21073\n",
       "5   english_learners_only       -94.1        -96.7     2.6     512680\n",
       "15           disabilities       -95.5        -97.6     2.1     398345"
      ]
     },
     "execution_count": 108,
     "metadata": {},
     "output_type": "execute_result"
    }
   ],
   "source": [
    "ela_state"
   ]
  },
  {
   "cell_type": "code",
   "execution_count": 109,
   "metadata": {},
   "outputs": [
    {
     "data": {
      "text/html": [
       "<div>\n",
       "<style scoped>\n",
       "    .dataframe tbody tr th:only-of-type {\n",
       "        vertical-align: middle;\n",
       "    }\n",
       "\n",
       "    .dataframe tbody tr th {\n",
       "        vertical-align: top;\n",
       "    }\n",
       "\n",
       "    .dataframe thead th {\n",
       "        text-align: right;\n",
       "    }\n",
       "</style>\n",
       "<table border=\"1\" class=\"dataframe\">\n",
       "  <thead>\n",
       "    <tr style=\"text-align: right;\">\n",
       "      <th></th>\n",
       "      <th>studentgroup</th>\n",
       "      <th>currstatus</th>\n",
       "      <th>priorstatus</th>\n",
       "      <th>change</th>\n",
       "      <th>currdenom</th>\n",
       "    </tr>\n",
       "  </thead>\n",
       "  <tbody>\n",
       "    <tr>\n",
       "      <th>3</th>\n",
       "      <td>asian</td>\n",
       "      <td>56.7</td>\n",
       "      <td>54.3</td>\n",
       "      <td>2.4</td>\n",
       "      <td>293068</td>\n",
       "    </tr>\n",
       "    <tr>\n",
       "      <th>7</th>\n",
       "      <td>filipino</td>\n",
       "      <td>13.1</td>\n",
       "      <td>10.3</td>\n",
       "      <td>2.8</td>\n",
       "      <td>71096</td>\n",
       "    </tr>\n",
       "    <tr>\n",
       "      <th>11</th>\n",
       "      <td>multiple_races</td>\n",
       "      <td>1.9</td>\n",
       "      <td>0.1</td>\n",
       "      <td>1.9</td>\n",
       "      <td>118473</td>\n",
       "    </tr>\n",
       "    <tr>\n",
       "      <th>16</th>\n",
       "      <td>white</td>\n",
       "      <td>-1.0</td>\n",
       "      <td>-1.6</td>\n",
       "      <td>0.6</td>\n",
       "      <td>733213</td>\n",
       "    </tr>\n",
       "    <tr>\n",
       "      <th>6</th>\n",
       "      <td>english_only</td>\n",
       "      <td>-25.2</td>\n",
       "      <td>-26.3</td>\n",
       "      <td>1.1</td>\n",
       "      <td>1790583</td>\n",
       "    </tr>\n",
       "    <tr>\n",
       "      <th>13</th>\n",
       "      <td>rfep_only</td>\n",
       "      <td>-29.7</td>\n",
       "      <td>-31.1</td>\n",
       "      <td>1.4</td>\n",
       "      <td>487555</td>\n",
       "    </tr>\n",
       "    <tr>\n",
       "      <th>2</th>\n",
       "      <td>all_students</td>\n",
       "      <td>-36.4</td>\n",
       "      <td>-37.7</td>\n",
       "      <td>1.3</td>\n",
       "      <td>3166345</td>\n",
       "    </tr>\n",
       "    <tr>\n",
       "      <th>12</th>\n",
       "      <td>pacific_islander</td>\n",
       "      <td>-52.0</td>\n",
       "      <td>-51.3</td>\n",
       "      <td>-0.7</td>\n",
       "      <td>14849</td>\n",
       "    </tr>\n",
       "    <tr>\n",
       "      <th>9</th>\n",
       "      <td>hispanic</td>\n",
       "      <td>-65.8</td>\n",
       "      <td>-67.5</td>\n",
       "      <td>1.7</td>\n",
       "      <td>1735982</td>\n",
       "    </tr>\n",
       "    <tr>\n",
       "      <th>14</th>\n",
       "      <td>ses_disad</td>\n",
       "      <td>-67.4</td>\n",
       "      <td>-69.7</td>\n",
       "      <td>2.3</td>\n",
       "      <td>1978909</td>\n",
       "    </tr>\n",
       "    <tr>\n",
       "      <th>4</th>\n",
       "      <td>english_learners</td>\n",
       "      <td>-69.9</td>\n",
       "      <td>-71.4</td>\n",
       "      <td>1.5</td>\n",
       "      <td>999887</td>\n",
       "    </tr>\n",
       "    <tr>\n",
       "      <th>1</th>\n",
       "      <td>american_indian</td>\n",
       "      <td>-73.0</td>\n",
       "      <td>-72.3</td>\n",
       "      <td>-0.7</td>\n",
       "      <td>16622</td>\n",
       "    </tr>\n",
       "    <tr>\n",
       "      <th>10</th>\n",
       "      <td>homeless_youth</td>\n",
       "      <td>-81.0</td>\n",
       "      <td>-82.6</td>\n",
       "      <td>1.5</td>\n",
       "      <td>115269</td>\n",
       "    </tr>\n",
       "    <tr>\n",
       "      <th>0</th>\n",
       "      <td>african_american</td>\n",
       "      <td>-91.5</td>\n",
       "      <td>-91.6</td>\n",
       "      <td>0.2</td>\n",
       "      <td>171493</td>\n",
       "    </tr>\n",
       "    <tr>\n",
       "      <th>5</th>\n",
       "      <td>english_learners_only</td>\n",
       "      <td>-108.2</td>\n",
       "      <td>-108.7</td>\n",
       "      <td>0.5</td>\n",
       "      <td>512332</td>\n",
       "    </tr>\n",
       "    <tr>\n",
       "      <th>8</th>\n",
       "      <td>foster_youth</td>\n",
       "      <td>-114.0</td>\n",
       "      <td>-113.5</td>\n",
       "      <td>-0.5</td>\n",
       "      <td>20913</td>\n",
       "    </tr>\n",
       "    <tr>\n",
       "      <th>15</th>\n",
       "      <td>disabilities</td>\n",
       "      <td>-125.3</td>\n",
       "      <td>-126.1</td>\n",
       "      <td>0.8</td>\n",
       "      <td>396609</td>\n",
       "    </tr>\n",
       "  </tbody>\n",
       "</table>\n",
       "</div>"
      ],
      "text/plain": [
       "             studentgroup  currstatus  priorstatus  change  currdenom\n",
       "3                   asian        56.7         54.3     2.4     293068\n",
       "7                filipino        13.1         10.3     2.8      71096\n",
       "11         multiple_races         1.9          0.1     1.9     118473\n",
       "16                  white        -1.0         -1.6     0.6     733213\n",
       "6            english_only       -25.2        -26.3     1.1    1790583\n",
       "13              rfep_only       -29.7        -31.1     1.4     487555\n",
       "2            all_students       -36.4        -37.7     1.3    3166345\n",
       "12       pacific_islander       -52.0        -51.3    -0.7      14849\n",
       "9                hispanic       -65.8        -67.5     1.7    1735982\n",
       "14              ses_disad       -67.4        -69.7     2.3    1978909\n",
       "4        english_learners       -69.9        -71.4     1.5     999887\n",
       "1         american_indian       -73.0        -72.3    -0.7      16622\n",
       "10         homeless_youth       -81.0        -82.6     1.5     115269\n",
       "0        african_american       -91.5        -91.6     0.2     171493\n",
       "5   english_learners_only      -108.2       -108.7     0.5     512332\n",
       "8            foster_youth      -114.0       -113.5    -0.5      20913\n",
       "15           disabilities      -125.3       -126.1     0.8     396609"
      ]
     },
     "execution_count": 109,
     "metadata": {},
     "output_type": "execute_result"
    }
   ],
   "source": [
    "math_state"
   ]
  },
  {
   "cell_type": "code",
   "execution_count": 110,
   "metadata": {
    "scrolled": true
   },
   "outputs": [
    {
     "data": {
      "text/html": [
       "<div>\n",
       "<style scoped>\n",
       "    .dataframe tbody tr th:only-of-type {\n",
       "        vertical-align: middle;\n",
       "    }\n",
       "\n",
       "    .dataframe tbody tr th {\n",
       "        vertical-align: top;\n",
       "    }\n",
       "\n",
       "    .dataframe thead th {\n",
       "        text-align: right;\n",
       "    }\n",
       "</style>\n",
       "<table border=\"1\" class=\"dataframe\">\n",
       "  <thead>\n",
       "    <tr style=\"text-align: right;\">\n",
       "      <th></th>\n",
       "      <th>District Code</th>\n",
       "      <th>districtname</th>\n",
       "      <th>studentgroup</th>\n",
       "      <th>ela_currstatus</th>\n",
       "      <th>ela_priorstatus</th>\n",
       "      <th>ela_change</th>\n",
       "    </tr>\n",
       "  </thead>\n",
       "  <tbody>\n",
       "    <tr>\n",
       "      <th>164</th>\n",
       "      <td>61119</td>\n",
       "      <td>Alameda Unified</td>\n",
       "      <td>african_american</td>\n",
       "      <td>-43.0</td>\n",
       "      <td>-48.7</td>\n",
       "      <td>5.7</td>\n",
       "    </tr>\n",
       "    <tr>\n",
       "      <th>165</th>\n",
       "      <td>61119</td>\n",
       "      <td>Alameda Unified</td>\n",
       "      <td>american_indian</td>\n",
       "      <td>-14.8</td>\n",
       "      <td>14.3</td>\n",
       "      <td>-29.1</td>\n",
       "    </tr>\n",
       "    <tr>\n",
       "      <th>166</th>\n",
       "      <td>61119</td>\n",
       "      <td>Alameda Unified</td>\n",
       "      <td>all_students</td>\n",
       "      <td>36.8</td>\n",
       "      <td>32.8</td>\n",
       "      <td>4.0</td>\n",
       "    </tr>\n",
       "    <tr>\n",
       "      <th>167</th>\n",
       "      <td>61119</td>\n",
       "      <td>Alameda Unified</td>\n",
       "      <td>asian</td>\n",
       "      <td>48.6</td>\n",
       "      <td>54.0</td>\n",
       "      <td>-5.3</td>\n",
       "    </tr>\n",
       "    <tr>\n",
       "      <th>168</th>\n",
       "      <td>61119</td>\n",
       "      <td>Alameda Unified</td>\n",
       "      <td>english_learners</td>\n",
       "      <td>-2.5</td>\n",
       "      <td>-1.4</td>\n",
       "      <td>-1.1</td>\n",
       "    </tr>\n",
       "    <tr>\n",
       "      <th>...</th>\n",
       "      <td>...</td>\n",
       "      <td>...</td>\n",
       "      <td>...</td>\n",
       "      <td>...</td>\n",
       "      <td>...</td>\n",
       "      <td>...</td>\n",
       "    </tr>\n",
       "    <tr>\n",
       "      <th>148816</th>\n",
       "      <td>72769</td>\n",
       "      <td>Wheatland Union High</td>\n",
       "      <td>pacific_islander</td>\n",
       "      <td>NaN</td>\n",
       "      <td>NaN</td>\n",
       "      <td>NaN</td>\n",
       "    </tr>\n",
       "    <tr>\n",
       "      <th>148817</th>\n",
       "      <td>72769</td>\n",
       "      <td>Wheatland Union High</td>\n",
       "      <td>rfep_only</td>\n",
       "      <td>NaN</td>\n",
       "      <td>NaN</td>\n",
       "      <td>NaN</td>\n",
       "    </tr>\n",
       "    <tr>\n",
       "      <th>148818</th>\n",
       "      <td>72769</td>\n",
       "      <td>Wheatland Union High</td>\n",
       "      <td>ses_disad</td>\n",
       "      <td>-28.4</td>\n",
       "      <td>-7.9</td>\n",
       "      <td>-20.6</td>\n",
       "    </tr>\n",
       "    <tr>\n",
       "      <th>148819</th>\n",
       "      <td>72769</td>\n",
       "      <td>Wheatland Union High</td>\n",
       "      <td>disabilities</td>\n",
       "      <td>-150.3</td>\n",
       "      <td>NaN</td>\n",
       "      <td>NaN</td>\n",
       "    </tr>\n",
       "    <tr>\n",
       "      <th>148820</th>\n",
       "      <td>72769</td>\n",
       "      <td>Wheatland Union High</td>\n",
       "      <td>white</td>\n",
       "      <td>11.7</td>\n",
       "      <td>14.2</td>\n",
       "      <td>-2.5</td>\n",
       "    </tr>\n",
       "  </tbody>\n",
       "</table>\n",
       "<p>13618 rows × 6 columns</p>\n",
       "</div>"
      ],
      "text/plain": [
       "       District Code          districtname      studentgroup  ela_currstatus  \\\n",
       "164            61119       Alameda Unified  african_american           -43.0   \n",
       "165            61119       Alameda Unified   american_indian           -14.8   \n",
       "166            61119       Alameda Unified      all_students            36.8   \n",
       "167            61119       Alameda Unified             asian            48.6   \n",
       "168            61119       Alameda Unified  english_learners            -2.5   \n",
       "...              ...                   ...               ...             ...   \n",
       "148816         72769  Wheatland Union High  pacific_islander             NaN   \n",
       "148817         72769  Wheatland Union High         rfep_only             NaN   \n",
       "148818         72769  Wheatland Union High         ses_disad           -28.4   \n",
       "148819         72769  Wheatland Union High      disabilities          -150.3   \n",
       "148820         72769  Wheatland Union High             white            11.7   \n",
       "\n",
       "        ela_priorstatus  ela_change  \n",
       "164               -48.7         5.7  \n",
       "165                14.3       -29.1  \n",
       "166                32.8         4.0  \n",
       "167                54.0        -5.3  \n",
       "168                -1.4        -1.1  \n",
       "...                 ...         ...  \n",
       "148816              NaN         NaN  \n",
       "148817              NaN         NaN  \n",
       "148818             -7.9       -20.6  \n",
       "148819              NaN         NaN  \n",
       "148820             14.2        -2.5  \n",
       "\n",
       "[13618 rows x 6 columns]"
      ]
     },
     "execution_count": 110,
     "metadata": {},
     "output_type": "execute_result"
    }
   ],
   "source": [
    "dfe = dfe.rename(columns={'currstatus': 'ela_currstatus',\n",
    "                          'priorstatus': 'ela_priorstatus',\n",
    "                          'change' : 'ela_change'\n",
    "                         })\n",
    "dfe\n",
    "# dataframe english"
   ]
  },
  {
   "cell_type": "code",
   "execution_count": 111,
   "metadata": {
    "scrolled": true
   },
   "outputs": [
    {
     "data": {
      "text/html": [
       "<div>\n",
       "<style scoped>\n",
       "    .dataframe tbody tr th:only-of-type {\n",
       "        vertical-align: middle;\n",
       "    }\n",
       "\n",
       "    .dataframe tbody tr th {\n",
       "        vertical-align: top;\n",
       "    }\n",
       "\n",
       "    .dataframe thead th {\n",
       "        text-align: right;\n",
       "    }\n",
       "</style>\n",
       "<table border=\"1\" class=\"dataframe\">\n",
       "  <thead>\n",
       "    <tr style=\"text-align: right;\">\n",
       "      <th></th>\n",
       "      <th>District Code</th>\n",
       "      <th>districtname</th>\n",
       "      <th>studentgroup</th>\n",
       "      <th>m_currstatus</th>\n",
       "      <th>m_priorstatus</th>\n",
       "      <th>m_change</th>\n",
       "    </tr>\n",
       "  </thead>\n",
       "  <tbody>\n",
       "    <tr>\n",
       "      <th>163</th>\n",
       "      <td>61119</td>\n",
       "      <td>Alameda Unified</td>\n",
       "      <td>african_american</td>\n",
       "      <td>-83.9</td>\n",
       "      <td>-82.8</td>\n",
       "      <td>-1.1</td>\n",
       "    </tr>\n",
       "    <tr>\n",
       "      <th>164</th>\n",
       "      <td>61119</td>\n",
       "      <td>Alameda Unified</td>\n",
       "      <td>american_indian</td>\n",
       "      <td>-51.8</td>\n",
       "      <td>-50.0</td>\n",
       "      <td>-1.8</td>\n",
       "    </tr>\n",
       "    <tr>\n",
       "      <th>165</th>\n",
       "      <td>61119</td>\n",
       "      <td>Alameda Unified</td>\n",
       "      <td>all_students</td>\n",
       "      <td>14.3</td>\n",
       "      <td>10.8</td>\n",
       "      <td>3.4</td>\n",
       "    </tr>\n",
       "    <tr>\n",
       "      <th>166</th>\n",
       "      <td>61119</td>\n",
       "      <td>Alameda Unified</td>\n",
       "      <td>asian</td>\n",
       "      <td>43.6</td>\n",
       "      <td>44.8</td>\n",
       "      <td>-1.2</td>\n",
       "    </tr>\n",
       "    <tr>\n",
       "      <th>167</th>\n",
       "      <td>61119</td>\n",
       "      <td>Alameda Unified</td>\n",
       "      <td>english_learners</td>\n",
       "      <td>-13.7</td>\n",
       "      <td>-12.9</td>\n",
       "      <td>-0.9</td>\n",
       "    </tr>\n",
       "    <tr>\n",
       "      <th>...</th>\n",
       "      <td>...</td>\n",
       "      <td>...</td>\n",
       "      <td>...</td>\n",
       "      <td>...</td>\n",
       "      <td>...</td>\n",
       "      <td>...</td>\n",
       "    </tr>\n",
       "    <tr>\n",
       "      <th>148683</th>\n",
       "      <td>72769</td>\n",
       "      <td>Wheatland Union High</td>\n",
       "      <td>pacific_islander</td>\n",
       "      <td>NaN</td>\n",
       "      <td>NaN</td>\n",
       "      <td>NaN</td>\n",
       "    </tr>\n",
       "    <tr>\n",
       "      <th>148684</th>\n",
       "      <td>72769</td>\n",
       "      <td>Wheatland Union High</td>\n",
       "      <td>rfep_only</td>\n",
       "      <td>NaN</td>\n",
       "      <td>NaN</td>\n",
       "      <td>NaN</td>\n",
       "    </tr>\n",
       "    <tr>\n",
       "      <th>148685</th>\n",
       "      <td>72769</td>\n",
       "      <td>Wheatland Union High</td>\n",
       "      <td>ses_disad</td>\n",
       "      <td>-90.0</td>\n",
       "      <td>-74.0</td>\n",
       "      <td>-16.0</td>\n",
       "    </tr>\n",
       "    <tr>\n",
       "      <th>148686</th>\n",
       "      <td>72769</td>\n",
       "      <td>Wheatland Union High</td>\n",
       "      <td>disabilities</td>\n",
       "      <td>-226.6</td>\n",
       "      <td>NaN</td>\n",
       "      <td>NaN</td>\n",
       "    </tr>\n",
       "    <tr>\n",
       "      <th>148687</th>\n",
       "      <td>72769</td>\n",
       "      <td>Wheatland Union High</td>\n",
       "      <td>white</td>\n",
       "      <td>-42.3</td>\n",
       "      <td>-57.0</td>\n",
       "      <td>14.7</td>\n",
       "    </tr>\n",
       "  </tbody>\n",
       "</table>\n",
       "<p>13603 rows × 6 columns</p>\n",
       "</div>"
      ],
      "text/plain": [
       "       District Code          districtname      studentgroup  m_currstatus  \\\n",
       "163            61119       Alameda Unified  african_american         -83.9   \n",
       "164            61119       Alameda Unified   american_indian         -51.8   \n",
       "165            61119       Alameda Unified      all_students          14.3   \n",
       "166            61119       Alameda Unified             asian          43.6   \n",
       "167            61119       Alameda Unified  english_learners         -13.7   \n",
       "...              ...                   ...               ...           ...   \n",
       "148683         72769  Wheatland Union High  pacific_islander           NaN   \n",
       "148684         72769  Wheatland Union High         rfep_only           NaN   \n",
       "148685         72769  Wheatland Union High         ses_disad         -90.0   \n",
       "148686         72769  Wheatland Union High      disabilities        -226.6   \n",
       "148687         72769  Wheatland Union High             white         -42.3   \n",
       "\n",
       "        m_priorstatus  m_change  \n",
       "163             -82.8      -1.1  \n",
       "164             -50.0      -1.8  \n",
       "165              10.8       3.4  \n",
       "166              44.8      -1.2  \n",
       "167             -12.9      -0.9  \n",
       "...               ...       ...  \n",
       "148683            NaN       NaN  \n",
       "148684            NaN       NaN  \n",
       "148685          -74.0     -16.0  \n",
       "148686            NaN       NaN  \n",
       "148687          -57.0      14.7  \n",
       "\n",
       "[13603 rows x 6 columns]"
      ]
     },
     "execution_count": 111,
     "metadata": {},
     "output_type": "execute_result"
    }
   ],
   "source": [
    "dfm = dfm.rename(columns={'currstatus': 'm_currstatus',\n",
    "                          'priorstatus': 'm_priorstatus',\n",
    "                          'change' : 'm_change'\n",
    "                         })\n",
    "dfm\n",
    "# dataframe math"
   ]
  },
  {
   "cell_type": "markdown",
   "metadata": {},
   "source": [
    "### Merging lcff and frpm (done)"
   ]
  },
  {
   "cell_type": "code",
   "execution_count": 112,
   "metadata": {
    "scrolled": true
   },
   "outputs": [
    {
     "data": {
      "text/plain": [
       "944"
      ]
     },
     "execution_count": 112,
     "metadata": {},
     "output_type": "execute_result"
    }
   ],
   "source": [
    "q1 = dflcff['District Code'].values\n",
    "len(q1)"
   ]
  },
  {
   "cell_type": "code",
   "execution_count": 113,
   "metadata": {
    "scrolled": false
   },
   "outputs": [
    {
     "data": {
      "text/plain": [
       "966"
      ]
     },
     "execution_count": 113,
     "metadata": {},
     "output_type": "execute_result"
    }
   ],
   "source": [
    "q2 = t1['District Code'].values\n",
    "len(q2)"
   ]
  },
  {
   "cell_type": "code",
   "execution_count": 114,
   "metadata": {},
   "outputs": [
    {
     "data": {
      "text/plain": [
       "944"
      ]
     },
     "execution_count": 114,
     "metadata": {},
     "output_type": "execute_result"
    }
   ],
   "source": [
    "s1 = set(dflcff['District Code'])\n",
    "len(s1)"
   ]
  },
  {
   "cell_type": "code",
   "execution_count": 115,
   "metadata": {},
   "outputs": [
    {
     "ename": "NameError",
     "evalue": "name 't6' is not defined",
     "output_type": "error",
     "traceback": [
      "\u001b[1;31m---------------------------------------------------------------------------\u001b[0m",
      "\u001b[1;31mNameError\u001b[0m                                 Traceback (most recent call last)",
      "\u001b[1;32m<ipython-input-115-1314982ac344>\u001b[0m in \u001b[0;36m<module>\u001b[1;34m\u001b[0m\n\u001b[1;32m----> 1\u001b[1;33m \u001b[0ms2\u001b[0m \u001b[1;33m=\u001b[0m \u001b[0mset\u001b[0m\u001b[1;33m(\u001b[0m\u001b[0mt6\u001b[0m\u001b[1;33m[\u001b[0m\u001b[1;34m'District Code'\u001b[0m\u001b[1;33m]\u001b[0m\u001b[1;33m)\u001b[0m\u001b[1;33m\u001b[0m\u001b[1;33m\u001b[0m\u001b[0m\n\u001b[0m",
      "\u001b[1;31mNameError\u001b[0m: name 't6' is not defined"
     ]
    }
   ],
   "source": [
    "s2 = set(t6['District Code'])"
   ]
  },
  {
   "cell_type": "code",
   "execution_count": 116,
   "metadata": {
    "scrolled": true
   },
   "outputs": [
    {
     "ename": "NameError",
     "evalue": "name 's2' is not defined",
     "output_type": "error",
     "traceback": [
      "\u001b[1;31m---------------------------------------------------------------------------\u001b[0m",
      "\u001b[1;31mNameError\u001b[0m                                 Traceback (most recent call last)",
      "\u001b[1;32m<ipython-input-116-eaf0b44cbbf6>\u001b[0m in \u001b[0;36m<module>\u001b[1;34m\u001b[0m\n\u001b[1;32m----> 1\u001b[1;33m \u001b[0ms3\u001b[0m \u001b[1;33m=\u001b[0m \u001b[0ms2\u001b[0m\u001b[1;33m.\u001b[0m\u001b[0mdifference\u001b[0m\u001b[1;33m(\u001b[0m\u001b[0ms1\u001b[0m\u001b[1;33m)\u001b[0m\u001b[1;33m\u001b[0m\u001b[1;33m\u001b[0m\u001b[0m\n\u001b[0m\u001b[0;32m      2\u001b[0m \u001b[0mlen\u001b[0m\u001b[1;33m(\u001b[0m\u001b[0ms3\u001b[0m\u001b[1;33m)\u001b[0m\u001b[1;33m\u001b[0m\u001b[1;33m\u001b[0m\u001b[0m\n",
      "\u001b[1;31mNameError\u001b[0m: name 's2' is not defined"
     ]
    }
   ],
   "source": [
    "s3 = s2.difference(s1)\n",
    "len(s3)"
   ]
  },
  {
   "cell_type": "code",
   "execution_count": 117,
   "metadata": {},
   "outputs": [
    {
     "ename": "NameError",
     "evalue": "name 's2' is not defined",
     "output_type": "error",
     "traceback": [
      "\u001b[1;31m---------------------------------------------------------------------------\u001b[0m",
      "\u001b[1;31mNameError\u001b[0m                                 Traceback (most recent call last)",
      "\u001b[1;32m<ipython-input-117-53ed5154e7bc>\u001b[0m in \u001b[0;36m<module>\u001b[1;34m\u001b[0m\n\u001b[1;32m----> 1\u001b[1;33m \u001b[0ms4\u001b[0m \u001b[1;33m=\u001b[0m \u001b[0ms1\u001b[0m\u001b[1;33m.\u001b[0m\u001b[0mdifference\u001b[0m\u001b[1;33m(\u001b[0m\u001b[0ms2\u001b[0m\u001b[1;33m)\u001b[0m\u001b[1;33m\u001b[0m\u001b[1;33m\u001b[0m\u001b[0m\n\u001b[0m\u001b[0;32m      2\u001b[0m \u001b[0mlen\u001b[0m\u001b[1;33m(\u001b[0m\u001b[0ms4\u001b[0m\u001b[1;33m)\u001b[0m\u001b[1;33m\u001b[0m\u001b[1;33m\u001b[0m\u001b[0m\n",
      "\u001b[1;31mNameError\u001b[0m: name 's2' is not defined"
     ]
    }
   ],
   "source": [
    "s4 = s1.difference(s2)\n",
    "len(s4)"
   ]
  },
  {
   "cell_type": "code",
   "execution_count": 118,
   "metadata": {},
   "outputs": [
    {
     "ename": "NameError",
     "evalue": "name 's4' is not defined",
     "output_type": "error",
     "traceback": [
      "\u001b[1;31m---------------------------------------------------------------------------\u001b[0m",
      "\u001b[1;31mNameError\u001b[0m                                 Traceback (most recent call last)",
      "\u001b[1;32m<ipython-input-118-71b651d034eb>\u001b[0m in \u001b[0;36m<module>\u001b[1;34m\u001b[0m\n\u001b[1;32m----> 1\u001b[1;33m \u001b[0mf1\u001b[0m \u001b[1;33m=\u001b[0m \u001b[0mdflcff\u001b[0m\u001b[1;33m[\u001b[0m\u001b[1;33m~\u001b[0m\u001b[0mdflcff\u001b[0m\u001b[1;33m[\u001b[0m\u001b[1;34m'District Code'\u001b[0m\u001b[1;33m]\u001b[0m\u001b[1;33m.\u001b[0m\u001b[0misin\u001b[0m\u001b[1;33m(\u001b[0m\u001b[0ms4\u001b[0m\u001b[1;33m)\u001b[0m\u001b[1;33m]\u001b[0m\u001b[1;33m\u001b[0m\u001b[1;33m\u001b[0m\u001b[0m\n\u001b[0m\u001b[0;32m      2\u001b[0m \u001b[1;31m# slicing out matches from lcff\u001b[0m\u001b[1;33m\u001b[0m\u001b[1;33m\u001b[0m\u001b[1;33m\u001b[0m\u001b[0m\n\u001b[0;32m      3\u001b[0m \u001b[0mf2\u001b[0m \u001b[1;33m=\u001b[0m \u001b[0mt1\u001b[0m\u001b[1;33m[\u001b[0m\u001b[1;33m~\u001b[0m\u001b[0mt1\u001b[0m\u001b[1;33m[\u001b[0m\u001b[1;34m'District Code'\u001b[0m\u001b[1;33m]\u001b[0m\u001b[1;33m.\u001b[0m\u001b[0misin\u001b[0m\u001b[1;33m(\u001b[0m\u001b[0ms3\u001b[0m\u001b[1;33m)\u001b[0m\u001b[1;33m]\u001b[0m\u001b[1;33m\u001b[0m\u001b[1;33m\u001b[0m\u001b[0m\n\u001b[0;32m      4\u001b[0m \u001b[1;31m# slicing out matches from frpm\u001b[0m\u001b[1;33m\u001b[0m\u001b[1;33m\u001b[0m\u001b[1;33m\u001b[0m\u001b[0m\n\u001b[0;32m      5\u001b[0m \u001b[0mdf2\u001b[0m \u001b[1;33m=\u001b[0m \u001b[0mf1\u001b[0m\u001b[1;33m.\u001b[0m\u001b[0mmerge\u001b[0m\u001b[1;33m(\u001b[0m\u001b[0mf2\u001b[0m\u001b[1;33m,\u001b[0m \u001b[0mon\u001b[0m\u001b[1;33m=\u001b[0m\u001b[1;34m'District Code'\u001b[0m\u001b[1;33m)\u001b[0m\u001b[1;33m\u001b[0m\u001b[1;33m\u001b[0m\u001b[0m\n",
      "\u001b[1;31mNameError\u001b[0m: name 's4' is not defined"
     ]
    }
   ],
   "source": [
    "f1 = dflcff[~dflcff['District Code'].isin(s4)]\n",
    "# slicing out matches from lcff\n",
    "f2 = t1[~t1['District Code'].isin(s3)]\n",
    "# slicing out matches from frpm\n",
    "df2 = f1.merge(f2, on='District Code')\n",
    "# merging lcff and frpm\n",
    "df2 = df2.merge(adistricts, how='left', left_on='district_name', right_on='NAME')\n",
    "df2 = geopandas.GeoDataFrame(df2)\n",
    "# merging with geometries, converting to geodataframe"
   ]
  },
  {
   "cell_type": "code",
   "execution_count": 119,
   "metadata": {},
   "outputs": [
    {
     "ename": "NameError",
     "evalue": "name 'df2' is not defined",
     "output_type": "error",
     "traceback": [
      "\u001b[1;31m---------------------------------------------------------------------------\u001b[0m",
      "\u001b[1;31mNameError\u001b[0m                                 Traceback (most recent call last)",
      "\u001b[1;32m<ipython-input-119-1ad5c12daf2d>\u001b[0m in \u001b[0;36m<module>\u001b[1;34m\u001b[0m\n\u001b[1;32m----> 1\u001b[1;33m \u001b[0mdf2\u001b[0m\u001b[1;33m\u001b[0m\u001b[1;33m\u001b[0m\u001b[0m\n\u001b[0m\u001b[0;32m      2\u001b[0m \u001b[1;31m# need to clean this if we're going to use it\u001b[0m\u001b[1;33m\u001b[0m\u001b[1;33m\u001b[0m\u001b[1;33m\u001b[0m\u001b[0m\n\u001b[0;32m      3\u001b[0m \u001b[1;31m# have lcff and frpm as two geodataframes above\u001b[0m\u001b[1;33m\u001b[0m\u001b[1;33m\u001b[0m\u001b[1;33m\u001b[0m\u001b[0m\n",
      "\u001b[1;31mNameError\u001b[0m: name 'df2' is not defined"
     ]
    }
   ],
   "source": [
    "df2\n",
    "# need to clean this if we're going to use it\n",
    "# have lcff and frpm as two geodataframes above"
   ]
  },
  {
   "cell_type": "code",
   "execution_count": 120,
   "metadata": {
    "scrolled": false
   },
   "outputs": [
    {
     "ename": "NameError",
     "evalue": "name 'df2' is not defined",
     "output_type": "error",
     "traceback": [
      "\u001b[1;31m---------------------------------------------------------------------------\u001b[0m",
      "\u001b[1;31mNameError\u001b[0m                                 Traceback (most recent call last)",
      "\u001b[1;32m<ipython-input-120-2a1c0795cc48>\u001b[0m in \u001b[0;36m<module>\u001b[1;34m\u001b[0m\n\u001b[1;32m----> 1\u001b[1;33m df2.plot(\n\u001b[0m\u001b[0;32m      2\u001b[0m     \u001b[0mcolumn\u001b[0m\u001b[1;33m=\u001b[0m\u001b[1;34m'base_grant'\u001b[0m\u001b[1;33m,\u001b[0m\u001b[1;33m\u001b[0m\u001b[1;33m\u001b[0m\u001b[0m\n\u001b[0;32m      3\u001b[0m     \u001b[0mlegend\u001b[0m\u001b[1;33m=\u001b[0m\u001b[1;32mTrue\u001b[0m\u001b[1;33m,\u001b[0m\u001b[1;33m\u001b[0m\u001b[1;33m\u001b[0m\u001b[0m\n\u001b[0;32m      4\u001b[0m     \u001b[0mfigsize\u001b[0m\u001b[1;33m=\u001b[0m\u001b[1;33m(\u001b[0m\u001b[1;36m15\u001b[0m\u001b[1;33m,\u001b[0m \u001b[1;36m15\u001b[0m\u001b[1;33m)\u001b[0m\u001b[1;33m,\u001b[0m\u001b[1;33m\u001b[0m\u001b[1;33m\u001b[0m\u001b[0m\n\u001b[0;32m      5\u001b[0m     \u001b[0mscheme\u001b[0m\u001b[1;33m=\u001b[0m\u001b[1;34m\"quantiles\"\u001b[0m\u001b[1;33m\u001b[0m\u001b[1;33m\u001b[0m\u001b[0m\n",
      "\u001b[1;31mNameError\u001b[0m: name 'df2' is not defined"
     ]
    }
   ],
   "source": [
    "df2.plot(\n",
    "    column='base_grant',\n",
    "    legend=True,\n",
    "    figsize=(15, 15),\n",
    "    scheme=\"quantiles\"\n",
    "        )"
   ]
  },
  {
   "cell_type": "markdown",
   "metadata": {},
   "source": [
    "# WORKING CELLS: performance"
   ]
  },
  {
   "cell_type": "code",
   "execution_count": null,
   "metadata": {
    "scrolled": false
   },
   "outputs": [],
   "source": [
    "dfe2 = dfe[dfe['District Code'] !='70318']\n",
    "dfe2\n",
    "# inherent problem: after dropping extra district, still 5 extra rows?"
   ]
  },
  {
   "cell_type": "code",
   "execution_count": null,
   "metadata": {
    "scrolled": false
   },
   "outputs": [],
   "source": [
    "dfm.shape"
   ]
  },
  {
   "cell_type": "code",
   "execution_count": null,
   "metadata": {},
   "outputs": [],
   "source": [
    "dfe.head(50)"
   ]
  },
  {
   "cell_type": "code",
   "execution_count": null,
   "metadata": {
    "scrolled": true
   },
   "outputs": [],
   "source": [
    "dfe2 = dfe\n",
    "dfe2"
   ]
  },
  {
   "cell_type": "code",
   "execution_count": null,
   "metadata": {
    "scrolled": true
   },
   "outputs": [],
   "source": [
    "# Create a variable\n",
    "mscore = []\n",
    "\n",
    "\n",
    "for row in dfm['District Code'], dfm['studentgroup']:\n",
    "    mscore.append(row)\n",
    "\n",
    "\n",
    "dfe2['m_currstatus'] = mscore\n",
    "\n",
    "# View the dataframe\n",
    "dfe2\n",
    "\n",
    "# cannot add (ignore index=True) to append line"
   ]
  },
  {
   "cell_type": "code",
   "execution_count": null,
   "metadata": {},
   "outputs": [],
   "source": []
  },
  {
   "cell_type": "code",
   "execution_count": null,
   "metadata": {},
   "outputs": [],
   "source": [
    "pdict = {}"
   ]
  },
  {
   "cell_type": "code",
   "execution_count": null,
   "metadata": {
    "scrolled": true
   },
   "outputs": [],
   "source": [
    "values = dfm.values\n",
    "keys = mkey\n",
    "for i in keys:\n",
    "    for x in values:\n",
    "        pdict[i] = x\n",
    "pdict"
   ]
  },
  {
   "cell_type": "code",
   "execution_count": null,
   "metadata": {},
   "outputs": [],
   "source": [
    "# Can I use the codes and groups to merge onto original dfe dataframe?\n",
    "mdist = dfm['District Code']\n",
    "mgroup = dfm['studentgroup']\n",
    "mscore = dfm['m_currstatus']\n",
    "mprio = dfm['m_priorstatus']\n",
    "mchange = dfm['m_change']\n",
    "mscores = list(zip(mdist, mgroup, mscore, mprio, mchange))\n",
    "mscores"
   ]
  },
  {
   "cell_type": "code",
   "execution_count": null,
   "metadata": {
    "scrolled": true
   },
   "outputs": [],
   "source": [
    "edist = dfe['District Code']\n",
    "egroup = dfe['studentgroup']\n",
    "escore = dfe['ela_currstatus']\n",
    "eprio = dfe['ela_priorstatus']\n",
    "echange = dfe['ela_change']\n",
    "escores = list(zip(edist, egroup, escore, eprio, echange))\n",
    "escores"
   ]
  },
  {
   "cell_type": "code",
   "execution_count": null,
   "metadata": {},
   "outputs": [],
   "source": [
    "result = pandas.merge([escores, mscores], right=edist, sort=False)"
   ]
  },
  {
   "cell_type": "code",
   "execution_count": null,
   "metadata": {
    "scrolled": true
   },
   "outputs": [],
   "source": [
    "scores = []\n",
    "for row in dfm['m_currsrtatus']:\n",
    "    scores.append(ignore_index=True)\n",
    "    \n",
    "dfe['m_currstatus'] = scores\n",
    "dfe"
   ]
  },
  {
   "cell_type": "code",
   "execution_count": null,
   "metadata": {
    "scrolled": true
   },
   "outputs": [],
   "source": [
    "test = dfe.append(dfm, ignore_index=True)"
   ]
  },
  {
   "cell_type": "code",
   "execution_count": null,
   "metadata": {
    "scrolled": true
   },
   "outputs": [],
   "source": [
    "s3 = dfe.combine_first(dfm)\n",
    "s3.head(200)"
   ]
  },
  {
   "cell_type": "code",
   "execution_count": null,
   "metadata": {
    "scrolled": true
   },
   "outputs": [],
   "source": [
    "dfe"
   ]
  },
  {
   "cell_type": "code",
   "execution_count": null,
   "metadata": {},
   "outputs": [],
   "source": [
    "mscores = dfm.districtname, dfm.studentgroup, dfm.m_currstatus, dfm.m_priorstatus, dfm.m_change\n",
    "mscores"
   ]
  },
  {
   "cell_type": "code",
   "execution_count": null,
   "metadata": {},
   "outputs": [],
   "source": [
    "s2 = pandas.concat([dfe, dfm],\n",
    "                   levels=[['studentgroup', 'districtname']],\n",
    "                   axis=1)\n",
    "s2"
   ]
  },
  {
   "cell_type": "code",
   "execution_count": null,
   "metadata": {
    "scrolled": false
   },
   "outputs": [],
   "source": [
    "s2 = pandas.concat([dfe, mscores],\n",
    "                   axis=1,\n",
    "                   levels=[['districtname', 'studentgroup',]],\n",
    "                   ignore_index=True)\n",
    "s2"
   ]
  },
  {
   "cell_type": "code",
   "execution_count": null,
   "metadata": {},
   "outputs": [],
   "source": [
    "s1 = pandas.merge(dfe, dfm, how='inner', \n",
    "                  on=['District Code'], \n",
    "                  right_index=True)"
   ]
  },
  {
   "cell_type": "code",
   "execution_count": null,
   "metadata": {
    "scrolled": false
   },
   "outputs": [],
   "source": [
    "s1\n",
    "# english groups got messed up here"
   ]
  },
  {
   "cell_type": "code",
   "execution_count": null,
   "metadata": {},
   "outputs": [],
   "source": [
    "s1.drop('districtname_y', axis=1, inplace=True)\n",
    "s1.drop('studentgroup_y', axis=1, inplace=True)\n",
    "s1 = s1.rename(columns={'districtname_x': 'districtname',\n",
    "                          'studentgroup_x': 'studentgroup',\n",
    "                        })"
   ]
  },
  {
   "cell_type": "code",
   "execution_count": null,
   "metadata": {
    "scrolled": true
   },
   "outputs": [],
   "source": [
    "s2 = pandas.merge(s1, dflcff, how='left', on=['District Code'])\n",
    "s2\n",
    "# probably a better way to do this"
   ]
  },
  {
   "cell_type": "code",
   "execution_count": null,
   "metadata": {},
   "outputs": [],
   "source": [
    "len(elat)"
   ]
  },
  {
   "cell_type": "code",
   "execution_count": null,
   "metadata": {},
   "outputs": [],
   "source": [
    "len(matht)"
   ]
  },
  {
   "cell_type": "code",
   "execution_count": null,
   "metadata": {
    "scrolled": true
   },
   "outputs": [],
   "source": [
    "dflcff['District Code'].drop(, inplace=True)\n",
    "dflcff"
   ]
  },
  {
   "cell_type": "code",
   "execution_count": null,
   "metadata": {},
   "outputs": [],
   "source": []
  },
  {
   "cell_type": "markdown",
   "metadata": {},
   "source": [
    "trying to make dictionary - this approach would require 34 dictionaries - 1 for every student group (17) in each subject (2: ela, math)"
   ]
  },
  {
   "cell_type": "code",
   "execution_count": null,
   "metadata": {
    "scrolled": true
   },
   "outputs": [],
   "source": [
    "# Create an empty list \n",
    "Row_list =[] \n",
    "  \n",
    "# Iterate over each row \n",
    "for index, rows in ela.iterrows(): \n",
    "    # Create list for the current row \n",
    "    my_list = [rows.studentgroup, rows.currstatus, rows.priorstatus, rows.change, rows.currdenom] \n",
    "      \n",
    "    # append the list to the final list \n",
    "    Row_list.append(my_list) \n",
    "\n",
    "    \n",
    "Row_list"
   ]
  },
  {
   "cell_type": "code",
   "execution_count": null,
   "metadata": {
    "scrolled": true
   },
   "outputs": [],
   "source": [
    "pdict = dict(zip(ela.countyname, Row_list))\n",
    "print(pdict)\n",
    "# closer! only got one student group"
   ]
  },
  {
   "cell_type": "code",
   "execution_count": null,
   "metadata": {
    "scrolled": true
   },
   "outputs": [],
   "source": [
    "district_list = []\n",
    "for index, rows in ela.iterrows():\n",
    "    a_list = [rows.districtname]\n",
    "    district_list.append(a_list)\n",
    "    \n",
    "district_list"
   ]
  },
  {
   "cell_type": "code",
   "execution_count": null,
   "metadata": {},
   "outputs": [],
   "source": [
    "districts"
   ]
  },
  {
   "cell_type": "code",
   "execution_count": null,
   "metadata": {
    "scrolled": false
   },
   "outputs": [],
   "source": [
    "pdict ={} \n",
    "for key in districts: \n",
    "    for value in Row: \n",
    "        pdict[key] = value \n",
    "        Row.remove(value) \n",
    "        break  "
   ]
  },
  {
   "cell_type": "code",
   "execution_count": null,
   "metadata": {},
   "outputs": [],
   "source": [
    "dflcff.drop(s3, inplace=True)\n",
    "dflcff"
   ]
  },
  {
   "cell_type": "markdown",
   "metadata": {},
   "source": [
    "### play cells"
   ]
  },
  {
   "cell_type": "code",
   "execution_count": null,
   "metadata": {
    "scrolled": true
   },
   "outputs": [],
   "source": [
    "i = ela.loc[ela['rtype'] == 'S']\n",
    "o = i = pandas.concat([i.pop(x) for x in ['schoolname', \n",
    "                                      'cds']],\n",
    "                  1)\n",
    "o\n",
    "# had to check this school's cds code to validate with another dataset"
   ]
  },
  {
   "cell_type": "code",
   "execution_count": null,
   "metadata": {},
   "outputs": [],
   "source": [
    "mlist = []\n",
    "for group in dfm['District Code']:\n",
    "    mlist.append(dfm.studentgroup)\n",
    "    for group in dfm['studentgroup']:\n",
    "        mlist.append(dfm.m_currstatus)\n",
    "mlist"
   ]
  },
  {
   "cell_type": "code",
   "execution_count": null,
   "metadata": {},
   "outputs": [],
   "source": [
    "dfmm = dfm\n",
    "dfm1 = pandas.concat([dfmm.pop(x) for x in ['District Code',\n",
    "                                           'studentgroup',\n",
    "                                           'currstatus',\n",
    "                                           'priorstatus',\n",
    "                                           'change',\n",
    "                                          ]])"
   ]
  },
  {
   "cell_type": "markdown",
   "metadata": {},
   "source": [
    "# Census Data\n",
    "\n",
    "#### SCAG counties and their FIPS codes:\n",
    "<br> Los Angeles (06037)<br> Orange (06059)<br> Riverside (06065)<br> San Bernardino (06071)<br> San Diego (06073)<br>Imperial (06025)<br> Ventura (06111)"
   ]
  },
  {
   "cell_type": "code",
   "execution_count": 379,
   "metadata": {},
   "outputs": [
    {
     "ename": "TypeError",
     "evalue": "'list' object is not callable",
     "output_type": "error",
     "traceback": [
      "\u001b[1;31m---------------------------------------------------------------------------\u001b[0m",
      "\u001b[1;31mTypeError\u001b[0m                                 Traceback (most recent call last)",
      "\u001b[1;32m<ipython-input-379-bc1ac35639e8>\u001b[0m in \u001b[0;36m<module>\u001b[1;34m\u001b[0m\n\u001b[1;32m----> 1\u001b[1;33m \u001b[0mca\u001b[0m \u001b[1;33m=\u001b[0m \u001b[0mCommunity\u001b[0m\u001b[1;33m.\u001b[0m\u001b[0mfrom_census\u001b[0m\u001b[1;33m(\u001b[0m\u001b[0mstate_fips\u001b[0m\u001b[1;33m=\u001b[0m\u001b[1;34m'06'\u001b[0m\u001b[1;33m)\u001b[0m\u001b[1;33m\u001b[0m\u001b[1;33m\u001b[0m\u001b[0m\n\u001b[0m",
      "\u001b[1;32m~\\Anaconda2\\envs\\capstone\\lib\\site-packages\\geosnap\\_community.py\u001b[0m in \u001b[0;36mfrom_census\u001b[1;34m(cls, state_fips, county_fips, msa_fips, fips, boundary, years)\u001b[0m\n\u001b[0;32m    626\u001b[0m \u001b[1;33m\u001b[0m\u001b[0m\n\u001b[0;32m    627\u001b[0m         df_dict = {\n\u001b[1;32m--> 628\u001b[1;33m             \u001b[1;36m1990\u001b[0m\u001b[1;33m:\u001b[0m \u001b[0mdatasets\u001b[0m\u001b[1;33m.\u001b[0m\u001b[0mtracts_1990\u001b[0m\u001b[1;33m(\u001b[0m\u001b[0mstates\u001b[0m\u001b[1;33m=\u001b[0m\u001b[0mstates\u001b[0m\u001b[1;33m)\u001b[0m\u001b[1;33m,\u001b[0m\u001b[1;33m\u001b[0m\u001b[1;33m\u001b[0m\u001b[0m\n\u001b[0m\u001b[0;32m    629\u001b[0m             \u001b[1;36m2000\u001b[0m\u001b[1;33m:\u001b[0m \u001b[0mdatasets\u001b[0m\u001b[1;33m.\u001b[0m\u001b[0mtracts_2000\u001b[0m\u001b[1;33m(\u001b[0m\u001b[0mstates\u001b[0m\u001b[1;33m=\u001b[0m\u001b[0mstates\u001b[0m\u001b[1;33m)\u001b[0m\u001b[1;33m,\u001b[0m\u001b[1;33m\u001b[0m\u001b[1;33m\u001b[0m\u001b[0m\n\u001b[0;32m    630\u001b[0m             \u001b[1;36m2010\u001b[0m\u001b[1;33m:\u001b[0m \u001b[0mdatasets\u001b[0m\u001b[1;33m.\u001b[0m\u001b[0mtracts_2010\u001b[0m\u001b[1;33m(\u001b[0m\u001b[0mstates\u001b[0m\u001b[1;33m=\u001b[0m\u001b[0mstates\u001b[0m\u001b[1;33m)\u001b[0m\u001b[1;33m,\u001b[0m\u001b[1;33m\u001b[0m\u001b[1;33m\u001b[0m\u001b[0m\n",
      "\u001b[1;32m~\\Anaconda2\\envs\\capstone\\lib\\site-packages\\geosnap\\_data.py\u001b[0m in \u001b[0;36mtracts_1990\u001b[1;34m(self, states, convert)\u001b[0m\n\u001b[0;32m    290\u001b[0m \u001b[1;33m\u001b[0m\u001b[0m\n\u001b[0;32m    291\u001b[0m         \"\"\"\n\u001b[1;32m--> 292\u001b[1;33m         \u001b[0mt\u001b[0m \u001b[1;33m=\u001b[0m \u001b[0mself\u001b[0m\u001b[1;33m.\u001b[0m\u001b[0mtracts_cartographic\u001b[0m\u001b[1;33m[\u001b[0m\u001b[1;34m\"tracts_1990_500k.parquet\"\u001b[0m\u001b[1;33m]\u001b[0m\u001b[1;33m(\u001b[0m\u001b[1;33m)\u001b[0m\u001b[1;33m\u001b[0m\u001b[1;33m\u001b[0m\u001b[0m\n\u001b[0m\u001b[0;32m    293\u001b[0m         \u001b[1;32mif\u001b[0m \u001b[0mstates\u001b[0m\u001b[1;33m:\u001b[0m\u001b[1;33m\u001b[0m\u001b[1;33m\u001b[0m\u001b[0m\n\u001b[0;32m    294\u001b[0m             \u001b[0mt\u001b[0m \u001b[1;33m=\u001b[0m \u001b[0mt\u001b[0m\u001b[1;33m[\u001b[0m\u001b[0mt\u001b[0m\u001b[1;33m.\u001b[0m\u001b[0mgeoid\u001b[0m\u001b[1;33m.\u001b[0m\u001b[0mstr\u001b[0m\u001b[1;33m[\u001b[0m\u001b[1;33m:\u001b[0m\u001b[1;36m2\u001b[0m\u001b[1;33m]\u001b[0m\u001b[1;33m.\u001b[0m\u001b[0misin\u001b[0m\u001b[1;33m(\u001b[0m\u001b[0mstates\u001b[0m\u001b[1;33m)\u001b[0m\u001b[1;33m]\u001b[0m\u001b[1;33m\u001b[0m\u001b[1;33m\u001b[0m\u001b[0m\n",
      "\u001b[1;32m~\\Anaconda2\\envs\\capstone\\lib\\site-packages\\quilt3\\packages.py\u001b[0m in \u001b[0;36m__call__\u001b[1;34m(self, func, **kwargs)\u001b[0m\n\u001b[0;32m    296\u001b[0m         \u001b[0mShorthand\u001b[0m \u001b[1;32mfor\u001b[0m \u001b[0mself\u001b[0m\u001b[1;33m.\u001b[0m\u001b[0mdeserialize\u001b[0m\u001b[1;33m(\u001b[0m\u001b[1;33m)\u001b[0m\u001b[1;33m\u001b[0m\u001b[1;33m\u001b[0m\u001b[0m\n\u001b[0;32m    297\u001b[0m         \"\"\"\n\u001b[1;32m--> 298\u001b[1;33m         \u001b[1;32mreturn\u001b[0m \u001b[0mself\u001b[0m\u001b[1;33m.\u001b[0m\u001b[0mdeserialize\u001b[0m\u001b[1;33m(\u001b[0m\u001b[0mfunc\u001b[0m\u001b[1;33m=\u001b[0m\u001b[0mfunc\u001b[0m\u001b[1;33m,\u001b[0m \u001b[1;33m**\u001b[0m\u001b[0mkwargs\u001b[0m\u001b[1;33m)\u001b[0m\u001b[1;33m\u001b[0m\u001b[1;33m\u001b[0m\u001b[0m\n\u001b[0m\u001b[0;32m    299\u001b[0m \u001b[1;33m\u001b[0m\u001b[0m\n\u001b[0;32m    300\u001b[0m     \u001b[1;32mdef\u001b[0m \u001b[0mwith_physical_key\u001b[0m\u001b[1;33m(\u001b[0m\u001b[0mself\u001b[0m\u001b[1;33m,\u001b[0m \u001b[0mkey\u001b[0m\u001b[1;33m)\u001b[0m\u001b[1;33m:\u001b[0m\u001b[1;33m\u001b[0m\u001b[1;33m\u001b[0m\u001b[0m\n",
      "\u001b[1;32m~\\Anaconda2\\envs\\capstone\\lib\\site-packages\\quilt3\\packages.py\u001b[0m in \u001b[0;36mdeserialize\u001b[1;34m(self, func, **format_opts)\u001b[0m\n\u001b[0;32m    266\u001b[0m         \u001b[0mself\u001b[0m\u001b[1;33m.\u001b[0m\u001b[0m_verify_hash\u001b[0m\u001b[1;33m(\u001b[0m\u001b[0mdata\u001b[0m\u001b[1;33m)\u001b[0m\u001b[1;33m\u001b[0m\u001b[1;33m\u001b[0m\u001b[0m\n\u001b[0;32m    267\u001b[0m \u001b[1;33m\u001b[0m\u001b[0m\n\u001b[1;32m--> 268\u001b[1;33m         \u001b[1;32mreturn\u001b[0m \u001b[0mformats\u001b[0m\u001b[1;33m[\u001b[0m\u001b[1;36m0\u001b[0m\u001b[1;33m]\u001b[0m\u001b[1;33m.\u001b[0m\u001b[0mdeserialize\u001b[0m\u001b[1;33m(\u001b[0m\u001b[0mdata\u001b[0m\u001b[1;33m,\u001b[0m \u001b[0mself\u001b[0m\u001b[1;33m.\u001b[0m\u001b[0m_meta\u001b[0m\u001b[1;33m,\u001b[0m \u001b[0mpkey_ext\u001b[0m\u001b[1;33m,\u001b[0m \u001b[1;33m**\u001b[0m\u001b[0mformat_opts\u001b[0m\u001b[1;33m)\u001b[0m\u001b[1;33m\u001b[0m\u001b[1;33m\u001b[0m\u001b[0m\n\u001b[0m\u001b[0;32m    269\u001b[0m \u001b[1;33m\u001b[0m\u001b[0m\n\u001b[0;32m    270\u001b[0m     \u001b[1;32mdef\u001b[0m \u001b[0mfetch\u001b[0m\u001b[1;33m(\u001b[0m\u001b[0mself\u001b[0m\u001b[1;33m,\u001b[0m \u001b[0mdest\u001b[0m\u001b[1;33m=\u001b[0m\u001b[1;32mNone\u001b[0m\u001b[1;33m)\u001b[0m\u001b[1;33m:\u001b[0m\u001b[1;33m\u001b[0m\u001b[1;33m\u001b[0m\u001b[0m\n",
      "\u001b[1;32m~\\Anaconda2\\envs\\capstone\\lib\\site-packages\\quilt3\\formats.py\u001b[0m in \u001b[0;36mdeserialize\u001b[1;34m(self, bytes_obj, meta, ext, **format_opts)\u001b[0m\n\u001b[0;32m   1011\u001b[0m         \u001b[0mtable\u001b[0m \u001b[1;33m=\u001b[0m \u001b[0mparquet\u001b[0m\u001b[1;33m.\u001b[0m\u001b[0mread_table\u001b[0m\u001b[1;33m(\u001b[0m\u001b[0mbuf\u001b[0m\u001b[1;33m)\u001b[0m\u001b[1;33m\u001b[0m\u001b[1;33m\u001b[0m\u001b[0m\n\u001b[0;32m   1012\u001b[0m         \u001b[1;32mtry\u001b[0m\u001b[1;33m:\u001b[0m\u001b[1;33m\u001b[0m\u001b[1;33m\u001b[0m\u001b[0m\n\u001b[1;32m-> 1013\u001b[1;33m             \u001b[0mobj\u001b[0m \u001b[1;33m=\u001b[0m \u001b[0mpa\u001b[0m\u001b[1;33m.\u001b[0m\u001b[0mTable\u001b[0m\u001b[1;33m.\u001b[0m\u001b[0mto_pandas\u001b[0m\u001b[1;33m(\u001b[0m\u001b[0mtable\u001b[0m\u001b[1;33m)\u001b[0m\u001b[1;33m\u001b[0m\u001b[1;33m\u001b[0m\u001b[0m\n\u001b[0m\u001b[0;32m   1014\u001b[0m         \u001b[1;32mexcept\u001b[0m \u001b[1;33m(\u001b[0m\u001b[0mAssertionError\u001b[0m\u001b[1;33m,\u001b[0m \u001b[0mKeyError\u001b[0m\u001b[1;33m)\u001b[0m\u001b[1;33m:\u001b[0m\u001b[1;33m\u001b[0m\u001b[1;33m\u001b[0m\u001b[0m\n\u001b[0;32m   1015\u001b[0m             \u001b[1;31m# Try again to convert the table after removing\u001b[0m\u001b[1;33m\u001b[0m\u001b[1;33m\u001b[0m\u001b[1;33m\u001b[0m\u001b[0m\n",
      "\u001b[1;32m~\\Anaconda2\\envs\\capstone\\lib\\site-packages\\pyarrow\\array.pxi\u001b[0m in \u001b[0;36mpyarrow.lib._PandasConvertible.to_pandas\u001b[1;34m()\u001b[0m\n",
      "\u001b[1;32m~\\Anaconda2\\envs\\capstone\\lib\\site-packages\\pyarrow\\table.pxi\u001b[0m in \u001b[0;36mpyarrow.lib.Table._to_pandas\u001b[1;34m()\u001b[0m\n",
      "\u001b[1;32m~\\Anaconda2\\envs\\capstone\\lib\\site-packages\\pyarrow\\pandas-shim.pxi\u001b[0m in \u001b[0;36mpyarrow.lib._PandasAPIShim.data_frame\u001b[1;34m()\u001b[0m\n",
      "\u001b[1;31mTypeError\u001b[0m: 'list' object is not callable"
     ]
    }
   ],
   "source": [
    "ca = Community.from_census(state_fips='06')"
   ]
  },
  {
   "cell_type": "code",
   "execution_count": null,
   "metadata": {
    "scrolled": true
   },
   "outputs": [],
   "source": [
    "cacom.gdf.shape"
   ]
  },
  {
   "cell_type": "code",
   "execution_count": null,
   "metadata": {},
   "outputs": [],
   "source": [
    "cacom.gdf['county'] = cacom.gdf.geoid.str[:5]\n",
    "# create counties variable"
   ]
  },
  {
   "cell_type": "code",
   "execution_count": null,
   "metadata": {},
   "outputs": [],
   "source": [
    "cacom.gdf.groupby(by='county').sum()"
   ]
  },
  {
   "cell_type": "code",
   "execution_count": null,
   "metadata": {},
   "outputs": [],
   "source": [
    "cacom.gdf.plot(\n",
    "    column='median_household_income',\n",
    "    legend=True,\n",
    "    figsize=(15, 15),\n",
    "    scheme=\"quantiles\"\n",
    "        )"
   ]
  },
  {
   "cell_type": "code",
   "execution_count": null,
   "metadata": {
    "scrolled": false
   },
   "outputs": [],
   "source": [
    "plot(cacom, 'median_household_income')"
   ]
  },
  {
   "cell_type": "code",
   "execution_count": null,
   "metadata": {
    "scrolled": false
   },
   "outputs": [],
   "source": [
    "scag = Community.from_census(county_fips=['06025', '06037', '06059', '06071', '06111', '06073', '06065'])"
   ]
  },
  {
   "cell_type": "code",
   "execution_count": null,
   "metadata": {},
   "outputs": [],
   "source": [
    "scag.gdf.plot(\n",
    "    column = 'median_household_income'\n",
    "            )"
   ]
  },
  {
   "cell_type": "code",
   "execution_count": null,
   "metadata": {
    "scrolled": true
   },
   "outputs": [],
   "source": [
    "rivco = Community.from_census(county_fips=['06065'])"
   ]
  },
  {
   "cell_type": "code",
   "execution_count": null,
   "metadata": {},
   "outputs": [],
   "source": [
    "orangeco = Community.from_census(county_fips=['06059'])"
   ]
  },
  {
   "cell_type": "code",
   "execution_count": null,
   "metadata": {},
   "outputs": [],
   "source": [
    "laco = Community.from_census(county_fips=['06037'])"
   ]
  },
  {
   "cell_type": "code",
   "execution_count": null,
   "metadata": {},
   "outputs": [],
   "source": [
    "sbco = Community.from_census(county_fips=['06071'])"
   ]
  },
  {
   "cell_type": "code",
   "execution_count": null,
   "metadata": {},
   "outputs": [],
   "source": [
    "sdco = Community.from_census(county_fips=['06073'])"
   ]
  },
  {
   "cell_type": "code",
   "execution_count": null,
   "metadata": {
    "scrolled": true
   },
   "outputs": [],
   "source": [
    "f, ax = plt.subplots(1, figsize=(30, 30))\n",
    "ax = rivco.gdf[rivco.gdf.year==2010].plot('p_poverty_rate_over_65', axes=ax)\n",
    "plt.show()\n",
    "\n",
    "# change gdf, variable, and year"
   ]
  },
  {
   "cell_type": "markdown",
   "metadata": {},
   "source": [
    "### This 'plot' function will produce three maps, one from each of the census data years. We can use it to pass in communities and a specific variable to provide a preliminary view of changes over 30 years."
   ]
  },
  {
   "cell_type": "code",
   "execution_count": null,
   "metadata": {},
   "outputs": [],
   "source": [
    "def plot(community, column):\n",
    "    fig, axs = plt.subplots(1,3, figsize=(20,20))\n",
    "    axs=axs.flatten()\n",
    "    \n",
    "    community.gdf[community.gdf.year==1990].dropna(subset=[column]).plot(column=column, scheme='quantiles', cmap='Greens', k=7, ax=axs[0])\n",
    "    axs[0].axis('off')\n",
    "    axs[0].set_title('1990')\n",
    "\n",
    "    community.gdf[community.gdf.year==2000].dropna(subset=[column]).plot(column=column, scheme='quantiles', cmap='Greens', k=7, ax=axs[1])\n",
    "    axs[1].axis('off')\n",
    "    axs[1].set_title('2000')\n",
    "\n",
    "    community.gdf[community.gdf.year==2010].dropna(subset=[column]).plot(column=column, scheme='quantiles', cmap='Greens', k=7, ax=axs[2])\n",
    "    axs[2].axis('off')\n",
    "    axs[2].set_title('2010')"
   ]
  },
  {
   "cell_type": "code",
   "execution_count": null,
   "metadata": {
    "scrolled": true
   },
   "outputs": [],
   "source": [
    "datasets.codebook()"
   ]
  },
  {
   "cell_type": "markdown",
   "metadata": {},
   "source": [
    "### Variables of interest from census:\n",
    "#### economic indicators\n",
    "median_household_income <br>\n",
    "median_home_value OR median_contract_rent<br>\n",
    "median_income_whitehh<br>\n",
    "median_income_blackhh<br>\n",
    "median_income_hispanichh<br>\n",
    "n_edu_college_greater - persons with at least 4-year degree (also available as %)<br>\n",
    "n_edu_hs_less - persons with less than high school (also available as %)<br>\n",
    "\n",
    "#### demographic indicators\n",
    "n_recent_immigrant_pop (within the last 10 years)<br>\n",
    "n_limited_english OR n_other_language<br>\n",
    "n_hispanic_persons<br>\n",
    "n_black_persons<br>\n",
    "n_white_persons"
   ]
  },
  {
   "cell_type": "code",
   "execution_count": null,
   "metadata": {},
   "outputs": [],
   "source": [
    "from segregation.aspatial import GiniSeg\n",
    "index = GiniSeg(scag.gdf, 'n_mexican_pop', 'n_total_pop')\n",
    "type(index)\n",
    "\n",
    "# MERGE SCHOOL DISTRICTS WITH CENSUS DATA"
   ]
  },
  {
   "cell_type": "markdown",
   "metadata": {},
   "source": [
    "## Alternative community construction\n",
    "\n",
    "Can also construct communities from longitudinal tract database (ltdb)"
   ]
  },
  {
   "cell_type": "code",
   "execution_count": null,
   "metadata": {
    "scrolled": true
   },
   "outputs": [],
   "source": [
    "datasets.msas()[datasets.msas().name.str.startswith('Riverside')]"
   ]
  },
  {
   "cell_type": "code",
   "execution_count": null,
   "metadata": {},
   "outputs": [],
   "source": [
    "datasets.msas()[datasets.msas().name.str.startswith('Orange')]"
   ]
  },
  {
   "cell_type": "code",
   "execution_count": null,
   "metadata": {
    "scrolled": true
   },
   "outputs": [],
   "source": [
    "datasets.msas()[datasets.msas().name.str.startswith('San')]"
   ]
  },
  {
   "cell_type": "code",
   "execution_count": null,
   "metadata": {
    "scrolled": true
   },
   "outputs": [],
   "source": [
    "LA = Community.from_ltdb(msa_fips='31080')"
   ]
  },
  {
   "cell_type": "code",
   "execution_count": null,
   "metadata": {
    "scrolled": false
   },
   "outputs": [],
   "source": [
    "SD = Community.from_ltdb(msa_fips='41740')"
   ]
  },
  {
   "cell_type": "code",
   "execution_count": null,
   "metadata": {
    "scrolled": false
   },
   "outputs": [],
   "source": [
    "riverside = Community.from_ltdb(msa_fips='40140')"
   ]
  }
 ],
 "metadata": {
  "kernelspec": {
   "display_name": "Python 3",
   "language": "python",
   "name": "python3"
  },
  "language_info": {
   "codemirror_mode": {
    "name": "ipython",
    "version": 3
   },
   "file_extension": ".py",
   "mimetype": "text/x-python",
   "name": "python",
   "nbconvert_exporter": "python",
   "pygments_lexer": "ipython3",
   "version": "3.7.6"
  },
  "widgets": {
   "application/vnd.jupyter.widget-state+json": {
    "state": {},
    "version_major": 2,
    "version_minor": 0
   }
  }
 },
 "nbformat": 4,
 "nbformat_minor": 2
}
