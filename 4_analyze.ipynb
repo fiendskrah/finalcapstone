{
 "cells": [
  {
   "cell_type": "code",
   "execution_count": 3,
   "metadata": {},
   "outputs": [],
   "source": [
    "import geopandas as gpd\n",
    "import libpysal\n",
    "import esda"
   ]
  },
  {
   "cell_type": "code",
   "execution_count": 4,
   "metadata": {},
   "outputs": [],
   "source": [
    "gdf = gpd.read_file(\"clean_data/master.shp\")"
   ]
  },
  {
   "cell_type": "code",
   "execution_count": null,
   "metadata": {},
   "outputs": [],
   "source": []
  },
  {
   "cell_type": "code",
   "execution_count": 5,
   "metadata": {
    "scrolled": true
   },
   "outputs": [
    {
     "data": {
      "text/html": [
       "<div>\n",
       "<style scoped>\n",
       "    .dataframe tbody tr th:only-of-type {\n",
       "        vertical-align: middle;\n",
       "    }\n",
       "\n",
       "    .dataframe tbody tr th {\n",
       "        vertical-align: top;\n",
       "    }\n",
       "\n",
       "    .dataframe thead th {\n",
       "        text-align: right;\n",
       "    }\n",
       "</style>\n",
       "<table border=\"1\" class=\"dataframe\">\n",
       "  <thead>\n",
       "    <tr style=\"text-align: right;\">\n",
       "      <th></th>\n",
       "      <th>index</th>\n",
       "      <th>OBJECTID</th>\n",
       "      <th>Year</th>\n",
       "      <th>FedID</th>\n",
       "      <th>CDCode</th>\n",
       "      <th>CDSCode</th>\n",
       "      <th>CountyName</th>\n",
       "      <th>DistrictNa</th>\n",
       "      <th>DistrictTy</th>\n",
       "      <th>GradeLow</th>\n",
       "      <th>...</th>\n",
       "      <th>total_gran</th>\n",
       "      <th>District C</th>\n",
       "      <th>studentgro</th>\n",
       "      <th>e_currstat</th>\n",
       "      <th>e_priorsta</th>\n",
       "      <th>e_change</th>\n",
       "      <th>m_currstat</th>\n",
       "      <th>m_priorsta</th>\n",
       "      <th>m_change</th>\n",
       "      <th>geometry</th>\n",
       "    </tr>\n",
       "  </thead>\n",
       "  <tbody>\n",
       "    <tr>\n",
       "      <th>0</th>\n",
       "      <td>NaN</td>\n",
       "      <td>1</td>\n",
       "      <td>2018-19</td>\n",
       "      <td>0601770</td>\n",
       "      <td>0161119</td>\n",
       "      <td>1611190000000</td>\n",
       "      <td>Alameda</td>\n",
       "      <td>Alameda Unified</td>\n",
       "      <td>Unified</td>\n",
       "      <td>KG</td>\n",
       "      <td>...</td>\n",
       "      <td>82,158,116</td>\n",
       "      <td>11190</td>\n",
       "      <td>None</td>\n",
       "      <td>NaN</td>\n",
       "      <td>NaN</td>\n",
       "      <td>NaN</td>\n",
       "      <td>NaN</td>\n",
       "      <td>NaN</td>\n",
       "      <td>NaN</td>\n",
       "      <td>MULTIPOLYGON (((-13606221.352 4540862.002, -13...</td>\n",
       "    </tr>\n",
       "    <tr>\n",
       "      <th>1</th>\n",
       "      <td>NaN</td>\n",
       "      <td>2</td>\n",
       "      <td>2018-19</td>\n",
       "      <td>0601860</td>\n",
       "      <td>0161127</td>\n",
       "      <td>1611270000000</td>\n",
       "      <td>Alameda</td>\n",
       "      <td>Albany City Unified</td>\n",
       "      <td>Unified</td>\n",
       "      <td>KG</td>\n",
       "      <td>...</td>\n",
       "      <td>31,352,540</td>\n",
       "      <td>11270</td>\n",
       "      <td>None</td>\n",
       "      <td>NaN</td>\n",
       "      <td>NaN</td>\n",
       "      <td>NaN</td>\n",
       "      <td>NaN</td>\n",
       "      <td>NaN</td>\n",
       "      <td>NaN</td>\n",
       "      <td>POLYGON ((-13612889.056 4565138.930, -13612894...</td>\n",
       "    </tr>\n",
       "    <tr>\n",
       "      <th>2</th>\n",
       "      <td>NaN</td>\n",
       "      <td>3</td>\n",
       "      <td>2018-19</td>\n",
       "      <td>0604740</td>\n",
       "      <td>0161143</td>\n",
       "      <td>1611430000000</td>\n",
       "      <td>Alameda</td>\n",
       "      <td>Berkeley Unified</td>\n",
       "      <td>Unified</td>\n",
       "      <td>KG</td>\n",
       "      <td>...</td>\n",
       "      <td>89,369,621</td>\n",
       "      <td>11430</td>\n",
       "      <td>None</td>\n",
       "      <td>NaN</td>\n",
       "      <td>NaN</td>\n",
       "      <td>NaN</td>\n",
       "      <td>NaN</td>\n",
       "      <td>NaN</td>\n",
       "      <td>NaN</td>\n",
       "      <td>POLYGON ((-13609481.010 4565073.896, -13609481...</td>\n",
       "    </tr>\n",
       "    <tr>\n",
       "      <th>3</th>\n",
       "      <td>NaN</td>\n",
       "      <td>4</td>\n",
       "      <td>2018-19</td>\n",
       "      <td>0607800</td>\n",
       "      <td>0161150</td>\n",
       "      <td>1611500000000</td>\n",
       "      <td>Alameda</td>\n",
       "      <td>Castro Valley Unified</td>\n",
       "      <td>Unified</td>\n",
       "      <td>KG</td>\n",
       "      <td>...</td>\n",
       "      <td>79,554,607</td>\n",
       "      <td>11500</td>\n",
       "      <td>None</td>\n",
       "      <td>NaN</td>\n",
       "      <td>NaN</td>\n",
       "      <td>NaN</td>\n",
       "      <td>NaN</td>\n",
       "      <td>NaN</td>\n",
       "      <td>NaN</td>\n",
       "      <td>MULTIPOLYGON (((-13581537.591 4528171.452, -13...</td>\n",
       "    </tr>\n",
       "    <tr>\n",
       "      <th>4</th>\n",
       "      <td>NaN</td>\n",
       "      <td>5</td>\n",
       "      <td>2018-19</td>\n",
       "      <td>0612630</td>\n",
       "      <td>0161168</td>\n",
       "      <td>1611680000000</td>\n",
       "      <td>Alameda</td>\n",
       "      <td>Emery Unified</td>\n",
       "      <td>Unified</td>\n",
       "      <td>KG</td>\n",
       "      <td>...</td>\n",
       "      <td>7,326,875</td>\n",
       "      <td>11680</td>\n",
       "      <td>None</td>\n",
       "      <td>NaN</td>\n",
       "      <td>NaN</td>\n",
       "      <td>NaN</td>\n",
       "      <td>NaN</td>\n",
       "      <td>NaN</td>\n",
       "      <td>NaN</td>\n",
       "      <td>POLYGON ((-13614035.309 4555653.898, -13614035...</td>\n",
       "    </tr>\n",
       "  </tbody>\n",
       "</table>\n",
       "<p>5 rows × 84 columns</p>\n",
       "</div>"
      ],
      "text/plain": [
       "   index  OBJECTID     Year    FedID   CDCode        CDSCode CountyName  \\\n",
       "0    NaN         1  2018-19  0601770  0161119  1611190000000    Alameda   \n",
       "1    NaN         2  2018-19  0601860  0161127  1611270000000    Alameda   \n",
       "2    NaN         3  2018-19  0604740  0161143  1611430000000    Alameda   \n",
       "3    NaN         4  2018-19  0607800  0161150  1611500000000    Alameda   \n",
       "4    NaN         5  2018-19  0612630  0161168  1611680000000    Alameda   \n",
       "\n",
       "              DistrictNa DistrictTy GradeLow  ...  total_gran District C  \\\n",
       "0        Alameda Unified    Unified       KG  ...  82,158,116      11190   \n",
       "1    Albany City Unified    Unified       KG  ...  31,352,540      11270   \n",
       "2       Berkeley Unified    Unified       KG  ...  89,369,621      11430   \n",
       "3  Castro Valley Unified    Unified       KG  ...  79,554,607      11500   \n",
       "4          Emery Unified    Unified       KG  ...   7,326,875      11680   \n",
       "\n",
       "  studentgro e_currstat e_priorsta e_change m_currstat m_priorsta m_change  \\\n",
       "0       None        NaN        NaN      NaN        NaN        NaN      NaN   \n",
       "1       None        NaN        NaN      NaN        NaN        NaN      NaN   \n",
       "2       None        NaN        NaN      NaN        NaN        NaN      NaN   \n",
       "3       None        NaN        NaN      NaN        NaN        NaN      NaN   \n",
       "4       None        NaN        NaN      NaN        NaN        NaN      NaN   \n",
       "\n",
       "                                            geometry  \n",
       "0  MULTIPOLYGON (((-13606221.352 4540862.002, -13...  \n",
       "1  POLYGON ((-13612889.056 4565138.930, -13612894...  \n",
       "2  POLYGON ((-13609481.010 4565073.896, -13609481...  \n",
       "3  MULTIPOLYGON (((-13581537.591 4528171.452, -13...  \n",
       "4  POLYGON ((-13614035.309 4555653.898, -13614035...  \n",
       "\n",
       "[5 rows x 84 columns]"
      ]
     },
     "execution_count": 5,
     "metadata": {},
     "output_type": "execute_result"
    }
   ],
   "source": [
    "gdf.head()"
   ]
  },
  {
   "cell_type": "code",
   "execution_count": 6,
   "metadata": {},
   "outputs": [
    {
     "name": "stderr",
     "output_type": "stream",
     "text": [
      "C:\\Users\\fiend\\Anaconda2\\envs\\capstone\\lib\\site-packages\\libpysal\\weights\\weights.py:172: UserWarning: The weights matrix is not fully connected: \n",
      " There are 2 disconnected components.\n",
      "  warnings.warn(message)\n"
     ]
    }
   ],
   "source": [
    "wq = libpysal.weights.Queen.from_dataframe(gdf)"
   ]
  },
  {
   "cell_type": "code",
   "execution_count": 7,
   "metadata": {},
   "outputs": [
    {
     "data": {
      "text/plain": [
       "12491"
      ]
     },
     "execution_count": 7,
     "metadata": {},
     "output_type": "execute_result"
    }
   ],
   "source": [
    "wq.n"
   ]
  },
  {
   "cell_type": "code",
   "execution_count": 9,
   "metadata": {},
   "outputs": [
    {
     "data": {
      "text/plain": [
       "(12491, 84)"
      ]
     },
     "execution_count": 9,
     "metadata": {},
     "output_type": "execute_result"
    }
   ],
   "source": [
    "gdf.shape"
   ]
  },
  {
   "cell_type": "code",
   "execution_count": null,
   "metadata": {},
   "outputs": [],
   "source": []
  }
 ],
 "metadata": {
  "kernelspec": {
   "display_name": "Python 3",
   "language": "python",
   "name": "python3"
  },
  "language_info": {
   "codemirror_mode": {
    "name": "ipython",
    "version": 3
   },
   "file_extension": ".py",
   "mimetype": "text/x-python",
   "name": "python",
   "nbconvert_exporter": "python",
   "pygments_lexer": "ipython3",
   "version": "3.7.6"
  }
 },
 "nbformat": 4,
 "nbformat_minor": 4
}
