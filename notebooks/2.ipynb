{
 "cells": [
  {
   "cell_type": "markdown",
   "id": "d2d00244-850c-4bd2-b21d-f4c98c6a1d71",
   "metadata": {},
   "source": [
    "# title"
   ]
  },
  {
   "cell_type": "code",
   "execution_count": 41,
   "id": "39a858bc-f8bf-481d-9a28-2f4ca0b0d03a",
   "metadata": {},
   "outputs": [],
   "source": [
    "import pandas as pd\n",
    "import geopandas as gpd\n",
    "pd.set_option('display.max_rows', 200)\n",
    "pd.set_option('display.max_column', 200)"
   ]
  },
  {
   "cell_type": "code",
   "execution_count": 42,
   "id": "6258d1a7-ff5d-41a3-a5a7-c6c5a0817ab4",
   "metadata": {},
   "outputs": [],
   "source": [
    "districts = gpd.read_parquet('../data/lcff_snapshot_2018-19/trad_districts.parquet')"
   ]
  },
  {
   "cell_type": "code",
   "execution_count": 48,
   "id": "938a4549-5807-4b6f-a659-4e9e82332d33",
   "metadata": {},
   "outputs": [
    {
     "data": {
      "text/plain": [
       "<Geographic 2D CRS: EPSG:4326>\n",
       "Name: WGS 84\n",
       "Axis Info [ellipsoidal]:\n",
       "- Lat[north]: Geodetic latitude (degree)\n",
       "- Lon[east]: Geodetic longitude (degree)\n",
       "Area of Use:\n",
       "- name: World.\n",
       "- bounds: (-180.0, -90.0, 180.0, 90.0)\n",
       "Datum: World Geodetic System 1984 ensemble\n",
       "- Ellipsoid: WGS 84\n",
       "- Prime Meridian: Greenwich"
      ]
     },
     "execution_count": 48,
     "metadata": {},
     "output_type": "execute_result"
    }
   ],
   "source": [
    "districts.crs"
   ]
  },
  {
   "cell_type": "code",
   "execution_count": 43,
   "id": "c610d1ea-7613-4aee-9858-81c6e9d65a51",
   "metadata": {},
   "outputs": [
    {
     "data": {
      "text/plain": [
       "<AxesSubplot:>"
      ]
     },
     "execution_count": 43,
     "metadata": {},
     "output_type": "execute_result"
    },
    {
     "data": {
      "image/png": "[encoded data removed]",
      "text/plain": [
       "<Figure size 432x288 with 1 Axes>"
      ]
     },
     "metadata": {
      "needs_background": "light"
     },
     "output_type": "display_data"
    }
   ],
   "source": [
    "districts.plot()"
   ]
  },
  {
   "cell_type": "code",
   "execution_count": 44,
   "id": "0a130b69-3685-4c46-8e05-c8e623b204c8",
   "metadata": {},
   "outputs": [
    {
     "data": {
      "text/html": [
       "<div>\n",
       "<style scoped>\n",
       "    .dataframe tbody tr th:only-of-type {\n",
       "        vertical-align: middle;\n",
       "    }\n",
       "\n",
       "    .dataframe tbody tr th {\n",
       "        vertical-align: top;\n",
       "    }\n",
       "\n",
       "    .dataframe thead th {\n",
       "        text-align: right;\n",
       "    }\n",
       "</style>\n",
       "<table border=\"1\" class=\"dataframe\">\n",
       "  <thead>\n",
       "    <tr style=\"text-align: right;\">\n",
       "      <th></th>\n",
       "      <th>county_fips</th>\n",
       "      <th>district_code</th>\n",
       "      <th>school_code</th>\n",
       "      <th>name</th>\n",
       "      <th>unduplicated_pupil_ratio</th>\n",
       "      <th>base_grant</th>\n",
       "      <th>supplemental_grant</th>\n",
       "      <th>concentration_grant</th>\n",
       "      <th>grant_totals</th>\n",
       "      <th>other_totals</th>\n",
       "      <th>CDCode</th>\n",
       "      <th>geometry</th>\n",
       "    </tr>\n",
       "  </thead>\n",
       "  <tbody>\n",
       "    <tr>\n",
       "      <th>0</th>\n",
       "      <td>01</td>\n",
       "      <td>61119</td>\n",
       "      <td>0</td>\n",
       "      <td>Alameda Unified</td>\n",
       "      <td>0.35</td>\n",
       "      <td>75938983</td>\n",
       "      <td>5294466</td>\n",
       "      <td>0</td>\n",
       "      <td>81233449</td>\n",
       "      <td>44974892</td>\n",
       "      <td>0161119</td>\n",
       "      <td>MULTIPOLYGON (((-122.22677 37.72651, -122.2267...</td>\n",
       "    </tr>\n",
       "    <tr>\n",
       "      <th>1</th>\n",
       "      <td>01</td>\n",
       "      <td>61127</td>\n",
       "      <td>0</td>\n",
       "      <td>Albany City Unified</td>\n",
       "      <td>0.28</td>\n",
       "      <td>29644972</td>\n",
       "      <td>1679684</td>\n",
       "      <td>0</td>\n",
       "      <td>31324656</td>\n",
       "      <td>16810202</td>\n",
       "      <td>0161127</td>\n",
       "      <td>MULTIPOLYGON (((-122.28666 37.89880, -122.2867...</td>\n",
       "    </tr>\n",
       "    <tr>\n",
       "      <th>2</th>\n",
       "      <td>01</td>\n",
       "      <td>61143</td>\n",
       "      <td>0</td>\n",
       "      <td>Berkeley Unified</td>\n",
       "      <td>0.35</td>\n",
       "      <td>78556532</td>\n",
       "      <td>5528808</td>\n",
       "      <td>0</td>\n",
       "      <td>84085340</td>\n",
       "      <td>58405572</td>\n",
       "      <td>0161143</td>\n",
       "      <td>MULTIPOLYGON (((-122.25605 37.89834, -122.2560...</td>\n",
       "    </tr>\n",
       "    <tr>\n",
       "      <th>3</th>\n",
       "      <td>01</td>\n",
       "      <td>61150</td>\n",
       "      <td>0</td>\n",
       "      <td>Castro Valley Unified</td>\n",
       "      <td>0.29</td>\n",
       "      <td>74911585</td>\n",
       "      <td>4350864</td>\n",
       "      <td>0</td>\n",
       "      <td>79262449</td>\n",
       "      <td>41524914</td>\n",
       "      <td>0161150</td>\n",
       "      <td>MULTIPOLYGON (((-122.00503 37.63628, -122.0050...</td>\n",
       "    </tr>\n",
       "    <tr>\n",
       "      <th>4</th>\n",
       "      <td>01</td>\n",
       "      <td>61168</td>\n",
       "      <td>0</td>\n",
       "      <td>Emery Unified</td>\n",
       "      <td>0.80</td>\n",
       "      <td>5702229</td>\n",
       "      <td>906997</td>\n",
       "      <td>699378</td>\n",
       "      <td>7308604</td>\n",
       "      <td>5846553</td>\n",
       "      <td>0161168</td>\n",
       "      <td>MULTIPOLYGON (((-122.29696 37.83153, -122.2969...</td>\n",
       "    </tr>\n",
       "  </tbody>\n",
       "</table>\n",
       "</div>"
      ],
      "text/plain": [
       "  county_fips district_code school_code                   name  \\\n",
       "0          01         61119           0        Alameda Unified   \n",
       "1          01         61127           0    Albany City Unified   \n",
       "2          01         61143           0       Berkeley Unified   \n",
       "3          01         61150           0  Castro Valley Unified   \n",
       "4          01         61168           0          Emery Unified   \n",
       "\n",
       "   unduplicated_pupil_ratio  base_grant  supplemental_grant  \\\n",
       "0                      0.35    75938983             5294466   \n",
       "1                      0.28    29644972             1679684   \n",
       "2                      0.35    78556532             5528808   \n",
       "3                      0.29    74911585             4350864   \n",
       "4                      0.80     5702229              906997   \n",
       "\n",
       "   concentration_grant  grant_totals  other_totals   CDCode  \\\n",
       "0                    0      81233449      44974892  0161119   \n",
       "1                    0      31324656      16810202  0161127   \n",
       "2                    0      84085340      58405572  0161143   \n",
       "3                    0      79262449      41524914  0161150   \n",
       "4               699378       7308604       5846553  0161168   \n",
       "\n",
       "                                            geometry  \n",
       "0  MULTIPOLYGON (((-122.22677 37.72651, -122.2267...  \n",
       "1  MULTIPOLYGON (((-122.28666 37.89880, -122.2867...  \n",
       "2  MULTIPOLYGON (((-122.25605 37.89834, -122.2560...  \n",
       "3  MULTIPOLYGON (((-122.00503 37.63628, -122.0050...  \n",
       "4  MULTIPOLYGON (((-122.29696 37.83153, -122.2969...  "
      ]
     },
     "execution_count": 44,
     "metadata": {},
     "output_type": "execute_result"
    }
   ],
   "source": [
    "districts.head()"
   ]
  },
  {
   "cell_type": "code",
   "execution_count": 46,
   "id": "df8ab2b3-d41e-49cf-a9c7-fd5283013116",
   "metadata": {},
   "outputs": [],
   "source": [
    "rc = districts.loc[districts['name'].str.contains('Cucamonga')]"
   ]
  },
  {
   "cell_type": "code",
   "execution_count": 47,
   "id": "e117e8f8-1d97-4547-9399-2d37f26e7ff5",
   "metadata": {},
   "outputs": [
    {
     "data": {
      "text/plain": [
       "<AxesSubplot:>"
      ]
     },
     "execution_count": 47,
     "metadata": {},
     "output_type": "execute_result"
    },
    {
     "data": {
      "image/png": "[encoded data removed]",
      "text/plain": [
       "<Figure size 432x288 with 1 Axes>"
      ]
     },
     "metadata": {
      "needs_background": "light"
     },
     "output_type": "display_data"
    }
   ],
   "source": [
    "rc.plot()"
   ]
  },
  {
   "cell_type": "markdown",
   "id": "57c5d253-782a-49e4-ad1b-d40536118aac",
   "metadata": {},
   "source": [
    "[Rancho Cucamonga school district website map](https://www.cuca.k12.ca.us/pf4/cms2/view_page?d=x&group_id=1516954841972&vdid=ni8d14en1rqia21e)"
   ]
  },
  {
   "cell_type": "code",
   "execution_count": null,
   "id": "b8219462-2b3c-4499-a3d3-bd25bcf9c9cd",
   "metadata": {},
   "outputs": [],
   "source": []
  }
 ],
 "metadata": {
  "kernelspec": {
   "display_name": "Python 3",
   "language": "python",
   "name": "python3"
  },
  "language_info": {
   "codemirror_mode": {
    "name": "ipython",
    "version": 3
   },
   "file_extension": ".py",
   "mimetype": "text/x-python",
   "name": "python",
   "nbconvert_exporter": "python",
   "pygments_lexer": "ipython3",
   "version": "3.9.2"
  }
 },
 "nbformat": 4,
 "nbformat_minor": 5
}
