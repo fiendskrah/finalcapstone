{
 "cells": [
  {
   "cell_type": "code",
   "execution_count": null,
   "metadata": {},
   "outputs": [
    {
     "ename": "ImportError",
     "evalue": "No module named geopandas",
     "output_type": "error",
     "traceback": [
      "\u001b[1;31m\u001b[0m",
      "\u001b[1;31mImportError\u001b[0mTraceback (most recent call last)",
      "\u001b[1;32m<ipython-input-1-f8158a530bb6>\u001b[0m in \u001b[0;36m<module>\u001b[1;34m()\u001b[0m\n\u001b[0;32m      1\u001b[0m \u001b[1;32mimport\u001b[0m \u001b[0mpandas\u001b[0m \u001b[1;32mas\u001b[0m \u001b[0mpd\u001b[0m\u001b[1;33m\u001b[0m\u001b[0m\n\u001b[1;32m----> 2\u001b[1;33m \u001b[1;32mimport\u001b[0m \u001b[0mgeopandas\u001b[0m \u001b[1;32mas\u001b[0m \u001b[0mgpd\u001b[0m\u001b[1;33m\u001b[0m\u001b[0m\n\u001b[0m\u001b[0;32m      3\u001b[0m \u001b[0mpd\u001b[0m\u001b[1;33m.\u001b[0m\u001b[0mset_option\u001b[0m\u001b[1;33m(\u001b[0m\u001b[1;34m'display.max_rows'\u001b[0m\u001b[1;33m,\u001b[0m \u001b[1;36m500\u001b[0m\u001b[1;33m)\u001b[0m\u001b[1;33m\u001b[0m\u001b[0m\n\u001b[0;32m      4\u001b[0m \u001b[0mpd\u001b[0m\u001b[1;33m.\u001b[0m\u001b[0mset_option\u001b[0m\u001b[1;33m(\u001b[0m\u001b[1;34m'display.max_column'\u001b[0m\u001b[1;33m,\u001b[0m \u001b[1;36m500\u001b[0m\u001b[1;33m)\u001b[0m\u001b[1;33m\u001b[0m\u001b[0m\n",
      "\u001b[1;31mImportError\u001b[0m: No module named geopandas"
     ]
    }
   ],
   "source": [
    "import pandas as pd\n",
    "import geopandas as gpd\n",
    "pd.set_option('display.max_rows', 500)\n",
    "pd.set_option('display.max_column', 500)"
   ]
  },
  {
   "cell_type": "markdown",
   "metadata": {},
   "source": [
    "# LCFF\n",
    "\n",
    "import and clean lcff data"
   ]
  },
  {
   "cell_type": "code",
   "execution_count": null,
   "metadata": {},
   "outputs": [],
   "source": [
    "# import and clean lcff data\n",
    "lcff = pd.read_csv('lcff_data/lcffsnapshot18an.csv')\n",
    "lcff.columns = lcff.columns.str.strip()\n",
    "# strip leading/trailing spaces\n",
    "lcff.drop(lcff.tail(1).index,inplace=True)\n",
    "# extracting state totals, removing from df\n",
    "# Slicing by district level cds code\n",
    "lcff['County Code'] = lcff['County Code'].astype(str)\n",
    "lcff['District Code'] = lcff['District Code'].astype(int)\n",
    "lcff['District Code'] = lcff['District Code'].astype(str)\n",
    "lcff['School Code'] = lcff['School Code'].astype(int)\n",
    "lcff['School Code'] = lcff['School Code'].astype(str)\n",
    "# Changing to strings\n",
    "lcff['School Code'] = lcff['School Code'].apply(lambda x: '{0:0>7}'.format(x))\n",
    "# Front fill school codes to == 7\n",
    "lcff = lcff.loc[lcff['School Code'] == '0000000']\n",
    "# select districts, district entries do not have a school level cds code\n",
    "lcff['cds'] = lcff['County Code'] + lcff['District Code'] + lcff['School Code']\n",
    "# Combining into cds code\n",
    "col_name='cds'\n",
    "first_col = lcff.pop(col_name)\n",
    "lcff.insert(0, col_name, first_col)\n",
    "# Moving to front \n",
    "lcff.drop('County Code', axis=1, inplace=True)\n",
    "# lcff.drop('District Code', axis=1, inplace=True)\n",
    "lcff.drop('School Code', axis=1, inplace=True)\n",
    "lcff = lcff.rename(columns={'Charter Number': 'charter_number',\n",
    "                     'Unduplicated Pupil Percentage\\nTarget, D-1': 'unduplicated_pupil_percentage',\n",
    "                     'Base Grant Funding\\nTarget, C-5': 'base_grant',\n",
    "                     'Supplemental Grant Funding\\nTarget, D-7': 'supplemental_grant',\n",
    "                     'Concentration Grant Funding\\nTarget, E-8': 'concentration_grant',\n",
    "                     'Total LCFF Target Entitlement\\nTarget, G-1/F-1': 'total_grants',\n",
    "                     'Unduplicated Pupil Percentage\\nTarget, D-1': 'unduplicated_pupil_count',\n",
    "                     'Necessary Small Schools Allowance\\nTarget, F-1': 'nec_small_schools',\n",
    "                     'Local Educational Agency' : 'districtname'      \n",
    "                           })\n",
    "lcff = lcff[[  'districtname',\n",
    "               'unduplicated_pupil_count', \n",
    "               'base_grant', \n",
    "               'supplemental_grant', \n",
    "               'concentration_grant', \n",
    "               'total_grants', \n",
    "               'cds' ]].copy()"
   ]
  },
  {
   "cell_type": "code",
   "execution_count": null,
   "metadata": {},
   "outputs": [],
   "source": [
    "lcff"
   ]
  },
  {
   "cell_type": "code",
   "execution_count": null,
   "metadata": {},
   "outputs": [],
   "source": [
    "new = pd.read_csv('California_School_District_Areas_2018-19.csv')\n",
    "new = new.rename(columns={'DistrictName' : 'districtname'})"
   ]
  },
  {
   "cell_type": "code",
   "execution_count": null,
   "metadata": {
    "scrolled": true
   },
   "outputs": [],
   "source": [
    "new"
   ]
  },
  {
   "cell_type": "code",
   "execution_count": null,
   "metadata": {},
   "outputs": [],
   "source": [
    "k = pd.merge(lcff, new, on=['districtname'], how='left')\n",
    "k['treatment'] = (k.unduplicated_pupil_count.astype(float) >= 0.55) * 1\n",
    "k"
   ]
  },
  {
   "cell_type": "code",
   "execution_count": null,
   "metadata": {
    "scrolled": false
   },
   "outputs": [],
   "source": [
    "k.LocaleDistrict.unique()\n",
    "# is this useful?"
   ]
  },
  {
   "cell_type": "code",
   "execution_count": null,
   "metadata": {},
   "outputs": [],
   "source": [
    "k.drop('AssistStatus', axis=1, inplace=True)\n",
    "k.drop('UpdateNotes', axis=1, inplace=True)\n",
    "k.drop('MRcount', axis=1, inplace=True)\n",
    "k.drop('MRpct', axis=1, inplace=True)\n",
    "k.drop('PIcount', axis=1, inplace=True)\n",
    "k.drop('PIpct', axis=1, inplace=True)\n",
    "k.drop('NRcount', axis=1, inplace=True)\n",
    "k.drop('NRpct', axis=1, inplace=True)\n",
    "k.drop('cds', axis=1, inplace=True)\n",
    "k = k.rename(columns={'DistrictName' : 'districtname',\n",
    "                  'AAcount': 'african_american',\n",
    "                  'AApct' : 'african_american_percent',\n",
    "                  'AIcount' : 'american_indian',\n",
    "                  'AIpct' : 'american_indian_percent',\n",
    "                  'AScount' : 'asian',\n",
    "                  'ASpct' : 'asian_percent',\n",
    "                  'FIcount' : 'filipino',\n",
    "                  'FIpct' : 'filipino_percent',\n",
    "                  'HIcount' : 'hispanic',\n",
    "                  'HIpct' : 'hispanic_percent',\n",
    "                  'WHcount' : 'white',\n",
    "                  'WHpct' : 'white_percent',\n",
    "                  'ELcount' : 'english_learner',\n",
    "                  'ELpct' : 'english_learner_percent',\n",
    "                  'FOScount' : 'foster',\n",
    "                  'FOSpct' : 'foster_percent',\n",
    "                  'HOMcount' : 'homeless',\n",
    "                  'HOMpct' : 'homeless_percent',\n",
    "                  'MIGcount' : 'migrant',\n",
    "                  'MIGpct' : 'migrant_percent',\n",
    "                  'SWDcount' : 'disabilities',\n",
    "                  'SWDpct' : 'disabilities_percent',\n",
    "                                                    })"
   ]
  },
  {
   "cell_type": "code",
   "execution_count": null,
   "metadata": {},
   "outputs": [],
   "source": [
    "col_name = 'CountyName'\n",
    "first_col = k.pop(col_name)\n",
    "k.insert(0, col_name, first_col)\n",
    "col_2 = 'EnrollTotal'\n",
    "second_col = k.pop(col_2)\n",
    "k.insert(0, col_2, second_col)\n",
    "# this sucks, is there an easier way to reorder columns?"
   ]
  },
  {
   "cell_type": "code",
   "execution_count": null,
   "metadata": {},
   "outputs": [],
   "source": [
    "k.loc[k['CountyName'] == 'Alameda'].sort_values(['EnrollTotal'], ascending=False)"
   ]
  },
  {
   "cell_type": "markdown",
   "metadata": {},
   "source": [
    "Alameda's top districts have a large delta between their unduplicated pupil counts.\n",
    "\n",
    "In Oakland Unified, the majority (76%) of students are categorized as disadvantaged, compared to only 27% at Fremont Unified. \n",
    "\n"
   ]
  },
  {
   "cell_type": "markdown",
   "metadata": {},
   "source": [
    "# Test scores"
   ]
  },
  {
   "cell_type": "code",
   "execution_count": null,
   "metadata": {},
   "outputs": [],
   "source": [
    "mathpop = pd.read_csv(\"math.csv\", index_col=0)\n",
    "mathpop.columns = mathpop.columns.str.strip()\n",
    "# strip leading/trailing spaces\n",
    "engpop = pd.read_csv(\"ela.csv\", index_col=0)\n",
    "engpop.columns = engpop.columns.str.strip()\n",
    "# strip leading/trailing spaces\n",
    "mathpop.shape"
   ]
  },
  {
   "cell_type": "code",
   "execution_count": null,
   "metadata": {},
   "outputs": [],
   "source": [
    "mathpop.head()"
   ]
  },
  {
   "cell_type": "code",
   "execution_count": null,
   "metadata": {
    "scrolled": true
   },
   "outputs": [],
   "source": [
    "mathpop.loc[mathpop['districtname'] == 'Alameda Unified']\n",
    "# math scores from the disadvantaged school"
   ]
  },
  {
   "cell_type": "code",
   "execution_count": null,
   "metadata": {},
   "outputs": [],
   "source": [
    "mathpop.loc[mathpop['districtname'] == 'Fremont Unified']\n",
    "# math scores from the advantaged school"
   ]
  },
  {
   "cell_type": "code",
   "execution_count": null,
   "metadata": {
    "scrolled": false
   },
   "outputs": [],
   "source": [
    "sample = k.loc[(k['unduplicated_pupil_count'].astype(float) > 0.45) & (k['unduplicated_pupil_count'].astype(float) < 0.65)]\n",
    "sample.shape"
   ]
  },
  {
   "cell_type": "code",
   "execution_count": null,
   "metadata": {},
   "outputs": [],
   "source": [
    "sample"
   ]
  },
  {
   "cell_type": "markdown",
   "metadata": {},
   "source": [
    "### Working backwards: what do we want?\n",
    "\n",
    "In a county: <br>\n",
    "   - pick districts where UPC > 0.55 <br> \n",
    "       - then drop districts where UPC <= 0.65 (this will constitute the treatment group) <br>\n",
    "   - for each district picked: <br>\n",
    "       - pair with a district where UPC closest to 0.5499, then closest in EnrollTotal, SEDpct, english_learner_percent, hispanic_percent <br>\n",
    "     <br>\n",
    "   - match all selected districts with student groups and grades <br>\n",
    "   - regress treatment group onto their paired districts\n",
    "   \n",
    "Repeat for each county"
   ]
  },
  {
   "cell_type": "code",
   "execution_count": null,
   "metadata": {},
   "outputs": [],
   "source": [
    "t = 100\n",
    "# target\n",
    "x = 77\n",
    "# option 1\n",
    "y = 120\n",
    "# option 2\n",
    "l = [x, y]\n",
    "# list "
   ]
  },
  {
   "cell_type": "code",
   "execution_count": null,
   "metadata": {},
   "outputs": [],
   "source": [
    "for target in t:"
   ]
  },
  {
   "cell_type": "code",
   "execution_count": null,
   "metadata": {},
   "outputs": [],
   "source": [
    "given_value = 2\n",
    "a_list = [1, 5, 8]\n",
    "absolute_difference_function = lambda list_value : abs(list_value - given_value)"
   ]
  },
  {
   "cell_type": "code",
   "execution_count": null,
   "metadata": {},
   "outputs": [],
   "source": [
    "closest_value = min(a_list, key=absolute_difference_function)\n",
    "\n",
    "print(closest_value)"
   ]
  },
  {
   "cell_type": "code",
   "execution_count": null,
   "metadata": {},
   "outputs": [],
   "source": []
  }
 ],
 "metadata": {
  "kernelspec": {
   "display_name": "Python 2",
   "language": "python",
   "name": "python2"
  },
  "language_info": {
   "codemirror_mode": {
    "name": "ipython",
    "version": 2
   },
   "file_extension": ".py",
   "mimetype": "text/x-python",
   "name": "python",
   "nbconvert_exporter": "python",
   "pygments_lexer": "ipython2",
   "version": "2.7.16"
  }
 },
 "nbformat": 4,
 "nbformat_minor": 4
}
