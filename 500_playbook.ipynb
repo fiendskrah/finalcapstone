{
 "cells": [
  {
   "cell_type": "markdown",
   "metadata": {},
   "source": [
    "[CausalInference package tutorial](http://www.degeneratestate.org/posts/2018/Mar/24/causal-inference-with-python-part-1-potential-outcomes/)"
   ]
  },
  {
   "cell_type": "code",
   "execution_count": 1,
   "metadata": {},
   "outputs": [],
   "source": [
    "from __future__ import division\n",
    "\n",
    "import numpy as np\n",
    "import pandas as pd\n",
    "import geopandas as gpd\n",
    "import matplotlib.pyplot as plt\n",
    "import seaborn as sns\n",
    "from scipy import stats\n",
    "\n",
    "pd.set_option('display.max_rows', 200)\n",
    "pd.set_option('display.max_column', 200)\n",
    "\n",
    "sns.set_style(\"whitegrid\")\n",
    "sns.set_palette(\"colorblind\")\n",
    "\n",
    "%matplotlib inline"
   ]
  },
  {
   "cell_type": "code",
   "execution_count": 2,
   "metadata": {},
   "outputs": [],
   "source": [
    "gdf = gpd.read_file(\"clean_data/master.shp\")"
   ]
  },
  {
   "cell_type": "code",
   "execution_count": 3,
   "metadata": {},
   "outputs": [],
   "source": [
    "df = pd.DataFrame(gdf)"
   ]
  },
  {
   "cell_type": "code",
   "execution_count": 4,
   "metadata": {},
   "outputs": [],
   "source": [
    "df['concentrat'] = df['concentrat'].replace('-', np.nan) "
   ]
  },
  {
   "cell_type": "code",
   "execution_count": 5,
   "metadata": {},
   "outputs": [],
   "source": [
    "df.columns = df.columns.str.replace(' ', '_')"
   ]
  },
  {
   "cell_type": "code",
   "execution_count": 6,
   "metadata": {},
   "outputs": [],
   "source": [
    "df[\"concentrat\"].fillna(\"0\", inplace = True) "
   ]
  },
  {
   "cell_type": "code",
   "execution_count": 7,
   "metadata": {
    "scrolled": true
   },
   "outputs": [],
   "source": [
    "df[\"concentrat\"].fillna(\"0\", inplace = True)\n",
    "# filling nan values with 0\n",
    "\n",
    "def treatment(df): # create treatment function\n",
    "    if df['concentrat'] == '0':\n",
    "        return '0'\n",
    "    else:\n",
    "        return '1'\n",
    "\n",
    "df['treatment'] = df.apply(treatment, axis=1)\n",
    "# execute function to create treatment dummy variable\n",
    "\n",
    "df.treatment = df.treatment.astype(int)\n",
    "# change to int, diff_means function wont work otherwise"
   ]
  },
  {
   "cell_type": "code",
   "execution_count": 8,
   "metadata": {},
   "outputs": [],
   "source": [
    "def diff_means(df, y='m_curr_ALL'): # enter dataframe, then variable\n",
    "    \n",
    "    control = df[df.treatment == 0] # defining control group\n",
    "    treat = df[df.treatment == 1] # defining treatment group\n",
    "    ncontrol = control.shape[0]\n",
    "    ntreat = treat.shape[0]\n",
    "    \n",
    "    delta = treat[y].mean() - control[y].mean()   # difference between means\n",
    "    delta_err = 1.96 * np.sqrt(                  # standard error = square root(variance(Y1) / N(Y1) + variance(Y0) / N(Y0))\n",
    "        treat[y].var() / ntreat + \n",
    "        control[y].var() / ncontrol)\n",
    "\n",
    "    degfree = 2 * (ntreat+ncontrol) - 2\n",
    "    p = 1 - stats.t.cdf(delta,df=degfree)\n",
    "    \n",
    "    return {\"estimated_effect\": delta, \"standard_error\": delta_err, \"p_value\":p}"
   ]
  },
  {
   "cell_type": "code",
   "execution_count": 9,
   "metadata": {},
   "outputs": [
    {
     "data": {
      "text/plain": [
       "{'estimated_effect': -57.61190900319156,\n",
       " 'standard_error': 4.462574778908788,\n",
       " 'p_value': 1.0}"
      ]
     },
     "execution_count": 9,
     "metadata": {},
     "output_type": "execute_result"
    }
   ],
   "source": [
    "diff_means(df, 'm_prio_ALL')\n",
    "# p_value calculator seems stuck on '1'"
   ]
  },
  {
   "cell_type": "code",
   "execution_count": null,
   "metadata": {},
   "outputs": [],
   "source": []
  },
  {
   "cell_type": "markdown",
   "metadata": {},
   "source": [
    "Chi2 statistical test"
   ]
  },
  {
   "cell_type": "code",
   "execution_count": null,
   "metadata": {},
   "outputs": [],
   "source": []
  },
  {
   "cell_type": "code",
   "execution_count": null,
   "metadata": {},
   "outputs": [],
   "source": [
    "contingency_table = (\n",
    "    df['m_curr_ALL'],\n",
    "    df['treatment'])\n",
    "_, p, _, _ = chi2_contingency(contingency_table, lambda_=\"log-likelihood\")\n",
    "\n",
    "# p-value\n",
    "p\n",
    "# how else to get p?"
   ]
  },
  {
   "cell_type": "markdown",
   "metadata": {},
   "source": [
    "## moving on"
   ]
  },
  {
   "cell_type": "code",
   "execution_count": null,
   "metadata": {
    "scrolled": false
   },
   "outputs": [],
   "source": [
    "df.plot.scatter(x='total_gran', y='m_curr_ALL', c='treatment', cmap='rainbow', colorbar=True)"
   ]
  },
  {
   "cell_type": "code",
   "execution_count": null,
   "metadata": {},
   "outputs": [],
   "source": []
  },
  {
   "cell_type": "code",
   "execution_count": null,
   "metadata": {
    "scrolled": true
   },
   "outputs": [],
   "source": [
    "df"
   ]
  },
  {
   "cell_type": "code",
   "execution_count": null,
   "metadata": {},
   "outputs": [],
   "source": [
    "from causalinference import CausalModel\n",
    "# CausalModel params:\n",
    "# y = outcomes\n",
    "# d = treatment\n",
    "# X = covariates"
   ]
  },
  {
   "cell_type": "markdown",
   "metadata": {
    "scrolled": true
   },
   "source": [
    "[causalinference api](https://causalinferenceinpython.org/causalinference.html#module-causalinference.causal)"
   ]
  },
  {
   "cell_type": "code",
   "execution_count": null,
   "metadata": {
    "scrolled": true
   },
   "outputs": [],
   "source": [
    "cm = CausalModel(\n",
    "    Y=df.m_curr_ALL.values,\n",
    "    D=df.treatment.values,\n",
    "    X=df.e_curr_ALL.values)\n",
    "\n",
    "cm.est_via_ols(adj=0)\n",
    "\n",
    "print(cm.estimates)\n",
    "\n",
    "# problem because data not linear enough?"
   ]
  },
  {
   "cell_type": "code",
   "execution_count": null,
   "metadata": {
    "scrolled": true
   },
   "outputs": [],
   "source": [
    "cm = CausalModel(\n",
    "    Y=df.m_curr_ALL.values, \n",
    "    D=df.treatment.values, \n",
    "    X=df.e_curr_ALL.values)\n",
    "\n",
    "cm.est_via_matching()\n",
    "\n",
    "print(cm.estimates)"
   ]
  },
  {
   "cell_type": "code",
   "execution_count": null,
   "metadata": {},
   "outputs": [],
   "source": [
    "import statsmodels.formula.api as smf"
   ]
  },
  {
   "cell_type": "code",
   "execution_count": null,
   "metadata": {
    "scrolled": true
   },
   "outputs": [],
   "source": [
    "results = smf.ols(formula='m_curr_ALL ~ treatment', data=df,).fit()\n",
    "print(results.summary())"
   ]
  },
  {
   "cell_type": "code",
   "execution_count": null,
   "metadata": {},
   "outputs": [],
   "source": []
  }
 ],
 "metadata": {
  "kernelspec": {
   "display_name": "Python 3",
   "language": "python",
   "name": "python3"
  },
  "language_info": {
   "codemirror_mode": {
    "name": "ipython",
    "version": 3
   },
   "file_extension": ".py",
   "mimetype": "text/x-python",
   "name": "python",
   "nbconvert_exporter": "python",
   "pygments_lexer": "ipython3",
   "version": "3.7.6"
  }
 },
 "nbformat": 4,
 "nbformat_minor": 4
}
